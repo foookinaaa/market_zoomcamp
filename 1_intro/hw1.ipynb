{
 "cells": [
  {
   "cell_type": "code",
   "execution_count": 13,
   "id": "a9a69351-6735-4098-bc58-8c2c8fbd46bd",
   "metadata": {},
   "outputs": [],
   "source": [
    "import pandas as pd\n",
    "import numpy as np\n",
    "from datetime import date\n",
    "import yfinance as yf"
   ]
  },
  {
   "cell_type": "code",
   "execution_count": 2,
   "id": "6b8f71d2-e9e3-413e-8474-956de9c772ed",
   "metadata": {},
   "outputs": [],
   "source": [
    "import ssl\n",
    "\n",
    "ssl._create_default_https_context = ssl._create_unverified_context"
   ]
  },
  {
   "cell_type": "markdown",
   "id": "014c0685-a55d-486e-8cb1-2bb8d5ec3a43",
   "metadata": {},
   "source": [
    "### Question 1: [Index] S&P 500 Stocks Added to the Index\n",
    "Which year had the highest number of additions?\n",
    "\n",
    "Using the list of S&P 500 companies from [Wikipedia's S&P 500 companies page](https://en.wikipedia.org/wiki/List_of_S%26P_500_companies), download the data including the year each company was added to the index.\n",
    "\n",
    "Hint: you can use pandas.read_html to scrape the data into a DataFrame.\n",
    "\n",
    "Steps:\n",
    "\n",
    "* Create a DataFrame with company tickers, names, and the year they were added.\n",
    "* Extract the year from the addition date and calculate the number of stocks added each year.\n",
    "* Which year had the highest number of additions (1957 doesn't count, as it was the year when the S&P 500 index was founded)? Write down this year as your answer (the most recent one, if you have several records).\n",
    "\n",
    "Context:\n",
    "\n",
    "\"Following the announcement, all four new entrants saw their stock prices rise in extended trading on Friday\" - recent examples of S&P 500 additions include DASH, WSM, EXE, TKO in 2025 ([Nasdaq article](https://www.nasdaq.com/articles/sp-500-reshuffle-dash-tko-expe-wsm-join-worth-buying)).\n",
    "\n",
    "Additional: How many current S&P 500 stocks have been in the index for more than 20 years? When stocks are added to the S&P 500, they usually experience a price bump as investors and index funds buy shares following the announcement."
   ]
  },
  {
   "cell_type": "code",
   "execution_count": 7,
   "id": "da1fc9d9-fab9-48c9-ade5-4bc344643511",
   "metadata": {},
   "outputs": [],
   "source": [
    "df = pd.read_html('https://en.wikipedia.org/wiki/List_of_S%26P_500_companies')[0]\n",
    "df['year'] = pd.to_datetime(df['Date added']).dt.year"
   ]
  },
  {
   "cell_type": "code",
   "execution_count": 17,
   "id": "78e449a3-31cd-4f07-aaa0-8f8ce0e2b4e6",
   "metadata": {},
   "outputs": [
    {
     "data": {
      "text/html": [
       "<div>\n",
       "<style scoped>\n",
       "    .dataframe tbody tr th:only-of-type {\n",
       "        vertical-align: middle;\n",
       "    }\n",
       "\n",
       "    .dataframe tbody tr th {\n",
       "        vertical-align: top;\n",
       "    }\n",
       "\n",
       "    .dataframe thead th {\n",
       "        text-align: right;\n",
       "    }\n",
       "</style>\n",
       "<table border=\"1\" class=\"dataframe\">\n",
       "  <thead>\n",
       "    <tr style=\"text-align: right;\">\n",
       "      <th></th>\n",
       "      <th>Symbol</th>\n",
       "      <th>Security</th>\n",
       "      <th>GICS Sector</th>\n",
       "      <th>GICS Sub-Industry</th>\n",
       "      <th>Headquarters Location</th>\n",
       "      <th>Date added</th>\n",
       "      <th>CIK</th>\n",
       "      <th>Founded</th>\n",
       "      <th>year</th>\n",
       "    </tr>\n",
       "  </thead>\n",
       "  <tbody>\n",
       "    <tr>\n",
       "      <th>0</th>\n",
       "      <td>MMM</td>\n",
       "      <td>3M</td>\n",
       "      <td>Industrials</td>\n",
       "      <td>Industrial Conglomerates</td>\n",
       "      <td>Saint Paul, Minnesota</td>\n",
       "      <td>1957-03-04</td>\n",
       "      <td>66740</td>\n",
       "      <td>1902</td>\n",
       "      <td>1957</td>\n",
       "    </tr>\n",
       "    <tr>\n",
       "      <th>1</th>\n",
       "      <td>AOS</td>\n",
       "      <td>A. O. Smith</td>\n",
       "      <td>Industrials</td>\n",
       "      <td>Building Products</td>\n",
       "      <td>Milwaukee, Wisconsin</td>\n",
       "      <td>2017-07-26</td>\n",
       "      <td>91142</td>\n",
       "      <td>1916</td>\n",
       "      <td>2017</td>\n",
       "    </tr>\n",
       "    <tr>\n",
       "      <th>2</th>\n",
       "      <td>ABT</td>\n",
       "      <td>Abbott Laboratories</td>\n",
       "      <td>Health Care</td>\n",
       "      <td>Health Care Equipment</td>\n",
       "      <td>North Chicago, Illinois</td>\n",
       "      <td>1957-03-04</td>\n",
       "      <td>1800</td>\n",
       "      <td>1888</td>\n",
       "      <td>1957</td>\n",
       "    </tr>\n",
       "    <tr>\n",
       "      <th>3</th>\n",
       "      <td>ABBV</td>\n",
       "      <td>AbbVie</td>\n",
       "      <td>Health Care</td>\n",
       "      <td>Biotechnology</td>\n",
       "      <td>North Chicago, Illinois</td>\n",
       "      <td>2012-12-31</td>\n",
       "      <td>1551152</td>\n",
       "      <td>2013 (1888)</td>\n",
       "      <td>2012</td>\n",
       "    </tr>\n",
       "    <tr>\n",
       "      <th>4</th>\n",
       "      <td>ACN</td>\n",
       "      <td>Accenture</td>\n",
       "      <td>Information Technology</td>\n",
       "      <td>IT Consulting &amp; Other Services</td>\n",
       "      <td>Dublin, Ireland</td>\n",
       "      <td>2011-07-06</td>\n",
       "      <td>1467373</td>\n",
       "      <td>1989</td>\n",
       "      <td>2011</td>\n",
       "    </tr>\n",
       "  </tbody>\n",
       "</table>\n",
       "</div>"
      ],
      "text/plain": [
       "  Symbol             Security             GICS Sector  \\\n",
       "0    MMM                   3M             Industrials   \n",
       "1    AOS          A. O. Smith             Industrials   \n",
       "2    ABT  Abbott Laboratories             Health Care   \n",
       "3   ABBV               AbbVie             Health Care   \n",
       "4    ACN            Accenture  Information Technology   \n",
       "\n",
       "                GICS Sub-Industry    Headquarters Location  Date added  \\\n",
       "0        Industrial Conglomerates    Saint Paul, Minnesota  1957-03-04   \n",
       "1               Building Products     Milwaukee, Wisconsin  2017-07-26   \n",
       "2           Health Care Equipment  North Chicago, Illinois  1957-03-04   \n",
       "3                   Biotechnology  North Chicago, Illinois  2012-12-31   \n",
       "4  IT Consulting & Other Services          Dublin, Ireland  2011-07-06   \n",
       "\n",
       "       CIK      Founded  year  \n",
       "0    66740         1902  1957  \n",
       "1    91142         1916  2017  \n",
       "2     1800         1888  1957  \n",
       "3  1551152  2013 (1888)  2012  \n",
       "4  1467373         1989  2011  "
      ]
     },
     "execution_count": 17,
     "metadata": {},
     "output_type": "execute_result"
    }
   ],
   "source": [
    "df.head()"
   ]
  },
  {
   "cell_type": "code",
   "execution_count": 19,
   "id": "42bd952c-f54c-4c9f-896d-d9b79fb8563a",
   "metadata": {},
   "outputs": [
    {
     "data": {
      "text/plain": [
       "year\n",
       "1957    53\n",
       "2016    23\n",
       "2017    23\n",
       "2019    22\n",
       "2008    17\n",
       "Name: count, dtype: int64"
      ]
     },
     "execution_count": 19,
     "metadata": {},
     "output_type": "execute_result"
    }
   ],
   "source": [
    "# number of stocks added each year\n",
    "df['year'].value_counts().head()"
   ]
  },
  {
   "cell_type": "markdown",
   "id": "946a24e9-b2c1-4c83-a61c-0798ce26de3e",
   "metadata": {},
   "source": [
    "Which year had the highest number of additions?\\\n",
    "-> 2016, 2017 (most recent)"
   ]
  },
  {
   "cell_type": "code",
   "execution_count": 30,
   "id": "cd4e7aef-3d1c-42d9-b47c-76b2e0a80465",
   "metadata": {},
   "outputs": [
    {
     "data": {
      "text/plain": [
       "np.int64(219)"
      ]
     },
     "execution_count": 30,
     "metadata": {},
     "output_type": "execute_result"
    }
   ],
   "source": [
    "# How many current S&P 500 stocks have been in the index for more than 20 years?\n",
    "df[(date.today().year - df['year']) > 20]['Symbol'].count()"
   ]
  },
  {
   "cell_type": "code",
   "execution_count": 32,
   "id": "9037f1be-a1c9-4a5f-9a44-31cca9e27948",
   "metadata": {},
   "outputs": [
    {
     "data": {
      "text/plain": [
       "np.int64(503)"
      ]
     },
     "execution_count": 32,
     "metadata": {},
     "output_type": "execute_result"
    }
   ],
   "source": [
    "# total\n",
    "df['Symbol'].count()"
   ]
  },
  {
   "cell_type": "markdown",
   "id": "c5ff5d3b-b791-4113-84de-2e73eebc5ac3",
   "metadata": {},
   "source": [
    "### Question 2. [Macro] Indexes YTD (as of 1 May 2025)\n",
    "How many indexes (out of 10) have better year-to-date returns than the US (S&P 500) as of May 1, 2025?\n",
    "\n",
    "Using Yahoo Finance World Indices data, compare the year-to-date (YTD) performance (1 January-1 May 2025) of major stock market indexes for the following countries:\n",
    "\n",
    "United States - S&P 500 (^GSPC)\\\n",
    "China - Shanghai Composite (000001.SS)\\\n",
    "Hong Kong - HANG SENG INDEX (^HSI)\\\n",
    "Australia - S&P/ASX 200 (^AXJO)\\\n",
    "India - Nifty 50 (^NSEI)\\\n",
    "Canada - S&P/TSX Composite (^GSPTSE)\\\n",
    "Germany - DAX (^GDAXI)\\\n",
    "United Kingdom - FTSE 100 (^FTSE)\\\n",
    "Japan - Nikkei 225 (^N225)\\\n",
    "Mexico - IPC Mexico (^MXX)\\\n",
    "Brazil - Ibovespa (^BVSP)\\\n",
    "Hint: use start_date='2025-01-01' and end_date='2025-05-01' when downloading daily data in yfinance\n",
    "\n",
    "Context:\n",
    "\n",
    "[Global Valuations: Who's Cheap, Who's Not?](https://simplywall.st/article/beyond-the-us-global-markets-after-yet-another-tariff-update) article suggests \"Other regions may be growing faster than the US and you need to diversify.\"\n",
    "\n",
    "Reference: Yahoo Finance World Indices - https://finance.yahoo.com/world-indices/\n",
    "\n",
    "Additional: How many of these indexes have better returns than the S&P 500 over 3, 5, and 10 year periods? Do you see the same trend? Note: For simplicity, ignore currency conversion effects.)"
   ]
  },
  {
   "cell_type": "markdown",
   "id": "504b2126-ebf7-4a25-a76c-5bae25b5fd1f",
   "metadata": {},
   "source": [
    "YTD(%) = ((latest close - first close) / first close) * 100%"
   ]
  },
  {
   "cell_type": "code",
   "execution_count": 22,
   "id": "6bd1a247-cb0e-4f69-9885-848e9f995334",
   "metadata": {},
   "outputs": [
    {
     "data": {
      "text/plain": [
       "np.float64(-5.10330074824504)"
      ]
     },
     "execution_count": 22,
     "metadata": {},
     "output_type": "execute_result"
    }
   ],
   "source": [
    "ticker_obj = yf.Ticker(\"^GSPC\")\n",
    "us_dax_daily = ticker_obj.history(start = '2025-01-01', end = '2025-05-01')\n",
    "us_ytd = ((us_dax_daily['Close'].values[-1] - us_dax_daily['Close'].values[0]) / us_dax_daily['Close'].values[0]) * 100\n",
    "us_ytd"
   ]
  },
  {
   "cell_type": "code",
   "execution_count": 24,
   "id": "aca5357c-3eb4-468a-bfd5-a828d65832e3",
   "metadata": {},
   "outputs": [
    {
     "name": "stdout",
     "output_type": "stream",
     "text": [
      "000001.SS 0.5048172440500021\n",
      "^HSI 12.720017835921466\n",
      "^AXJO -0.9145002952478493\n",
      "^NSEI 2.4904237409784913\n",
      "^GSPTSE -0.22612571792915093\n",
      "^GDAXI 12.34637838149953\n",
      "^FTSE 2.8425901908435485\n",
      "^N225 -8.297930804200304\n",
      "^MXX 13.049444457570319\n",
      "^BVSP 12.438709677419354\n",
      "9 ['000001.SS', '^HSI', '^AXJO', '^NSEI', '^GSPTSE', '^GDAXI', '^FTSE', '^MXX', '^BVSP']\n"
     ]
    }
   ],
   "source": [
    "ans = 0\n",
    "better_returns = []\n",
    "obj_names = [\"000001.SS\",\"^HSI\",\"^AXJO\",\"^NSEI\",\"^GSPTSE\",\"^GDAXI\",\"^FTSE\",\"^N225\",\"^MXX\",\"^BVSP\"]\n",
    "for obj_name in obj_names:\n",
    "    ticker_obj = yf.Ticker(obj_name)\n",
    "    dax_daily = ticker_obj.history(start = '2025-01-01', end = '2025-05-01')\n",
    "    obj_ytd = ((dax_daily['Close'].values[-1] - dax_daily['Close'].values[0]) / dax_daily['Close'].values[0]) * 100\n",
    "    print(obj_name, obj_ytd)\n",
    "    if obj_ytd > us_ytd:\n",
    "        ans += 1\n",
    "        better_returns.append(obj_name)\n",
    "print(ans, better_returns) "
   ]
  },
  {
   "cell_type": "markdown",
   "id": "8f77e013-3f13-4726-ab7a-8aa18d99dffd",
   "metadata": {},
   "source": [
    "How many of these indexes have better returns than the S&P 500 over 3, 5, and 10 year periods? Do you see the same trend? "
   ]
  },
  {
   "cell_type": "code",
   "execution_count": 3,
   "id": "7028bc3b-2ec8-4baf-b79e-a3f4d7af3630",
   "metadata": {},
   "outputs": [
    {
     "name": "stdout",
     "output_type": "stream",
     "text": [
      "5 ['^NSEI', '^GSPTSE', '^GDAXI', '^N225', '^BVSP']\n"
     ]
    }
   ],
   "source": [
    "# For 3 years\n",
    "ticker_obj = yf.Ticker(\"^GSPC\")\n",
    "us_dax_daily = ticker_obj.history(start = '2022-01-01', end = '2025-05-01')\n",
    "us_ytd = ((us_dax_daily['Close'].values[-1] - us_dax_daily['Close'].values[0]) / us_dax_daily['Close'].values[0]) * 100\n",
    "\n",
    "ans = 0\n",
    "better_returns = []\n",
    "obj_names = [\"000001.SS\",\"^HSI\",\"^AXJO\",\"^NSEI\",\"^GSPTSE\",\"^GDAXI\",\"^FTSE\",\"^N225\",\"^MXX\",\"^BVSP\"]\n",
    "for obj_name in obj_names:\n",
    "    ticker_obj = yf.Ticker(obj_name)\n",
    "    dax_daily = ticker_obj.history(start = '2022-01-01', end = '2025-05-01')\n",
    "    obj_ytd = ((dax_daily['Close'].values[-1] - dax_daily['Close'].values[0]) / dax_daily['Close'].values[0]) * 100\n",
    "    if obj_ytd > us_ytd:\n",
    "        ans += 1\n",
    "        better_returns.append(obj_name)\n",
    "print(ans, better_returns) "
   ]
  },
  {
   "cell_type": "code",
   "execution_count": 4,
   "id": "90767e0d-df9d-47cf-8fee-bee1c4c5b0db",
   "metadata": {},
   "outputs": [
    {
     "name": "stdout",
     "output_type": "stream",
     "text": [
      "1 ['^NSEI']\n"
     ]
    }
   ],
   "source": [
    "# For 5 years\n",
    "ticker_obj = yf.Ticker(\"^GSPC\")\n",
    "us_dax_daily = ticker_obj.history(start = '2020-01-01', end = '2025-05-01')\n",
    "us_ytd = ((us_dax_daily['Close'].values[-1] - us_dax_daily['Close'].values[0]) / us_dax_daily['Close'].values[0]) * 100\n",
    "\n",
    "ans = 0\n",
    "better_returns = []\n",
    "obj_names = [\"000001.SS\",\"^HSI\",\"^AXJO\",\"^NSEI\",\"^GSPTSE\",\"^GDAXI\",\"^FTSE\",\"^N225\",\"^MXX\",\"^BVSP\"]\n",
    "for obj_name in obj_names:\n",
    "    ticker_obj = yf.Ticker(obj_name)\n",
    "    dax_daily = ticker_obj.history(start = '2020-01-01', end = '2025-05-01')\n",
    "    obj_ytd = ((dax_daily['Close'].values[-1] - dax_daily['Close'].values[0]) / dax_daily['Close'].values[0]) * 100\n",
    "    if obj_ytd > us_ytd:\n",
    "        ans += 1\n",
    "        better_returns.append(obj_name)\n",
    "print(ans, better_returns) "
   ]
  },
  {
   "cell_type": "code",
   "execution_count": 5,
   "id": "bc1a8a9f-130b-4d7e-ba16-a7614d5a6d38",
   "metadata": {},
   "outputs": [
    {
     "name": "stdout",
     "output_type": "stream",
     "text": [
      "2 ['^NSEI', '^BVSP']\n"
     ]
    }
   ],
   "source": [
    "# For 10 years\n",
    "ticker_obj = yf.Ticker(\"^GSPC\")\n",
    "us_dax_daily = ticker_obj.history(start = '2015-01-01', end = '2025-05-01')\n",
    "us_ytd = ((us_dax_daily['Close'].values[-1] - us_dax_daily['Close'].values[0]) / us_dax_daily['Close'].values[0]) * 100\n",
    "\n",
    "ans = 0\n",
    "better_returns = []\n",
    "obj_names = [\"000001.SS\",\"^HSI\",\"^AXJO\",\"^NSEI\",\"^GSPTSE\",\"^GDAXI\",\"^FTSE\",\"^N225\",\"^MXX\",\"^BVSP\"]\n",
    "for obj_name in obj_names:\n",
    "    ticker_obj = yf.Ticker(obj_name)\n",
    "    dax_daily = ticker_obj.history(start = '2015-01-01', end = '2025-05-01')\n",
    "    obj_ytd = ((dax_daily['Close'].values[-1] - dax_daily['Close'].values[0]) / dax_daily['Close'].values[0]) * 100\n",
    "    if obj_ytd > us_ytd:\n",
    "        ans += 1\n",
    "        better_returns.append(obj_name)\n",
    "print(ans, better_returns) "
   ]
  },
  {
   "cell_type": "markdown",
   "id": "5415ceba-fab0-4937-8053-308099857e01",
   "metadata": {},
   "source": [
    "India - Nifty 50 (^NSEI) is better for all years than SP USA"
   ]
  },
  {
   "cell_type": "markdown",
   "id": "16b52c17-c8ea-48fd-ac38-45cd9f2618ca",
   "metadata": {},
   "source": [
    "### Question 3. [Index] S&P 500 Market Corrections Analysis\n",
    "Calculate the median duration (in days) of significant market corrections in the S&P 500 index.\n",
    "\n",
    "For this task, define a correction as an event when a stock index goes down by more than 5% from the closest all-time high maximum.\n",
    "\n",
    "Steps:\n",
    "\n",
    "* Download S&P 500 historical data (1950-present) using yfinance\n",
    "* Identify all-time high points (where price exceeds all previous prices)\n",
    "* For each pair of consecutive all-time highs, find the minimum price in between\n",
    "* Calculate drawdown percentages: (high - low) / high × 100\n",
    "* Filter for corrections with at least 5% drawdown\n",
    "* Calculate the duration in days for each correction period\n",
    "* Determine the 25th, 50th (median), and 75th percentiles for correction durations\n",
    "\n",
    "Context:\n",
    "\n",
    "Investors often wonder about the typical length of market corrections when deciding \"when to buy the dip\" ([Reddit discussion](https://www.reddit.com/r/investing/comments/1jrqnte/when_are_you_buying_the_dip/?rdt=64135)).\n",
    "[A Wealth of Common Sense - How Often Should You Expect a Stock Market Correction?](https://awealthofcommonsense.com/2022/01/how-often-should-you-expect-a-stock-market-correction/)\\\n",
    "Hint (use this data to compare with your results): Here is the list of top 10 largest corrections by drawdown:\n",
    "\n",
    "* 2007-10-09 to 2009-03-09: 56.8% drawdown over 517 days\n",
    "* 2000-03-24 to 2002-10-09: 49.1% drawdown over 929 days\n",
    "* 1973-01-11 to 1974-10-03: 48.2% drawdown over 630 days\n",
    "* 1968-11-29 to 1970-05-26: 36.1% drawdown over 543 days\n",
    "* 2020-02-19 to 2020-03-23: 33.9% drawdown over 33 days\n",
    "* 1987-08-25 to 1987-12-04: 33.5% drawdown over 101 days\n",
    "* 1961-12-12 to 1962-06-26: 28.0% drawdown over 196 days\n",
    "* 1980-11-28 to 1982-08-12: 27.1% drawdown over 622 days\n",
    "* 2022-01-03 to 2022-10-12: 25.4% drawdown over 282 days\n",
    "* 1966-02-09 to 1966-10-07: 22.2% drawdown over 240 days"
   ]
  },
  {
   "cell_type": "code",
   "execution_count": 59,
   "id": "e09fcbb7-dfb4-4d1d-9ced-cfc12aa1283b",
   "metadata": {},
   "outputs": [],
   "source": [
    "ticker_obj = yf.Ticker(\"^GSPC\")\n",
    "sp500 = ticker_obj.history(start = '1950-01-01')\n",
    "\n",
    "# Identify all-time high points (where price exceeds all previous prices)\n",
    "# Create a column for previous rolling max (excluding current day)\n",
    "sp500[\"prev_max\"] = sp500[\"Close\"].cummax().shift(1)\n",
    "sp500[\"all_time_high\"] = sp500[\"Close\"] > sp500[\"prev_max\"]"
   ]
  },
  {
   "cell_type": "code",
   "execution_count": 60,
   "id": "e601bf6a-ed11-4bc9-a88a-f02efdc82a6d",
   "metadata": {},
   "outputs": [
    {
     "data": {
      "text/html": [
       "<div>\n",
       "<style scoped>\n",
       "    .dataframe tbody tr th:only-of-type {\n",
       "        vertical-align: middle;\n",
       "    }\n",
       "\n",
       "    .dataframe tbody tr th {\n",
       "        vertical-align: top;\n",
       "    }\n",
       "\n",
       "    .dataframe thead th {\n",
       "        text-align: right;\n",
       "    }\n",
       "</style>\n",
       "<table border=\"1\" class=\"dataframe\">\n",
       "  <thead>\n",
       "    <tr style=\"text-align: right;\">\n",
       "      <th></th>\n",
       "      <th>start_high_date</th>\n",
       "      <th>next_high_date</th>\n",
       "      <th>min_price</th>\n",
       "      <th>min_price_date</th>\n",
       "      <th>start_price</th>\n",
       "    </tr>\n",
       "  </thead>\n",
       "  <tbody>\n",
       "    <tr>\n",
       "      <th>652</th>\n",
       "      <td>2024-11-11 00:00:00-05:00</td>\n",
       "      <td>2024-11-26 00:00:00-05:00</td>\n",
       "      <td>5870.620117</td>\n",
       "      <td>2024-11-15 00:00:00-05:00</td>\n",
       "      <td>6001.350098</td>\n",
       "    </tr>\n",
       "    <tr>\n",
       "      <th>653</th>\n",
       "      <td>2024-11-26 00:00:00-05:00</td>\n",
       "      <td>2024-11-29 00:00:00-05:00</td>\n",
       "      <td>5998.740234</td>\n",
       "      <td>2024-11-27 00:00:00-05:00</td>\n",
       "      <td>6021.629883</td>\n",
       "    </tr>\n",
       "    <tr>\n",
       "      <th>654</th>\n",
       "      <td>2024-12-04 00:00:00-05:00</td>\n",
       "      <td>2024-12-06 00:00:00-05:00</td>\n",
       "      <td>6075.109863</td>\n",
       "      <td>2024-12-05 00:00:00-05:00</td>\n",
       "      <td>6086.490234</td>\n",
       "    </tr>\n",
       "    <tr>\n",
       "      <th>655</th>\n",
       "      <td>2024-12-06 00:00:00-05:00</td>\n",
       "      <td>2025-01-23 00:00:00-05:00</td>\n",
       "      <td>5827.040039</td>\n",
       "      <td>2025-01-10 00:00:00-05:00</td>\n",
       "      <td>6090.270020</td>\n",
       "    </tr>\n",
       "    <tr>\n",
       "      <th>656</th>\n",
       "      <td>2025-01-23 00:00:00-05:00</td>\n",
       "      <td>2025-02-18 00:00:00-05:00</td>\n",
       "      <td>5994.569824</td>\n",
       "      <td>2025-02-03 00:00:00-05:00</td>\n",
       "      <td>6118.709961</td>\n",
       "    </tr>\n",
       "  </tbody>\n",
       "</table>\n",
       "</div>"
      ],
      "text/plain": [
       "              start_high_date            next_high_date    min_price  \\\n",
       "652 2024-11-11 00:00:00-05:00 2024-11-26 00:00:00-05:00  5870.620117   \n",
       "653 2024-11-26 00:00:00-05:00 2024-11-29 00:00:00-05:00  5998.740234   \n",
       "654 2024-12-04 00:00:00-05:00 2024-12-06 00:00:00-05:00  6075.109863   \n",
       "655 2024-12-06 00:00:00-05:00 2025-01-23 00:00:00-05:00  5827.040039   \n",
       "656 2025-01-23 00:00:00-05:00 2025-02-18 00:00:00-05:00  5994.569824   \n",
       "\n",
       "               min_price_date  start_price  \n",
       "652 2024-11-15 00:00:00-05:00  6001.350098  \n",
       "653 2024-11-27 00:00:00-05:00  6021.629883  \n",
       "654 2024-12-05 00:00:00-05:00  6086.490234  \n",
       "655 2025-01-10 00:00:00-05:00  6090.270020  \n",
       "656 2025-02-03 00:00:00-05:00  6118.709961  "
      ]
     },
     "execution_count": 60,
     "metadata": {},
     "output_type": "execute_result"
    }
   ],
   "source": [
    "# For each pair of consecutive all-time highs, find the minimum price in between\n",
    "all_time_highs = sp500[sp500[\"all_time_high\"]].copy()\n",
    "high_dates = all_time_highs.index.tolist()\n",
    "\n",
    "results = []\n",
    "for i in range(len(high_dates) - 1):\n",
    "    start = high_dates[i]\n",
    "    end = high_dates[i + 1]\n",
    "    between = sp500.loc[start:end].iloc[1:-1]  # exclude the high dates themselves\n",
    "\n",
    "    if not between.empty:\n",
    "        min_row = between[\"Close\"].idxmin()\n",
    "        results.append({\n",
    "            \"start_high_date\": start,\n",
    "            \"next_high_date\": end,\n",
    "            \"min_price\": sp500.loc[min_row, \"Close\"],\n",
    "            \"min_price_date\": min_row,\n",
    "            \"start_price\": sp500.loc[start, \"Close\"],\n",
    "        })\n",
    "\n",
    "min_between_highs = pd.DataFrame(results)\n",
    "min_between_highs.tail()"
   ]
  },
  {
   "cell_type": "code",
   "execution_count": 61,
   "id": "28826369-fb28-4f1c-8450-05d221ae7431",
   "metadata": {},
   "outputs": [],
   "source": [
    "# Calculate drawdown percentages: (high - low) / high × 100\n",
    "min_between_highs[\"drawdown_pct\"] = ((min_between_highs[\"start_price\"] - min_between_highs[\"min_price\"]) / \n",
    "                                     min_between_highs[\"start_price\"]) * 100"
   ]
  },
  {
   "cell_type": "code",
   "execution_count": 62,
   "id": "14e141b4-1dad-4e84-8f18-88098f34a906",
   "metadata": {},
   "outputs": [],
   "source": [
    "# Filter for corrections with at least 5% drawdown\n",
    "min_between_highs = min_between_highs[min_between_highs['drawdown_pct'] >= 5]"
   ]
  },
  {
   "cell_type": "code",
   "execution_count": 63,
   "id": "d10c3f89-d82b-4285-b6f3-9e1ae8c961e8",
   "metadata": {},
   "outputs": [],
   "source": [
    "# Calculate the duration in days for each correction period\n",
    "min_between_highs['days'] = (min_between_highs[\"min_price_date\"] - min_between_highs[\"start_high_date\"]).dt.days"
   ]
  },
  {
   "cell_type": "code",
   "execution_count": 71,
   "id": "4128abd3-9fad-4aa1-bc40-772b1f3f6cfc",
   "metadata": {},
   "outputs": [
    {
     "data": {
      "text/html": [
       "<div>\n",
       "<style scoped>\n",
       "    .dataframe tbody tr th:only-of-type {\n",
       "        vertical-align: middle;\n",
       "    }\n",
       "\n",
       "    .dataframe tbody tr th {\n",
       "        vertical-align: top;\n",
       "    }\n",
       "\n",
       "    .dataframe thead th {\n",
       "        text-align: right;\n",
       "    }\n",
       "</style>\n",
       "<table border=\"1\" class=\"dataframe\">\n",
       "  <thead>\n",
       "    <tr style=\"text-align: right;\">\n",
       "      <th></th>\n",
       "      <th>start_high_date</th>\n",
       "      <th>next_high_date</th>\n",
       "      <th>min_price</th>\n",
       "      <th>min_price_date</th>\n",
       "      <th>start_price</th>\n",
       "      <th>drawdown_pct</th>\n",
       "      <th>days</th>\n",
       "    </tr>\n",
       "  </thead>\n",
       "  <tbody>\n",
       "    <tr>\n",
       "      <th>454</th>\n",
       "      <td>2007-10-09 00:00:00-04:00</td>\n",
       "      <td>2013-03-28 00:00:00-04:00</td>\n",
       "      <td>676.530029</td>\n",
       "      <td>2009-03-09 00:00:00-04:00</td>\n",
       "      <td>1565.150024</td>\n",
       "      <td>56.775388</td>\n",
       "      <td>517</td>\n",
       "    </tr>\n",
       "    <tr>\n",
       "      <th>449</th>\n",
       "      <td>2000-03-24 00:00:00-05:00</td>\n",
       "      <td>2007-05-30 00:00:00-04:00</td>\n",
       "      <td>776.760010</td>\n",
       "      <td>2002-10-09 00:00:00-04:00</td>\n",
       "      <td>1527.459961</td>\n",
       "      <td>49.146948</td>\n",
       "      <td>928</td>\n",
       "    </tr>\n",
       "    <tr>\n",
       "      <th>212</th>\n",
       "      <td>1973-01-11 00:00:00-05:00</td>\n",
       "      <td>1980-07-17 00:00:00-04:00</td>\n",
       "      <td>62.279999</td>\n",
       "      <td>1974-10-03 00:00:00-04:00</td>\n",
       "      <td>120.239998</td>\n",
       "      <td>48.203593</td>\n",
       "      <td>629</td>\n",
       "    </tr>\n",
       "    <tr>\n",
       "      <th>199</th>\n",
       "      <td>1968-11-29 00:00:00-05:00</td>\n",
       "      <td>1972-03-06 00:00:00-05:00</td>\n",
       "      <td>69.290001</td>\n",
       "      <td>1970-05-26 00:00:00-04:00</td>\n",
       "      <td>108.370003</td>\n",
       "      <td>36.061641</td>\n",
       "      <td>542</td>\n",
       "    </tr>\n",
       "    <tr>\n",
       "      <th>580</th>\n",
       "      <td>2020-02-19 00:00:00-05:00</td>\n",
       "      <td>2020-08-18 00:00:00-04:00</td>\n",
       "      <td>2237.399902</td>\n",
       "      <td>2020-03-23 00:00:00-04:00</td>\n",
       "      <td>3386.149902</td>\n",
       "      <td>33.924960</td>\n",
       "      <td>32</td>\n",
       "    </tr>\n",
       "    <tr>\n",
       "      <th>298</th>\n",
       "      <td>1987-08-25 00:00:00-04:00</td>\n",
       "      <td>1989-07-26 00:00:00-04:00</td>\n",
       "      <td>223.919998</td>\n",
       "      <td>1987-12-04 00:00:00-05:00</td>\n",
       "      <td>336.769989</td>\n",
       "      <td>33.509515</td>\n",
       "      <td>101</td>\n",
       "    </tr>\n",
       "    <tr>\n",
       "      <th>137</th>\n",
       "      <td>1961-12-12 00:00:00-05:00</td>\n",
       "      <td>1963-09-03 00:00:00-04:00</td>\n",
       "      <td>52.320000</td>\n",
       "      <td>1962-06-26 00:00:00-04:00</td>\n",
       "      <td>72.639999</td>\n",
       "      <td>27.973568</td>\n",
       "      <td>195</td>\n",
       "    </tr>\n",
       "    <tr>\n",
       "      <th>225</th>\n",
       "      <td>1980-11-28 00:00:00-05:00</td>\n",
       "      <td>1982-11-03 00:00:00-05:00</td>\n",
       "      <td>102.419998</td>\n",
       "      <td>1982-08-12 00:00:00-04:00</td>\n",
       "      <td>140.520004</td>\n",
       "      <td>27.113582</td>\n",
       "      <td>621</td>\n",
       "    </tr>\n",
       "    <tr>\n",
       "      <th>626</th>\n",
       "      <td>2022-01-03 00:00:00-05:00</td>\n",
       "      <td>2024-01-19 00:00:00-05:00</td>\n",
       "      <td>3577.030029</td>\n",
       "      <td>2022-10-12 00:00:00-04:00</td>\n",
       "      <td>4796.560059</td>\n",
       "      <td>25.425097</td>\n",
       "      <td>281</td>\n",
       "    </tr>\n",
       "    <tr>\n",
       "      <th>182</th>\n",
       "      <td>1966-02-09 00:00:00-05:00</td>\n",
       "      <td>1967-05-04 00:00:00-04:00</td>\n",
       "      <td>73.199997</td>\n",
       "      <td>1966-10-07 00:00:00-04:00</td>\n",
       "      <td>94.059998</td>\n",
       "      <td>22.177335</td>\n",
       "      <td>239</td>\n",
       "    </tr>\n",
       "  </tbody>\n",
       "</table>\n",
       "</div>"
      ],
      "text/plain": [
       "              start_high_date            next_high_date    min_price  \\\n",
       "454 2007-10-09 00:00:00-04:00 2013-03-28 00:00:00-04:00   676.530029   \n",
       "449 2000-03-24 00:00:00-05:00 2007-05-30 00:00:00-04:00   776.760010   \n",
       "212 1973-01-11 00:00:00-05:00 1980-07-17 00:00:00-04:00    62.279999   \n",
       "199 1968-11-29 00:00:00-05:00 1972-03-06 00:00:00-05:00    69.290001   \n",
       "580 2020-02-19 00:00:00-05:00 2020-08-18 00:00:00-04:00  2237.399902   \n",
       "298 1987-08-25 00:00:00-04:00 1989-07-26 00:00:00-04:00   223.919998   \n",
       "137 1961-12-12 00:00:00-05:00 1963-09-03 00:00:00-04:00    52.320000   \n",
       "225 1980-11-28 00:00:00-05:00 1982-11-03 00:00:00-05:00   102.419998   \n",
       "626 2022-01-03 00:00:00-05:00 2024-01-19 00:00:00-05:00  3577.030029   \n",
       "182 1966-02-09 00:00:00-05:00 1967-05-04 00:00:00-04:00    73.199997   \n",
       "\n",
       "               min_price_date  start_price  drawdown_pct  days  \n",
       "454 2009-03-09 00:00:00-04:00  1565.150024     56.775388   517  \n",
       "449 2002-10-09 00:00:00-04:00  1527.459961     49.146948   928  \n",
       "212 1974-10-03 00:00:00-04:00   120.239998     48.203593   629  \n",
       "199 1970-05-26 00:00:00-04:00   108.370003     36.061641   542  \n",
       "580 2020-03-23 00:00:00-04:00  3386.149902     33.924960    32  \n",
       "298 1987-12-04 00:00:00-05:00   336.769989     33.509515   101  \n",
       "137 1962-06-26 00:00:00-04:00    72.639999     27.973568   195  \n",
       "225 1982-08-12 00:00:00-04:00   140.520004     27.113582   621  \n",
       "626 2022-10-12 00:00:00-04:00  4796.560059     25.425097   281  \n",
       "182 1966-10-07 00:00:00-04:00    94.059998     22.177335   239  "
      ]
     },
     "execution_count": 71,
     "metadata": {},
     "output_type": "execute_result"
    }
   ],
   "source": [
    "min_between_highs.sort_values(by='drawdown_pct', ascending=False).head(10)"
   ]
  },
  {
   "cell_type": "code",
   "execution_count": 66,
   "id": "010384be-862e-4dbc-8011-70d1b91bdfe0",
   "metadata": {},
   "outputs": [
    {
     "data": {
      "text/plain": [
       "count     71.000000\n",
       "mean     112.929577\n",
       "std      178.898960\n",
       "min        7.000000\n",
       "25%       21.500000\n",
       "50%       39.000000\n",
       "75%       89.000000\n",
       "max      928.000000\n",
       "Name: days, dtype: float64"
      ]
     },
     "execution_count": 66,
     "metadata": {},
     "output_type": "execute_result"
    }
   ],
   "source": [
    "# Determine the 25th, 50th (median), and 75th percentiles for correction durations\n",
    "min_between_highs['days'].describe()"
   ]
  },
  {
   "cell_type": "markdown",
   "id": "4b03c9f8-6435-4c7a-b148-35f5ee8ddc10",
   "metadata": {},
   "source": [
    "### Question 4. [Stocks] Earnings Surprise Analysis for Amazon (AMZN)\n",
    "Calculate the median 2-day percentage change in stock prices following positive earnings surprises days.\n",
    "\n",
    "Steps:\n",
    "\n",
    "* Load earnings data from CSV (ha1_Amazon.csv) containing earnings dates, EPS estimates, and actual EPS. pandas.read_csv(\"ha1_Amazon.csv\", delimiter=';') \n",
    "* Download complete historical price data using yfinance\n",
    "* Calculate 2-day percentage changes for all historical dates: for each sequence of 3 consecutive trading days (Day 1, Day 2, Day 3), compute the return as Close_Day3 / Close_Day1 - 1. (Assume Day 2 may correspond to the earnings announcement.)\n",
    "* Identify positive earnings surprises (where \"actual EPS > estimated EPS\"). Both fields should be present in the file. You should obtain 36 data points for use in the descriptive analysis (median) later.\n",
    "* Calculate 2-day percentage changes following positive earnings surprises. Show your answer in % (closest number to the 2nd digit): return * 100.0\n",
    "* (Optional) Compare the median 2-day percentage change for positive surprises vs. all historical dates. Do you see the difference?\n",
    "\n",
    "Context: Earnings announcements, especially when they exceed analyst expectations, can significantly impact stock prices in the short term.\n",
    "\n",
    "Reference: Yahoo Finance earnings calendar - https://finance.yahoo.com/calendar/earnings?symbol=AMZN\n",
    "\n",
    "Additional: Is there a correlation between the magnitude of the earnings surprise and the stock price reaction? Does the market react differently to earnings surprises during bull vs. bear markets?)"
   ]
  },
  {
   "cell_type": "code",
   "execution_count": 3,
   "id": "420e91fe-c4db-4171-9de0-5ff1f95a9989",
   "metadata": {},
   "outputs": [
    {
     "name": "stdout",
     "output_type": "stream",
     "text": [
      "min date in data: 1997-07-10 00:00:00\n"
     ]
    }
   ],
   "source": [
    "df = pd.read_csv(\"ha1_Amazon.csv\", delimiter=';')\n",
    "df['Reported EPS'] = pd.to_numeric(df['Reported EPS'], errors='coerce')\n",
    "df['EPS Estimate'] = pd.to_numeric(df['EPS Estimate'], errors='coerce')\n",
    "df['Earnings Date'] = pd.to_datetime(df['Earnings Date'].str.replace(r' [A-Z]{3,4}$', '', regex=True))\n",
    "print('min date in data:', df['Earnings Date'].min())"
   ]
  },
  {
   "cell_type": "code",
   "execution_count": 4,
   "id": "8e2d9d1d-e6ef-46f6-b51d-c8feb331efe5",
   "metadata": {},
   "outputs": [],
   "source": [
    "# Calculate 2-day percentage changes for all historical dates: for each sequence of 3 consecutive trading days (Day 1, Day 2, Day 3), \n",
    "# compute the return as Close_Day3 / Close_Day1 - 1\n",
    "ticker_obj = yf.Ticker(\"AMZN\")\n",
    "df_hist = ticker_obj.history(start=\"1997-07-01\")\n",
    "df_hist['2d_change'] = (df_hist['Close'] / df_hist['Close'].shift(2)) - 1\n",
    "df_hist.reset_index(inplace=True)\n",
    "df_hist['date'] = df_hist['Date'].dt.date"
   ]
  },
  {
   "cell_type": "code",
   "execution_count": 5,
   "id": "abd56117-707a-4b01-9047-24100c89ac33",
   "metadata": {},
   "outputs": [
    {
     "data": {
      "text/html": [
       "<div>\n",
       "<style scoped>\n",
       "    .dataframe tbody tr th:only-of-type {\n",
       "        vertical-align: middle;\n",
       "    }\n",
       "\n",
       "    .dataframe tbody tr th {\n",
       "        vertical-align: top;\n",
       "    }\n",
       "\n",
       "    .dataframe thead th {\n",
       "        text-align: right;\n",
       "    }\n",
       "</style>\n",
       "<table border=\"1\" class=\"dataframe\">\n",
       "  <thead>\n",
       "    <tr style=\"text-align: right;\">\n",
       "      <th></th>\n",
       "      <th>Date</th>\n",
       "      <th>Open</th>\n",
       "      <th>High</th>\n",
       "      <th>Low</th>\n",
       "      <th>Close</th>\n",
       "      <th>Volume</th>\n",
       "      <th>Dividends</th>\n",
       "      <th>Stock Splits</th>\n",
       "      <th>2d_change</th>\n",
       "      <th>date</th>\n",
       "    </tr>\n",
       "  </thead>\n",
       "  <tbody>\n",
       "    <tr>\n",
       "      <th>7027</th>\n",
       "      <td>2025-06-06 00:00:00-04:00</td>\n",
       "      <td>212.399994</td>\n",
       "      <td>213.869995</td>\n",
       "      <td>210.500000</td>\n",
       "      <td>213.570007</td>\n",
       "      <td>39832500</td>\n",
       "      <td>0.0</td>\n",
       "      <td>0.0</td>\n",
       "      <td>0.030594</td>\n",
       "      <td>2025-06-06</td>\n",
       "    </tr>\n",
       "    <tr>\n",
       "      <th>7028</th>\n",
       "      <td>2025-06-09 00:00:00-04:00</td>\n",
       "      <td>214.750000</td>\n",
       "      <td>217.850006</td>\n",
       "      <td>212.880005</td>\n",
       "      <td>216.979996</td>\n",
       "      <td>38102500</td>\n",
       "      <td>0.0</td>\n",
       "      <td>0.0</td>\n",
       "      <td>0.043625</td>\n",
       "      <td>2025-06-09</td>\n",
       "    </tr>\n",
       "    <tr>\n",
       "      <th>7029</th>\n",
       "      <td>2025-06-10 00:00:00-04:00</td>\n",
       "      <td>216.779999</td>\n",
       "      <td>217.690002</td>\n",
       "      <td>214.149994</td>\n",
       "      <td>217.610001</td>\n",
       "      <td>31303300</td>\n",
       "      <td>0.0</td>\n",
       "      <td>0.0</td>\n",
       "      <td>0.018916</td>\n",
       "      <td>2025-06-10</td>\n",
       "    </tr>\n",
       "    <tr>\n",
       "      <th>7030</th>\n",
       "      <td>2025-06-11 00:00:00-04:00</td>\n",
       "      <td>217.410004</td>\n",
       "      <td>218.399994</td>\n",
       "      <td>212.889999</td>\n",
       "      <td>213.199997</td>\n",
       "      <td>39218800</td>\n",
       "      <td>0.0</td>\n",
       "      <td>0.0</td>\n",
       "      <td>-0.017421</td>\n",
       "      <td>2025-06-11</td>\n",
       "    </tr>\n",
       "    <tr>\n",
       "      <th>7031</th>\n",
       "      <td>2025-06-12 00:00:00-04:00</td>\n",
       "      <td>211.750000</td>\n",
       "      <td>213.580002</td>\n",
       "      <td>211.330002</td>\n",
       "      <td>212.690002</td>\n",
       "      <td>10472180</td>\n",
       "      <td>0.0</td>\n",
       "      <td>0.0</td>\n",
       "      <td>-0.022609</td>\n",
       "      <td>2025-06-12</td>\n",
       "    </tr>\n",
       "  </tbody>\n",
       "</table>\n",
       "</div>"
      ],
      "text/plain": [
       "                          Date        Open        High         Low  \\\n",
       "7027 2025-06-06 00:00:00-04:00  212.399994  213.869995  210.500000   \n",
       "7028 2025-06-09 00:00:00-04:00  214.750000  217.850006  212.880005   \n",
       "7029 2025-06-10 00:00:00-04:00  216.779999  217.690002  214.149994   \n",
       "7030 2025-06-11 00:00:00-04:00  217.410004  218.399994  212.889999   \n",
       "7031 2025-06-12 00:00:00-04:00  211.750000  213.580002  211.330002   \n",
       "\n",
       "           Close    Volume  Dividends  Stock Splits  2d_change        date  \n",
       "7027  213.570007  39832500        0.0           0.0   0.030594  2025-06-06  \n",
       "7028  216.979996  38102500        0.0           0.0   0.043625  2025-06-09  \n",
       "7029  217.610001  31303300        0.0           0.0   0.018916  2025-06-10  \n",
       "7030  213.199997  39218800        0.0           0.0  -0.017421  2025-06-11  \n",
       "7031  212.690002  10472180        0.0           0.0  -0.022609  2025-06-12  "
      ]
     },
     "execution_count": 5,
     "metadata": {},
     "output_type": "execute_result"
    }
   ],
   "source": [
    "df_hist.tail()"
   ]
  },
  {
   "cell_type": "code",
   "execution_count": 6,
   "id": "92050db4-6820-426d-9865-50709ac5aa08",
   "metadata": {},
   "outputs": [
    {
     "name": "stderr",
     "output_type": "stream",
     "text": [
      "/var/folders/rj/25gyk3bn7_g60b0fxzrg3jn40000gq/T/ipykernel_59561/1140243240.py:3: SettingWithCopyWarning: \n",
      "A value is trying to be set on a copy of a slice from a DataFrame.\n",
      "Try using .loc[row_indexer,col_indexer] = value instead\n",
      "\n",
      "See the caveats in the documentation: https://pandas.pydata.org/pandas-docs/stable/user_guide/indexing.html#returning-a-view-versus-a-copy\n",
      "  pos_sur['date'] = pos_sur['Earnings Date'].dt.date\n"
     ]
    },
    {
     "data": {
      "text/plain": [
       "(33, 7)"
      ]
     },
     "execution_count": 6,
     "metadata": {},
     "output_type": "execute_result"
    }
   ],
   "source": [
    "# Identify positive earnings surprises (where \"actual EPS > estimated EPS\")\n",
    "pos_sur = df[(df['Reported EPS'] > df['EPS Estimate'])]\n",
    "pos_sur['date'] = pos_sur['Earnings Date'].dt.date\n",
    "pos_sur.shape"
   ]
  },
  {
   "cell_type": "code",
   "execution_count": 7,
   "id": "2639b955-8a36-4bfe-a16b-ebe63589deef",
   "metadata": {},
   "outputs": [],
   "source": [
    "df_hist['date_prev'] = df_hist['date'].shift(1)\n",
    "pos_sur_comb = pos_sur.merge(df_hist, how='left', left_on=['date'], right_on=['date_prev'])"
   ]
  },
  {
   "cell_type": "code",
   "execution_count": 8,
   "id": "69f83124-83e3-498c-a125-1046fe8cc336",
   "metadata": {},
   "outputs": [
    {
     "data": {
      "text/html": [
       "<div>\n",
       "<style scoped>\n",
       "    .dataframe tbody tr th:only-of-type {\n",
       "        vertical-align: middle;\n",
       "    }\n",
       "\n",
       "    .dataframe tbody tr th {\n",
       "        vertical-align: top;\n",
       "    }\n",
       "\n",
       "    .dataframe thead th {\n",
       "        text-align: right;\n",
       "    }\n",
       "</style>\n",
       "<table border=\"1\" class=\"dataframe\">\n",
       "  <thead>\n",
       "    <tr style=\"text-align: right;\">\n",
       "      <th></th>\n",
       "      <th>Symbol</th>\n",
       "      <th>Company</th>\n",
       "      <th>Earnings Date</th>\n",
       "      <th>EPS Estimate</th>\n",
       "      <th>Reported EPS</th>\n",
       "      <th>Surprise (%)</th>\n",
       "      <th>date_x</th>\n",
       "      <th>Date</th>\n",
       "      <th>Open</th>\n",
       "      <th>High</th>\n",
       "      <th>Low</th>\n",
       "      <th>Close</th>\n",
       "      <th>Volume</th>\n",
       "      <th>Dividends</th>\n",
       "      <th>Stock Splits</th>\n",
       "      <th>2d_change</th>\n",
       "      <th>date_y</th>\n",
       "      <th>date_prev</th>\n",
       "    </tr>\n",
       "  </thead>\n",
       "  <tbody>\n",
       "    <tr>\n",
       "      <th>0</th>\n",
       "      <td>AMZN</td>\n",
       "      <td>Amazon.com, Inc.</td>\n",
       "      <td>2024-04-30 16:00:00</td>\n",
       "      <td>0.83</td>\n",
       "      <td>0.98</td>\n",
       "      <td>+17.91</td>\n",
       "      <td>2024-04-30</td>\n",
       "      <td>2024-05-01 00:00:00-04:00</td>\n",
       "      <td>181.639999</td>\n",
       "      <td>185.149994</td>\n",
       "      <td>176.559998</td>\n",
       "      <td>179.000000</td>\n",
       "      <td>94645100</td>\n",
       "      <td>0.0</td>\n",
       "      <td>0.0</td>\n",
       "      <td>-0.010831</td>\n",
       "      <td>2024-05-01</td>\n",
       "      <td>2024-04-30</td>\n",
       "    </tr>\n",
       "    <tr>\n",
       "      <th>1</th>\n",
       "      <td>AMZN</td>\n",
       "      <td>Amazon.com, Inc.</td>\n",
       "      <td>2024-02-01 16:00:00</td>\n",
       "      <td>0.80</td>\n",
       "      <td>1.00</td>\n",
       "      <td>+24.55</td>\n",
       "      <td>2024-02-01</td>\n",
       "      <td>2024-02-02 00:00:00-05:00</td>\n",
       "      <td>169.190002</td>\n",
       "      <td>172.500000</td>\n",
       "      <td>167.330002</td>\n",
       "      <td>171.809998</td>\n",
       "      <td>117154900</td>\n",
       "      <td>0.0</td>\n",
       "      <td>0.0</td>\n",
       "      <td>0.107023</td>\n",
       "      <td>2024-02-02</td>\n",
       "      <td>2024-02-01</td>\n",
       "    </tr>\n",
       "    <tr>\n",
       "      <th>2</th>\n",
       "      <td>AMZN</td>\n",
       "      <td>Amazon.com, Inc.</td>\n",
       "      <td>2023-10-26 16:00:00</td>\n",
       "      <td>0.58</td>\n",
       "      <td>0.94</td>\n",
       "      <td>+60.85</td>\n",
       "      <td>2023-10-26</td>\n",
       "      <td>2023-10-27 00:00:00-04:00</td>\n",
       "      <td>126.199997</td>\n",
       "      <td>130.020004</td>\n",
       "      <td>125.519997</td>\n",
       "      <td>127.739998</td>\n",
       "      <td>125309300</td>\n",
       "      <td>0.0</td>\n",
       "      <td>0.0</td>\n",
       "      <td>0.052311</td>\n",
       "      <td>2023-10-27</td>\n",
       "      <td>2023-10-26</td>\n",
       "    </tr>\n",
       "    <tr>\n",
       "      <th>3</th>\n",
       "      <td>AMZN</td>\n",
       "      <td>Amazon.com, Inc.</td>\n",
       "      <td>2023-08-03 16:00:00</td>\n",
       "      <td>0.35</td>\n",
       "      <td>0.65</td>\n",
       "      <td>+85.73</td>\n",
       "      <td>2023-08-03</td>\n",
       "      <td>2023-08-04 00:00:00-04:00</td>\n",
       "      <td>141.059998</td>\n",
       "      <td>143.630005</td>\n",
       "      <td>139.320007</td>\n",
       "      <td>139.570007</td>\n",
       "      <td>152938700</td>\n",
       "      <td>0.0</td>\n",
       "      <td>0.0</td>\n",
       "      <td>0.088605</td>\n",
       "      <td>2023-08-04</td>\n",
       "      <td>2023-08-03</td>\n",
       "    </tr>\n",
       "    <tr>\n",
       "      <th>4</th>\n",
       "      <td>AMZN</td>\n",
       "      <td>Amazon.com, Inc.</td>\n",
       "      <td>2023-04-27 16:00:00</td>\n",
       "      <td>0.21</td>\n",
       "      <td>0.31</td>\n",
       "      <td>+46.36</td>\n",
       "      <td>2023-04-27</td>\n",
       "      <td>2023-04-28 00:00:00-04:00</td>\n",
       "      <td>107.730003</td>\n",
       "      <td>109.480003</td>\n",
       "      <td>104.330002</td>\n",
       "      <td>105.449997</td>\n",
       "      <td>130565000</td>\n",
       "      <td>0.0</td>\n",
       "      <td>0.0</td>\n",
       "      <td>0.004477</td>\n",
       "      <td>2023-04-28</td>\n",
       "      <td>2023-04-27</td>\n",
       "    </tr>\n",
       "  </tbody>\n",
       "</table>\n",
       "</div>"
      ],
      "text/plain": [
       "  Symbol           Company       Earnings Date  EPS Estimate  Reported EPS  \\\n",
       "0   AMZN  Amazon.com, Inc. 2024-04-30 16:00:00          0.83          0.98   \n",
       "1   AMZN  Amazon.com, Inc. 2024-02-01 16:00:00          0.80          1.00   \n",
       "2   AMZN  Amazon.com, Inc. 2023-10-26 16:00:00          0.58          0.94   \n",
       "3   AMZN  Amazon.com, Inc. 2023-08-03 16:00:00          0.35          0.65   \n",
       "4   AMZN  Amazon.com, Inc. 2023-04-27 16:00:00          0.21          0.31   \n",
       "\n",
       "  Surprise (%)      date_x                      Date        Open        High  \\\n",
       "0       +17.91  2024-04-30 2024-05-01 00:00:00-04:00  181.639999  185.149994   \n",
       "1       +24.55  2024-02-01 2024-02-02 00:00:00-05:00  169.190002  172.500000   \n",
       "2       +60.85  2023-10-26 2023-10-27 00:00:00-04:00  126.199997  130.020004   \n",
       "3       +85.73  2023-08-03 2023-08-04 00:00:00-04:00  141.059998  143.630005   \n",
       "4       +46.36  2023-04-27 2023-04-28 00:00:00-04:00  107.730003  109.480003   \n",
       "\n",
       "          Low       Close     Volume  Dividends  Stock Splits  2d_change  \\\n",
       "0  176.559998  179.000000   94645100        0.0           0.0  -0.010831   \n",
       "1  167.330002  171.809998  117154900        0.0           0.0   0.107023   \n",
       "2  125.519997  127.739998  125309300        0.0           0.0   0.052311   \n",
       "3  139.320007  139.570007  152938700        0.0           0.0   0.088605   \n",
       "4  104.330002  105.449997  130565000        0.0           0.0   0.004477   \n",
       "\n",
       "       date_y   date_prev  \n",
       "0  2024-05-01  2024-04-30  \n",
       "1  2024-02-02  2024-02-01  \n",
       "2  2023-10-27  2023-10-26  \n",
       "3  2023-08-04  2023-08-03  \n",
       "4  2023-04-28  2023-04-27  "
      ]
     },
     "execution_count": 8,
     "metadata": {},
     "output_type": "execute_result"
    }
   ],
   "source": [
    "pos_sur_comb.head()"
   ]
  },
  {
   "cell_type": "code",
   "execution_count": 9,
   "id": "7d3a8c3e-eda9-4a41-8b82-ffb902d7e8d2",
   "metadata": {},
   "outputs": [
    {
     "data": {
      "text/plain": [
       "np.float64(2.5702644458225343)"
      ]
     },
     "execution_count": 9,
     "metadata": {},
     "output_type": "execute_result"
    }
   ],
   "source": [
    "pos_sur_comb['2d_change'].median() * 100"
   ]
  },
  {
   "cell_type": "code",
   "execution_count": 10,
   "id": "8d3bda99-8613-46b1-9213-82d7636067fa",
   "metadata": {},
   "outputs": [
    {
     "data": {
      "text/plain": [
       "np.float64(0.16685546345690527)"
      ]
     },
     "execution_count": 10,
     "metadata": {},
     "output_type": "execute_result"
    }
   ],
   "source": [
    "df_hist['2d_change'].median() * 100"
   ]
  },
  {
   "cell_type": "code",
   "execution_count": 11,
   "id": "9a8983c8-5233-429e-9015-016c9544c469",
   "metadata": {},
   "outputs": [],
   "source": [
    "# Is there a correlation between the magnitude of the earnings surprise and the stock price reaction? \n",
    "# Does the market react differently to earnings surprises during bull vs. bear markets?\n",
    "pos_sur_comb['surprise_magnitude'] = (\n",
    "    pos_sur_comb['Reported EPS'] - pos_sur_comb['EPS Estimate']\n",
    ") / pos_sur_comb['EPS Estimate']"
   ]
  },
  {
   "cell_type": "code",
   "execution_count": 15,
   "id": "328ba5c9-a6af-4e3d-9377-8730f37a8e80",
   "metadata": {},
   "outputs": [
    {
     "data": {
      "text/plain": [
       "np.float64(-0.022931207670493947)"
      ]
     },
     "execution_count": 15,
     "metadata": {},
     "output_type": "execute_result"
    }
   ],
   "source": [
    "np.corrcoef(pos_sur_comb['surprise_magnitude'], pos_sur_comb['2d_change'])[0][1]"
   ]
  },
  {
   "cell_type": "code",
   "execution_count": null,
   "id": "ff8e3dde-939f-4cfc-9cc0-40efc3d6057c",
   "metadata": {},
   "outputs": [],
   "source": []
  }
 ],
 "metadata": {
  "kernelspec": {
   "display_name": "Python 3 (ipykernel)",
   "language": "python",
   "name": "python3"
  },
  "language_info": {
   "codemirror_mode": {
    "name": "ipython",
    "version": 3
   },
   "file_extension": ".py",
   "mimetype": "text/x-python",
   "name": "python",
   "nbconvert_exporter": "python",
   "pygments_lexer": "ipython3",
   "version": "3.11.8"
  }
 },
 "nbformat": 4,
 "nbformat_minor": 5
}
