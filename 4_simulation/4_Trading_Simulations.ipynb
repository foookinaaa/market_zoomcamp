{
 "cells": [
  {
   "cell_type": "markdown",
   "metadata": {
    "id": "zIFoxB8humHl"
   },
   "source": [
    "# Imports and Installs"
   ]
  },
  {
   "cell_type": "code",
   "execution_count": 2,
   "metadata": {
    "id": "1uEFUsyVuw2M"
   },
   "outputs": [],
   "source": [
    "# IMPORTS\n",
    "import numpy as np\n",
    "import pandas as pd\n",
    "\n",
    "#Fin Data Sources\n",
    "import yfinance as yf\n",
    "# import pandas_datareader as pdr\n",
    "\n",
    "#Data viz\n",
    "import plotly.graph_objs as go\n",
    "import plotly.graph_objects as go\n",
    "import plotly.express as px\n",
    "\n",
    "import time\n",
    "from datetime import date\n",
    "\n",
    "# for graphs\n",
    "import matplotlib.pyplot as plt\n",
    "import seaborn as sns"
   ]
  },
  {
   "cell_type": "code",
   "execution_count": 3,
   "metadata": {
    "id": "WIp0nv3us1rL",
    "pycharm": {
     "is_executing": true
    }
   },
   "outputs": [],
   "source": [
    "# Imports form ML (Decision Trees)\n",
    "from sklearn.impute import SimpleImputer\n",
    "from sklearn.tree import DecisionTreeClassifier\n",
    "from sklearn.metrics import accuracy_score\n",
    "from sklearn.metrics import precision_score\n",
    "\n",
    "# Disable SettingWithCopyWarning\n",
    "pd.options.mode.chained_assignment = None  # default='warn'"
   ]
  },
  {
   "cell_type": "markdown",
   "metadata": {
    "id": "WQQEVYH1u090"
   },
   "source": [
    "# 0) One DataFrame with Dummies\n",
    "* including newly defined \"month-week_of_month\""
   ]
  },
  {
   "cell_type": "markdown",
   "metadata": {
    "id": "l_QU2W-XwdSr"
   },
   "source": [
    "## 0.1) Read and truncate data (last 25 years from 2000), define variable sets\n",
    "\n",
    "\n"
   ]
  },
  {
   "cell_type": "code",
   "execution_count": 4,
   "metadata": {
    "colab": {
     "base_uri": "https://localhost:8080/"
    },
    "id": "MMgFz0Vpu0pC",
    "outputId": "20ca0157-eb7e-490e-b760-3ec48b9de7f4"
   },
   "outputs": [],
   "source": [
    "# https://stackoverflow.com/questions/62759748/downloading-data-from-a-shared-google-drive-link-in-google-colab\n",
    "# truncated data from Module 2: https://drive.google.com/file/d/1m3Qisfs2XfWk6Sw_Uk5kHLWqwQ0q8SKb/view?usp=sharing\n",
    "# !gdown https://drive.google.com/file/d/1mb0ae2M5AouSDlqcUnIwaHq7avwGNrmB/view?usp=sharing --fuzzy -O /content/"
   ]
  },
  {
   "cell_type": "code",
   "execution_count": 5,
   "metadata": {
    "id": "7TRcGRBLu6W7"
   },
   "outputs": [],
   "source": [
    "# truncated\n",
    "# df = pd.read_parquet(\"/content/stocks_df_combined_trunc_2014_2023.parquet.brotli\", )\n",
    "\n",
    "# full dataset for 33 stocks\n",
    "df_full = pd.read_parquet(\"./stocks_df_combined_2025_06_13.parquet.brotli\", )"
   ]
  },
  {
   "cell_type": "code",
   "execution_count": 6,
   "metadata": {
    "colab": {
     "base_uri": "https://localhost:8080/"
    },
    "id": "gvI4-ZGZvnRP",
    "outputId": "e0aec5d0-a68c-46bc-ad5b-4b380c6a6c9b"
   },
   "outputs": [
    {
     "name": "stdout",
     "output_type": "stream",
     "text": [
      "<class 'pandas.core.frame.DataFrame'>\n",
      "Index: 230262 entries, 0 to 5700\n",
      "Columns: 203 entries, Open to growth_btc_usd_365d\n",
      "dtypes: datetime64[ns](3), float64(129), int32(64), int64(5), object(2)\n",
      "memory usage: 302.2+ MB\n"
     ]
    }
   ],
   "source": [
    "df_full.info()"
   ]
  },
  {
   "cell_type": "code",
   "execution_count": 7,
   "metadata": {
    "colab": {
     "base_uri": "https://localhost:8080/"
    },
    "id": "_-8g7K-wvndG",
    "outputId": "b53ba958-f037-4bcc-e33c-86323d45ad9d"
   },
   "outputs": [
    {
     "data": {
      "text/plain": [
       "['growth_1d',\n",
       " 'growth_3d',\n",
       " 'growth_7d',\n",
       " 'growth_30d',\n",
       " 'growth_90d',\n",
       " 'growth_365d',\n",
       " 'growth_dax_1d',\n",
       " 'growth_dax_3d',\n",
       " 'growth_dax_7d',\n",
       " 'growth_dax_30d',\n",
       " 'growth_dax_90d',\n",
       " 'growth_dax_365d',\n",
       " 'growth_snp500_1d',\n",
       " 'growth_snp500_3d',\n",
       " 'growth_snp500_7d',\n",
       " 'growth_snp500_30d',\n",
       " 'growth_snp500_90d',\n",
       " 'growth_snp500_365d',\n",
       " 'growth_dji_1d',\n",
       " 'growth_dji_3d',\n",
       " 'growth_dji_7d',\n",
       " 'growth_dji_30d',\n",
       " 'growth_dji_90d',\n",
       " 'growth_dji_365d',\n",
       " 'growth_epi_1d',\n",
       " 'growth_epi_3d',\n",
       " 'growth_epi_7d',\n",
       " 'growth_epi_30d',\n",
       " 'growth_epi_90d',\n",
       " 'growth_epi_365d',\n",
       " 'growth_gold_1d',\n",
       " 'growth_gold_3d',\n",
       " 'growth_gold_7d',\n",
       " 'growth_gold_30d',\n",
       " 'growth_gold_90d',\n",
       " 'growth_gold_365d',\n",
       " 'growth_wti_oil_1d',\n",
       " 'growth_wti_oil_3d',\n",
       " 'growth_wti_oil_7d',\n",
       " 'growth_wti_oil_30d',\n",
       " 'growth_wti_oil_90d',\n",
       " 'growth_wti_oil_365d',\n",
       " 'growth_brent_oil_1d',\n",
       " 'growth_brent_oil_3d',\n",
       " 'growth_brent_oil_7d',\n",
       " 'growth_brent_oil_30d',\n",
       " 'growth_brent_oil_90d',\n",
       " 'growth_brent_oil_365d',\n",
       " 'growth_btc_usd_1d',\n",
       " 'growth_btc_usd_3d',\n",
       " 'growth_btc_usd_7d',\n",
       " 'growth_btc_usd_30d',\n",
       " 'growth_btc_usd_90d',\n",
       " 'growth_btc_usd_365d']"
      ]
     },
     "execution_count": 7,
     "metadata": {},
     "output_type": "execute_result"
    }
   ],
   "source": [
    "# growth indicators (but not future growth)\n",
    "GROWTH = [g for g in df_full.keys() if (g.find('growth_')==0)&(g.find('future')<0)]\n",
    "GROWTH"
   ]
  },
  {
   "cell_type": "code",
   "execution_count": 8,
   "metadata": {
    "colab": {
     "base_uri": "https://localhost:8080/"
    },
    "id": "NhU3BYUqu_rg",
    "outputId": "2a67ddaf-38a9-4c09-892a-0dc97d1c27d3"
   },
   "outputs": [
    {
     "data": {
      "text/plain": [
       "Index(['Open', 'High', 'Low', 'Close_x', 'Volume', 'Dividends', 'Stock Splits',\n",
       "       'Ticker', 'Year', 'Month',\n",
       "       ...\n",
       "       'growth_brent_oil_7d', 'growth_brent_oil_30d', 'growth_brent_oil_90d',\n",
       "       'growth_brent_oil_365d', 'growth_btc_usd_1d', 'growth_btc_usd_3d',\n",
       "       'growth_btc_usd_7d', 'growth_btc_usd_30d', 'growth_btc_usd_90d',\n",
       "       'growth_btc_usd_365d'],\n",
       "      dtype='object', length=203)"
      ]
     },
     "execution_count": 8,
     "metadata": {},
     "output_type": "execute_result"
    }
   ],
   "source": [
    "df_full.keys()"
   ]
  },
  {
   "cell_type": "code",
   "execution_count": 9,
   "metadata": {
    "id": "9661FAn5vpOn"
   },
   "outputs": [],
   "source": [
    "# leaving only Volume ==> generate ln(Volume)\n",
    "OHLCV = ['Open','High','Low','Close_x','Volume']"
   ]
  },
  {
   "cell_type": "code",
   "execution_count": 10,
   "metadata": {
    "id": "3I4RTv8Pvrsm"
   },
   "outputs": [],
   "source": [
    "CATEGORICAL = ['Month', 'Weekday', 'Ticker', 'ticker_type']"
   ]
  },
  {
   "cell_type": "code",
   "execution_count": 11,
   "metadata": {
    "colab": {
     "base_uri": "https://localhost:8080/"
    },
    "id": "7Hfet58Bvs7W",
    "outputId": "787739c9-28a8-4a49-e730-2770219209cd"
   },
   "outputs": [
    {
     "data": {
      "text/plain": [
       "['growth_future_30d', 'is_positive_growth_30d_future']"
      ]
     },
     "execution_count": 11,
     "metadata": {},
     "output_type": "execute_result"
    }
   ],
   "source": [
    "TO_PREDICT = [g for g in df_full.keys() if (g.find('future')>=0)]\n",
    "TO_PREDICT"
   ]
  },
  {
   "cell_type": "code",
   "execution_count": 12,
   "metadata": {
    "colab": {
     "base_uri": "https://localhost:8080/"
    },
    "id": "obDpAHB0vt7G",
    "outputId": "30dd92c0-9215-4b61-d65b-9fcc3a202a4d"
   },
   "outputs": [
    {
     "data": {
      "text/plain": [
       "['Year',\n",
       " 'Date',\n",
       " 'index_x',\n",
       " 'index_y',\n",
       " 'index',\n",
       " 'Quarter',\n",
       " 'Close_y',\n",
       " 'Dividends',\n",
       " 'Stock Splits',\n",
       " 'Month',\n",
       " 'Weekday',\n",
       " 'Ticker',\n",
       " 'ticker_type',\n",
       " 'Open',\n",
       " 'High',\n",
       " 'Low',\n",
       " 'Close_x',\n",
       " 'Volume']"
      ]
     },
     "execution_count": 12,
     "metadata": {},
     "output_type": "execute_result"
    }
   ],
   "source": [
    "# we define dummy variables on Dividends and Stock Splits events later, but drop the original abs. values\n",
    "TO_DROP = ['Year','Date','index_x', 'index_y', 'index', 'Quarter','Close_y','Dividends','Stock Splits'] + CATEGORICAL + OHLCV\n",
    "TO_DROP"
   ]
  },
  {
   "cell_type": "code",
   "execution_count": 13,
   "metadata": {
    "id": "4QPqJ7rOvu00"
   },
   "outputs": [],
   "source": [
    "# let's define on more custom numerical features\n",
    "# Add a small constant to avoid log(0)\n",
    "df_full['ln_volume'] = df_full.Volume.apply(lambda x: np.log(x+ 1e-6))"
   ]
  },
  {
   "cell_type": "code",
   "execution_count": 14,
   "metadata": {
    "id": "uLSKo_wJv7AX"
   },
   "outputs": [],
   "source": [
    "# define columns on Dividends or Stock Splits\n",
    "df_full['div_payout'] = (df_full.Dividends>0).astype(int)\n",
    "df_full['stock_split'] = (df_full['Stock Splits']>0).astype(int)"
   ]
  },
  {
   "cell_type": "code",
   "execution_count": 15,
   "metadata": {
    "id": "mheJlV-xvwk0"
   },
   "outputs": [],
   "source": [
    "# manually defined features\n",
    "CUSTOM_NUMERICAL = ['SMA10', 'SMA20', 'growing_moving_average', 'high_minus_low_relative','volatility', \n",
    "                    'ln_volume','div_payout','stock_split']"
   ]
  },
  {
   "cell_type": "code",
   "execution_count": 16,
   "metadata": {
    "id": "-HGXVPvfvyNG"
   },
   "outputs": [],
   "source": [
    "# All Supported Ta-lib indicators: https://github.com/TA-Lib/ta-lib-python/blob/master/docs/funcs.md\n",
    "\n",
    "TECHNICAL_INDICATORS = ['adx', 'adxr', 'apo', 'aroon_1','aroon_2', 'aroonosc',\n",
    " 'bop', 'cci', 'cmo','dx', 'macd', 'macdsignal', 'macdhist', 'macd_ext',\n",
    " 'macdsignal_ext', 'macdhist_ext', 'macd_fix', 'macdsignal_fix',\n",
    " 'macdhist_fix', 'mfi', 'minus_di', 'mom', 'plus_di', 'dm', 'ppo',\n",
    " 'roc', 'rocp', 'rocr', 'rocr100', 'rsi', 'slowk', 'slowd', 'fastk',\n",
    " 'fastd', 'fastk_rsi', 'fastd_rsi', 'trix', 'ultosc', 'willr',\n",
    " 'ad', 'adosc', 'obv', 'atr', 'natr', 'ht_dcperiod', 'ht_dcphase',\n",
    " 'ht_phasor_inphase', 'ht_phasor_quadrature', 'ht_sine_sine', 'ht_sine_leadsine',\n",
    " 'ht_trendmod', 'avgprice', 'medprice', 'typprice', 'wclprice']"
   ]
  },
  {
   "cell_type": "code",
   "execution_count": 17,
   "metadata": {
    "colab": {
     "base_uri": "https://localhost:8080/"
    },
    "id": "vs2nT_Rlvz6m",
    "outputId": "9c767bc5-d05c-465d-d80e-53bce33ffd75"
   },
   "outputs": [
    {
     "name": "stdout",
     "output_type": "stream",
     "text": [
      "Technical patterns count = 61, examples = ['cdl2crows', 'cdl3blackrows', 'cdl3inside', 'cdl3linestrike', 'cdl3outside']\n"
     ]
    }
   ],
   "source": [
    "TECHNICAL_PATTERNS = [g for g in df_full.keys() if g.find('cdl')>=0]\n",
    "print(f'Technical patterns count = {len(TECHNICAL_PATTERNS)}, examples = {TECHNICAL_PATTERNS[0:5]}')"
   ]
  },
  {
   "cell_type": "code",
   "execution_count": 18,
   "metadata": {
    "id": "pQAuswTsv1Ul"
   },
   "outputs": [],
   "source": [
    "MACRO = ['gdppot_us_yoy', 'gdppot_us_qoq', 'cpi_core_yoy', 'cpi_core_mom', 'FEDFUNDS',\n",
    " 'DGS1', 'DGS5', 'DGS10']"
   ]
  },
  {
   "cell_type": "code",
   "execution_count": 19,
   "metadata": {
    "id": "2oQW2_w4v2tV"
   },
   "outputs": [],
   "source": [
    "NUMERICAL = GROWTH + TECHNICAL_INDICATORS + TECHNICAL_PATTERNS + CUSTOM_NUMERICAL + MACRO"
   ]
  },
  {
   "cell_type": "code",
   "execution_count": 20,
   "metadata": {
    "colab": {
     "base_uri": "https://localhost:8080/"
    },
    "id": "Xj49yRmnv32l",
    "outputId": "39dc17b9-18ae-4878-b7f6-46834d46a1d4"
   },
   "outputs": [
    {
     "data": {
      "text/plain": [
       "[]"
      ]
     },
     "execution_count": 20,
     "metadata": {},
     "output_type": "execute_result"
    }
   ],
   "source": [
    "# CHECK: NO OTHER INDICATORS LEFT\n",
    "OTHER = [k for k in df_full.keys() if k not in OHLCV + CATEGORICAL + NUMERICAL + TO_DROP + TO_PREDICT]\n",
    "OTHER"
   ]
  },
  {
   "cell_type": "code",
   "execution_count": 21,
   "metadata": {
    "colab": {
     "base_uri": "https://localhost:8080/"
    },
    "id": "ssq4f67fv5ZG",
    "outputId": "9bc4d4a8-c664-4c33-f9e0-db6ce94ec4f0"
   },
   "outputs": [
    {
     "data": {
      "text/plain": [
       "33"
      ]
     },
     "execution_count": 21,
     "metadata": {},
     "output_type": "execute_result"
    }
   ],
   "source": [
    "df_full.Ticker.nunique()"
   ]
  },
  {
   "cell_type": "code",
   "execution_count": 22,
   "metadata": {
    "colab": {
     "base_uri": "https://localhost:8080/"
    },
    "id": "4CefvCGnv9W1",
    "outputId": "541784a7-b4cc-4d8e-81ab-948ab49f7aca"
   },
   "outputs": [
    {
     "name": "stdout",
     "output_type": "stream",
     "text": [
      "<class 'pandas.core.frame.DataFrame'>\n",
      "Index: 191795 entries, 3490 to 5700\n",
      "Columns: 206 entries, Open to stock_split\n",
      "dtypes: datetime64[ns](3), float64(130), int32(64), int64(7), object(2)\n",
      "memory usage: 256.1+ MB\n"
     ]
    }
   ],
   "source": [
    "# truncated df_full with 25 years of data (and defined growth variables)\n",
    "df = df_full[df_full.Date>='2000-01-01']\n",
    "df.info()"
   ]
  },
  {
   "cell_type": "code",
   "execution_count": 23,
   "metadata": {
    "colab": {
     "base_uri": "https://localhost:8080/",
     "height": 1000
    },
    "id": "B8VsBU4Hw8IB",
    "outputId": "f2b354ef-1a73-44d0-c83e-8947b8983cc7"
   },
   "outputs": [
    {
     "data": {
      "text/html": [
       "<div>\n",
       "<style scoped>\n",
       "    .dataframe tbody tr th:only-of-type {\n",
       "        vertical-align: middle;\n",
       "    }\n",
       "\n",
       "    .dataframe tbody tr th {\n",
       "        vertical-align: top;\n",
       "    }\n",
       "\n",
       "    .dataframe thead th {\n",
       "        text-align: right;\n",
       "    }\n",
       "</style>\n",
       "<table border=\"1\" class=\"dataframe\">\n",
       "  <thead>\n",
       "    <tr style=\"text-align: right;\">\n",
       "      <th></th>\n",
       "      <th>min</th>\n",
       "      <th>max</th>\n",
       "      <th>count</th>\n",
       "    </tr>\n",
       "    <tr>\n",
       "      <th>Ticker</th>\n",
       "      <th></th>\n",
       "      <th></th>\n",
       "      <th></th>\n",
       "    </tr>\n",
       "  </thead>\n",
       "  <tbody>\n",
       "    <tr>\n",
       "      <th>AAPL</th>\n",
       "      <td>2000-01-03</td>\n",
       "      <td>2025-06-13</td>\n",
       "      <td>6401</td>\n",
       "    </tr>\n",
       "    <tr>\n",
       "      <th>ACN</th>\n",
       "      <td>2001-07-19</td>\n",
       "      <td>2025-06-13</td>\n",
       "      <td>6012</td>\n",
       "    </tr>\n",
       "    <tr>\n",
       "      <th>AMZN</th>\n",
       "      <td>2000-01-03</td>\n",
       "      <td>2025-06-13</td>\n",
       "      <td>6401</td>\n",
       "    </tr>\n",
       "    <tr>\n",
       "      <th>ASML</th>\n",
       "      <td>2000-01-03</td>\n",
       "      <td>2025-06-13</td>\n",
       "      <td>6401</td>\n",
       "    </tr>\n",
       "    <tr>\n",
       "      <th>AVGO</th>\n",
       "      <td>2009-08-06</td>\n",
       "      <td>2025-06-13</td>\n",
       "      <td>3989</td>\n",
       "    </tr>\n",
       "    <tr>\n",
       "      <th>BHARTIARTL.NS</th>\n",
       "      <td>2002-07-01</td>\n",
       "      <td>2025-06-13</td>\n",
       "      <td>5698</td>\n",
       "    </tr>\n",
       "    <tr>\n",
       "      <th>BRK-B</th>\n",
       "      <td>2000-01-03</td>\n",
       "      <td>2025-06-13</td>\n",
       "      <td>6401</td>\n",
       "    </tr>\n",
       "    <tr>\n",
       "      <th>CDI.PA</th>\n",
       "      <td>2000-01-03</td>\n",
       "      <td>2025-06-13</td>\n",
       "      <td>6540</td>\n",
       "    </tr>\n",
       "    <tr>\n",
       "      <th>GOOG</th>\n",
       "      <td>2004-08-19</td>\n",
       "      <td>2025-06-13</td>\n",
       "      <td>5239</td>\n",
       "    </tr>\n",
       "    <tr>\n",
       "      <th>HDB</th>\n",
       "      <td>2001-07-20</td>\n",
       "      <td>2025-06-13</td>\n",
       "      <td>6011</td>\n",
       "    </tr>\n",
       "    <tr>\n",
       "      <th>HINDUNILVR.NS</th>\n",
       "      <td>2000-01-03</td>\n",
       "      <td>2025-06-13</td>\n",
       "      <td>6351</td>\n",
       "    </tr>\n",
       "    <tr>\n",
       "      <th>IBN</th>\n",
       "      <td>2000-03-28</td>\n",
       "      <td>2025-06-13</td>\n",
       "      <td>6342</td>\n",
       "    </tr>\n",
       "    <tr>\n",
       "      <th>IDEXY</th>\n",
       "      <td>2010-01-20</td>\n",
       "      <td>2025-06-13</td>\n",
       "      <td>3875</td>\n",
       "    </tr>\n",
       "    <tr>\n",
       "      <th>INFY</th>\n",
       "      <td>2000-01-03</td>\n",
       "      <td>2025-06-13</td>\n",
       "      <td>6401</td>\n",
       "    </tr>\n",
       "    <tr>\n",
       "      <th>ITC.NS</th>\n",
       "      <td>2000-01-03</td>\n",
       "      <td>2025-06-13</td>\n",
       "      <td>6348</td>\n",
       "    </tr>\n",
       "    <tr>\n",
       "      <th>JPM</th>\n",
       "      <td>2000-01-03</td>\n",
       "      <td>2025-06-13</td>\n",
       "      <td>6401</td>\n",
       "    </tr>\n",
       "    <tr>\n",
       "      <th>LICI.NS</th>\n",
       "      <td>2022-05-17</td>\n",
       "      <td>2025-06-13</td>\n",
       "      <td>761</td>\n",
       "    </tr>\n",
       "    <tr>\n",
       "      <th>LLY</th>\n",
       "      <td>2000-01-03</td>\n",
       "      <td>2025-06-13</td>\n",
       "      <td>6401</td>\n",
       "    </tr>\n",
       "    <tr>\n",
       "      <th>LT.NS</th>\n",
       "      <td>2002-07-01</td>\n",
       "      <td>2025-06-13</td>\n",
       "      <td>5701</td>\n",
       "    </tr>\n",
       "    <tr>\n",
       "      <th>MC.PA</th>\n",
       "      <td>2000-01-03</td>\n",
       "      <td>2025-06-13</td>\n",
       "      <td>6540</td>\n",
       "    </tr>\n",
       "    <tr>\n",
       "      <th>META</th>\n",
       "      <td>2012-05-18</td>\n",
       "      <td>2025-06-13</td>\n",
       "      <td>3287</td>\n",
       "    </tr>\n",
       "    <tr>\n",
       "      <th>MSFT</th>\n",
       "      <td>2000-01-03</td>\n",
       "      <td>2025-06-13</td>\n",
       "      <td>6401</td>\n",
       "    </tr>\n",
       "    <tr>\n",
       "      <th>NVDA</th>\n",
       "      <td>2000-01-03</td>\n",
       "      <td>2025-06-13</td>\n",
       "      <td>6401</td>\n",
       "    </tr>\n",
       "    <tr>\n",
       "      <th>NVO</th>\n",
       "      <td>2000-01-03</td>\n",
       "      <td>2025-06-13</td>\n",
       "      <td>6401</td>\n",
       "    </tr>\n",
       "    <tr>\n",
       "      <th>OR.PA</th>\n",
       "      <td>2000-01-03</td>\n",
       "      <td>2025-06-13</td>\n",
       "      <td>6540</td>\n",
       "    </tr>\n",
       "    <tr>\n",
       "      <th>RELIANCE.NS</th>\n",
       "      <td>2000-01-03</td>\n",
       "      <td>2025-06-13</td>\n",
       "      <td>6348</td>\n",
       "    </tr>\n",
       "    <tr>\n",
       "      <th>RMS.PA</th>\n",
       "      <td>2000-01-03</td>\n",
       "      <td>2025-06-13</td>\n",
       "      <td>6540</td>\n",
       "    </tr>\n",
       "    <tr>\n",
       "      <th>SAP</th>\n",
       "      <td>2000-01-03</td>\n",
       "      <td>2025-06-13</td>\n",
       "      <td>6401</td>\n",
       "    </tr>\n",
       "    <tr>\n",
       "      <th>SBIN.NS</th>\n",
       "      <td>2000-01-03</td>\n",
       "      <td>2025-06-13</td>\n",
       "      <td>6349</td>\n",
       "    </tr>\n",
       "    <tr>\n",
       "      <th>SIE.DE</th>\n",
       "      <td>2000-01-03</td>\n",
       "      <td>2025-06-13</td>\n",
       "      <td>6505</td>\n",
       "    </tr>\n",
       "    <tr>\n",
       "      <th>TCS.NS</th>\n",
       "      <td>2002-08-12</td>\n",
       "      <td>2025-06-13</td>\n",
       "      <td>5669</td>\n",
       "    </tr>\n",
       "    <tr>\n",
       "      <th>TTE</th>\n",
       "      <td>2000-01-03</td>\n",
       "      <td>2025-06-13</td>\n",
       "      <td>6401</td>\n",
       "    </tr>\n",
       "    <tr>\n",
       "      <th>V</th>\n",
       "      <td>2008-03-19</td>\n",
       "      <td>2025-06-13</td>\n",
       "      <td>4338</td>\n",
       "    </tr>\n",
       "  </tbody>\n",
       "</table>\n",
       "</div>"
      ],
      "text/plain": [
       "                     min        max  count\n",
       "Ticker                                    \n",
       "AAPL          2000-01-03 2025-06-13   6401\n",
       "ACN           2001-07-19 2025-06-13   6012\n",
       "AMZN          2000-01-03 2025-06-13   6401\n",
       "ASML          2000-01-03 2025-06-13   6401\n",
       "AVGO          2009-08-06 2025-06-13   3989\n",
       "BHARTIARTL.NS 2002-07-01 2025-06-13   5698\n",
       "BRK-B         2000-01-03 2025-06-13   6401\n",
       "CDI.PA        2000-01-03 2025-06-13   6540\n",
       "GOOG          2004-08-19 2025-06-13   5239\n",
       "HDB           2001-07-20 2025-06-13   6011\n",
       "HINDUNILVR.NS 2000-01-03 2025-06-13   6351\n",
       "IBN           2000-03-28 2025-06-13   6342\n",
       "IDEXY         2010-01-20 2025-06-13   3875\n",
       "INFY          2000-01-03 2025-06-13   6401\n",
       "ITC.NS        2000-01-03 2025-06-13   6348\n",
       "JPM           2000-01-03 2025-06-13   6401\n",
       "LICI.NS       2022-05-17 2025-06-13    761\n",
       "LLY           2000-01-03 2025-06-13   6401\n",
       "LT.NS         2002-07-01 2025-06-13   5701\n",
       "MC.PA         2000-01-03 2025-06-13   6540\n",
       "META          2012-05-18 2025-06-13   3287\n",
       "MSFT          2000-01-03 2025-06-13   6401\n",
       "NVDA          2000-01-03 2025-06-13   6401\n",
       "NVO           2000-01-03 2025-06-13   6401\n",
       "OR.PA         2000-01-03 2025-06-13   6540\n",
       "RELIANCE.NS   2000-01-03 2025-06-13   6348\n",
       "RMS.PA        2000-01-03 2025-06-13   6540\n",
       "SAP           2000-01-03 2025-06-13   6401\n",
       "SBIN.NS       2000-01-03 2025-06-13   6349\n",
       "SIE.DE        2000-01-03 2025-06-13   6505\n",
       "TCS.NS        2002-08-12 2025-06-13   5669\n",
       "TTE           2000-01-03 2025-06-13   6401\n",
       "V             2008-03-19 2025-06-13   4338"
      ]
     },
     "execution_count": 23,
     "metadata": {},
     "output_type": "execute_result"
    }
   ],
   "source": [
    "# tickers, min-max date, count of daily observations\n",
    "df.groupby(['Ticker'])['Date'].agg(['min','max','count'])"
   ]
  },
  {
   "cell_type": "markdown",
   "metadata": {
    "id": "bdYcH3A3woYi"
   },
   "source": [
    "## 0.2) Dummies"
   ]
  },
  {
   "cell_type": "code",
   "execution_count": 24,
   "metadata": {
    "colab": {
     "base_uri": "https://localhost:8080/"
    },
    "id": "XKjGqqYPxZ4p",
    "outputId": "674a489a-dbce-448e-c1db-9bbf64be71b3"
   },
   "outputs": [
    {
     "data": {
      "text/plain": [
       "['Month', 'Weekday', 'Ticker', 'ticker_type']"
      ]
     },
     "execution_count": 24,
     "metadata": {},
     "output_type": "execute_result"
    }
   ],
   "source": [
    "# what are the categorical features?\n",
    "CATEGORICAL"
   ]
  },
  {
   "cell_type": "code",
   "execution_count": 25,
   "metadata": {
    "colab": {
     "base_uri": "https://localhost:8080/"
    },
    "id": "Ga6KlsAw6qLx",
    "outputId": "cf1040a8-4812-4cd8-8a76-4280607d021a"
   },
   "outputs": [
    {
     "name": "stderr",
     "output_type": "stream",
     "text": [
      "/var/folders/rj/25gyk3bn7_g60b0fxzrg3jn40000gq/T/ipykernel_76057/2619569166.py:5: FutureWarning: Setting an item of incompatible dtype is deprecated and will raise in a future error of pandas. Value '['January' 'January' 'January' ... 'June' 'June' 'June']' has dtype incompatible with datetime64[ns], please explicitly cast to a compatible dtype first.\n",
      "  df.loc[:,'Month']= pd.to_datetime(df['Month'], format='%m').dt.strftime('%B')\n",
      "/var/folders/rj/25gyk3bn7_g60b0fxzrg3jn40000gq/T/ipykernel_76057/2619569166.py:7: FutureWarning: Setting an item of incompatible dtype is deprecated and will raise in a future error of pandas. Value '<StringArray>\n",
      "['0', '1', '2', '3', '4', '0', '1', '2', '3', '4',\n",
      " ...\n",
      " '0', '1', '2', '3', '4', '0', '1', '2', '3', '4']\n",
      "Length: 191795, dtype: string' has dtype incompatible with int32, please explicitly cast to a compatible dtype first.\n",
      "  df.loc[:,'Weekday'] = df['Weekday'].astype('string')\n"
     ]
    }
   ],
   "source": [
    "# dummy variables are not generated from Date and numeric variables\n",
    "\n",
    "# df.loc[:,'Month'] = df['Month'].dt.strftime('%B').astype('string')\n",
    "\n",
    "df.loc[:,'Month']= pd.to_datetime(df['Month'], format='%m').dt.strftime('%B')\n",
    "\n",
    "df.loc[:,'Weekday'] = df['Weekday'].astype('string')\n",
    "# .astype(str)"
   ]
  },
  {
   "cell_type": "markdown",
   "metadata": {
    "id": "GwhyHQgS44NG"
   },
   "source": [
    "### 0.2.1) Create a new string column 'month_wom' (month_week_of_month)"
   ]
  },
  {
   "cell_type": "code",
   "execution_count": 26,
   "metadata": {
    "colab": {
     "base_uri": "https://localhost:8080/"
    },
    "id": "V6pRKDXG5fGi",
    "outputId": "7a6ab001-7c13-4453-965d-6bd1c9c8d8bc"
   },
   "outputs": [
    {
     "name": "stderr",
     "output_type": "stream",
     "text": [
      "/var/folders/rj/25gyk3bn7_g60b0fxzrg3jn40000gq/T/ipykernel_76057/1081537706.py:4: FutureWarning: Setting an item of incompatible dtype is deprecated and will raise in a future error of pandas. Value '['1' '1' '1' ... '2' '2' '2']' has dtype incompatible with int64, please explicitly cast to a compatible dtype first.\n",
      "  df.loc[:,'wom'] = df.loc[:,'wom'].astype(str)\n"
     ]
    }
   ],
   "source": [
    "# define week of month\n",
    "df.loc[:,'wom'] = df.Date.apply(lambda d: (d.day-1)//7 + 1)\n",
    "# convert to string\n",
    "df.loc[:,'wom'] = df.loc[:,'wom'].astype(str)"
   ]
  },
  {
   "cell_type": "code",
   "execution_count": 27,
   "metadata": {
    "colab": {
     "base_uri": "https://localhost:8080/",
     "height": 272
    },
    "id": "XiqCRNwl5hK8",
    "outputId": "554bcf02-8853-4c4d-bfc3-f8f6a5a3899a"
   },
   "outputs": [
    {
     "data": {
      "text/plain": [
       "wom\n",
       "2    45083\n",
       "3    44006\n",
       "4    43753\n",
       "1    43557\n",
       "5    15396\n",
       "Name: count, dtype: int64"
      ]
     },
     "execution_count": 27,
     "metadata": {},
     "output_type": "execute_result"
    }
   ],
   "source": [
    "# check values for week-of-month (should be between 1 and 5)\n",
    "df.wom.value_counts()"
   ]
  },
  {
   "cell_type": "code",
   "execution_count": 28,
   "metadata": {
    "id": "Y_gGXIox5koM"
   },
   "outputs": [],
   "source": [
    "df.loc[:,'month_wom'] = df.Month + '_w' + df.wom"
   ]
  },
  {
   "cell_type": "code",
   "execution_count": 29,
   "metadata": {
    "colab": {
     "base_uri": "https://localhost:8080/",
     "height": 178
    },
    "id": "4gDJiN7p5nGN",
    "outputId": "08df6930-0d64-4770-83f0-8788893ae4cb"
   },
   "outputs": [
    {
     "data": {
      "text/plain": [
       "month_wom\n",
       "June_w1        3882\n",
       "February_w1    3878\n",
       "Name: count, dtype: int64"
      ]
     },
     "execution_count": 29,
     "metadata": {},
     "output_type": "execute_result"
    }
   ],
   "source": [
    "# examples of encoding\n",
    "df.month_wom.value_counts()[0:2]"
   ]
  },
  {
   "cell_type": "code",
   "execution_count": 30,
   "metadata": {
    "id": "kcn8d8bT54-y"
   },
   "outputs": [],
   "source": [
    "# del wom temp variable\n",
    "del df['wom']"
   ]
  },
  {
   "cell_type": "markdown",
   "metadata": {
    "id": "WvTxVeyh5JsL"
   },
   "source": [
    "### 0.2.2) Generate all dummies"
   ]
  },
  {
   "cell_type": "code",
   "execution_count": 31,
   "metadata": {
    "colab": {
     "base_uri": "https://localhost:8080/"
    },
    "id": "iFFijTm2wAEU",
    "outputId": "f1326fe9-08e8-4299-c2ef-1a85d1230e8f"
   },
   "outputs": [
    {
     "data": {
      "text/plain": [
       "['Month', 'Weekday', 'Ticker', 'ticker_type', 'month_wom']"
      ]
     },
     "execution_count": 31,
     "metadata": {},
     "output_type": "execute_result"
    }
   ],
   "source": [
    "# what are the categorical features?\n",
    "CATEGORICAL.append('month_wom')\n",
    "CATEGORICAL"
   ]
  },
  {
   "cell_type": "code",
   "execution_count": 32,
   "metadata": {
    "id": "qVtTFBK6ws3Q"
   },
   "outputs": [],
   "source": [
    "# Generate dummy variables (no need for bool, let's have int32 instead)\n",
    "dummy_variables = pd.get_dummies(df[CATEGORICAL], dtype='int32')"
   ]
  },
  {
   "cell_type": "code",
   "execution_count": 33,
   "metadata": {
    "colab": {
     "base_uri": "https://localhost:8080/"
    },
    "id": "fqXyfUR8wuFQ",
    "outputId": "17ec0f49-d20d-44d6-a454-9598ade8d168"
   },
   "outputs": [
    {
     "name": "stdout",
     "output_type": "stream",
     "text": [
      "<class 'pandas.core.frame.DataFrame'>\n",
      "Index: 191795 entries, 3490 to 5700\n",
      "Columns: 115 entries, Month_April to month_wom_September_w5\n",
      "dtypes: int32(115)\n",
      "memory usage: 85.6 MB\n"
     ]
    }
   ],
   "source": [
    "dummy_variables.info()"
   ]
  },
  {
   "cell_type": "code",
   "execution_count": 34,
   "metadata": {
    "colab": {
     "base_uri": "https://localhost:8080/"
    },
    "id": "7fc7s1Wqwvwg",
    "outputId": "12f40fea-c548-4572-eba5-7eae1f414be2"
   },
   "outputs": [
    {
     "data": {
      "text/plain": [
       "['Month_April',\n",
       " 'Month_August',\n",
       " 'Month_December',\n",
       " 'Month_February',\n",
       " 'Month_January',\n",
       " 'Month_July',\n",
       " 'Month_June',\n",
       " 'Month_March',\n",
       " 'Month_May',\n",
       " 'Month_November',\n",
       " 'Month_October',\n",
       " 'Month_September',\n",
       " 'Weekday_0',\n",
       " 'Weekday_1',\n",
       " 'Weekday_2',\n",
       " 'Weekday_3',\n",
       " 'Weekday_4',\n",
       " 'Weekday_5',\n",
       " 'Weekday_6',\n",
       " 'Ticker_AAPL',\n",
       " 'Ticker_ACN',\n",
       " 'Ticker_AMZN',\n",
       " 'Ticker_ASML',\n",
       " 'Ticker_AVGO',\n",
       " 'Ticker_BHARTIARTL.NS',\n",
       " 'Ticker_BRK-B',\n",
       " 'Ticker_CDI.PA',\n",
       " 'Ticker_GOOG',\n",
       " 'Ticker_HDB',\n",
       " 'Ticker_HINDUNILVR.NS',\n",
       " 'Ticker_IBN',\n",
       " 'Ticker_IDEXY',\n",
       " 'Ticker_INFY',\n",
       " 'Ticker_ITC.NS',\n",
       " 'Ticker_JPM',\n",
       " 'Ticker_LICI.NS',\n",
       " 'Ticker_LLY',\n",
       " 'Ticker_LT.NS',\n",
       " 'Ticker_MC.PA',\n",
       " 'Ticker_META',\n",
       " 'Ticker_MSFT',\n",
       " 'Ticker_NVDA',\n",
       " 'Ticker_NVO',\n",
       " 'Ticker_OR.PA',\n",
       " 'Ticker_RELIANCE.NS',\n",
       " 'Ticker_RMS.PA',\n",
       " 'Ticker_SAP',\n",
       " 'Ticker_SBIN.NS',\n",
       " 'Ticker_SIE.DE',\n",
       " 'Ticker_TCS.NS',\n",
       " 'Ticker_TTE',\n",
       " 'Ticker_V',\n",
       " 'ticker_type_EU',\n",
       " 'ticker_type_INDIA',\n",
       " 'ticker_type_US',\n",
       " 'month_wom_April_w1',\n",
       " 'month_wom_April_w2',\n",
       " 'month_wom_April_w3',\n",
       " 'month_wom_April_w4',\n",
       " 'month_wom_April_w5',\n",
       " 'month_wom_August_w1',\n",
       " 'month_wom_August_w2',\n",
       " 'month_wom_August_w3',\n",
       " 'month_wom_August_w4',\n",
       " 'month_wom_August_w5',\n",
       " 'month_wom_December_w1',\n",
       " 'month_wom_December_w2',\n",
       " 'month_wom_December_w3',\n",
       " 'month_wom_December_w4',\n",
       " 'month_wom_December_w5',\n",
       " 'month_wom_February_w1',\n",
       " 'month_wom_February_w2',\n",
       " 'month_wom_February_w3',\n",
       " 'month_wom_February_w4',\n",
       " 'month_wom_February_w5',\n",
       " 'month_wom_January_w1',\n",
       " 'month_wom_January_w2',\n",
       " 'month_wom_January_w3',\n",
       " 'month_wom_January_w4',\n",
       " 'month_wom_January_w5',\n",
       " 'month_wom_July_w1',\n",
       " 'month_wom_July_w2',\n",
       " 'month_wom_July_w3',\n",
       " 'month_wom_July_w4',\n",
       " 'month_wom_July_w5',\n",
       " 'month_wom_June_w1',\n",
       " 'month_wom_June_w2',\n",
       " 'month_wom_June_w3',\n",
       " 'month_wom_June_w4',\n",
       " 'month_wom_June_w5',\n",
       " 'month_wom_March_w1',\n",
       " 'month_wom_March_w2',\n",
       " 'month_wom_March_w3',\n",
       " 'month_wom_March_w4',\n",
       " 'month_wom_March_w5',\n",
       " 'month_wom_May_w1',\n",
       " 'month_wom_May_w2',\n",
       " 'month_wom_May_w3',\n",
       " 'month_wom_May_w4',\n",
       " 'month_wom_May_w5',\n",
       " 'month_wom_November_w1',\n",
       " 'month_wom_November_w2',\n",
       " 'month_wom_November_w3',\n",
       " 'month_wom_November_w4',\n",
       " 'month_wom_November_w5',\n",
       " 'month_wom_October_w1',\n",
       " 'month_wom_October_w2',\n",
       " 'month_wom_October_w3',\n",
       " 'month_wom_October_w4',\n",
       " 'month_wom_October_w5',\n",
       " 'month_wom_September_w1',\n",
       " 'month_wom_September_w2',\n",
       " 'month_wom_September_w3',\n",
       " 'month_wom_September_w4',\n",
       " 'month_wom_September_w5']"
      ]
     },
     "execution_count": 34,
     "metadata": {},
     "output_type": "execute_result"
    }
   ],
   "source": [
    "# get dummies names in a list\n",
    "DUMMIES = dummy_variables.keys().to_list()\n",
    "DUMMIES"
   ]
  },
  {
   "cell_type": "code",
   "execution_count": 35,
   "metadata": {
    "colab": {
     "base_uri": "https://localhost:8080/"
    },
    "id": "REqCt5n5-8hz",
    "outputId": "d7d3da02-8cca-430d-eb42-eec57dbd4b86"
   },
   "outputs": [
    {
     "data": {
      "text/plain": [
       "115"
      ]
     },
     "execution_count": 35,
     "metadata": {},
     "output_type": "execute_result"
    }
   ],
   "source": [
    "len(DUMMIES)"
   ]
  },
  {
   "cell_type": "code",
   "execution_count": 36,
   "metadata": {
    "id": "Gl2J-hOi7jts"
   },
   "outputs": [],
   "source": [
    "# Concatenate the dummy variables with the original DataFrame\n",
    "df_with_dummies = pd.concat([df, dummy_variables], axis=1)"
   ]
  },
  {
   "cell_type": "code",
   "execution_count": 37,
   "metadata": {
    "colab": {
     "base_uri": "https://localhost:8080/"
    },
    "id": "tPdbHgpP7lkt",
    "outputId": "01cbae5a-00ec-4814-cfc1-8cae4c7e8128"
   },
   "outputs": [
    {
     "name": "stdout",
     "output_type": "stream",
     "text": [
      "<class 'pandas.core.frame.DataFrame'>\n",
      "Index: 191795 entries, 3490 to 5700\n",
      "Columns: 301 entries, growth_1d to month_wom_September_w5\n",
      "dtypes: float64(121), int32(177), int64(3)\n",
      "memory usage: 312.4 MB\n"
     ]
    }
   ],
   "source": [
    "df_with_dummies[NUMERICAL+DUMMIES].info()"
   ]
  },
  {
   "cell_type": "markdown",
   "metadata": {
    "id": "a8nul5nG7BEG"
   },
   "source": [
    "### 1.2.3) Get correlations for month_wom (month-week_of_month) with is_futur"
   ]
  },
  {
   "cell_type": "code",
   "execution_count": 38,
   "metadata": {
    "colab": {
     "base_uri": "https://localhost:8080/"
    },
    "id": "GsDCsJwk7-UW",
    "outputId": "558934f0-a2d1-4afd-e7b2-a4e80138ae55"
   },
   "outputs": [
    {
     "data": {
      "text/plain": [
       "['month_wom_April_w1', 'month_wom_April_w2']"
      ]
     },
     "execution_count": 38,
     "metadata": {},
     "output_type": "execute_result"
    }
   ],
   "source": [
    "DUMMIES_MONTH_WOM = [k for k in DUMMIES if k.startswith('month_wom')]\n",
    "# check a few records\n",
    "DUMMIES_MONTH_WOM[0:2]"
   ]
  },
  {
   "cell_type": "code",
   "execution_count": 39,
   "metadata": {
    "id": "5zGvZqsg65MY"
   },
   "outputs": [],
   "source": [
    "corr_month_wom_vs_is_positive_growth_30d_future = df_with_dummies[DUMMIES_MONTH_WOM+TO_PREDICT].corr()['is_positive_growth_30d_future']"
   ]
  },
  {
   "cell_type": "code",
   "execution_count": 40,
   "metadata": {
    "colab": {
     "base_uri": "https://localhost:8080/",
     "height": 458
    },
    "id": "GcllimQX8SNG",
    "outputId": "56678426-7b8c-49df-ea26-f27f6ffad4a5"
   },
   "outputs": [
    {
     "data": {
      "text/plain": [
       "month_wom_April_w1              -0.001600\n",
       "month_wom_April_w2              -0.002640\n",
       "month_wom_April_w3               0.006208\n",
       "month_wom_April_w4               0.004110\n",
       "month_wom_April_w5               0.001731\n",
       "                                   ...   \n",
       "month_wom_September_w3          -0.006012\n",
       "month_wom_September_w4           0.013558\n",
       "month_wom_September_w5           0.012684\n",
       "growth_future_30d                0.696468\n",
       "is_positive_growth_30d_future    1.000000\n",
       "Name: is_positive_growth_30d_future, Length: 62, dtype: float64"
      ]
     },
     "execution_count": 40,
     "metadata": {},
     "output_type": "execute_result"
    }
   ],
   "source": [
    "corr_month_wom_vs_is_positive_growth_30d_future"
   ]
  },
  {
   "cell_type": "code",
   "execution_count": 41,
   "metadata": {
    "id": "UP2izigH8T1m"
   },
   "outputs": [],
   "source": [
    "# create a dataframe for an easy way to sort\n",
    "corr_month_wom_vs_is_positive_growth_30d_future_df = pd.DataFrame(corr_month_wom_vs_is_positive_growth_30d_future)"
   ]
  },
  {
   "cell_type": "code",
   "execution_count": 42,
   "metadata": {
    "id": "5eu_ng3b80--"
   },
   "outputs": [],
   "source": [
    "# rename column 'is_positive_growth_5d_future' to 'corr'\n",
    "corr_month_wom_vs_is_positive_growth_30d_future_df.rename(columns={'is_positive_growth_30d_future':'corr'},inplace=True)"
   ]
  },
  {
   "cell_type": "code",
   "execution_count": 43,
   "metadata": {
    "id": "w-d92wpY8q81"
   },
   "outputs": [],
   "source": [
    "corr_month_wom_vs_is_positive_growth_30d_future_df.loc[:, 'abs_corr'] = corr_month_wom_vs_is_positive_growth_30d_future_df['corr'].abs()"
   ]
  },
  {
   "cell_type": "code",
   "execution_count": 44,
   "metadata": {
    "colab": {
     "base_uri": "https://localhost:8080/",
     "height": 424
    },
    "id": "UBAkwZbM8sT1",
    "outputId": "1d49d809-da93-4b5c-8d69-4956140a3d73"
   },
   "outputs": [
    {
     "data": {
      "text/html": [
       "<div>\n",
       "<style scoped>\n",
       "    .dataframe tbody tr th:only-of-type {\n",
       "        vertical-align: middle;\n",
       "    }\n",
       "\n",
       "    .dataframe tbody tr th {\n",
       "        vertical-align: top;\n",
       "    }\n",
       "\n",
       "    .dataframe thead th {\n",
       "        text-align: right;\n",
       "    }\n",
       "</style>\n",
       "<table border=\"1\" class=\"dataframe\">\n",
       "  <thead>\n",
       "    <tr style=\"text-align: right;\">\n",
       "      <th></th>\n",
       "      <th>corr</th>\n",
       "      <th>abs_corr</th>\n",
       "    </tr>\n",
       "  </thead>\n",
       "  <tbody>\n",
       "    <tr>\n",
       "      <th>month_wom_July_w1</th>\n",
       "      <td>-0.000010</td>\n",
       "      <td>0.000010</td>\n",
       "    </tr>\n",
       "    <tr>\n",
       "      <th>month_wom_March_w1</th>\n",
       "      <td>0.000244</td>\n",
       "      <td>0.000244</td>\n",
       "    </tr>\n",
       "    <tr>\n",
       "      <th>month_wom_May_w4</th>\n",
       "      <td>-0.000609</td>\n",
       "      <td>0.000609</td>\n",
       "    </tr>\n",
       "    <tr>\n",
       "      <th>month_wom_February_w5</th>\n",
       "      <td>0.001553</td>\n",
       "      <td>0.001553</td>\n",
       "    </tr>\n",
       "    <tr>\n",
       "      <th>month_wom_April_w1</th>\n",
       "      <td>-0.001600</td>\n",
       "      <td>0.001600</td>\n",
       "    </tr>\n",
       "    <tr>\n",
       "      <th>...</th>\n",
       "      <td>...</td>\n",
       "      <td>...</td>\n",
       "    </tr>\n",
       "    <tr>\n",
       "      <th>month_wom_November_w2</th>\n",
       "      <td>0.018822</td>\n",
       "      <td>0.018822</td>\n",
       "    </tr>\n",
       "    <tr>\n",
       "      <th>month_wom_November_w3</th>\n",
       "      <td>0.022097</td>\n",
       "      <td>0.022097</td>\n",
       "    </tr>\n",
       "    <tr>\n",
       "      <th>month_wom_October_w4</th>\n",
       "      <td>0.024968</td>\n",
       "      <td>0.024968</td>\n",
       "    </tr>\n",
       "    <tr>\n",
       "      <th>growth_future_30d</th>\n",
       "      <td>0.696468</td>\n",
       "      <td>0.696468</td>\n",
       "    </tr>\n",
       "    <tr>\n",
       "      <th>is_positive_growth_30d_future</th>\n",
       "      <td>1.000000</td>\n",
       "      <td>1.000000</td>\n",
       "    </tr>\n",
       "  </tbody>\n",
       "</table>\n",
       "<p>62 rows × 2 columns</p>\n",
       "</div>"
      ],
      "text/plain": [
       "                                   corr  abs_corr\n",
       "month_wom_July_w1             -0.000010  0.000010\n",
       "month_wom_March_w1             0.000244  0.000244\n",
       "month_wom_May_w4              -0.000609  0.000609\n",
       "month_wom_February_w5          0.001553  0.001553\n",
       "month_wom_April_w1            -0.001600  0.001600\n",
       "...                                 ...       ...\n",
       "month_wom_November_w2          0.018822  0.018822\n",
       "month_wom_November_w3          0.022097  0.022097\n",
       "month_wom_October_w4           0.024968  0.024968\n",
       "growth_future_30d              0.696468  0.696468\n",
       "is_positive_growth_30d_future  1.000000  1.000000\n",
       "\n",
       "[62 rows x 2 columns]"
      ]
     },
     "execution_count": 44,
     "metadata": {},
     "output_type": "execute_result"
    }
   ],
   "source": [
    "corr_month_wom_vs_is_positive_growth_30d_future_df.sort_values(by='abs_corr')"
   ]
  },
  {
   "cell_type": "code",
   "execution_count": 45,
   "metadata": {
    "id": "FCDphhGy9vZ1"
   },
   "outputs": [],
   "source": [
    "# ANSWER Q1 HA3: # TOP CORR NEW DUMMY with is_positive: ANSWER 0.025 (rounded to 3 digits)"
   ]
  },
  {
   "cell_type": "markdown",
   "metadata": {
    "id": "pdv980WCAvUm"
   },
   "source": [
    "### 1.2.4) Temporal split"
   ]
  },
  {
   "cell_type": "code",
   "execution_count": 46,
   "metadata": {
    "id": "IWeqGN5_Ay6k"
   },
   "outputs": [],
   "source": [
    "def temporal_split(df, min_date, max_date, train_prop=0.7, val_prop=0.15, test_prop=0.15):\n",
    "    \"\"\"\n",
    "    Splits a DataFrame into three buckets based on the temporal order of the 'Date' column.\n",
    "\n",
    "    Args:\n",
    "        df (DataFrame): The DataFrame to split.\n",
    "        min_date (str or Timestamp): Minimum date in the DataFrame.\n",
    "        max_date (str or Timestamp): Maximum date in the DataFrame.\n",
    "        train_prop (float): Proportion of data for training set (default: 0.6).\n",
    "        val_prop (float): Proportion of data for validation set (default: 0.2).\n",
    "        test_prop (float): Proportion of data for test set (default: 0.2).\n",
    "\n",
    "    Returns:\n",
    "        DataFrame: The input DataFrame with a new column 'split' indicating the split for each row.\n",
    "    \"\"\"\n",
    "    # Define the date intervals\n",
    "    train_end = min_date + pd.Timedelta(days=(max_date - min_date).days * train_prop)\n",
    "    val_end = train_end + pd.Timedelta(days=(max_date - min_date).days * val_prop)\n",
    "\n",
    "    # Assign split labels based on date ranges\n",
    "    split_labels = []\n",
    "    for date in df['Date']:\n",
    "        if date <= train_end:\n",
    "            split_labels.append('train')\n",
    "        elif date <= val_end:\n",
    "            split_labels.append('validation')\n",
    "        else:\n",
    "            split_labels.append('test')\n",
    "\n",
    "    # Add 'split' column to the DataFrame\n",
    "    df['split'] = split_labels\n",
    "\n",
    "    return df"
   ]
  },
  {
   "cell_type": "code",
   "execution_count": 47,
   "metadata": {
    "id": "I9KeLIemAzbC"
   },
   "outputs": [],
   "source": [
    "min_date_df = df_with_dummies.Date.min()\n",
    "max_date_df = df_with_dummies.Date.max()\n",
    "\n",
    "df_with_dummies = temporal_split(df_with_dummies,\n",
    "                                 min_date = min_date_df,\n",
    "                                 max_date = max_date_df)"
   ]
  },
  {
   "cell_type": "code",
   "execution_count": 48,
   "metadata": {
    "colab": {
     "base_uri": "https://localhost:8080/",
     "height": 0
    },
    "id": "j0Zhz6-sA2xV",
    "outputId": "1918ae0b-5944-4e05-b087-9baaa1fa8257"
   },
   "outputs": [
    {
     "data": {
      "text/plain": [
       "split\n",
       "train         0.676399\n",
       "test          0.163758\n",
       "validation    0.159843\n",
       "Name: count, dtype: float64"
      ]
     },
     "execution_count": 48,
     "metadata": {},
     "output_type": "execute_result"
    }
   ],
   "source": [
    "df_with_dummies['split'].value_counts()/len(df_with_dummies)"
   ]
  },
  {
   "cell_type": "code",
   "execution_count": 49,
   "metadata": {
    "id": "60LM-DLSA4Jk"
   },
   "outputs": [],
   "source": [
    "# remove the \"segmentation\" problem (warning message on df performance after many joins and data transformations)\n",
    "new_df = df_with_dummies.copy()"
   ]
  },
  {
   "cell_type": "markdown",
   "metadata": {
    "id": "DCuVpQTrFtFh"
   },
   "source": [
    "# 1) Modeling"
   ]
  },
  {
   "cell_type": "code",
   "execution_count": 50,
   "metadata": {
    "colab": {
     "base_uri": "https://localhost:8080/"
    },
    "id": "PeLzk0bBA7DF",
    "outputId": "81f0a00e-2ed5-4d39-d2dc-ad4d0496e79e"
   },
   "outputs": [
    {
     "name": "stdout",
     "output_type": "stream",
     "text": [
      "<class 'pandas.core.frame.DataFrame'>\n",
      "Index: 191795 entries, 3490 to 5700\n",
      "Columns: 323 entries, Open to split\n",
      "dtypes: datetime64[ns](2), float64(130), int32(178), int64(7), object(5), string(1)\n",
      "memory usage: 343.9+ MB\n"
     ]
    }
   ],
   "source": [
    "# Full dataframe (transformed and truncated to 25 years)\n",
    "new_df.info()"
   ]
  },
  {
   "cell_type": "code",
   "execution_count": 51,
   "metadata": {
    "colab": {
     "base_uri": "https://localhost:8080/",
     "height": 147
    },
    "id": "y88wl8mLF5Zf",
    "outputId": "d2bd55d3-b392-43d3-8b82-cfa88208c522"
   },
   "outputs": [
    {
     "data": {
      "text/html": [
       "<div>\n",
       "<style scoped>\n",
       "    .dataframe tbody tr th:only-of-type {\n",
       "        vertical-align: middle;\n",
       "    }\n",
       "\n",
       "    .dataframe tbody tr th {\n",
       "        vertical-align: top;\n",
       "    }\n",
       "\n",
       "    .dataframe thead th {\n",
       "        text-align: right;\n",
       "    }\n",
       "</style>\n",
       "<table border=\"1\" class=\"dataframe\">\n",
       "  <thead>\n",
       "    <tr style=\"text-align: right;\">\n",
       "      <th></th>\n",
       "      <th>Open</th>\n",
       "      <th>High</th>\n",
       "      <th>Low</th>\n",
       "      <th>Close_x</th>\n",
       "      <th>Volume</th>\n",
       "      <th>Dividends</th>\n",
       "      <th>Stock Splits</th>\n",
       "      <th>Ticker</th>\n",
       "      <th>Year</th>\n",
       "      <th>Month</th>\n",
       "      <th>...</th>\n",
       "      <th>month_wom_October_w2</th>\n",
       "      <th>month_wom_October_w3</th>\n",
       "      <th>month_wom_October_w4</th>\n",
       "      <th>month_wom_October_w5</th>\n",
       "      <th>month_wom_September_w1</th>\n",
       "      <th>month_wom_September_w2</th>\n",
       "      <th>month_wom_September_w3</th>\n",
       "      <th>month_wom_September_w4</th>\n",
       "      <th>month_wom_September_w5</th>\n",
       "      <th>split</th>\n",
       "    </tr>\n",
       "  </thead>\n",
       "  <tbody>\n",
       "    <tr>\n",
       "      <th>3490</th>\n",
       "      <td>35.975752</td>\n",
       "      <td>36.358881</td>\n",
       "      <td>34.3283</td>\n",
       "      <td>35.726719</td>\n",
       "      <td>53228400.0</td>\n",
       "      <td>0.0</td>\n",
       "      <td>0.0</td>\n",
       "      <td>MSFT</td>\n",
       "      <td>2000</td>\n",
       "      <td>January</td>\n",
       "      <td>...</td>\n",
       "      <td>0</td>\n",
       "      <td>0</td>\n",
       "      <td>0</td>\n",
       "      <td>0</td>\n",
       "      <td>0</td>\n",
       "      <td>0</td>\n",
       "      <td>0</td>\n",
       "      <td>0</td>\n",
       "      <td>0</td>\n",
       "      <td>train</td>\n",
       "    </tr>\n",
       "  </tbody>\n",
       "</table>\n",
       "<p>1 rows × 323 columns</p>\n",
       "</div>"
      ],
      "text/plain": [
       "           Open       High      Low    Close_x      Volume  Dividends  \\\n",
       "3490  35.975752  36.358881  34.3283  35.726719  53228400.0        0.0   \n",
       "\n",
       "      Stock Splits Ticker  Year    Month  ... month_wom_October_w2  \\\n",
       "3490           0.0   MSFT  2000  January  ...                    0   \n",
       "\n",
       "     month_wom_October_w3  month_wom_October_w4  month_wom_October_w5  \\\n",
       "3490                    0                     0                     0   \n",
       "\n",
       "      month_wom_September_w1  month_wom_September_w2  month_wom_September_w3  \\\n",
       "3490                       0                       0                       0   \n",
       "\n",
       "      month_wom_September_w4  month_wom_September_w5  split  \n",
       "3490                       0                       0  train  \n",
       "\n",
       "[1 rows x 323 columns]"
      ]
     },
     "execution_count": 51,
     "metadata": {},
     "output_type": "execute_result"
    }
   ],
   "source": [
    "# check one record: it has abs. values, text, and numbers\n",
    "new_df.head(1)"
   ]
  },
  {
   "cell_type": "code",
   "execution_count": 52,
   "metadata": {
    "colab": {
     "base_uri": "https://localhost:8080/",
     "height": 175
    },
    "id": "eTUtraOvF6-v",
    "outputId": "0bea66d5-581f-4281-f977-d561f2b57005"
   },
   "outputs": [
    {
     "data": {
      "text/html": [
       "<div>\n",
       "<style scoped>\n",
       "    .dataframe tbody tr th:only-of-type {\n",
       "        vertical-align: middle;\n",
       "    }\n",
       "\n",
       "    .dataframe tbody tr th {\n",
       "        vertical-align: top;\n",
       "    }\n",
       "\n",
       "    .dataframe thead th {\n",
       "        text-align: right;\n",
       "    }\n",
       "</style>\n",
       "<table border=\"1\" class=\"dataframe\">\n",
       "  <thead>\n",
       "    <tr style=\"text-align: right;\">\n",
       "      <th></th>\n",
       "      <th>count</th>\n",
       "      <th>max</th>\n",
       "      <th>min</th>\n",
       "    </tr>\n",
       "    <tr>\n",
       "      <th>split</th>\n",
       "      <th></th>\n",
       "      <th></th>\n",
       "      <th></th>\n",
       "    </tr>\n",
       "  </thead>\n",
       "  <tbody>\n",
       "    <tr>\n",
       "      <th>test</th>\n",
       "      <td>31408</td>\n",
       "      <td>2025-06-13</td>\n",
       "      <td>2021-08-20</td>\n",
       "    </tr>\n",
       "    <tr>\n",
       "      <th>train</th>\n",
       "      <td>129730</td>\n",
       "      <td>2017-10-25</td>\n",
       "      <td>2000-01-03</td>\n",
       "    </tr>\n",
       "    <tr>\n",
       "      <th>validation</th>\n",
       "      <td>30657</td>\n",
       "      <td>2021-08-19</td>\n",
       "      <td>2017-10-26</td>\n",
       "    </tr>\n",
       "  </tbody>\n",
       "</table>\n",
       "</div>"
      ],
      "text/plain": [
       "             count        max        min\n",
       "split                                   \n",
       "test         31408 2025-06-13 2021-08-20\n",
       "train       129730 2017-10-25 2000-01-03\n",
       "validation   30657 2021-08-19 2017-10-26"
      ]
     },
     "execution_count": 52,
     "metadata": {},
     "output_type": "execute_result"
    }
   ],
   "source": [
    "# time split on train/validation/test: FIXED dates of split, approx. 70%, 15%, 15% split\n",
    "new_df.groupby(['split'])['Date'].agg({'min','max','count'})"
   ]
  },
  {
   "cell_type": "code",
   "execution_count": 53,
   "metadata": {
    "colab": {
     "base_uri": "https://localhost:8080/",
     "height": 175
    },
    "id": "MsZDJcH7dMMK",
    "outputId": "76798e32-66d5-4dd4-b70c-761354f16ead"
   },
   "outputs": [
    {
     "data": {
      "text/html": [
       "<div>\n",
       "<style scoped>\n",
       "    .dataframe tbody tr th:only-of-type {\n",
       "        vertical-align: middle;\n",
       "    }\n",
       "\n",
       "    .dataframe tbody tr th {\n",
       "        vertical-align: top;\n",
       "    }\n",
       "\n",
       "    .dataframe thead th {\n",
       "        text-align: right;\n",
       "    }\n",
       "</style>\n",
       "<table border=\"1\" class=\"dataframe\">\n",
       "  <thead>\n",
       "    <tr style=\"text-align: right;\">\n",
       "      <th></th>\n",
       "      <th>count</th>\n",
       "      <th>mean</th>\n",
       "      <th>std</th>\n",
       "      <th>min</th>\n",
       "      <th>25%</th>\n",
       "      <th>50%</th>\n",
       "      <th>75%</th>\n",
       "      <th>max</th>\n",
       "    </tr>\n",
       "    <tr>\n",
       "      <th>split</th>\n",
       "      <th></th>\n",
       "      <th></th>\n",
       "      <th></th>\n",
       "      <th></th>\n",
       "      <th></th>\n",
       "      <th></th>\n",
       "      <th></th>\n",
       "      <th></th>\n",
       "    </tr>\n",
       "  </thead>\n",
       "  <tbody>\n",
       "    <tr>\n",
       "      <th>test</th>\n",
       "      <td>30418.0</td>\n",
       "      <td>1.019899</td>\n",
       "      <td>0.102172</td>\n",
       "      <td>0.580332</td>\n",
       "      <td>0.955986</td>\n",
       "      <td>1.016057</td>\n",
       "      <td>1.077950</td>\n",
       "      <td>1.648934</td>\n",
       "    </tr>\n",
       "    <tr>\n",
       "      <th>train</th>\n",
       "      <td>129730.0</td>\n",
       "      <td>1.023864</td>\n",
       "      <td>0.123190</td>\n",
       "      <td>0.246131</td>\n",
       "      <td>0.960248</td>\n",
       "      <td>1.020585</td>\n",
       "      <td>1.083310</td>\n",
       "      <td>5.179689</td>\n",
       "    </tr>\n",
       "    <tr>\n",
       "      <th>validation</th>\n",
       "      <td>30657.0</td>\n",
       "      <td>1.029596</td>\n",
       "      <td>0.099908</td>\n",
       "      <td>0.461847</td>\n",
       "      <td>0.973991</td>\n",
       "      <td>1.030784</td>\n",
       "      <td>1.086687</td>\n",
       "      <td>1.783610</td>\n",
       "    </tr>\n",
       "  </tbody>\n",
       "</table>\n",
       "</div>"
      ],
      "text/plain": [
       "               count      mean       std       min       25%       50%  \\\n",
       "split                                                                    \n",
       "test         30418.0  1.019899  0.102172  0.580332  0.955986  1.016057   \n",
       "train       129730.0  1.023864  0.123190  0.246131  0.960248  1.020585   \n",
       "validation   30657.0  1.029596  0.099908  0.461847  0.973991  1.030784   \n",
       "\n",
       "                 75%       max  \n",
       "split                           \n",
       "test        1.077950  1.648934  \n",
       "train       1.083310  5.179689  \n",
       "validation  1.086687  1.783610  "
      ]
     },
     "execution_count": 53,
     "metadata": {},
     "output_type": "execute_result"
    }
   ],
   "source": [
    "# check for imbalances of growth for train/test/validation\n",
    "new_df.groupby(by='split')['growth_future_30d'].describe()"
   ]
  },
  {
   "cell_type": "code",
   "execution_count": 54,
   "metadata": {
    "colab": {
     "base_uri": "https://localhost:8080/",
     "height": 81
    },
    "id": "-p9stKADF8sv",
    "outputId": "9ac5ea64-1f9f-4610-85f4-40c1599bd91d"
   },
   "outputs": [
    {
     "data": {
      "text/html": [
       "<div>\n",
       "<style scoped>\n",
       "    .dataframe tbody tr th:only-of-type {\n",
       "        vertical-align: middle;\n",
       "    }\n",
       "\n",
       "    .dataframe tbody tr th {\n",
       "        vertical-align: top;\n",
       "    }\n",
       "\n",
       "    .dataframe thead th {\n",
       "        text-align: right;\n",
       "    }\n",
       "</style>\n",
       "<table border=\"1\" class=\"dataframe\">\n",
       "  <thead>\n",
       "    <tr style=\"text-align: right;\">\n",
       "      <th></th>\n",
       "      <th>growth_future_30d</th>\n",
       "      <th>is_positive_growth_30d_future</th>\n",
       "    </tr>\n",
       "  </thead>\n",
       "  <tbody>\n",
       "    <tr>\n",
       "      <th>3490</th>\n",
       "      <td>0.845576</td>\n",
       "      <td>0</td>\n",
       "    </tr>\n",
       "  </tbody>\n",
       "</table>\n",
       "</div>"
      ],
      "text/plain": [
       "      growth_future_30d  is_positive_growth_30d_future\n",
       "3490           0.845576                              0"
      ]
     },
     "execution_count": 54,
     "metadata": {},
     "output_type": "execute_result"
    }
   ],
   "source": [
    "# what do we try to predict\n",
    "new_df[TO_PREDICT].head(1)"
   ]
  },
  {
   "cell_type": "code",
   "execution_count": 55,
   "metadata": {
    "colab": {
     "base_uri": "https://localhost:8080/",
     "height": 130
    },
    "id": "zr3Oee9iF_Mv",
    "outputId": "1fd9ed94-aee8-47cf-ed91-2479a6703915"
   },
   "outputs": [
    {
     "data": {
      "text/html": [
       "<div>\n",
       "<style scoped>\n",
       "    .dataframe tbody tr th:only-of-type {\n",
       "        vertical-align: middle;\n",
       "    }\n",
       "\n",
       "    .dataframe tbody tr th {\n",
       "        vertical-align: top;\n",
       "    }\n",
       "\n",
       "    .dataframe thead th {\n",
       "        text-align: right;\n",
       "    }\n",
       "</style>\n",
       "<table border=\"1\" class=\"dataframe\">\n",
       "  <thead>\n",
       "    <tr style=\"text-align: right;\">\n",
       "      <th></th>\n",
       "      <th>growth_1d</th>\n",
       "      <th>growth_3d</th>\n",
       "      <th>growth_7d</th>\n",
       "      <th>growth_30d</th>\n",
       "      <th>growth_90d</th>\n",
       "      <th>growth_365d</th>\n",
       "      <th>growth_dax_1d</th>\n",
       "      <th>growth_dax_3d</th>\n",
       "      <th>growth_dax_7d</th>\n",
       "      <th>growth_dax_30d</th>\n",
       "      <th>...</th>\n",
       "      <th>month_wom_October_w1</th>\n",
       "      <th>month_wom_October_w2</th>\n",
       "      <th>month_wom_October_w3</th>\n",
       "      <th>month_wom_October_w4</th>\n",
       "      <th>month_wom_October_w5</th>\n",
       "      <th>month_wom_September_w1</th>\n",
       "      <th>month_wom_September_w2</th>\n",
       "      <th>month_wom_September_w3</th>\n",
       "      <th>month_wom_September_w4</th>\n",
       "      <th>month_wom_September_w5</th>\n",
       "    </tr>\n",
       "  </thead>\n",
       "  <tbody>\n",
       "    <tr>\n",
       "      <th>3490</th>\n",
       "      <td>0.998394</td>\n",
       "      <td>0.988341</td>\n",
       "      <td>0.991494</td>\n",
       "      <td>1.372333</td>\n",
       "      <td>1.22295</td>\n",
       "      <td>2.063054</td>\n",
       "      <td>0.970196</td>\n",
       "      <td>0.983855</td>\n",
       "      <td>1.051736</td>\n",
       "      <td>1.134572</td>\n",
       "      <td>...</td>\n",
       "      <td>0</td>\n",
       "      <td>0</td>\n",
       "      <td>0</td>\n",
       "      <td>0</td>\n",
       "      <td>0</td>\n",
       "      <td>0</td>\n",
       "      <td>0</td>\n",
       "      <td>0</td>\n",
       "      <td>0</td>\n",
       "      <td>0</td>\n",
       "    </tr>\n",
       "  </tbody>\n",
       "</table>\n",
       "<p>1 rows × 301 columns</p>\n",
       "</div>"
      ],
      "text/plain": [
       "      growth_1d  growth_3d  growth_7d  growth_30d  growth_90d  growth_365d  \\\n",
       "3490   0.998394   0.988341   0.991494    1.372333     1.22295     2.063054   \n",
       "\n",
       "      growth_dax_1d  growth_dax_3d  growth_dax_7d  growth_dax_30d  ...  \\\n",
       "3490       0.970196       0.983855       1.051736        1.134572  ...   \n",
       "\n",
       "      month_wom_October_w1  month_wom_October_w2  month_wom_October_w3  \\\n",
       "3490                     0                     0                     0   \n",
       "\n",
       "      month_wom_October_w4  month_wom_October_w5  month_wom_September_w1  \\\n",
       "3490                     0                     0                       0   \n",
       "\n",
       "      month_wom_September_w2  month_wom_September_w3  month_wom_September_w4  \\\n",
       "3490                       0                       0                       0   \n",
       "\n",
       "      month_wom_September_w5  \n",
       "3490                       0  \n",
       "\n",
       "[1 rows x 301 columns]"
      ]
     },
     "execution_count": 55,
     "metadata": {},
     "output_type": "execute_result"
    }
   ],
   "source": [
    "# to be used as features\n",
    "new_df[NUMERICAL+DUMMIES].head(1)"
   ]
  },
  {
   "cell_type": "markdown",
   "metadata": {
    "id": "HeApSqH2HBD7"
   },
   "source": [
    "## 1.1) Manual 'rule of thumb' predictions\n",
    "* (pred0) CCI>200 (binary, on technical indicator CCI)\n",
    "* (pred1) growth_30d>1\n",
    "* (pred2) (growth_30d>1) & (growth_snp500_30d>1)\n",
    "* (pred3) (DGS10 <= 4) & (DGS5 <= 1)\n",
    "* (pred4) (DGS10 > 4) & (FEDFUNDS <= 4.795)"
   ]
  },
  {
   "cell_type": "code",
   "execution_count": 56,
   "metadata": {
    "id": "RKmTEcdxGIRg"
   },
   "outputs": [],
   "source": [
    "# generate manual predictions\n",
    "# Let's label all prediction features with prefix \"pred\"\n",
    "new_df['pred0_manual_cci'] = (new_df.cci>200).astype(int)\n",
    "new_df['pred1_manual_prev_g1'] = (new_df.growth_30d>1).astype(int)\n",
    "new_df['pred2_manual_prev_g1_and_snp'] = ((new_df['growth_30d'] > 1) & (new_df['growth_snp500_30d'] > 1)).astype(int)"
   ]
  },
  {
   "cell_type": "code",
   "execution_count": 57,
   "metadata": {
    "id": "x4jXVrkn9bZF"
   },
   "outputs": [],
   "source": [
    "# new manual predictions from HA\n",
    "new_df['pred3_manual_dgs10_5'] = ((new_df['DGS10'] <= 4) & (new_df['DGS5'] <= 1)).astype(int)\n",
    "new_df['pred4_manual_dgs10_fedfunds'] = ((new_df['DGS10'] > 4) & (new_df['FEDFUNDS'] <= 4.795)).astype(int)"
   ]
  },
  {
   "cell_type": "code",
   "execution_count": 58,
   "metadata": {
    "colab": {
     "base_uri": "https://localhost:8080/",
     "height": 383
    },
    "id": "9zzr95JA9f8Y",
    "outputId": "6325c9ee-e5d7-4628-e6df-2c5f045448fa"
   },
   "outputs": [
    {
     "data": {
      "text/html": [
       "<div>\n",
       "<style scoped>\n",
       "    .dataframe tbody tr th:only-of-type {\n",
       "        vertical-align: middle;\n",
       "    }\n",
       "\n",
       "    .dataframe tbody tr th {\n",
       "        vertical-align: top;\n",
       "    }\n",
       "\n",
       "    .dataframe thead th {\n",
       "        text-align: right;\n",
       "    }\n",
       "</style>\n",
       "<table border=\"1\" class=\"dataframe\">\n",
       "  <thead>\n",
       "    <tr style=\"text-align: right;\">\n",
       "      <th></th>\n",
       "      <th>cci</th>\n",
       "      <th>growth_30d</th>\n",
       "      <th>growth_snp500_30d</th>\n",
       "      <th>pred0_manual_cci</th>\n",
       "      <th>pred1_manual_prev_g1</th>\n",
       "      <th>pred2_manual_prev_g1_and_snp</th>\n",
       "      <th>pred3_manual_dgs10_5</th>\n",
       "      <th>pred4_manual_dgs10_fedfunds</th>\n",
       "      <th>is_positive_growth_30d_future</th>\n",
       "    </tr>\n",
       "  </thead>\n",
       "  <tbody>\n",
       "    <tr>\n",
       "      <th>2342</th>\n",
       "      <td>-90.963513</td>\n",
       "      <td>0.994081</td>\n",
       "      <td>0.992753</td>\n",
       "      <td>0</td>\n",
       "      <td>0</td>\n",
       "      <td>0</td>\n",
       "      <td>0</td>\n",
       "      <td>1</td>\n",
       "      <td>0</td>\n",
       "    </tr>\n",
       "    <tr>\n",
       "      <th>239</th>\n",
       "      <td>-82.315315</td>\n",
       "      <td>0.836269</td>\n",
       "      <td>0.890528</td>\n",
       "      <td>0</td>\n",
       "      <td>0</td>\n",
       "      <td>0</td>\n",
       "      <td>0</td>\n",
       "      <td>1</td>\n",
       "      <td>1</td>\n",
       "    </tr>\n",
       "    <tr>\n",
       "      <th>3032</th>\n",
       "      <td>-98.427628</td>\n",
       "      <td>0.860375</td>\n",
       "      <td>1.051790</td>\n",
       "      <td>0</td>\n",
       "      <td>0</td>\n",
       "      <td>0</td>\n",
       "      <td>0</td>\n",
       "      <td>0</td>\n",
       "      <td>1</td>\n",
       "    </tr>\n",
       "    <tr>\n",
       "      <th>4359</th>\n",
       "      <td>-60.408872</td>\n",
       "      <td>0.960895</td>\n",
       "      <td>1.010520</td>\n",
       "      <td>0</td>\n",
       "      <td>0</td>\n",
       "      <td>0</td>\n",
       "      <td>1</td>\n",
       "      <td>0</td>\n",
       "      <td>0</td>\n",
       "    </tr>\n",
       "    <tr>\n",
       "      <th>3226</th>\n",
       "      <td>-200.192435</td>\n",
       "      <td>0.847218</td>\n",
       "      <td>0.999584</td>\n",
       "      <td>0</td>\n",
       "      <td>0</td>\n",
       "      <td>0</td>\n",
       "      <td>0</td>\n",
       "      <td>0</td>\n",
       "      <td>0</td>\n",
       "    </tr>\n",
       "    <tr>\n",
       "      <th>3973</th>\n",
       "      <td>-72.073969</td>\n",
       "      <td>1.021974</td>\n",
       "      <td>0.981862</td>\n",
       "      <td>0</td>\n",
       "      <td>1</td>\n",
       "      <td>0</td>\n",
       "      <td>0</td>\n",
       "      <td>0</td>\n",
       "      <td>0</td>\n",
       "    </tr>\n",
       "    <tr>\n",
       "      <th>8115</th>\n",
       "      <td>53.612913</td>\n",
       "      <td>0.854797</td>\n",
       "      <td>1.040317</td>\n",
       "      <td>0</td>\n",
       "      <td>0</td>\n",
       "      <td>0</td>\n",
       "      <td>1</td>\n",
       "      <td>0</td>\n",
       "      <td>0</td>\n",
       "    </tr>\n",
       "    <tr>\n",
       "      <th>2254</th>\n",
       "      <td>-129.117416</td>\n",
       "      <td>0.855510</td>\n",
       "      <td>1.021129</td>\n",
       "      <td>0</td>\n",
       "      <td>0</td>\n",
       "      <td>0</td>\n",
       "      <td>0</td>\n",
       "      <td>1</td>\n",
       "      <td>0</td>\n",
       "    </tr>\n",
       "    <tr>\n",
       "      <th>3187</th>\n",
       "      <td>110.183454</td>\n",
       "      <td>1.010921</td>\n",
       "      <td>0.986057</td>\n",
       "      <td>0</td>\n",
       "      <td>1</td>\n",
       "      <td>0</td>\n",
       "      <td>0</td>\n",
       "      <td>0</td>\n",
       "      <td>1</td>\n",
       "    </tr>\n",
       "    <tr>\n",
       "      <th>9133</th>\n",
       "      <td>59.952054</td>\n",
       "      <td>0.972979</td>\n",
       "      <td>0.968474</td>\n",
       "      <td>0</td>\n",
       "      <td>0</td>\n",
       "      <td>0</td>\n",
       "      <td>0</td>\n",
       "      <td>0</td>\n",
       "      <td>0</td>\n",
       "    </tr>\n",
       "  </tbody>\n",
       "</table>\n",
       "</div>"
      ],
      "text/plain": [
       "             cci  growth_30d  growth_snp500_30d  pred0_manual_cci  \\\n",
       "2342  -90.963513    0.994081           0.992753                 0   \n",
       "239   -82.315315    0.836269           0.890528                 0   \n",
       "3032  -98.427628    0.860375           1.051790                 0   \n",
       "4359  -60.408872    0.960895           1.010520                 0   \n",
       "3226 -200.192435    0.847218           0.999584                 0   \n",
       "3973  -72.073969    1.021974           0.981862                 0   \n",
       "8115   53.612913    0.854797           1.040317                 0   \n",
       "2254 -129.117416    0.855510           1.021129                 0   \n",
       "3187  110.183454    1.010921           0.986057                 0   \n",
       "9133   59.952054    0.972979           0.968474                 0   \n",
       "\n",
       "      pred1_manual_prev_g1  pred2_manual_prev_g1_and_snp  \\\n",
       "2342                     0                             0   \n",
       "239                      0                             0   \n",
       "3032                     0                             0   \n",
       "4359                     0                             0   \n",
       "3226                     0                             0   \n",
       "3973                     1                             0   \n",
       "8115                     0                             0   \n",
       "2254                     0                             0   \n",
       "3187                     1                             0   \n",
       "9133                     0                             0   \n",
       "\n",
       "      pred3_manual_dgs10_5  pred4_manual_dgs10_fedfunds  \\\n",
       "2342                     0                            1   \n",
       "239                      0                            1   \n",
       "3032                     0                            0   \n",
       "4359                     1                            0   \n",
       "3226                     0                            0   \n",
       "3973                     0                            0   \n",
       "8115                     1                            0   \n",
       "2254                     0                            1   \n",
       "3187                     0                            0   \n",
       "9133                     0                            0   \n",
       "\n",
       "      is_positive_growth_30d_future  \n",
       "2342                              0  \n",
       "239                               1  \n",
       "3032                              1  \n",
       "4359                              0  \n",
       "3226                              0  \n",
       "3973                              0  \n",
       "8115                              0  \n",
       "2254                              0  \n",
       "3187                              1  \n",
       "9133                              0  "
      ]
     },
     "execution_count": 58,
     "metadata": {},
     "output_type": "execute_result"
    }
   ],
   "source": [
    "# sample of 10 observations and predictions\n",
    "new_df[['cci','growth_30d','growth_snp500_30d','pred0_manual_cci','pred1_manual_prev_g1','pred2_manual_prev_g1_and_snp','pred3_manual_dgs10_5','pred4_manual_dgs10_fedfunds','is_positive_growth_30d_future']].sample(10)"
   ]
  },
  {
   "cell_type": "code",
   "execution_count": 59,
   "metadata": {
    "colab": {
     "base_uri": "https://localhost:8080/"
    },
    "id": "MhxLXAfOfE6g",
    "outputId": "0def47f5-e98d-4038-fe5a-69b2e0a3bd08"
   },
   "outputs": [
    {
     "data": {
      "text/plain": [
       "['pred0_manual_cci',\n",
       " 'pred1_manual_prev_g1',\n",
       " 'pred2_manual_prev_g1_and_snp',\n",
       " 'pred3_manual_dgs10_5',\n",
       " 'pred4_manual_dgs10_fedfunds']"
      ]
     },
     "execution_count": 59,
     "metadata": {},
     "output_type": "execute_result"
    }
   ],
   "source": [
    "# List of current predictions\n",
    "PREDICTIONS = [k for k in new_df.keys() if k.startswith('pred')]\n",
    "PREDICTIONS"
   ]
  },
  {
   "cell_type": "code",
   "execution_count": 60,
   "metadata": {
    "id": "mIeYR9Re2wDP"
   },
   "outputs": [],
   "source": [
    "# Function to find all predictions (starting from 'pred'), generate is_correct (correctness of each prediction)\n",
    "# and precision on TEST dataset (assuming there is df[\"split\"] column with values 'train','validation','test'\n",
    "\n",
    "# returns 2 lists of features: PREDICTIONS and IS_CORRECT\n",
    "\n",
    "def get_predictions_correctness(df:pd.DataFrame, to_predict:str):\n",
    "  PREDICTIONS = [k for k in df.keys() if k.startswith('pred')]\n",
    "  print(f'Prediction columns founded: {PREDICTIONS}')\n",
    "\n",
    "  # add columns is_correct_\n",
    "  for pred in PREDICTIONS:\n",
    "    part1 = pred.split('_')[0] # first prefix before '_'\n",
    "    df[f'is_correct_{part1}'] =  (new_df[pred] == new_df[to_predict]).astype(int)\n",
    "\n",
    "  # IS_CORRECT features set\n",
    "  IS_CORRECT =  [k for k in df.keys() if k.startswith('is_correct_')]\n",
    "  print(f'Created columns is_correct: {IS_CORRECT}')\n",
    "\n",
    "  print('Precision on TEST set for each prediction:')\n",
    "  # define \"Precision\" for ALL predictions on a Test dataset (~4 last years of trading)\n",
    "  for i,column in enumerate(IS_CORRECT):\n",
    "    prediction_column = PREDICTIONS[i]\n",
    "    is_correct_column = column\n",
    "    filter = (new_df.split=='test') & (new_df[prediction_column]==1)\n",
    "    print(f'Prediction column:{prediction_column} , is_correct_column: {is_correct_column}')\n",
    "    print(new_df[filter][is_correct_column].value_counts())\n",
    "    print(new_df[filter][is_correct_column].value_counts()/len(new_df[filter]))\n",
    "    print('---------')\n",
    "\n",
    "  return PREDICTIONS, IS_CORRECT"
   ]
  },
  {
   "cell_type": "code",
   "execution_count": 61,
   "metadata": {
    "colab": {
     "base_uri": "https://localhost:8080/"
    },
    "id": "JRfIBAvp3V54",
    "outputId": "ceafca3f-9006-4125-9f4f-666aa2550600"
   },
   "outputs": [
    {
     "name": "stdout",
     "output_type": "stream",
     "text": [
      "Prediction columns founded: ['pred0_manual_cci', 'pred1_manual_prev_g1', 'pred2_manual_prev_g1_and_snp', 'pred3_manual_dgs10_5', 'pred4_manual_dgs10_fedfunds']\n",
      "Created columns is_correct: ['is_correct_pred0', 'is_correct_pred1', 'is_correct_pred2', 'is_correct_pred3', 'is_correct_pred4']\n",
      "Precision on TEST set for each prediction:\n",
      "Prediction column:pred0_manual_cci , is_correct_column: is_correct_pred0\n",
      "is_correct_pred0\n",
      "1    443\n",
      "0    351\n",
      "Name: count, dtype: int64\n",
      "is_correct_pred0\n",
      "1    0.557935\n",
      "0    0.442065\n",
      "Name: count, dtype: float64\n",
      "---------\n",
      "Prediction column:pred1_manual_prev_g1 , is_correct_column: is_correct_pred1\n",
      "is_correct_pred1\n",
      "1    9748\n",
      "0    8243\n",
      "Name: count, dtype: int64\n",
      "is_correct_pred1\n",
      "1    0.541826\n",
      "0    0.458174\n",
      "Name: count, dtype: float64\n",
      "---------\n",
      "Prediction column:pred2_manual_prev_g1_and_snp , is_correct_column: is_correct_pred2\n",
      "is_correct_pred2\n",
      "1    6984\n",
      "0    6383\n",
      "Name: count, dtype: int64\n",
      "is_correct_pred2\n",
      "1    0.522481\n",
      "0    0.477519\n",
      "Name: count, dtype: float64\n",
      "---------\n",
      "Prediction column:pred3_manual_dgs10_5 , is_correct_column: is_correct_pred3\n",
      "is_correct_pred3\n",
      "1    578\n",
      "0    419\n",
      "Name: count, dtype: int64\n",
      "is_correct_pred3\n",
      "1    0.579739\n",
      "0    0.420261\n",
      "Name: count, dtype: float64\n",
      "---------\n",
      "Prediction column:pred4_manual_dgs10_fedfunds , is_correct_column: is_correct_pred4\n",
      "is_correct_pred4\n",
      "0    3020\n",
      "1    2640\n",
      "Name: count, dtype: int64\n",
      "is_correct_pred4\n",
      "0    0.533569\n",
      "1    0.466431\n",
      "Name: count, dtype: float64\n",
      "---------\n"
     ]
    }
   ],
   "source": [
    "PREDICTIONS, IS_CORRECT = get_predictions_correctness(new_df, to_predict='is_positive_growth_30d_future')"
   ]
  },
  {
   "cell_type": "code",
   "execution_count": 62,
   "metadata": {
    "colab": {
     "base_uri": "https://localhost:8080/",
     "height": 383
    },
    "id": "jxcn4Q-m9yry",
    "outputId": "52760f88-6445-403e-cb98-02575d58aeba"
   },
   "outputs": [
    {
     "data": {
      "text/html": [
       "<div>\n",
       "<style scoped>\n",
       "    .dataframe tbody tr th:only-of-type {\n",
       "        vertical-align: middle;\n",
       "    }\n",
       "\n",
       "    .dataframe tbody tr th {\n",
       "        vertical-align: top;\n",
       "    }\n",
       "\n",
       "    .dataframe thead th {\n",
       "        text-align: right;\n",
       "    }\n",
       "</style>\n",
       "<table border=\"1\" class=\"dataframe\">\n",
       "  <thead>\n",
       "    <tr style=\"text-align: right;\">\n",
       "      <th></th>\n",
       "      <th>pred0_manual_cci</th>\n",
       "      <th>pred1_manual_prev_g1</th>\n",
       "      <th>pred2_manual_prev_g1_and_snp</th>\n",
       "      <th>pred3_manual_dgs10_5</th>\n",
       "      <th>pred4_manual_dgs10_fedfunds</th>\n",
       "      <th>is_correct_pred0</th>\n",
       "      <th>is_correct_pred1</th>\n",
       "      <th>is_correct_pred2</th>\n",
       "      <th>is_correct_pred3</th>\n",
       "      <th>is_correct_pred4</th>\n",
       "      <th>is_positive_growth_30d_future</th>\n",
       "    </tr>\n",
       "  </thead>\n",
       "  <tbody>\n",
       "    <tr>\n",
       "      <th>4496</th>\n",
       "      <td>0</td>\n",
       "      <td>0</td>\n",
       "      <td>0</td>\n",
       "      <td>0</td>\n",
       "      <td>0</td>\n",
       "      <td>1</td>\n",
       "      <td>1</td>\n",
       "      <td>1</td>\n",
       "      <td>1</td>\n",
       "      <td>1</td>\n",
       "      <td>0</td>\n",
       "    </tr>\n",
       "    <tr>\n",
       "      <th>9179</th>\n",
       "      <td>1</td>\n",
       "      <td>1</td>\n",
       "      <td>1</td>\n",
       "      <td>0</td>\n",
       "      <td>0</td>\n",
       "      <td>1</td>\n",
       "      <td>1</td>\n",
       "      <td>1</td>\n",
       "      <td>0</td>\n",
       "      <td>0</td>\n",
       "      <td>1</td>\n",
       "    </tr>\n",
       "    <tr>\n",
       "      <th>244</th>\n",
       "      <td>0</td>\n",
       "      <td>0</td>\n",
       "      <td>0</td>\n",
       "      <td>0</td>\n",
       "      <td>1</td>\n",
       "      <td>0</td>\n",
       "      <td>0</td>\n",
       "      <td>0</td>\n",
       "      <td>0</td>\n",
       "      <td>1</td>\n",
       "      <td>1</td>\n",
       "    </tr>\n",
       "    <tr>\n",
       "      <th>523</th>\n",
       "      <td>0</td>\n",
       "      <td>0</td>\n",
       "      <td>0</td>\n",
       "      <td>0</td>\n",
       "      <td>0</td>\n",
       "      <td>0</td>\n",
       "      <td>0</td>\n",
       "      <td>0</td>\n",
       "      <td>0</td>\n",
       "      <td>0</td>\n",
       "      <td>1</td>\n",
       "    </tr>\n",
       "    <tr>\n",
       "      <th>3061</th>\n",
       "      <td>0</td>\n",
       "      <td>1</td>\n",
       "      <td>0</td>\n",
       "      <td>0</td>\n",
       "      <td>1</td>\n",
       "      <td>0</td>\n",
       "      <td>1</td>\n",
       "      <td>0</td>\n",
       "      <td>0</td>\n",
       "      <td>1</td>\n",
       "      <td>1</td>\n",
       "    </tr>\n",
       "    <tr>\n",
       "      <th>6212</th>\n",
       "      <td>0</td>\n",
       "      <td>0</td>\n",
       "      <td>0</td>\n",
       "      <td>1</td>\n",
       "      <td>0</td>\n",
       "      <td>1</td>\n",
       "      <td>1</td>\n",
       "      <td>1</td>\n",
       "      <td>0</td>\n",
       "      <td>1</td>\n",
       "      <td>0</td>\n",
       "    </tr>\n",
       "    <tr>\n",
       "      <th>3925</th>\n",
       "      <td>0</td>\n",
       "      <td>1</td>\n",
       "      <td>0</td>\n",
       "      <td>0</td>\n",
       "      <td>0</td>\n",
       "      <td>0</td>\n",
       "      <td>1</td>\n",
       "      <td>0</td>\n",
       "      <td>0</td>\n",
       "      <td>0</td>\n",
       "      <td>1</td>\n",
       "    </tr>\n",
       "    <tr>\n",
       "      <th>6190</th>\n",
       "      <td>0</td>\n",
       "      <td>1</td>\n",
       "      <td>1</td>\n",
       "      <td>0</td>\n",
       "      <td>0</td>\n",
       "      <td>0</td>\n",
       "      <td>1</td>\n",
       "      <td>1</td>\n",
       "      <td>0</td>\n",
       "      <td>0</td>\n",
       "      <td>1</td>\n",
       "    </tr>\n",
       "    <tr>\n",
       "      <th>1895</th>\n",
       "      <td>0</td>\n",
       "      <td>1</td>\n",
       "      <td>1</td>\n",
       "      <td>0</td>\n",
       "      <td>0</td>\n",
       "      <td>0</td>\n",
       "      <td>1</td>\n",
       "      <td>1</td>\n",
       "      <td>0</td>\n",
       "      <td>0</td>\n",
       "      <td>1</td>\n",
       "    </tr>\n",
       "    <tr>\n",
       "      <th>2263</th>\n",
       "      <td>0</td>\n",
       "      <td>0</td>\n",
       "      <td>0</td>\n",
       "      <td>0</td>\n",
       "      <td>0</td>\n",
       "      <td>1</td>\n",
       "      <td>1</td>\n",
       "      <td>1</td>\n",
       "      <td>1</td>\n",
       "      <td>1</td>\n",
       "      <td>0</td>\n",
       "    </tr>\n",
       "  </tbody>\n",
       "</table>\n",
       "</div>"
      ],
      "text/plain": [
       "      pred0_manual_cci  pred1_manual_prev_g1  pred2_manual_prev_g1_and_snp  \\\n",
       "4496                 0                     0                             0   \n",
       "9179                 1                     1                             1   \n",
       "244                  0                     0                             0   \n",
       "523                  0                     0                             0   \n",
       "3061                 0                     1                             0   \n",
       "6212                 0                     0                             0   \n",
       "3925                 0                     1                             0   \n",
       "6190                 0                     1                             1   \n",
       "1895                 0                     1                             1   \n",
       "2263                 0                     0                             0   \n",
       "\n",
       "      pred3_manual_dgs10_5  pred4_manual_dgs10_fedfunds  is_correct_pred0  \\\n",
       "4496                     0                            0                 1   \n",
       "9179                     0                            0                 1   \n",
       "244                      0                            1                 0   \n",
       "523                      0                            0                 0   \n",
       "3061                     0                            1                 0   \n",
       "6212                     1                            0                 1   \n",
       "3925                     0                            0                 0   \n",
       "6190                     0                            0                 0   \n",
       "1895                     0                            0                 0   \n",
       "2263                     0                            0                 1   \n",
       "\n",
       "      is_correct_pred1  is_correct_pred2  is_correct_pred3  is_correct_pred4  \\\n",
       "4496                 1                 1                 1                 1   \n",
       "9179                 1                 1                 0                 0   \n",
       "244                  0                 0                 0                 1   \n",
       "523                  0                 0                 0                 0   \n",
       "3061                 1                 0                 0                 1   \n",
       "6212                 1                 1                 0                 1   \n",
       "3925                 1                 0                 0                 0   \n",
       "6190                 1                 1                 0                 0   \n",
       "1895                 1                 1                 0                 0   \n",
       "2263                 1                 1                 1                 1   \n",
       "\n",
       "      is_positive_growth_30d_future  \n",
       "4496                              0  \n",
       "9179                              1  \n",
       "244                               1  \n",
       "523                               1  \n",
       "3061                              1  \n",
       "6212                              0  \n",
       "3925                              1  \n",
       "6190                              1  \n",
       "1895                              1  \n",
       "2263                              0  "
      ]
     },
     "execution_count": 62,
     "metadata": {},
     "output_type": "execute_result"
    }
   ],
   "source": [
    "# sample of 10 predictions vs. is_correct vs. is_positive_growth_30d_future (what we're trying to predict)\n",
    "new_df[PREDICTIONS+IS_CORRECT+['is_positive_growth_30d_future']].sample(10)"
   ]
  },
  {
   "cell_type": "code",
   "execution_count": 63,
   "metadata": {
    "colab": {
     "base_uri": "https://localhost:8080/"
    },
    "id": "Ovb0puBh9z_A",
    "outputId": "eaf8532b-56e2-4277-e6f6-79cdbff68df7"
   },
   "outputs": [
    {
     "data": {
      "text/plain": [
       "31408"
      ]
     },
     "execution_count": 63,
     "metadata": {},
     "output_type": "execute_result"
    }
   ],
   "source": [
    "len(new_df[new_df.split=='test'])"
   ]
  },
  {
   "cell_type": "code",
   "execution_count": 64,
   "metadata": {
    "id": "Pyr-njFBF1XB"
   },
   "outputs": [],
   "source": [
    "# ANSWER Q2: best is pred3_manual_dgs10_5 with precision = 0.580 (rounded)"
   ]
  },
  {
   "cell_type": "code",
   "execution_count": 65,
   "metadata": {
    "colab": {
     "base_uri": "https://localhost:8080/",
     "height": 461
    },
    "id": "N64i8Zzw93Ux",
    "outputId": "55a822f2-f586-46eb-dcf0-5ee5abc49d16"
   },
   "outputs": [
    {
     "data": {
      "text/html": [
       "<div>\n",
       "<style scoped>\n",
       "    .dataframe tbody tr th:only-of-type {\n",
       "        vertical-align: middle;\n",
       "    }\n",
       "\n",
       "    .dataframe tbody tr th {\n",
       "        vertical-align: top;\n",
       "    }\n",
       "\n",
       "    .dataframe thead th {\n",
       "        text-align: right;\n",
       "    }\n",
       "</style>\n",
       "<table border=\"1\" class=\"dataframe\">\n",
       "  <thead>\n",
       "    <tr style=\"text-align: right;\">\n",
       "      <th></th>\n",
       "      <th>Open</th>\n",
       "      <th>High</th>\n",
       "      <th>Low</th>\n",
       "      <th>Close_x</th>\n",
       "      <th>Volume</th>\n",
       "      <th>Dividends</th>\n",
       "      <th>Stock Splits</th>\n",
       "      <th>Ticker</th>\n",
       "      <th>Year</th>\n",
       "      <th>Month</th>\n",
       "      <th>...</th>\n",
       "      <th>pred0_manual_cci</th>\n",
       "      <th>pred1_manual_prev_g1</th>\n",
       "      <th>pred2_manual_prev_g1_and_snp</th>\n",
       "      <th>pred3_manual_dgs10_5</th>\n",
       "      <th>pred4_manual_dgs10_fedfunds</th>\n",
       "      <th>is_correct_pred0</th>\n",
       "      <th>is_correct_pred1</th>\n",
       "      <th>is_correct_pred2</th>\n",
       "      <th>is_correct_pred3</th>\n",
       "      <th>is_correct_pred4</th>\n",
       "    </tr>\n",
       "  </thead>\n",
       "  <tbody>\n",
       "    <tr>\n",
       "      <th>3682</th>\n",
       "      <td>17.010899</td>\n",
       "      <td>17.547278</td>\n",
       "      <td>16.934273</td>\n",
       "      <td>16.972586</td>\n",
       "      <td>81099400.0</td>\n",
       "      <td>0.0</td>\n",
       "      <td>0.0</td>\n",
       "      <td>MSFT</td>\n",
       "      <td>2000</td>\n",
       "      <td>October</td>\n",
       "      <td>...</td>\n",
       "      <td>0</td>\n",
       "      <td>0</td>\n",
       "      <td>0</td>\n",
       "      <td>0</td>\n",
       "      <td>0</td>\n",
       "      <td>0</td>\n",
       "      <td>0</td>\n",
       "      <td>0</td>\n",
       "      <td>0</td>\n",
       "      <td>0</td>\n",
       "    </tr>\n",
       "    <tr>\n",
       "      <th>3683</th>\n",
       "      <td>17.106682</td>\n",
       "      <td>17.394028</td>\n",
       "      <td>16.781023</td>\n",
       "      <td>17.030056</td>\n",
       "      <td>61794000.0</td>\n",
       "      <td>0.0</td>\n",
       "      <td>0.0</td>\n",
       "      <td>MSFT</td>\n",
       "      <td>2000</td>\n",
       "      <td>October</td>\n",
       "      <td>...</td>\n",
       "      <td>0</td>\n",
       "      <td>0</td>\n",
       "      <td>0</td>\n",
       "      <td>0</td>\n",
       "      <td>0</td>\n",
       "      <td>0</td>\n",
       "      <td>0</td>\n",
       "      <td>0</td>\n",
       "      <td>0</td>\n",
       "      <td>0</td>\n",
       "    </tr>\n",
       "    <tr>\n",
       "      <th>3684</th>\n",
       "      <td>17.049210</td>\n",
       "      <td>17.087522</td>\n",
       "      <td>16.244640</td>\n",
       "      <td>16.608612</td>\n",
       "      <td>58323600.0</td>\n",
       "      <td>0.0</td>\n",
       "      <td>0.0</td>\n",
       "      <td>MSFT</td>\n",
       "      <td>2000</td>\n",
       "      <td>October</td>\n",
       "      <td>...</td>\n",
       "      <td>0</td>\n",
       "      <td>0</td>\n",
       "      <td>0</td>\n",
       "      <td>0</td>\n",
       "      <td>0</td>\n",
       "      <td>0</td>\n",
       "      <td>0</td>\n",
       "      <td>0</td>\n",
       "      <td>0</td>\n",
       "      <td>0</td>\n",
       "    </tr>\n",
       "    <tr>\n",
       "      <th>3689</th>\n",
       "      <td>16.397884</td>\n",
       "      <td>16.493666</td>\n",
       "      <td>15.191030</td>\n",
       "      <td>15.440063</td>\n",
       "      <td>119759000.0</td>\n",
       "      <td>0.0</td>\n",
       "      <td>0.0</td>\n",
       "      <td>MSFT</td>\n",
       "      <td>2000</td>\n",
       "      <td>October</td>\n",
       "      <td>...</td>\n",
       "      <td>0</td>\n",
       "      <td>0</td>\n",
       "      <td>0</td>\n",
       "      <td>0</td>\n",
       "      <td>0</td>\n",
       "      <td>0</td>\n",
       "      <td>0</td>\n",
       "      <td>0</td>\n",
       "      <td>0</td>\n",
       "      <td>0</td>\n",
       "    </tr>\n",
       "    <tr>\n",
       "      <th>3690</th>\n",
       "      <td>15.899824</td>\n",
       "      <td>16.072232</td>\n",
       "      <td>15.401757</td>\n",
       "      <td>15.459227</td>\n",
       "      <td>81276600.0</td>\n",
       "      <td>0.0</td>\n",
       "      <td>0.0</td>\n",
       "      <td>MSFT</td>\n",
       "      <td>2000</td>\n",
       "      <td>October</td>\n",
       "      <td>...</td>\n",
       "      <td>0</td>\n",
       "      <td>0</td>\n",
       "      <td>0</td>\n",
       "      <td>0</td>\n",
       "      <td>0</td>\n",
       "      <td>0</td>\n",
       "      <td>0</td>\n",
       "      <td>0</td>\n",
       "      <td>0</td>\n",
       "      <td>0</td>\n",
       "    </tr>\n",
       "    <tr>\n",
       "      <th>...</th>\n",
       "      <td>...</td>\n",
       "      <td>...</td>\n",
       "      <td>...</td>\n",
       "      <td>...</td>\n",
       "      <td>...</td>\n",
       "      <td>...</td>\n",
       "      <td>...</td>\n",
       "      <td>...</td>\n",
       "      <td>...</td>\n",
       "      <td>...</td>\n",
       "      <td>...</td>\n",
       "      <td>...</td>\n",
       "      <td>...</td>\n",
       "      <td>...</td>\n",
       "      <td>...</td>\n",
       "      <td>...</td>\n",
       "      <td>...</td>\n",
       "      <td>...</td>\n",
       "      <td>...</td>\n",
       "      <td>...</td>\n",
       "      <td>...</td>\n",
       "    </tr>\n",
       "    <tr>\n",
       "      <th>1690</th>\n",
       "      <td>115.265769</td>\n",
       "      <td>115.265769</td>\n",
       "      <td>112.248964</td>\n",
       "      <td>112.965836</td>\n",
       "      <td>1009151.0</td>\n",
       "      <td>0.0</td>\n",
       "      <td>0.0</td>\n",
       "      <td>HINDUNILVR.NS</td>\n",
       "      <td>2002</td>\n",
       "      <td>June</td>\n",
       "      <td>...</td>\n",
       "      <td>0</td>\n",
       "      <td>0</td>\n",
       "      <td>0</td>\n",
       "      <td>0</td>\n",
       "      <td>1</td>\n",
       "      <td>1</td>\n",
       "      <td>1</td>\n",
       "      <td>1</td>\n",
       "      <td>1</td>\n",
       "      <td>0</td>\n",
       "    </tr>\n",
       "    <tr>\n",
       "      <th>1691</th>\n",
       "      <td>113.503511</td>\n",
       "      <td>115.773583</td>\n",
       "      <td>113.115213</td>\n",
       "      <td>113.981422</td>\n",
       "      <td>1117609.0</td>\n",
       "      <td>0.0</td>\n",
       "      <td>0.0</td>\n",
       "      <td>HINDUNILVR.NS</td>\n",
       "      <td>2002</td>\n",
       "      <td>June</td>\n",
       "      <td>...</td>\n",
       "      <td>0</td>\n",
       "      <td>0</td>\n",
       "      <td>0</td>\n",
       "      <td>0</td>\n",
       "      <td>1</td>\n",
       "      <td>1</td>\n",
       "      <td>1</td>\n",
       "      <td>1</td>\n",
       "      <td>1</td>\n",
       "      <td>0</td>\n",
       "    </tr>\n",
       "    <tr>\n",
       "      <th>1692</th>\n",
       "      <td>118.879979</td>\n",
       "      <td>118.879979</td>\n",
       "      <td>113.951538</td>\n",
       "      <td>114.847618</td>\n",
       "      <td>703080.0</td>\n",
       "      <td>0.0</td>\n",
       "      <td>0.0</td>\n",
       "      <td>HINDUNILVR.NS</td>\n",
       "      <td>2002</td>\n",
       "      <td>June</td>\n",
       "      <td>...</td>\n",
       "      <td>0</td>\n",
       "      <td>0</td>\n",
       "      <td>0</td>\n",
       "      <td>0</td>\n",
       "      <td>1</td>\n",
       "      <td>1</td>\n",
       "      <td>1</td>\n",
       "      <td>1</td>\n",
       "      <td>1</td>\n",
       "      <td>0</td>\n",
       "    </tr>\n",
       "    <tr>\n",
       "      <th>1693</th>\n",
       "      <td>115.893030</td>\n",
       "      <td>116.191724</td>\n",
       "      <td>113.145047</td>\n",
       "      <td>113.443741</td>\n",
       "      <td>1403644.0</td>\n",
       "      <td>0.0</td>\n",
       "      <td>0.0</td>\n",
       "      <td>HINDUNILVR.NS</td>\n",
       "      <td>2002</td>\n",
       "      <td>June</td>\n",
       "      <td>...</td>\n",
       "      <td>0</td>\n",
       "      <td>0</td>\n",
       "      <td>0</td>\n",
       "      <td>0</td>\n",
       "      <td>1</td>\n",
       "      <td>1</td>\n",
       "      <td>1</td>\n",
       "      <td>1</td>\n",
       "      <td>1</td>\n",
       "      <td>0</td>\n",
       "    </tr>\n",
       "    <tr>\n",
       "      <th>1694</th>\n",
       "      <td>125.451253</td>\n",
       "      <td>125.451253</td>\n",
       "      <td>113.981426</td>\n",
       "      <td>115.325546</td>\n",
       "      <td>503141.0</td>\n",
       "      <td>0.0</td>\n",
       "      <td>0.0</td>\n",
       "      <td>HINDUNILVR.NS</td>\n",
       "      <td>2002</td>\n",
       "      <td>June</td>\n",
       "      <td>...</td>\n",
       "      <td>0</td>\n",
       "      <td>0</td>\n",
       "      <td>0</td>\n",
       "      <td>0</td>\n",
       "      <td>1</td>\n",
       "      <td>1</td>\n",
       "      <td>1</td>\n",
       "      <td>1</td>\n",
       "      <td>1</td>\n",
       "      <td>0</td>\n",
       "    </tr>\n",
       "  </tbody>\n",
       "</table>\n",
       "<p>5491 rows × 333 columns</p>\n",
       "</div>"
      ],
      "text/plain": [
       "            Open        High         Low     Close_x       Volume  Dividends  \\\n",
       "3682   17.010899   17.547278   16.934273   16.972586   81099400.0        0.0   \n",
       "3683   17.106682   17.394028   16.781023   17.030056   61794000.0        0.0   \n",
       "3684   17.049210   17.087522   16.244640   16.608612   58323600.0        0.0   \n",
       "3689   16.397884   16.493666   15.191030   15.440063  119759000.0        0.0   \n",
       "3690   15.899824   16.072232   15.401757   15.459227   81276600.0        0.0   \n",
       "...          ...         ...         ...         ...          ...        ...   \n",
       "1690  115.265769  115.265769  112.248964  112.965836    1009151.0        0.0   \n",
       "1691  113.503511  115.773583  113.115213  113.981422    1117609.0        0.0   \n",
       "1692  118.879979  118.879979  113.951538  114.847618     703080.0        0.0   \n",
       "1693  115.893030  116.191724  113.145047  113.443741    1403644.0        0.0   \n",
       "1694  125.451253  125.451253  113.981426  115.325546     503141.0        0.0   \n",
       "\n",
       "      Stock Splits         Ticker  Year    Month  ... pred0_manual_cci  \\\n",
       "3682           0.0           MSFT  2000  October  ...                0   \n",
       "3683           0.0           MSFT  2000  October  ...                0   \n",
       "3684           0.0           MSFT  2000  October  ...                0   \n",
       "3689           0.0           MSFT  2000  October  ...                0   \n",
       "3690           0.0           MSFT  2000  October  ...                0   \n",
       "...            ...            ...   ...      ...  ...              ...   \n",
       "1690           0.0  HINDUNILVR.NS  2002     June  ...                0   \n",
       "1691           0.0  HINDUNILVR.NS  2002     June  ...                0   \n",
       "1692           0.0  HINDUNILVR.NS  2002     June  ...                0   \n",
       "1693           0.0  HINDUNILVR.NS  2002     June  ...                0   \n",
       "1694           0.0  HINDUNILVR.NS  2002     June  ...                0   \n",
       "\n",
       "     pred1_manual_prev_g1  pred2_manual_prev_g1_and_snp  pred3_manual_dgs10_5  \\\n",
       "3682                    0                             0                     0   \n",
       "3683                    0                             0                     0   \n",
       "3684                    0                             0                     0   \n",
       "3689                    0                             0                     0   \n",
       "3690                    0                             0                     0   \n",
       "...                   ...                           ...                   ...   \n",
       "1690                    0                             0                     0   \n",
       "1691                    0                             0                     0   \n",
       "1692                    0                             0                     0   \n",
       "1693                    0                             0                     0   \n",
       "1694                    0                             0                     0   \n",
       "\n",
       "      pred4_manual_dgs10_fedfunds  is_correct_pred0  is_correct_pred1  \\\n",
       "3682                            0                 0                 0   \n",
       "3683                            0                 0                 0   \n",
       "3684                            0                 0                 0   \n",
       "3689                            0                 0                 0   \n",
       "3690                            0                 0                 0   \n",
       "...                           ...               ...               ...   \n",
       "1690                            1                 1                 1   \n",
       "1691                            1                 1                 1   \n",
       "1692                            1                 1                 1   \n",
       "1693                            1                 1                 1   \n",
       "1694                            1                 1                 1   \n",
       "\n",
       "      is_correct_pred2  is_correct_pred3  is_correct_pred4  \n",
       "3682                 0                 0                 0  \n",
       "3683                 0                 0                 0  \n",
       "3684                 0                 0                 0  \n",
       "3689                 0                 0                 0  \n",
       "3690                 0                 0                 0  \n",
       "...                ...               ...               ...  \n",
       "1690                 1                 1                 0  \n",
       "1691                 1                 1                 0  \n",
       "1692                 1                 1                 0  \n",
       "1693                 1                 1                 0  \n",
       "1694                 1                 1                 0  \n",
       "\n",
       "[5491 rows x 333 columns]"
      ]
     },
     "execution_count": 65,
     "metadata": {},
     "output_type": "execute_result"
    }
   ],
   "source": [
    "# pred4 seems to be empty on Test - let's check why?\n",
    "\n",
    "# it used to be some stats\n",
    "new_df[(new_df['gdppot_us_yoy'] >= 0.027) & (new_df['growth_wti_oil_30d'] <= 1.005)]"
   ]
  },
  {
   "cell_type": "markdown",
   "metadata": {
    "id": "FXTpl3yujGJC"
   },
   "source": [
    "## 1.2) Decision Tree Classifier"
   ]
  },
  {
   "cell_type": "markdown",
   "metadata": {
    "id": "YPXaLoCas-mD"
   },
   "source": [
    "### 1.2.1) Defining Functions to clean_df(), fit_decision_tree(), predict_decision_tree()\n",
    "* here we utilize only Decision Tree Classifier (and not Regressor)"
   ]
  },
  {
   "cell_type": "code",
   "execution_count": 66,
   "metadata": {
    "id": "rv2AI-BXnajF"
   },
   "outputs": [],
   "source": [
    "# Prepare a dataframe for ML:\n",
    "  # +-inf to NaN, all NaNs to 0s\n",
    "def clean_dataframe_from_inf_and_nan(df:pd.DataFrame):\n",
    "  df.replace([np.inf, -np.inf], np.nan, inplace=True)\n",
    "  df.fillna(0, inplace=True)\n",
    "  return df"
   ]
  },
  {
   "cell_type": "code",
   "execution_count": 67,
   "metadata": {
    "id": "xKsoxmRzssWT"
   },
   "outputs": [],
   "source": [
    "# Estimation/fit function (using dataframe of features X and what to predict y) --> optimising total accuracy\n",
    "# max_depth is hyperParameter\n",
    "def fit_decision_tree(X, y, max_depth=20):\n",
    "# Initialize the Decision Tree Classifier\n",
    "  clf = DecisionTreeClassifier(max_depth=max_depth,\n",
    "                               random_state=42)\n",
    "\n",
    "  # Fit the classifier to the training data\n",
    "  clf.fit(X, y)\n",
    "  return clf, X.columns"
   ]
  },
  {
   "cell_type": "markdown",
   "metadata": {
    "id": "eakNxJattwa8"
   },
   "source": [
    "### 1.2.2) CLF10 (Decision Tree Classifier, max_depth==10): get unique correct predictions vs. pred0_manual...pred4_manual\n",
    "* Fit(Train) on TRAIN+VALIDATION\n",
    "* Predict on ALL and Join to the original new_df\n",
    "* Get Precision on TEST"
   ]
  },
  {
   "cell_type": "code",
   "execution_count": 68,
   "metadata": {
    "colab": {
     "base_uri": "https://localhost:8080/"
    },
    "id": "Gw6mWhRbkYfO",
    "outputId": "92e630d5-3721-431a-9c40-a5ac7b6e7a68"
   },
   "outputs": [
    {
     "name": "stdout",
     "output_type": "stream",
     "text": [
      "length: X_train_valid (160387, 302),  X_test (31408, 302), all combined: X_all (191795, 302)\n"
     ]
    }
   ],
   "source": [
    "# Features to be used in predictions (incl. new dummies)\n",
    "features_list = NUMERICAL+DUMMIES\n",
    "# What we're trying to predict?\n",
    "to_predict = 'is_positive_growth_30d_future'\n",
    "\n",
    "train_valid_df = new_df[new_df.split.isin(['train','validation'])].copy(deep=True)\n",
    "test_df = new_df[new_df.split.isin(['test'])].copy(deep=True)\n",
    "\n",
    "# ONLY numerical Separate features and target variable for training and testing sets\n",
    "X_train_valid = train_valid_df[features_list+[to_predict]]\n",
    "X_test = test_df[features_list+[to_predict]]\n",
    "\n",
    "# this to be used for predictions and join to the original dataframe new_df\n",
    "X_all =  new_df[features_list+[to_predict]].copy(deep=True)\n",
    "\n",
    "print(f'length: X_train_valid {X_train_valid.shape},  X_test {X_test.shape}, all combined: X_all {X_all.shape}')\n"
   ]
  },
  {
   "cell_type": "code",
   "execution_count": 69,
   "metadata": {
    "id": "D92iddt2lPtc"
   },
   "outputs": [],
   "source": [
    "# Clean from +-inf and NaNs:\n",
    "\n",
    "X_train_valid = clean_dataframe_from_inf_and_nan(X_train_valid)\n",
    "# X_test = clean_dataframe_from_inf_and_nan(X_test) # won't use\n",
    "X_all = clean_dataframe_from_inf_and_nan(X_all)"
   ]
  },
  {
   "cell_type": "code",
   "execution_count": 70,
   "metadata": {
    "id": "O1Eod-lDlTOc"
   },
   "outputs": [],
   "source": [
    "y_train_valid = X_train_valid[to_predict]\n",
    "# y_test = X_test[to_predict] # won't use\n",
    "y_all =  X_all[to_predict]\n",
    "\n",
    "# remove y_train, y_test from X_ dataframes\n",
    "del X_train_valid[to_predict]\n",
    "del X_test[to_predict]\n",
    "del X_all[to_predict]"
   ]
  },
  {
   "cell_type": "code",
   "execution_count": 71,
   "metadata": {
    "colab": {
     "base_uri": "https://localhost:8080/"
    },
    "id": "c_928TLfmdU-",
    "outputId": "f92c3bbf-19b2-4a01-cbaa-cb5db2ee1a6a"
   },
   "outputs": [
    {
     "name": "stdout",
     "output_type": "stream",
     "text": [
      "CPU times: user 13.8 s, sys: 132 ms, total: 14 s\n",
      "Wall time: 14.1 s\n"
     ]
    }
   ],
   "source": [
    "%%time\n",
    "clf_10, train_columns = fit_decision_tree(X=X_train_valid,\n",
    "                           y=y_train_valid,\n",
    "                           max_depth=10)"
   ]
  },
  {
   "cell_type": "code",
   "execution_count": 72,
   "metadata": {
    "colab": {
     "base_uri": "https://localhost:8080/"
    },
    "id": "uYmSsIaox5Oz",
    "outputId": "d9c74620-82a7-4fe3-b703-9d4810b3b974"
   },
   "outputs": [
    {
     "data": {
      "text/plain": [
       "(160387, 301)"
      ]
     },
     "execution_count": 72,
     "metadata": {},
     "output_type": "execute_result"
    }
   ],
   "source": [
    "X_train_valid.shape"
   ]
  },
  {
   "cell_type": "code",
   "execution_count": 73,
   "metadata": {
    "colab": {
     "base_uri": "https://localhost:8080/"
    },
    "id": "JQ6t5Il3xzHb",
    "outputId": "6de4963b-b671-4e65-92c6-7aac944b1e8d"
   },
   "outputs": [
    {
     "data": {
      "text/plain": [
       "(191795, 301)"
      ]
     },
     "execution_count": 73,
     "metadata": {},
     "output_type": "execute_result"
    }
   ],
   "source": [
    "X_all.shape"
   ]
  },
  {
   "cell_type": "code",
   "execution_count": 74,
   "metadata": {
    "colab": {
     "base_uri": "https://localhost:8080/"
    },
    "id": "iGBmi1qqx1oz",
    "outputId": "74d992aa-0e49-4177-cdef-f1fffe8d64e0"
   },
   "outputs": [
    {
     "data": {
      "text/plain": [
       "(191795,)"
      ]
     },
     "execution_count": 74,
     "metadata": {},
     "output_type": "execute_result"
    }
   ],
   "source": [
    "y_all.shape"
   ]
  },
  {
   "cell_type": "code",
   "execution_count": 75,
   "metadata": {
    "id": "3PmOpwgyxYhB"
   },
   "outputs": [],
   "source": [
    "# predict on a full dataset\n",
    "y_pred_all = clf_10.predict(X_all)"
   ]
  },
  {
   "cell_type": "code",
   "execution_count": 76,
   "metadata": {
    "id": "R36vuKxk0Hx4"
   },
   "outputs": [],
   "source": [
    "# defining a new prediction vector is easy now, as the dimensions will match\n",
    "new_df['pred5_clf_10'] = y_pred_all"
   ]
  },
  {
   "cell_type": "code",
   "execution_count": 77,
   "metadata": {
    "colab": {
     "base_uri": "https://localhost:8080/"
    },
    "id": "4xa6WqLpvMHL",
    "outputId": "ae1c1381-af9f-466b-f380-820369969038"
   },
   "outputs": [
    {
     "name": "stdout",
     "output_type": "stream",
     "text": [
      "Prediction columns founded: ['pred0_manual_cci', 'pred1_manual_prev_g1', 'pred2_manual_prev_g1_and_snp', 'pred3_manual_dgs10_5', 'pred4_manual_dgs10_fedfunds', 'pred5_clf_10']\n",
      "Created columns is_correct: ['is_correct_pred0', 'is_correct_pred1', 'is_correct_pred2', 'is_correct_pred3', 'is_correct_pred4', 'is_correct_pred5']\n",
      "Precision on TEST set for each prediction:\n",
      "Prediction column:pred0_manual_cci , is_correct_column: is_correct_pred0\n",
      "is_correct_pred0\n",
      "1    443\n",
      "0    351\n",
      "Name: count, dtype: int64\n",
      "is_correct_pred0\n",
      "1    0.557935\n",
      "0    0.442065\n",
      "Name: count, dtype: float64\n",
      "---------\n",
      "Prediction column:pred1_manual_prev_g1 , is_correct_column: is_correct_pred1\n",
      "is_correct_pred1\n",
      "1    9748\n",
      "0    8243\n",
      "Name: count, dtype: int64\n",
      "is_correct_pred1\n",
      "1    0.541826\n",
      "0    0.458174\n",
      "Name: count, dtype: float64\n",
      "---------\n",
      "Prediction column:pred2_manual_prev_g1_and_snp , is_correct_column: is_correct_pred2\n",
      "is_correct_pred2\n",
      "1    6984\n",
      "0    6383\n",
      "Name: count, dtype: int64\n",
      "is_correct_pred2\n",
      "1    0.522481\n",
      "0    0.477519\n",
      "Name: count, dtype: float64\n",
      "---------\n",
      "Prediction column:pred3_manual_dgs10_5 , is_correct_column: is_correct_pred3\n",
      "is_correct_pred3\n",
      "1    578\n",
      "0    419\n",
      "Name: count, dtype: int64\n",
      "is_correct_pred3\n",
      "1    0.579739\n",
      "0    0.420261\n",
      "Name: count, dtype: float64\n",
      "---------\n",
      "Prediction column:pred4_manual_dgs10_fedfunds , is_correct_column: is_correct_pred4\n",
      "is_correct_pred4\n",
      "0    3020\n",
      "1    2640\n",
      "Name: count, dtype: int64\n",
      "is_correct_pred4\n",
      "0    0.533569\n",
      "1    0.466431\n",
      "Name: count, dtype: float64\n",
      "---------\n",
      "Prediction column:pred5_clf_10 , is_correct_column: is_correct_pred5\n",
      "is_correct_pred5\n",
      "1    10897\n",
      "0     7740\n",
      "Name: count, dtype: int64\n",
      "is_correct_pred5\n",
      "1    0.584697\n",
      "0    0.415303\n",
      "Name: count, dtype: float64\n",
      "---------\n"
     ]
    }
   ],
   "source": [
    "# new prediction is added --> need to recalculate the correctness\n",
    "PREDICTIONS, IS_CORRECT = get_predictions_correctness(new_df, to_predict='is_positive_growth_30d_future')"
   ]
  },
  {
   "cell_type": "code",
   "execution_count": 78,
   "metadata": {
    "colab": {
     "base_uri": "https://localhost:8080/"
    },
    "id": "eXbyfoJE5-Va",
    "outputId": "04cac41d-b605-4f6b-be99-94c50d64a692"
   },
   "outputs": [
    {
     "data": {
      "text/plain": [
       "['is_correct_pred0',\n",
       " 'is_correct_pred1',\n",
       " 'is_correct_pred2',\n",
       " 'is_correct_pred3',\n",
       " 'is_correct_pred4',\n",
       " 'is_correct_pred5']"
      ]
     },
     "execution_count": 78,
     "metadata": {},
     "output_type": "execute_result"
    }
   ],
   "source": [
    "IS_CORRECT"
   ]
  },
  {
   "cell_type": "code",
   "execution_count": 79,
   "metadata": {
    "id": "BZt6HiNn-Hwy"
   },
   "outputs": [],
   "source": [
    "# define a new column that find the cases when only pred5 is correct\n",
    "new_df['only_pred5_is_correct'] = (new_df.is_correct_pred5==new_df.is_positive_growth_30d_future) & \\\n",
    "                         (new_df.is_positive_growth_30d_future == 1) & \\\n",
    "                         (new_df.is_correct_pred0 == 0) & \\\n",
    "                         (new_df.is_correct_pred1 == 0) & \\\n",
    "                         (new_df.is_correct_pred2 == 0) & \\\n",
    "                         (new_df.is_correct_pred3 == 0) & \\\n",
    "                         (new_df.is_correct_pred4 == 0)"
   ]
  },
  {
   "cell_type": "code",
   "execution_count": 80,
   "metadata": {
    "id": "pjwrr9EH_GHR"
   },
   "outputs": [],
   "source": [
    "# need it to be integer and not bool\n",
    "new_df['only_pred5_is_correct'] = new_df['only_pred5_is_correct'].astype(int)"
   ]
  },
  {
   "cell_type": "code",
   "execution_count": 81,
   "metadata": {
    "colab": {
     "base_uri": "https://localhost:8080/"
    },
    "id": "esvT7CcM_LSW",
    "outputId": "90e82c3c-c1c0-4b69-a022-729caa4612a7"
   },
   "outputs": [
    {
     "data": {
      "text/plain": [
       "np.int64(3624)"
      ]
     },
     "execution_count": 81,
     "metadata": {},
     "output_type": "execute_result"
    }
   ],
   "source": [
    "# how many times only pred5 is correct in the TEST set?\n",
    "new_df[new_df.split=='test']['only_pred5_is_correct'].sum()"
   ]
  },
  {
   "cell_type": "code",
   "execution_count": 82,
   "metadata": {
    "id": "AHWsn1Gi_NLF"
   },
   "outputs": [],
   "source": [
    "# let's look at the record\n",
    "filter_unique_pred_5 = (new_df.split=='test') & (new_df.only_pred5_is_correct==1)"
   ]
  },
  {
   "cell_type": "code",
   "execution_count": 83,
   "metadata": {
    "colab": {
     "base_uri": "https://localhost:8080/",
     "height": 430
    },
    "id": "gDVIpHjFDIdl",
    "outputId": "636b3481-16ee-456e-9e72-377997b46017"
   },
   "outputs": [
    {
     "data": {
      "text/html": [
       "<div>\n",
       "<style scoped>\n",
       "    .dataframe tbody tr th:only-of-type {\n",
       "        vertical-align: middle;\n",
       "    }\n",
       "\n",
       "    .dataframe tbody tr th {\n",
       "        vertical-align: top;\n",
       "    }\n",
       "\n",
       "    .dataframe thead th {\n",
       "        text-align: right;\n",
       "    }\n",
       "</style>\n",
       "<table border=\"1\" class=\"dataframe\">\n",
       "  <thead>\n",
       "    <tr style=\"text-align: right;\">\n",
       "      <th></th>\n",
       "      <th>Open</th>\n",
       "      <th>High</th>\n",
       "      <th>Low</th>\n",
       "      <th>Close_x</th>\n",
       "      <th>Volume</th>\n",
       "      <th>Dividends</th>\n",
       "      <th>Stock Splits</th>\n",
       "      <th>Ticker</th>\n",
       "      <th>Year</th>\n",
       "      <th>Month</th>\n",
       "      <th>...</th>\n",
       "      <th>pred3_manual_dgs10_5</th>\n",
       "      <th>pred4_manual_dgs10_fedfunds</th>\n",
       "      <th>is_correct_pred0</th>\n",
       "      <th>is_correct_pred1</th>\n",
       "      <th>is_correct_pred2</th>\n",
       "      <th>is_correct_pred3</th>\n",
       "      <th>is_correct_pred4</th>\n",
       "      <th>pred5_clf_10</th>\n",
       "      <th>is_correct_pred5</th>\n",
       "      <th>only_pred5_is_correct</th>\n",
       "    </tr>\n",
       "  </thead>\n",
       "  <tbody>\n",
       "    <tr>\n",
       "      <th>7905</th>\n",
       "      <td>49.417937</td>\n",
       "      <td>51.206059</td>\n",
       "      <td>48.955338</td>\n",
       "      <td>51.206059</td>\n",
       "      <td>3093200.0</td>\n",
       "      <td>0.0</td>\n",
       "      <td>0.0</td>\n",
       "      <td>TTE</td>\n",
       "      <td>2023</td>\n",
       "      <td>March</td>\n",
       "      <td>...</td>\n",
       "      <td>0</td>\n",
       "      <td>0</td>\n",
       "      <td>0</td>\n",
       "      <td>0</td>\n",
       "      <td>0</td>\n",
       "      <td>0</td>\n",
       "      <td>0</td>\n",
       "      <td>1</td>\n",
       "      <td>1</td>\n",
       "      <td>1</td>\n",
       "    </tr>\n",
       "    <tr>\n",
       "      <th>5994</th>\n",
       "      <td>16.931764</td>\n",
       "      <td>17.148837</td>\n",
       "      <td>16.856260</td>\n",
       "      <td>17.082771</td>\n",
       "      <td>10440400.0</td>\n",
       "      <td>0.0</td>\n",
       "      <td>0.0</td>\n",
       "      <td>INFY</td>\n",
       "      <td>2023</td>\n",
       "      <td>January</td>\n",
       "      <td>...</td>\n",
       "      <td>0</td>\n",
       "      <td>0</td>\n",
       "      <td>0</td>\n",
       "      <td>0</td>\n",
       "      <td>0</td>\n",
       "      <td>0</td>\n",
       "      <td>0</td>\n",
       "      <td>1</td>\n",
       "      <td>1</td>\n",
       "      <td>1</td>\n",
       "    </tr>\n",
       "    <tr>\n",
       "      <th>6664</th>\n",
       "      <td>100.121756</td>\n",
       "      <td>102.839743</td>\n",
       "      <td>98.281459</td>\n",
       "      <td>100.235008</td>\n",
       "      <td>1672700.0</td>\n",
       "      <td>0.0</td>\n",
       "      <td>0.0</td>\n",
       "      <td>SAP</td>\n",
       "      <td>2022</td>\n",
       "      <td>March</td>\n",
       "      <td>...</td>\n",
       "      <td>0</td>\n",
       "      <td>0</td>\n",
       "      <td>0</td>\n",
       "      <td>0</td>\n",
       "      <td>0</td>\n",
       "      <td>0</td>\n",
       "      <td>0</td>\n",
       "      <td>1</td>\n",
       "      <td>1</td>\n",
       "      <td>1</td>\n",
       "    </tr>\n",
       "    <tr>\n",
       "      <th>5120</th>\n",
       "      <td>3018.716512</td>\n",
       "      <td>3031.633379</td>\n",
       "      <td>2974.683666</td>\n",
       "      <td>2982.990967</td>\n",
       "      <td>1815297.0</td>\n",
       "      <td>0.0</td>\n",
       "      <td>0.0</td>\n",
       "      <td>TCS.NS</td>\n",
       "      <td>2023</td>\n",
       "      <td>March</td>\n",
       "      <td>...</td>\n",
       "      <td>0</td>\n",
       "      <td>0</td>\n",
       "      <td>0</td>\n",
       "      <td>0</td>\n",
       "      <td>0</td>\n",
       "      <td>0</td>\n",
       "      <td>0</td>\n",
       "      <td>1</td>\n",
       "      <td>1</td>\n",
       "      <td>1</td>\n",
       "    </tr>\n",
       "    <tr>\n",
       "      <th>7016</th>\n",
       "      <td>133.494767</td>\n",
       "      <td>133.504638</td>\n",
       "      <td>131.144259</td>\n",
       "      <td>131.559067</td>\n",
       "      <td>829500.0</td>\n",
       "      <td>0.0</td>\n",
       "      <td>0.0</td>\n",
       "      <td>SAP</td>\n",
       "      <td>2023</td>\n",
       "      <td>August</td>\n",
       "      <td>...</td>\n",
       "      <td>0</td>\n",
       "      <td>0</td>\n",
       "      <td>0</td>\n",
       "      <td>0</td>\n",
       "      <td>0</td>\n",
       "      <td>0</td>\n",
       "      <td>0</td>\n",
       "      <td>1</td>\n",
       "      <td>1</td>\n",
       "      <td>1</td>\n",
       "    </tr>\n",
       "    <tr>\n",
       "      <th>4842</th>\n",
       "      <td>132.571967</td>\n",
       "      <td>133.317535</td>\n",
       "      <td>131.985457</td>\n",
       "      <td>132.850311</td>\n",
       "      <td>16409900.0</td>\n",
       "      <td>0.0</td>\n",
       "      <td>0.0</td>\n",
       "      <td>GOOG</td>\n",
       "      <td>2023</td>\n",
       "      <td>November</td>\n",
       "      <td>...</td>\n",
       "      <td>0</td>\n",
       "      <td>0</td>\n",
       "      <td>0</td>\n",
       "      <td>0</td>\n",
       "      <td>0</td>\n",
       "      <td>0</td>\n",
       "      <td>0</td>\n",
       "      <td>1</td>\n",
       "      <td>1</td>\n",
       "      <td>1</td>\n",
       "    </tr>\n",
       "    <tr>\n",
       "      <th>7657</th>\n",
       "      <td>42.186347</td>\n",
       "      <td>42.556771</td>\n",
       "      <td>42.110578</td>\n",
       "      <td>42.363140</td>\n",
       "      <td>2787500.0</td>\n",
       "      <td>0.0</td>\n",
       "      <td>0.0</td>\n",
       "      <td>TTE</td>\n",
       "      <td>2022</td>\n",
       "      <td>March</td>\n",
       "      <td>...</td>\n",
       "      <td>0</td>\n",
       "      <td>0</td>\n",
       "      <td>0</td>\n",
       "      <td>0</td>\n",
       "      <td>0</td>\n",
       "      <td>0</td>\n",
       "      <td>0</td>\n",
       "      <td>1</td>\n",
       "      <td>1</td>\n",
       "      <td>1</td>\n",
       "    </tr>\n",
       "    <tr>\n",
       "      <th>6585</th>\n",
       "      <td>1044.654131</td>\n",
       "      <td>1059.966218</td>\n",
       "      <td>1018.660458</td>\n",
       "      <td>1026.706177</td>\n",
       "      <td>17983310.0</td>\n",
       "      <td>0.0</td>\n",
       "      <td>0.0</td>\n",
       "      <td>RELIANCE.NS</td>\n",
       "      <td>2022</td>\n",
       "      <td>March</td>\n",
       "      <td>...</td>\n",
       "      <td>0</td>\n",
       "      <td>0</td>\n",
       "      <td>0</td>\n",
       "      <td>0</td>\n",
       "      <td>0</td>\n",
       "      <td>0</td>\n",
       "      <td>0</td>\n",
       "      <td>1</td>\n",
       "      <td>1</td>\n",
       "      <td>1</td>\n",
       "    </tr>\n",
       "    <tr>\n",
       "      <th>6976</th>\n",
       "      <td>130.660343</td>\n",
       "      <td>130.689970</td>\n",
       "      <td>129.633224</td>\n",
       "      <td>129.870255</td>\n",
       "      <td>515100.0</td>\n",
       "      <td>0.0</td>\n",
       "      <td>0.0</td>\n",
       "      <td>SAP</td>\n",
       "      <td>2023</td>\n",
       "      <td>June</td>\n",
       "      <td>...</td>\n",
       "      <td>0</td>\n",
       "      <td>0</td>\n",
       "      <td>0</td>\n",
       "      <td>0</td>\n",
       "      <td>0</td>\n",
       "      <td>0</td>\n",
       "      <td>0</td>\n",
       "      <td>1</td>\n",
       "      <td>1</td>\n",
       "      <td>1</td>\n",
       "    </tr>\n",
       "    <tr>\n",
       "      <th>10452</th>\n",
       "      <td>50.284168</td>\n",
       "      <td>50.553272</td>\n",
       "      <td>49.909344</td>\n",
       "      <td>49.967010</td>\n",
       "      <td>1533600.0</td>\n",
       "      <td>0.0</td>\n",
       "      <td>0.0</td>\n",
       "      <td>NVO</td>\n",
       "      <td>2022</td>\n",
       "      <td>October</td>\n",
       "      <td>...</td>\n",
       "      <td>0</td>\n",
       "      <td>0</td>\n",
       "      <td>0</td>\n",
       "      <td>0</td>\n",
       "      <td>0</td>\n",
       "      <td>0</td>\n",
       "      <td>0</td>\n",
       "      <td>1</td>\n",
       "      <td>1</td>\n",
       "      <td>1</td>\n",
       "    </tr>\n",
       "  </tbody>\n",
       "</table>\n",
       "<p>10 rows × 336 columns</p>\n",
       "</div>"
      ],
      "text/plain": [
       "              Open         High          Low      Close_x      Volume  \\\n",
       "7905     49.417937    51.206059    48.955338    51.206059   3093200.0   \n",
       "5994     16.931764    17.148837    16.856260    17.082771  10440400.0   \n",
       "6664    100.121756   102.839743    98.281459   100.235008   1672700.0   \n",
       "5120   3018.716512  3031.633379  2974.683666  2982.990967   1815297.0   \n",
       "7016    133.494767   133.504638   131.144259   131.559067    829500.0   \n",
       "4842    132.571967   133.317535   131.985457   132.850311  16409900.0   \n",
       "7657     42.186347    42.556771    42.110578    42.363140   2787500.0   \n",
       "6585   1044.654131  1059.966218  1018.660458  1026.706177  17983310.0   \n",
       "6976    130.660343   130.689970   129.633224   129.870255    515100.0   \n",
       "10452    50.284168    50.553272    49.909344    49.967010   1533600.0   \n",
       "\n",
       "       Dividends  Stock Splits       Ticker  Year     Month  ...  \\\n",
       "7905         0.0           0.0          TTE  2023     March  ...   \n",
       "5994         0.0           0.0         INFY  2023   January  ...   \n",
       "6664         0.0           0.0          SAP  2022     March  ...   \n",
       "5120         0.0           0.0       TCS.NS  2023     March  ...   \n",
       "7016         0.0           0.0          SAP  2023    August  ...   \n",
       "4842         0.0           0.0         GOOG  2023  November  ...   \n",
       "7657         0.0           0.0          TTE  2022     March  ...   \n",
       "6585         0.0           0.0  RELIANCE.NS  2022     March  ...   \n",
       "6976         0.0           0.0          SAP  2023      June  ...   \n",
       "10452        0.0           0.0          NVO  2022   October  ...   \n",
       "\n",
       "      pred3_manual_dgs10_5 pred4_manual_dgs10_fedfunds  is_correct_pred0  \\\n",
       "7905                     0                           0                 0   \n",
       "5994                     0                           0                 0   \n",
       "6664                     0                           0                 0   \n",
       "5120                     0                           0                 0   \n",
       "7016                     0                           0                 0   \n",
       "4842                     0                           0                 0   \n",
       "7657                     0                           0                 0   \n",
       "6585                     0                           0                 0   \n",
       "6976                     0                           0                 0   \n",
       "10452                    0                           0                 0   \n",
       "\n",
       "       is_correct_pred1  is_correct_pred2  is_correct_pred3  is_correct_pred4  \\\n",
       "7905                  0                 0                 0                 0   \n",
       "5994                  0                 0                 0                 0   \n",
       "6664                  0                 0                 0                 0   \n",
       "5120                  0                 0                 0                 0   \n",
       "7016                  0                 0                 0                 0   \n",
       "4842                  0                 0                 0                 0   \n",
       "7657                  0                 0                 0                 0   \n",
       "6585                  0                 0                 0                 0   \n",
       "6976                  0                 0                 0                 0   \n",
       "10452                 0                 0                 0                 0   \n",
       "\n",
       "       pred5_clf_10  is_correct_pred5  only_pred5_is_correct  \n",
       "7905              1                 1                      1  \n",
       "5994              1                 1                      1  \n",
       "6664              1                 1                      1  \n",
       "5120              1                 1                      1  \n",
       "7016              1                 1                      1  \n",
       "4842              1                 1                      1  \n",
       "7657              1                 1                      1  \n",
       "6585              1                 1                      1  \n",
       "6976              1                 1                      1  \n",
       "10452             1                 1                      1  \n",
       "\n",
       "[10 rows x 336 columns]"
      ]
     },
     "execution_count": 83,
     "metadata": {},
     "output_type": "execute_result"
    }
   ],
   "source": [
    "# sample with only Pred5 correct\n",
    "new_df[filter_unique_pred_5].sample(10)"
   ]
  },
  {
   "cell_type": "code",
   "execution_count": 84,
   "metadata": {
    "colab": {
     "base_uri": "https://localhost:8080/",
     "height": 383
    },
    "id": "vf0sky2mBdYb",
    "outputId": "5c9f586d-ef09-408e-9adf-58ae78efe3b9"
   },
   "outputs": [
    {
     "data": {
      "text/html": [
       "<div>\n",
       "<style scoped>\n",
       "    .dataframe tbody tr th:only-of-type {\n",
       "        vertical-align: middle;\n",
       "    }\n",
       "\n",
       "    .dataframe tbody tr th {\n",
       "        vertical-align: top;\n",
       "    }\n",
       "\n",
       "    .dataframe thead th {\n",
       "        text-align: right;\n",
       "    }\n",
       "</style>\n",
       "<table border=\"1\" class=\"dataframe\">\n",
       "  <thead>\n",
       "    <tr style=\"text-align: right;\">\n",
       "      <th></th>\n",
       "      <th>pred0_manual_cci</th>\n",
       "      <th>pred1_manual_prev_g1</th>\n",
       "      <th>pred2_manual_prev_g1_and_snp</th>\n",
       "      <th>pred3_manual_dgs10_5</th>\n",
       "      <th>pred4_manual_dgs10_fedfunds</th>\n",
       "      <th>pred5_clf_10</th>\n",
       "      <th>is_correct_pred0</th>\n",
       "      <th>is_correct_pred1</th>\n",
       "      <th>is_correct_pred2</th>\n",
       "      <th>is_correct_pred3</th>\n",
       "      <th>is_correct_pred4</th>\n",
       "      <th>is_correct_pred5</th>\n",
       "      <th>is_positive_growth_30d_future</th>\n",
       "    </tr>\n",
       "  </thead>\n",
       "  <tbody>\n",
       "    <tr>\n",
       "      <th>7918</th>\n",
       "      <td>0</td>\n",
       "      <td>0</td>\n",
       "      <td>0</td>\n",
       "      <td>0</td>\n",
       "      <td>0</td>\n",
       "      <td>1</td>\n",
       "      <td>0</td>\n",
       "      <td>0</td>\n",
       "      <td>0</td>\n",
       "      <td>0</td>\n",
       "      <td>0</td>\n",
       "      <td>1</td>\n",
       "      <td>1</td>\n",
       "    </tr>\n",
       "    <tr>\n",
       "      <th>349</th>\n",
       "      <td>0</td>\n",
       "      <td>0</td>\n",
       "      <td>0</td>\n",
       "      <td>0</td>\n",
       "      <td>0</td>\n",
       "      <td>1</td>\n",
       "      <td>0</td>\n",
       "      <td>0</td>\n",
       "      <td>0</td>\n",
       "      <td>0</td>\n",
       "      <td>0</td>\n",
       "      <td>1</td>\n",
       "      <td>1</td>\n",
       "    </tr>\n",
       "    <tr>\n",
       "      <th>6902</th>\n",
       "      <td>0</td>\n",
       "      <td>0</td>\n",
       "      <td>0</td>\n",
       "      <td>0</td>\n",
       "      <td>0</td>\n",
       "      <td>1</td>\n",
       "      <td>0</td>\n",
       "      <td>0</td>\n",
       "      <td>0</td>\n",
       "      <td>0</td>\n",
       "      <td>0</td>\n",
       "      <td>1</td>\n",
       "      <td>1</td>\n",
       "    </tr>\n",
       "    <tr>\n",
       "      <th>6642</th>\n",
       "      <td>0</td>\n",
       "      <td>0</td>\n",
       "      <td>0</td>\n",
       "      <td>0</td>\n",
       "      <td>0</td>\n",
       "      <td>1</td>\n",
       "      <td>0</td>\n",
       "      <td>0</td>\n",
       "      <td>0</td>\n",
       "      <td>0</td>\n",
       "      <td>0</td>\n",
       "      <td>1</td>\n",
       "      <td>1</td>\n",
       "    </tr>\n",
       "    <tr>\n",
       "      <th>3001</th>\n",
       "      <td>0</td>\n",
       "      <td>0</td>\n",
       "      <td>0</td>\n",
       "      <td>0</td>\n",
       "      <td>0</td>\n",
       "      <td>1</td>\n",
       "      <td>0</td>\n",
       "      <td>0</td>\n",
       "      <td>0</td>\n",
       "      <td>0</td>\n",
       "      <td>0</td>\n",
       "      <td>1</td>\n",
       "      <td>1</td>\n",
       "    </tr>\n",
       "    <tr>\n",
       "      <th>5843</th>\n",
       "      <td>0</td>\n",
       "      <td>0</td>\n",
       "      <td>0</td>\n",
       "      <td>0</td>\n",
       "      <td>0</td>\n",
       "      <td>1</td>\n",
       "      <td>0</td>\n",
       "      <td>0</td>\n",
       "      <td>0</td>\n",
       "      <td>0</td>\n",
       "      <td>0</td>\n",
       "      <td>1</td>\n",
       "      <td>1</td>\n",
       "    </tr>\n",
       "    <tr>\n",
       "      <th>6896</th>\n",
       "      <td>0</td>\n",
       "      <td>0</td>\n",
       "      <td>0</td>\n",
       "      <td>0</td>\n",
       "      <td>0</td>\n",
       "      <td>1</td>\n",
       "      <td>0</td>\n",
       "      <td>0</td>\n",
       "      <td>0</td>\n",
       "      <td>0</td>\n",
       "      <td>0</td>\n",
       "      <td>1</td>\n",
       "      <td>1</td>\n",
       "    </tr>\n",
       "    <tr>\n",
       "      <th>6918</th>\n",
       "      <td>0</td>\n",
       "      <td>0</td>\n",
       "      <td>0</td>\n",
       "      <td>0</td>\n",
       "      <td>0</td>\n",
       "      <td>1</td>\n",
       "      <td>0</td>\n",
       "      <td>0</td>\n",
       "      <td>0</td>\n",
       "      <td>0</td>\n",
       "      <td>0</td>\n",
       "      <td>1</td>\n",
       "      <td>1</td>\n",
       "    </tr>\n",
       "    <tr>\n",
       "      <th>6116</th>\n",
       "      <td>0</td>\n",
       "      <td>0</td>\n",
       "      <td>0</td>\n",
       "      <td>0</td>\n",
       "      <td>0</td>\n",
       "      <td>1</td>\n",
       "      <td>0</td>\n",
       "      <td>0</td>\n",
       "      <td>0</td>\n",
       "      <td>0</td>\n",
       "      <td>0</td>\n",
       "      <td>1</td>\n",
       "      <td>1</td>\n",
       "    </tr>\n",
       "    <tr>\n",
       "      <th>11017</th>\n",
       "      <td>0</td>\n",
       "      <td>0</td>\n",
       "      <td>0</td>\n",
       "      <td>0</td>\n",
       "      <td>0</td>\n",
       "      <td>1</td>\n",
       "      <td>0</td>\n",
       "      <td>0</td>\n",
       "      <td>0</td>\n",
       "      <td>0</td>\n",
       "      <td>0</td>\n",
       "      <td>1</td>\n",
       "      <td>1</td>\n",
       "    </tr>\n",
       "  </tbody>\n",
       "</table>\n",
       "</div>"
      ],
      "text/plain": [
       "       pred0_manual_cci  pred1_manual_prev_g1  pred2_manual_prev_g1_and_snp  \\\n",
       "7918                  0                     0                             0   \n",
       "349                   0                     0                             0   \n",
       "6902                  0                     0                             0   \n",
       "6642                  0                     0                             0   \n",
       "3001                  0                     0                             0   \n",
       "5843                  0                     0                             0   \n",
       "6896                  0                     0                             0   \n",
       "6918                  0                     0                             0   \n",
       "6116                  0                     0                             0   \n",
       "11017                 0                     0                             0   \n",
       "\n",
       "       pred3_manual_dgs10_5  pred4_manual_dgs10_fedfunds  pred5_clf_10  \\\n",
       "7918                      0                            0             1   \n",
       "349                       0                            0             1   \n",
       "6902                      0                            0             1   \n",
       "6642                      0                            0             1   \n",
       "3001                      0                            0             1   \n",
       "5843                      0                            0             1   \n",
       "6896                      0                            0             1   \n",
       "6918                      0                            0             1   \n",
       "6116                      0                            0             1   \n",
       "11017                     0                            0             1   \n",
       "\n",
       "       is_correct_pred0  is_correct_pred1  is_correct_pred2  is_correct_pred3  \\\n",
       "7918                  0                 0                 0                 0   \n",
       "349                   0                 0                 0                 0   \n",
       "6902                  0                 0                 0                 0   \n",
       "6642                  0                 0                 0                 0   \n",
       "3001                  0                 0                 0                 0   \n",
       "5843                  0                 0                 0                 0   \n",
       "6896                  0                 0                 0                 0   \n",
       "6918                  0                 0                 0                 0   \n",
       "6116                  0                 0                 0                 0   \n",
       "11017                 0                 0                 0                 0   \n",
       "\n",
       "       is_correct_pred4  is_correct_pred5  is_positive_growth_30d_future  \n",
       "7918                  0                 1                              1  \n",
       "349                   0                 1                              1  \n",
       "6902                  0                 1                              1  \n",
       "6642                  0                 1                              1  \n",
       "3001                  0                 1                              1  \n",
       "5843                  0                 1                              1  \n",
       "6896                  0                 1                              1  \n",
       "6918                  0                 1                              1  \n",
       "6116                  0                 1                              1  \n",
       "11017                 0                 1                              1  "
      ]
     },
     "execution_count": 84,
     "metadata": {},
     "output_type": "execute_result"
    }
   ],
   "source": [
    "# let's visually check that all predictions are 0, but pred5==1 (sample 10)\n",
    "new_df[filter_unique_pred_5][PREDICTIONS+IS_CORRECT+['is_positive_growth_30d_future']].sample(10)"
   ]
  },
  {
   "cell_type": "code",
   "execution_count": 85,
   "metadata": {
    "id": "DxOoFezaHsbJ"
   },
   "outputs": [],
   "source": [
    "# ANSWER HA3: 3659 unique correct prediction from clf_10 (on test)"
   ]
  },
  {
   "cell_type": "markdown",
   "metadata": {
    "id": "AuoNrq1KNKxc"
   },
   "source": [
    "## 1.2.3 [Code Snippet 2] Hyperparams tuning for a Decision Tree Classifier"
   ]
  },
  {
   "cell_type": "code",
   "execution_count": 86,
   "metadata": {
    "id": "vRkm9XEjwIFv"
   },
   "outputs": [],
   "source": [
    "# TODO HA: Define DUMMIES_SHORT to include only original dummies (and exclude too detailed dummies like month_week_of_month, let's leave only month) --> less features"
   ]
  },
  {
   "cell_type": "code",
   "execution_count": 87,
   "metadata": {
    "colab": {
     "base_uri": "https://localhost:8080/"
    },
    "id": "ORY8KtcrNS0K",
    "outputId": "ad8c9388-3fd6-4794-e40d-fe57b8371333"
   },
   "outputs": [
    {
     "name": "stdout",
     "output_type": "stream",
     "text": [
      "length: X_train (129730, 302),  X_validation (30657, 302), X_test (31408, 302), X_train_valid = (160387, 302),  all combined: X_all (191795, 302)\n"
     ]
    }
   ],
   "source": [
    "# Features to be used in predictions (incl. new dummies)\n",
    "features_list = NUMERICAL+DUMMIES\n",
    "# What we're trying to predict?\n",
    "to_predict = 'is_positive_growth_30d_future'\n",
    "\n",
    "train_df = new_df[new_df.split.isin(['train'])].copy(deep=True)\n",
    "valid_df = new_df[new_df.split.isin(['validation'])].copy(deep=True)\n",
    "train_valid_df = new_df[new_df.split.isin(['train','validation'])].copy(deep=True)\n",
    "\n",
    "test_df =  new_df[new_df.split.isin(['test'])].copy(deep=True)\n",
    "\n",
    "# ONLY numerical Separate features and target variable for training and testing sets\n",
    "X_train = train_df[features_list+[to_predict]]\n",
    "X_valid = valid_df[features_list+[to_predict]]\n",
    "\n",
    "X_train_valid = train_valid_df[features_list+[to_predict]]\n",
    "\n",
    "X_test = test_df[features_list+[to_predict]]\n",
    "\n",
    "# this to be used for predictions and join to the original dataframe new_df\n",
    "X_all =  new_df[features_list+[to_predict]].copy(deep=True)\n",
    "\n",
    "print(f'length: X_train {X_train.shape},  X_validation {X_valid.shape}, X_test {X_test.shape}, X_train_valid = {X_train_valid.shape},  all combined: X_all {X_all.shape}')"
   ]
  },
  {
   "cell_type": "code",
   "execution_count": 88,
   "metadata": {
    "id": "ThWFmsuRaQyg"
   },
   "outputs": [],
   "source": [
    "# Clean from +-inf and NaNs:\n",
    "\n",
    "X_train = clean_dataframe_from_inf_and_nan(X_train)\n",
    "X_valid = clean_dataframe_from_inf_and_nan(X_valid)\n",
    "X_train_valid = clean_dataframe_from_inf_and_nan(X_train_valid)\n",
    "\n",
    "X_test = clean_dataframe_from_inf_and_nan(X_test)\n",
    "\n",
    "X_all = clean_dataframe_from_inf_and_nan(X_all)"
   ]
  },
  {
   "cell_type": "code",
   "execution_count": 89,
   "metadata": {
    "id": "VflrcehfPXV7"
   },
   "outputs": [],
   "source": [
    "y_train = X_train[to_predict]\n",
    "y_valid = X_valid[to_predict]\n",
    "\n",
    "y_train_valid = X_train_valid[to_predict]\n",
    "y_test = X_test[to_predict]\n",
    "y_all =  X_all[to_predict]\n",
    "\n",
    "# remove y_train, y_test from X_ dataframes\n",
    "del X_train[to_predict]\n",
    "del X_valid[to_predict]\n",
    "del X_train_valid[to_predict]\n",
    "\n",
    "del X_test[to_predict]\n",
    "\n",
    "del X_all[to_predict]"
   ]
  },
  {
   "cell_type": "code",
   "execution_count": 90,
   "metadata": {
    "id": "PnucjHDCdP2U"
   },
   "outputs": [],
   "source": [
    "# visualisation: decision tree for a few levels (max_depth variable)\n",
    "from sklearn.tree import plot_tree\n",
    "import matplotlib.pyplot as plt\n",
    "\n",
    "# https://stackoverflow.com/questions/20156951/how-do-i-find-which-attributes-my-tree-splits-on-when-using-scikit-learn\n",
    "from sklearn.tree import export_text\n"
   ]
  },
  {
   "cell_type": "code",
   "execution_count": 91,
   "metadata": {
    "id": "7gigBIWAOZzK"
   },
   "outputs": [],
   "source": [
    "# (8min runtime) UNCOMMENT TO RUN IT AGAIN\n",
    "# %%time\n",
    "# # hyper params tuning for a Decision Tree\n",
    "\n",
    "# precision_by_depth = {}\n",
    "# best_precision = 0\n",
    "# best_depth = 0\n",
    "\n",
    "# for depth in range(1,21):\n",
    "#   print(f'Working with a tree of a max depth= {depth}')\n",
    "#   # fitting the tree on X_train, y_train\n",
    "#   clf,train_columns = fit_decision_tree(X=X_train_valid,\n",
    "#                            y=y_train_valid,\n",
    "#                            max_depth=depth) #applying custom hyperparam\n",
    "#   # getting the predictions for TEST and accuracy score\n",
    "#   y_pred_valid = clf.predict(X_valid)\n",
    "#   precision_valid = precision_score(y_valid, y_pred_valid)\n",
    "#   y_pred_test = clf.predict(X_test)\n",
    "#   precision_test = precision_score(y_test, y_pred_test)\n",
    "#   print(f'  Precision on test is {precision_test}, (precision on valid is {precision_valid} - tend to overfit)')\n",
    "#   # saving to the dict\n",
    "#   precision_by_depth[depth] = round(precision_test,4)\n",
    "#   # updating the best precision\n",
    "#   if precision_test >= best_precision:\n",
    "#     best_precision = round(precision_test,4)\n",
    "#     best_depth = depth\n",
    "#   # plot tree - long\n",
    "#   # plt.figure(figsize=(20,10))  # Set the size of the figure\n",
    "#   # plot_tree(clf,\n",
    "#   #           filled=True,\n",
    "#   #           feature_names=train_columns,\n",
    "#   #           class_names=['Negative', 'Positive'],\n",
    "#   #           max_depth=2)\n",
    "#   # plt.show()\n",
    "#   # plot tree - short\n",
    "#   tree_rules = export_text(clf, feature_names=list(X_train), max_depth=3)\n",
    "#   print(tree_rules)\n",
    "#   print('------------------------------')\n",
    "\n",
    "# print(f'All precisions by depth: {precision_by_depth}')\n",
    "# print(f'The best precision is {best_precision} and the best depth is {best_depth} ')"
   ]
  },
  {
   "cell_type": "code",
   "execution_count": 92,
   "metadata": {
    "id": "jBptKqeRJlq0"
   },
   "outputs": [],
   "source": [
    "# Results of Hyper parameters tuning for a Decision Tree\n",
    "# print(precision_by_depth)"
   ]
  },
  {
   "cell_type": "code",
   "execution_count": 93,
   "metadata": {
    "id": "telH8WLI7M8M"
   },
   "outputs": [],
   "source": [
    "# pre-calculated results\n",
    "precision_by_depth = {1: 0.5466, 2: 0.5511, 3: 0.5511, 4: 0.5511, 5: 0.6278, 6: 0.5691, 7: 0.5945, 8: 0.5891, 9: 0.5912, 10: 0.5888, 11: 0.5916, 12: 0.5855, 13: 0.5822, 14: 0.592, 15: 0.5833, 16: 0.5898, 17: 0.586, 18: 0.5861, 19: 0.5869, 20: 0.5773}\n",
    "\n",
    "\n"
   ]
  },
  {
   "cell_type": "code",
   "execution_count": 94,
   "metadata": {
    "colab": {
     "base_uri": "https://localhost:8080/",
     "height": 542
    },
    "id": "S2c3OD-Q7olM",
    "outputId": "f37237ac-65b4-425a-d856-663bb328f183"
   },
   "outputs": [
    {
     "data": {
      "application/vnd.plotly.v1+json": {
       "config": {
        "plotlyServerURL": "https://plot.ly"
       },
       "data": [
        {
         "hovertemplate": "Max Depth=%{x}<br>Precision Score=%{text}<extra></extra>",
         "legendgroup": "",
         "marker": {
          "color": "#636efa",
          "pattern": {
           "shape": ""
          }
         },
         "name": "",
         "orientation": "v",
         "showlegend": false,
         "text": {
          "bdata": "FK5H4XpUS0CvR+F6FI5LQK9H4XoUjktAr0fhehSOS0CkcD0K12NPQBWuR+F6dExAmpmZmZm5TUAUrkfhenRNQI/C9Shcj01AcD0K16NwTUAVrkfhepRNQGdmZmZmRk1AXY/C9SgcTUCZmZmZmZlNQAvXo3A9Kk1APQrXo3B9TUDMzMzMzExNQK1H4XoUTk1AuB6F61FYTUA+CtejcN1MQA==",
          "dtype": "f8"
         },
         "textposition": "outside",
         "texttemplate": "%{text:.2f}%",
         "type": "bar",
         "x": {
          "bdata": "AQIDBAUGBwgJCgsMDQ4PEBESExQ=",
          "dtype": "i1"
         },
         "xaxis": "x",
         "y": {
          "bdata": "FK5H4XpUS0CvR+F6FI5LQK9H4XoUjktAr0fhehSOS0CkcD0K12NPQBWuR+F6dExAmpmZmZm5TUAUrkfhenRNQI/C9Shcj01AcD0K16NwTUAVrkfhepRNQGdmZmZmRk1AXY/C9SgcTUCZmZmZmZlNQAvXo3A9Kk1APQrXo3B9TUDMzMzMzExNQK1H4XoUTk1AuB6F61FYTUA+CtejcN1MQA==",
          "dtype": "f8"
         },
         "yaxis": "y"
        }
       ],
       "layout": {
        "barmode": "relative",
        "legend": {
         "tracegroupgap": 0
        },
        "margin": {
         "t": 60
        },
        "template": {
         "data": {
          "bar": [
           {
            "error_x": {
             "color": "#2a3f5f"
            },
            "error_y": {
             "color": "#2a3f5f"
            },
            "marker": {
             "line": {
              "color": "#E5ECF6",
              "width": 0.5
             },
             "pattern": {
              "fillmode": "overlay",
              "size": 10,
              "solidity": 0.2
             }
            },
            "type": "bar"
           }
          ],
          "barpolar": [
           {
            "marker": {
             "line": {
              "color": "#E5ECF6",
              "width": 0.5
             },
             "pattern": {
              "fillmode": "overlay",
              "size": 10,
              "solidity": 0.2
             }
            },
            "type": "barpolar"
           }
          ],
          "carpet": [
           {
            "aaxis": {
             "endlinecolor": "#2a3f5f",
             "gridcolor": "white",
             "linecolor": "white",
             "minorgridcolor": "white",
             "startlinecolor": "#2a3f5f"
            },
            "baxis": {
             "endlinecolor": "#2a3f5f",
             "gridcolor": "white",
             "linecolor": "white",
             "minorgridcolor": "white",
             "startlinecolor": "#2a3f5f"
            },
            "type": "carpet"
           }
          ],
          "choropleth": [
           {
            "colorbar": {
             "outlinewidth": 0,
             "ticks": ""
            },
            "type": "choropleth"
           }
          ],
          "contour": [
           {
            "colorbar": {
             "outlinewidth": 0,
             "ticks": ""
            },
            "colorscale": [
             [
              0,
              "#0d0887"
             ],
             [
              0.1111111111111111,
              "#46039f"
             ],
             [
              0.2222222222222222,
              "#7201a8"
             ],
             [
              0.3333333333333333,
              "#9c179e"
             ],
             [
              0.4444444444444444,
              "#bd3786"
             ],
             [
              0.5555555555555556,
              "#d8576b"
             ],
             [
              0.6666666666666666,
              "#ed7953"
             ],
             [
              0.7777777777777778,
              "#fb9f3a"
             ],
             [
              0.8888888888888888,
              "#fdca26"
             ],
             [
              1,
              "#f0f921"
             ]
            ],
            "type": "contour"
           }
          ],
          "contourcarpet": [
           {
            "colorbar": {
             "outlinewidth": 0,
             "ticks": ""
            },
            "type": "contourcarpet"
           }
          ],
          "heatmap": [
           {
            "colorbar": {
             "outlinewidth": 0,
             "ticks": ""
            },
            "colorscale": [
             [
              0,
              "#0d0887"
             ],
             [
              0.1111111111111111,
              "#46039f"
             ],
             [
              0.2222222222222222,
              "#7201a8"
             ],
             [
              0.3333333333333333,
              "#9c179e"
             ],
             [
              0.4444444444444444,
              "#bd3786"
             ],
             [
              0.5555555555555556,
              "#d8576b"
             ],
             [
              0.6666666666666666,
              "#ed7953"
             ],
             [
              0.7777777777777778,
              "#fb9f3a"
             ],
             [
              0.8888888888888888,
              "#fdca26"
             ],
             [
              1,
              "#f0f921"
             ]
            ],
            "type": "heatmap"
           }
          ],
          "histogram": [
           {
            "marker": {
             "pattern": {
              "fillmode": "overlay",
              "size": 10,
              "solidity": 0.2
             }
            },
            "type": "histogram"
           }
          ],
          "histogram2d": [
           {
            "colorbar": {
             "outlinewidth": 0,
             "ticks": ""
            },
            "colorscale": [
             [
              0,
              "#0d0887"
             ],
             [
              0.1111111111111111,
              "#46039f"
             ],
             [
              0.2222222222222222,
              "#7201a8"
             ],
             [
              0.3333333333333333,
              "#9c179e"
             ],
             [
              0.4444444444444444,
              "#bd3786"
             ],
             [
              0.5555555555555556,
              "#d8576b"
             ],
             [
              0.6666666666666666,
              "#ed7953"
             ],
             [
              0.7777777777777778,
              "#fb9f3a"
             ],
             [
              0.8888888888888888,
              "#fdca26"
             ],
             [
              1,
              "#f0f921"
             ]
            ],
            "type": "histogram2d"
           }
          ],
          "histogram2dcontour": [
           {
            "colorbar": {
             "outlinewidth": 0,
             "ticks": ""
            },
            "colorscale": [
             [
              0,
              "#0d0887"
             ],
             [
              0.1111111111111111,
              "#46039f"
             ],
             [
              0.2222222222222222,
              "#7201a8"
             ],
             [
              0.3333333333333333,
              "#9c179e"
             ],
             [
              0.4444444444444444,
              "#bd3786"
             ],
             [
              0.5555555555555556,
              "#d8576b"
             ],
             [
              0.6666666666666666,
              "#ed7953"
             ],
             [
              0.7777777777777778,
              "#fb9f3a"
             ],
             [
              0.8888888888888888,
              "#fdca26"
             ],
             [
              1,
              "#f0f921"
             ]
            ],
            "type": "histogram2dcontour"
           }
          ],
          "mesh3d": [
           {
            "colorbar": {
             "outlinewidth": 0,
             "ticks": ""
            },
            "type": "mesh3d"
           }
          ],
          "parcoords": [
           {
            "line": {
             "colorbar": {
              "outlinewidth": 0,
              "ticks": ""
             }
            },
            "type": "parcoords"
           }
          ],
          "pie": [
           {
            "automargin": true,
            "type": "pie"
           }
          ],
          "scatter": [
           {
            "fillpattern": {
             "fillmode": "overlay",
             "size": 10,
             "solidity": 0.2
            },
            "type": "scatter"
           }
          ],
          "scatter3d": [
           {
            "line": {
             "colorbar": {
              "outlinewidth": 0,
              "ticks": ""
             }
            },
            "marker": {
             "colorbar": {
              "outlinewidth": 0,
              "ticks": ""
             }
            },
            "type": "scatter3d"
           }
          ],
          "scattercarpet": [
           {
            "marker": {
             "colorbar": {
              "outlinewidth": 0,
              "ticks": ""
             }
            },
            "type": "scattercarpet"
           }
          ],
          "scattergeo": [
           {
            "marker": {
             "colorbar": {
              "outlinewidth": 0,
              "ticks": ""
             }
            },
            "type": "scattergeo"
           }
          ],
          "scattergl": [
           {
            "marker": {
             "colorbar": {
              "outlinewidth": 0,
              "ticks": ""
             }
            },
            "type": "scattergl"
           }
          ],
          "scattermap": [
           {
            "marker": {
             "colorbar": {
              "outlinewidth": 0,
              "ticks": ""
             }
            },
            "type": "scattermap"
           }
          ],
          "scattermapbox": [
           {
            "marker": {
             "colorbar": {
              "outlinewidth": 0,
              "ticks": ""
             }
            },
            "type": "scattermapbox"
           }
          ],
          "scatterpolar": [
           {
            "marker": {
             "colorbar": {
              "outlinewidth": 0,
              "ticks": ""
             }
            },
            "type": "scatterpolar"
           }
          ],
          "scatterpolargl": [
           {
            "marker": {
             "colorbar": {
              "outlinewidth": 0,
              "ticks": ""
             }
            },
            "type": "scatterpolargl"
           }
          ],
          "scatterternary": [
           {
            "marker": {
             "colorbar": {
              "outlinewidth": 0,
              "ticks": ""
             }
            },
            "type": "scatterternary"
           }
          ],
          "surface": [
           {
            "colorbar": {
             "outlinewidth": 0,
             "ticks": ""
            },
            "colorscale": [
             [
              0,
              "#0d0887"
             ],
             [
              0.1111111111111111,
              "#46039f"
             ],
             [
              0.2222222222222222,
              "#7201a8"
             ],
             [
              0.3333333333333333,
              "#9c179e"
             ],
             [
              0.4444444444444444,
              "#bd3786"
             ],
             [
              0.5555555555555556,
              "#d8576b"
             ],
             [
              0.6666666666666666,
              "#ed7953"
             ],
             [
              0.7777777777777778,
              "#fb9f3a"
             ],
             [
              0.8888888888888888,
              "#fdca26"
             ],
             [
              1,
              "#f0f921"
             ]
            ],
            "type": "surface"
           }
          ],
          "table": [
           {
            "cells": {
             "fill": {
              "color": "#EBF0F8"
             },
             "line": {
              "color": "white"
             }
            },
            "header": {
             "fill": {
              "color": "#C8D4E3"
             },
             "line": {
              "color": "white"
             }
            },
            "type": "table"
           }
          ]
         },
         "layout": {
          "annotationdefaults": {
           "arrowcolor": "#2a3f5f",
           "arrowhead": 0,
           "arrowwidth": 1
          },
          "autotypenumbers": "strict",
          "coloraxis": {
           "colorbar": {
            "outlinewidth": 0,
            "ticks": ""
           }
          },
          "colorscale": {
           "diverging": [
            [
             0,
             "#8e0152"
            ],
            [
             0.1,
             "#c51b7d"
            ],
            [
             0.2,
             "#de77ae"
            ],
            [
             0.3,
             "#f1b6da"
            ],
            [
             0.4,
             "#fde0ef"
            ],
            [
             0.5,
             "#f7f7f7"
            ],
            [
             0.6,
             "#e6f5d0"
            ],
            [
             0.7,
             "#b8e186"
            ],
            [
             0.8,
             "#7fbc41"
            ],
            [
             0.9,
             "#4d9221"
            ],
            [
             1,
             "#276419"
            ]
           ],
           "sequential": [
            [
             0,
             "#0d0887"
            ],
            [
             0.1111111111111111,
             "#46039f"
            ],
            [
             0.2222222222222222,
             "#7201a8"
            ],
            [
             0.3333333333333333,
             "#9c179e"
            ],
            [
             0.4444444444444444,
             "#bd3786"
            ],
            [
             0.5555555555555556,
             "#d8576b"
            ],
            [
             0.6666666666666666,
             "#ed7953"
            ],
            [
             0.7777777777777778,
             "#fb9f3a"
            ],
            [
             0.8888888888888888,
             "#fdca26"
            ],
            [
             1,
             "#f0f921"
            ]
           ],
           "sequentialminus": [
            [
             0,
             "#0d0887"
            ],
            [
             0.1111111111111111,
             "#46039f"
            ],
            [
             0.2222222222222222,
             "#7201a8"
            ],
            [
             0.3333333333333333,
             "#9c179e"
            ],
            [
             0.4444444444444444,
             "#bd3786"
            ],
            [
             0.5555555555555556,
             "#d8576b"
            ],
            [
             0.6666666666666666,
             "#ed7953"
            ],
            [
             0.7777777777777778,
             "#fb9f3a"
            ],
            [
             0.8888888888888888,
             "#fdca26"
            ],
            [
             1,
             "#f0f921"
            ]
           ]
          },
          "colorway": [
           "#636efa",
           "#EF553B",
           "#00cc96",
           "#ab63fa",
           "#FFA15A",
           "#19d3f3",
           "#FF6692",
           "#B6E880",
           "#FF97FF",
           "#FECB52"
          ],
          "font": {
           "color": "#2a3f5f"
          },
          "geo": {
           "bgcolor": "white",
           "lakecolor": "white",
           "landcolor": "#E5ECF6",
           "showlakes": true,
           "showland": true,
           "subunitcolor": "white"
          },
          "hoverlabel": {
           "align": "left"
          },
          "hovermode": "closest",
          "mapbox": {
           "style": "light"
          },
          "paper_bgcolor": "white",
          "plot_bgcolor": "#E5ECF6",
          "polar": {
           "angularaxis": {
            "gridcolor": "white",
            "linecolor": "white",
            "ticks": ""
           },
           "bgcolor": "#E5ECF6",
           "radialaxis": {
            "gridcolor": "white",
            "linecolor": "white",
            "ticks": ""
           }
          },
          "scene": {
           "xaxis": {
            "backgroundcolor": "#E5ECF6",
            "gridcolor": "white",
            "gridwidth": 2,
            "linecolor": "white",
            "showbackground": true,
            "ticks": "",
            "zerolinecolor": "white"
           },
           "yaxis": {
            "backgroundcolor": "#E5ECF6",
            "gridcolor": "white",
            "gridwidth": 2,
            "linecolor": "white",
            "showbackground": true,
            "ticks": "",
            "zerolinecolor": "white"
           },
           "zaxis": {
            "backgroundcolor": "#E5ECF6",
            "gridcolor": "white",
            "gridwidth": 2,
            "linecolor": "white",
            "showbackground": true,
            "ticks": "",
            "zerolinecolor": "white"
           }
          },
          "shapedefaults": {
           "line": {
            "color": "#2a3f5f"
           }
          },
          "ternary": {
           "aaxis": {
            "gridcolor": "white",
            "linecolor": "white",
            "ticks": ""
           },
           "baxis": {
            "gridcolor": "white",
            "linecolor": "white",
            "ticks": ""
           },
           "bgcolor": "#E5ECF6",
           "caxis": {
            "gridcolor": "white",
            "linecolor": "white",
            "ticks": ""
           }
          },
          "title": {
           "x": 0.05
          },
          "xaxis": {
           "automargin": true,
           "gridcolor": "white",
           "linecolor": "white",
           "ticks": "",
           "title": {
            "standoff": 15
           },
           "zerolinecolor": "white",
           "zerolinewidth": 2
          },
          "yaxis": {
           "automargin": true,
           "gridcolor": "white",
           "linecolor": "white",
           "ticks": "",
           "title": {
            "standoff": 15
           },
           "zerolinecolor": "white",
           "zerolinewidth": 2
          }
         }
        },
        "title": {
         "text": "Precision Score vs. Max Depth for a Decision Tree",
         "x": 0.5,
         "xanchor": "center"
        },
        "xaxis": {
         "anchor": "y",
         "domain": [
          0,
          1
         ],
         "title": {
          "text": "Max Depth"
         }
        },
        "yaxis": {
         "anchor": "x",
         "domain": [
          0,
          1
         ],
         "range": [
          54,
          65
         ],
         "title": {
          "text": "Precision Score"
         }
        }
       }
      }
     },
     "metadata": {},
     "output_type": "display_data"
    }
   ],
   "source": [
    "# Convert the dictionary to a DataFrame\n",
    "df = pd.DataFrame(list(precision_by_depth.items()), columns=['max_depth', 'precision_score'])\n",
    "df.loc[:,'precision_score'] = df.precision_score*100.0 # need for % visualisation\n",
    "\n",
    "# Create the bar chart using Plotly Express\n",
    "fig = px.bar(df,\n",
    "             x='max_depth',\n",
    "             y='precision_score',\n",
    "            #  title='Precision Score vs. Max Depth for a Decision Tree',\n",
    "             labels={'max_depth': 'Max Depth', 'precision_score': 'Precision Score'},\n",
    "             range_y=[54, 65],\n",
    "             text='precision_score')\n",
    "\n",
    "# Update the text format to display as percentages\n",
    "fig.update_traces(texttemplate='%{text:.2f}%', textposition='outside')\n",
    "\n",
    "# Center the title\n",
    "fig.update_layout(title={'text': 'Precision Score vs. Max Depth for a Decision Tree', 'x': 0.5, 'xanchor': 'center'})\n",
    "\n",
    "\n",
    "# Show the figure\n",
    "fig.show()"
   ]
  },
  {
   "cell_type": "code",
   "execution_count": 95,
   "metadata": {
    "colab": {
     "base_uri": "https://localhost:8080/"
    },
    "id": "fgtL-2b1mQBS",
    "outputId": "79b1613e-2bf0-4394-bc7a-bab7eefc9f29"
   },
   "outputs": [
    {
     "name": "stdout",
     "output_type": "stream",
     "text": [
      "CPU times: user 7.56 s, sys: 325 ms, total: 7.89 s\n",
      "Wall time: 7.99 s\n"
     ]
    }
   ],
   "source": [
    "%%time\n",
    "clf_5, train_columns = fit_decision_tree(X=X_train_valid,\n",
    "                           y=y_train_valid,\n",
    "                           max_depth=5)\n",
    "\n",
    "\n",
    "# predict on a full dataset\n",
    "y_pred_all = clf_5.predict(X_all)\n",
    "\n",
    "\n",
    "# defining a new prediction vector is easy now, as the dimensions will match\n",
    "new_df['pred6_clf_5'] = y_pred_all"
   ]
  },
  {
   "cell_type": "code",
   "execution_count": 96,
   "metadata": {
    "id": "kMVvNpb45feV"
   },
   "outputs": [],
   "source": [
    "# MANUAL SECOND BEST, need some complexity\n",
    "# found earlier in HyperParams Tuning\n",
    "best_depth = 14\n",
    "best_precision = precision_by_depth[best_depth]"
   ]
  },
  {
   "cell_type": "code",
   "execution_count": 97,
   "metadata": {
    "colab": {
     "base_uri": "https://localhost:8080/"
    },
    "id": "ch5o6-kIh8cY",
    "outputId": "4584b36d-3363-4a47-aed7-70af3b87da39"
   },
   "outputs": [
    {
     "name": "stdout",
     "output_type": "stream",
     "text": [
      "Best precision and depth = 14, precision (on test)=0.592\n"
     ]
    }
   ],
   "source": [
    "print(f'Best precision and depth = {best_depth}, precision (on test)={best_precision}')"
   ]
  },
  {
   "cell_type": "code",
   "execution_count": 98,
   "metadata": {
    "colab": {
     "base_uri": "https://localhost:8080/"
    },
    "id": "LSN8cdnGOqOs",
    "outputId": "6b429dbf-2c68-4267-d11f-663ec168bd4c"
   },
   "outputs": [
    {
     "name": "stdout",
     "output_type": "stream",
     "text": [
      "CPU times: user 17.9 s, sys: 119 ms, total: 18 s\n",
      "Wall time: 18 s\n"
     ]
    }
   ],
   "source": [
    "%%time\n",
    "clf_best, train_columns = fit_decision_tree(X=X_train_valid,\n",
    "                           y=y_train_valid,\n",
    "                           max_depth=best_depth)"
   ]
  },
  {
   "cell_type": "code",
   "execution_count": 99,
   "metadata": {
    "colab": {
     "base_uri": "https://localhost:8080/"
    },
    "id": "LONXdouiUT3a",
    "outputId": "33b826ac-54ff-45ff-9af8-57d2bcd4395d"
   },
   "outputs": [
    {
     "name": "stdout",
     "output_type": "stream",
     "text": [
      "Number of nodes: 4613\n",
      "Number of leaves: 2307\n"
     ]
    }
   ],
   "source": [
    "# For a DecisionTreeClassifier in scikit-learn, the concept of trainable parameters differs from that of neural networks.\n",
    "# In decision trees, the parameters are the structure of the tree itself (nodes and splits) rather than weights.\n",
    "# However, you can still get a sense of the model's complexity by looking at the number of nodes and leaves.\n",
    "\n",
    "# Here's how you can get this information for your trained DecisionTreeClassifier (referred to as clf_best):\n",
    "\n",
    "# Get the number of nodes and leaves in the tree\n",
    "n_nodes = clf_best.tree_.node_count\n",
    "n_leaves = clf_best.get_n_leaves()\n",
    "\n",
    "print(f\"Number of nodes: {n_nodes}\")\n",
    "print(f\"Number of leaves: {n_leaves}\")"
   ]
  },
  {
   "cell_type": "code",
   "execution_count": 100,
   "metadata": {
    "colab": {
     "base_uri": "https://localhost:8080/",
     "height": 80
    },
    "id": "UysiM_oNuEya",
    "outputId": "9a5418a5-db43-4da8-b323-8449e4e7b86d"
   },
   "outputs": [
    {
     "data": {
      "text/html": [
       "<style>#sk-container-id-1 {\n",
       "  /* Definition of color scheme common for light and dark mode */\n",
       "  --sklearn-color-text: #000;\n",
       "  --sklearn-color-text-muted: #666;\n",
       "  --sklearn-color-line: gray;\n",
       "  /* Definition of color scheme for unfitted estimators */\n",
       "  --sklearn-color-unfitted-level-0: #fff5e6;\n",
       "  --sklearn-color-unfitted-level-1: #f6e4d2;\n",
       "  --sklearn-color-unfitted-level-2: #ffe0b3;\n",
       "  --sklearn-color-unfitted-level-3: chocolate;\n",
       "  /* Definition of color scheme for fitted estimators */\n",
       "  --sklearn-color-fitted-level-0: #f0f8ff;\n",
       "  --sklearn-color-fitted-level-1: #d4ebff;\n",
       "  --sklearn-color-fitted-level-2: #b3dbfd;\n",
       "  --sklearn-color-fitted-level-3: cornflowerblue;\n",
       "\n",
       "  /* Specific color for light theme */\n",
       "  --sklearn-color-text-on-default-background: var(--sg-text-color, var(--theme-code-foreground, var(--jp-content-font-color1, black)));\n",
       "  --sklearn-color-background: var(--sg-background-color, var(--theme-background, var(--jp-layout-color0, white)));\n",
       "  --sklearn-color-border-box: var(--sg-text-color, var(--theme-code-foreground, var(--jp-content-font-color1, black)));\n",
       "  --sklearn-color-icon: #696969;\n",
       "\n",
       "  @media (prefers-color-scheme: dark) {\n",
       "    /* Redefinition of color scheme for dark theme */\n",
       "    --sklearn-color-text-on-default-background: var(--sg-text-color, var(--theme-code-foreground, var(--jp-content-font-color1, white)));\n",
       "    --sklearn-color-background: var(--sg-background-color, var(--theme-background, var(--jp-layout-color0, #111)));\n",
       "    --sklearn-color-border-box: var(--sg-text-color, var(--theme-code-foreground, var(--jp-content-font-color1, white)));\n",
       "    --sklearn-color-icon: #878787;\n",
       "  }\n",
       "}\n",
       "\n",
       "#sk-container-id-1 {\n",
       "  color: var(--sklearn-color-text);\n",
       "}\n",
       "\n",
       "#sk-container-id-1 pre {\n",
       "  padding: 0;\n",
       "}\n",
       "\n",
       "#sk-container-id-1 input.sk-hidden--visually {\n",
       "  border: 0;\n",
       "  clip: rect(1px 1px 1px 1px);\n",
       "  clip: rect(1px, 1px, 1px, 1px);\n",
       "  height: 1px;\n",
       "  margin: -1px;\n",
       "  overflow: hidden;\n",
       "  padding: 0;\n",
       "  position: absolute;\n",
       "  width: 1px;\n",
       "}\n",
       "\n",
       "#sk-container-id-1 div.sk-dashed-wrapped {\n",
       "  border: 1px dashed var(--sklearn-color-line);\n",
       "  margin: 0 0.4em 0.5em 0.4em;\n",
       "  box-sizing: border-box;\n",
       "  padding-bottom: 0.4em;\n",
       "  background-color: var(--sklearn-color-background);\n",
       "}\n",
       "\n",
       "#sk-container-id-1 div.sk-container {\n",
       "  /* jupyter's `normalize.less` sets `[hidden] { display: none; }`\n",
       "     but bootstrap.min.css set `[hidden] { display: none !important; }`\n",
       "     so we also need the `!important` here to be able to override the\n",
       "     default hidden behavior on the sphinx rendered scikit-learn.org.\n",
       "     See: https://github.com/scikit-learn/scikit-learn/issues/21755 */\n",
       "  display: inline-block !important;\n",
       "  position: relative;\n",
       "}\n",
       "\n",
       "#sk-container-id-1 div.sk-text-repr-fallback {\n",
       "  display: none;\n",
       "}\n",
       "\n",
       "div.sk-parallel-item,\n",
       "div.sk-serial,\n",
       "div.sk-item {\n",
       "  /* draw centered vertical line to link estimators */\n",
       "  background-image: linear-gradient(var(--sklearn-color-text-on-default-background), var(--sklearn-color-text-on-default-background));\n",
       "  background-size: 2px 100%;\n",
       "  background-repeat: no-repeat;\n",
       "  background-position: center center;\n",
       "}\n",
       "\n",
       "/* Parallel-specific style estimator block */\n",
       "\n",
       "#sk-container-id-1 div.sk-parallel-item::after {\n",
       "  content: \"\";\n",
       "  width: 100%;\n",
       "  border-bottom: 2px solid var(--sklearn-color-text-on-default-background);\n",
       "  flex-grow: 1;\n",
       "}\n",
       "\n",
       "#sk-container-id-1 div.sk-parallel {\n",
       "  display: flex;\n",
       "  align-items: stretch;\n",
       "  justify-content: center;\n",
       "  background-color: var(--sklearn-color-background);\n",
       "  position: relative;\n",
       "}\n",
       "\n",
       "#sk-container-id-1 div.sk-parallel-item {\n",
       "  display: flex;\n",
       "  flex-direction: column;\n",
       "}\n",
       "\n",
       "#sk-container-id-1 div.sk-parallel-item:first-child::after {\n",
       "  align-self: flex-end;\n",
       "  width: 50%;\n",
       "}\n",
       "\n",
       "#sk-container-id-1 div.sk-parallel-item:last-child::after {\n",
       "  align-self: flex-start;\n",
       "  width: 50%;\n",
       "}\n",
       "\n",
       "#sk-container-id-1 div.sk-parallel-item:only-child::after {\n",
       "  width: 0;\n",
       "}\n",
       "\n",
       "/* Serial-specific style estimator block */\n",
       "\n",
       "#sk-container-id-1 div.sk-serial {\n",
       "  display: flex;\n",
       "  flex-direction: column;\n",
       "  align-items: center;\n",
       "  background-color: var(--sklearn-color-background);\n",
       "  padding-right: 1em;\n",
       "  padding-left: 1em;\n",
       "}\n",
       "\n",
       "\n",
       "/* Toggleable style: style used for estimator/Pipeline/ColumnTransformer box that is\n",
       "clickable and can be expanded/collapsed.\n",
       "- Pipeline and ColumnTransformer use this feature and define the default style\n",
       "- Estimators will overwrite some part of the style using the `sk-estimator` class\n",
       "*/\n",
       "\n",
       "/* Pipeline and ColumnTransformer style (default) */\n",
       "\n",
       "#sk-container-id-1 div.sk-toggleable {\n",
       "  /* Default theme specific background. It is overwritten whether we have a\n",
       "  specific estimator or a Pipeline/ColumnTransformer */\n",
       "  background-color: var(--sklearn-color-background);\n",
       "}\n",
       "\n",
       "/* Toggleable label */\n",
       "#sk-container-id-1 label.sk-toggleable__label {\n",
       "  cursor: pointer;\n",
       "  display: flex;\n",
       "  width: 100%;\n",
       "  margin-bottom: 0;\n",
       "  padding: 0.5em;\n",
       "  box-sizing: border-box;\n",
       "  text-align: center;\n",
       "  align-items: start;\n",
       "  justify-content: space-between;\n",
       "  gap: 0.5em;\n",
       "}\n",
       "\n",
       "#sk-container-id-1 label.sk-toggleable__label .caption {\n",
       "  font-size: 0.6rem;\n",
       "  font-weight: lighter;\n",
       "  color: var(--sklearn-color-text-muted);\n",
       "}\n",
       "\n",
       "#sk-container-id-1 label.sk-toggleable__label-arrow:before {\n",
       "  /* Arrow on the left of the label */\n",
       "  content: \"▸\";\n",
       "  float: left;\n",
       "  margin-right: 0.25em;\n",
       "  color: var(--sklearn-color-icon);\n",
       "}\n",
       "\n",
       "#sk-container-id-1 label.sk-toggleable__label-arrow:hover:before {\n",
       "  color: var(--sklearn-color-text);\n",
       "}\n",
       "\n",
       "/* Toggleable content - dropdown */\n",
       "\n",
       "#sk-container-id-1 div.sk-toggleable__content {\n",
       "  display: none;\n",
       "  text-align: left;\n",
       "  /* unfitted */\n",
       "  background-color: var(--sklearn-color-unfitted-level-0);\n",
       "}\n",
       "\n",
       "#sk-container-id-1 div.sk-toggleable__content.fitted {\n",
       "  /* fitted */\n",
       "  background-color: var(--sklearn-color-fitted-level-0);\n",
       "}\n",
       "\n",
       "#sk-container-id-1 div.sk-toggleable__content pre {\n",
       "  margin: 0.2em;\n",
       "  border-radius: 0.25em;\n",
       "  color: var(--sklearn-color-text);\n",
       "  /* unfitted */\n",
       "  background-color: var(--sklearn-color-unfitted-level-0);\n",
       "}\n",
       "\n",
       "#sk-container-id-1 div.sk-toggleable__content.fitted pre {\n",
       "  /* unfitted */\n",
       "  background-color: var(--sklearn-color-fitted-level-0);\n",
       "}\n",
       "\n",
       "#sk-container-id-1 input.sk-toggleable__control:checked~div.sk-toggleable__content {\n",
       "  /* Expand drop-down */\n",
       "  display: block;\n",
       "  width: 100%;\n",
       "  overflow: visible;\n",
       "}\n",
       "\n",
       "#sk-container-id-1 input.sk-toggleable__control:checked~label.sk-toggleable__label-arrow:before {\n",
       "  content: \"▾\";\n",
       "}\n",
       "\n",
       "/* Pipeline/ColumnTransformer-specific style */\n",
       "\n",
       "#sk-container-id-1 div.sk-label input.sk-toggleable__control:checked~label.sk-toggleable__label {\n",
       "  color: var(--sklearn-color-text);\n",
       "  background-color: var(--sklearn-color-unfitted-level-2);\n",
       "}\n",
       "\n",
       "#sk-container-id-1 div.sk-label.fitted input.sk-toggleable__control:checked~label.sk-toggleable__label {\n",
       "  background-color: var(--sklearn-color-fitted-level-2);\n",
       "}\n",
       "\n",
       "/* Estimator-specific style */\n",
       "\n",
       "/* Colorize estimator box */\n",
       "#sk-container-id-1 div.sk-estimator input.sk-toggleable__control:checked~label.sk-toggleable__label {\n",
       "  /* unfitted */\n",
       "  background-color: var(--sklearn-color-unfitted-level-2);\n",
       "}\n",
       "\n",
       "#sk-container-id-1 div.sk-estimator.fitted input.sk-toggleable__control:checked~label.sk-toggleable__label {\n",
       "  /* fitted */\n",
       "  background-color: var(--sklearn-color-fitted-level-2);\n",
       "}\n",
       "\n",
       "#sk-container-id-1 div.sk-label label.sk-toggleable__label,\n",
       "#sk-container-id-1 div.sk-label label {\n",
       "  /* The background is the default theme color */\n",
       "  color: var(--sklearn-color-text-on-default-background);\n",
       "}\n",
       "\n",
       "/* On hover, darken the color of the background */\n",
       "#sk-container-id-1 div.sk-label:hover label.sk-toggleable__label {\n",
       "  color: var(--sklearn-color-text);\n",
       "  background-color: var(--sklearn-color-unfitted-level-2);\n",
       "}\n",
       "\n",
       "/* Label box, darken color on hover, fitted */\n",
       "#sk-container-id-1 div.sk-label.fitted:hover label.sk-toggleable__label.fitted {\n",
       "  color: var(--sklearn-color-text);\n",
       "  background-color: var(--sklearn-color-fitted-level-2);\n",
       "}\n",
       "\n",
       "/* Estimator label */\n",
       "\n",
       "#sk-container-id-1 div.sk-label label {\n",
       "  font-family: monospace;\n",
       "  font-weight: bold;\n",
       "  display: inline-block;\n",
       "  line-height: 1.2em;\n",
       "}\n",
       "\n",
       "#sk-container-id-1 div.sk-label-container {\n",
       "  text-align: center;\n",
       "}\n",
       "\n",
       "/* Estimator-specific */\n",
       "#sk-container-id-1 div.sk-estimator {\n",
       "  font-family: monospace;\n",
       "  border: 1px dotted var(--sklearn-color-border-box);\n",
       "  border-radius: 0.25em;\n",
       "  box-sizing: border-box;\n",
       "  margin-bottom: 0.5em;\n",
       "  /* unfitted */\n",
       "  background-color: var(--sklearn-color-unfitted-level-0);\n",
       "}\n",
       "\n",
       "#sk-container-id-1 div.sk-estimator.fitted {\n",
       "  /* fitted */\n",
       "  background-color: var(--sklearn-color-fitted-level-0);\n",
       "}\n",
       "\n",
       "/* on hover */\n",
       "#sk-container-id-1 div.sk-estimator:hover {\n",
       "  /* unfitted */\n",
       "  background-color: var(--sklearn-color-unfitted-level-2);\n",
       "}\n",
       "\n",
       "#sk-container-id-1 div.sk-estimator.fitted:hover {\n",
       "  /* fitted */\n",
       "  background-color: var(--sklearn-color-fitted-level-2);\n",
       "}\n",
       "\n",
       "/* Specification for estimator info (e.g. \"i\" and \"?\") */\n",
       "\n",
       "/* Common style for \"i\" and \"?\" */\n",
       "\n",
       ".sk-estimator-doc-link,\n",
       "a:link.sk-estimator-doc-link,\n",
       "a:visited.sk-estimator-doc-link {\n",
       "  float: right;\n",
       "  font-size: smaller;\n",
       "  line-height: 1em;\n",
       "  font-family: monospace;\n",
       "  background-color: var(--sklearn-color-background);\n",
       "  border-radius: 1em;\n",
       "  height: 1em;\n",
       "  width: 1em;\n",
       "  text-decoration: none !important;\n",
       "  margin-left: 0.5em;\n",
       "  text-align: center;\n",
       "  /* unfitted */\n",
       "  border: var(--sklearn-color-unfitted-level-1) 1pt solid;\n",
       "  color: var(--sklearn-color-unfitted-level-1);\n",
       "}\n",
       "\n",
       ".sk-estimator-doc-link.fitted,\n",
       "a:link.sk-estimator-doc-link.fitted,\n",
       "a:visited.sk-estimator-doc-link.fitted {\n",
       "  /* fitted */\n",
       "  border: var(--sklearn-color-fitted-level-1) 1pt solid;\n",
       "  color: var(--sklearn-color-fitted-level-1);\n",
       "}\n",
       "\n",
       "/* On hover */\n",
       "div.sk-estimator:hover .sk-estimator-doc-link:hover,\n",
       ".sk-estimator-doc-link:hover,\n",
       "div.sk-label-container:hover .sk-estimator-doc-link:hover,\n",
       ".sk-estimator-doc-link:hover {\n",
       "  /* unfitted */\n",
       "  background-color: var(--sklearn-color-unfitted-level-3);\n",
       "  color: var(--sklearn-color-background);\n",
       "  text-decoration: none;\n",
       "}\n",
       "\n",
       "div.sk-estimator.fitted:hover .sk-estimator-doc-link.fitted:hover,\n",
       ".sk-estimator-doc-link.fitted:hover,\n",
       "div.sk-label-container:hover .sk-estimator-doc-link.fitted:hover,\n",
       ".sk-estimator-doc-link.fitted:hover {\n",
       "  /* fitted */\n",
       "  background-color: var(--sklearn-color-fitted-level-3);\n",
       "  color: var(--sklearn-color-background);\n",
       "  text-decoration: none;\n",
       "}\n",
       "\n",
       "/* Span, style for the box shown on hovering the info icon */\n",
       ".sk-estimator-doc-link span {\n",
       "  display: none;\n",
       "  z-index: 9999;\n",
       "  position: relative;\n",
       "  font-weight: normal;\n",
       "  right: .2ex;\n",
       "  padding: .5ex;\n",
       "  margin: .5ex;\n",
       "  width: min-content;\n",
       "  min-width: 20ex;\n",
       "  max-width: 50ex;\n",
       "  color: var(--sklearn-color-text);\n",
       "  box-shadow: 2pt 2pt 4pt #999;\n",
       "  /* unfitted */\n",
       "  background: var(--sklearn-color-unfitted-level-0);\n",
       "  border: .5pt solid var(--sklearn-color-unfitted-level-3);\n",
       "}\n",
       "\n",
       ".sk-estimator-doc-link.fitted span {\n",
       "  /* fitted */\n",
       "  background: var(--sklearn-color-fitted-level-0);\n",
       "  border: var(--sklearn-color-fitted-level-3);\n",
       "}\n",
       "\n",
       ".sk-estimator-doc-link:hover span {\n",
       "  display: block;\n",
       "}\n",
       "\n",
       "/* \"?\"-specific style due to the `<a>` HTML tag */\n",
       "\n",
       "#sk-container-id-1 a.estimator_doc_link {\n",
       "  float: right;\n",
       "  font-size: 1rem;\n",
       "  line-height: 1em;\n",
       "  font-family: monospace;\n",
       "  background-color: var(--sklearn-color-background);\n",
       "  border-radius: 1rem;\n",
       "  height: 1rem;\n",
       "  width: 1rem;\n",
       "  text-decoration: none;\n",
       "  /* unfitted */\n",
       "  color: var(--sklearn-color-unfitted-level-1);\n",
       "  border: var(--sklearn-color-unfitted-level-1) 1pt solid;\n",
       "}\n",
       "\n",
       "#sk-container-id-1 a.estimator_doc_link.fitted {\n",
       "  /* fitted */\n",
       "  border: var(--sklearn-color-fitted-level-1) 1pt solid;\n",
       "  color: var(--sklearn-color-fitted-level-1);\n",
       "}\n",
       "\n",
       "/* On hover */\n",
       "#sk-container-id-1 a.estimator_doc_link:hover {\n",
       "  /* unfitted */\n",
       "  background-color: var(--sklearn-color-unfitted-level-3);\n",
       "  color: var(--sklearn-color-background);\n",
       "  text-decoration: none;\n",
       "}\n",
       "\n",
       "#sk-container-id-1 a.estimator_doc_link.fitted:hover {\n",
       "  /* fitted */\n",
       "  background-color: var(--sklearn-color-fitted-level-3);\n",
       "}\n",
       "\n",
       ".estimator-table summary {\n",
       "    padding: .5rem;\n",
       "    font-family: monospace;\n",
       "    cursor: pointer;\n",
       "}\n",
       "\n",
       ".estimator-table details[open] {\n",
       "    padding-left: 0.1rem;\n",
       "    padding-right: 0.1rem;\n",
       "    padding-bottom: 0.3rem;\n",
       "}\n",
       "\n",
       ".estimator-table .parameters-table {\n",
       "    margin-left: auto !important;\n",
       "    margin-right: auto !important;\n",
       "}\n",
       "\n",
       ".estimator-table .parameters-table tr:nth-child(odd) {\n",
       "    background-color: #fff;\n",
       "}\n",
       "\n",
       ".estimator-table .parameters-table tr:nth-child(even) {\n",
       "    background-color: #f6f6f6;\n",
       "}\n",
       "\n",
       ".estimator-table .parameters-table tr:hover {\n",
       "    background-color: #e0e0e0;\n",
       "}\n",
       "\n",
       ".estimator-table table td {\n",
       "    border: 1px solid rgba(106, 105, 104, 0.232);\n",
       "}\n",
       "\n",
       ".user-set td {\n",
       "    color:rgb(255, 94, 0);\n",
       "    text-align: left;\n",
       "}\n",
       "\n",
       ".user-set td.value pre {\n",
       "    color:rgb(255, 94, 0) !important;\n",
       "    background-color: transparent !important;\n",
       "}\n",
       "\n",
       ".default td {\n",
       "    color: black;\n",
       "    text-align: left;\n",
       "}\n",
       "\n",
       ".user-set td i,\n",
       ".default td i {\n",
       "    color: black;\n",
       "}\n",
       "\n",
       ".copy-paste-icon {\n",
       "    background-image: url(data:image/svg+xml;base64,PHN2ZyB4bWxucz0iaHR0cDovL3d3dy53My5vcmcvMjAwMC9zdmciIHZpZXdCb3g9IjAgMCA0NDggNTEyIj48IS0tIUZvbnQgQXdlc29tZSBGcmVlIDYuNy4yIGJ5IEBmb250YXdlc29tZSAtIGh0dHBzOi8vZm9udGF3ZXNvbWUuY29tIExpY2Vuc2UgLSBodHRwczovL2ZvbnRhd2Vzb21lLmNvbS9saWNlbnNlL2ZyZWUgQ29weXJpZ2h0IDIwMjUgRm9udGljb25zLCBJbmMuLS0+PHBhdGggZD0iTTIwOCAwTDMzMi4xIDBjMTIuNyAwIDI0LjkgNS4xIDMzLjkgMTQuMWw2Ny45IDY3LjljOSA5IDE0LjEgMjEuMiAxNC4xIDMzLjlMNDQ4IDMzNmMwIDI2LjUtMjEuNSA0OC00OCA0OGwtMTkyIDBjLTI2LjUgMC00OC0yMS41LTQ4LTQ4bDAtMjg4YzAtMjYuNSAyMS41LTQ4IDQ4LTQ4ek00OCAxMjhsODAgMCAwIDY0LTY0IDAgMCAyNTYgMTkyIDAgMC0zMiA2NCAwIDAgNDhjMCAyNi41LTIxLjUgNDgtNDggNDhMNDggNTEyYy0yNi41IDAtNDgtMjEuNS00OC00OEwwIDE3NmMwLTI2LjUgMjEuNS00OCA0OC00OHoiLz48L3N2Zz4=);\n",
       "    background-repeat: no-repeat;\n",
       "    background-size: 14px 14px;\n",
       "    background-position: 0;\n",
       "    display: inline-block;\n",
       "    width: 14px;\n",
       "    height: 14px;\n",
       "    cursor: pointer;\n",
       "}\n",
       "</style><body><div id=\"sk-container-id-1\" class=\"sk-top-container\"><div class=\"sk-text-repr-fallback\"><pre>DecisionTreeClassifier(max_depth=14, random_state=42)</pre><b>In a Jupyter environment, please rerun this cell to show the HTML representation or trust the notebook. <br />On GitHub, the HTML representation is unable to render, please try loading this page with nbviewer.org.</b></div><div class=\"sk-container\" hidden><div class=\"sk-item\"><div class=\"sk-estimator fitted sk-toggleable\"><input class=\"sk-toggleable__control sk-hidden--visually\" id=\"sk-estimator-id-1\" type=\"checkbox\" checked><label for=\"sk-estimator-id-1\" class=\"sk-toggleable__label fitted sk-toggleable__label-arrow\"><div><div>DecisionTreeClassifier</div></div><div><a class=\"sk-estimator-doc-link fitted\" rel=\"noreferrer\" target=\"_blank\" href=\"https://scikit-learn.org/1.7/modules/generated/sklearn.tree.DecisionTreeClassifier.html\">?<span>Documentation for DecisionTreeClassifier</span></a><span class=\"sk-estimator-doc-link fitted\">i<span>Fitted</span></span></div></label><div class=\"sk-toggleable__content fitted\" data-param-prefix=\"\">\n",
       "        <div class=\"estimator-table\">\n",
       "            <details>\n",
       "                <summary>Parameters</summary>\n",
       "                <table class=\"parameters-table\">\n",
       "                  <tbody>\n",
       "                    \n",
       "        <tr class=\"default\">\n",
       "            <td><i class=\"copy-paste-icon\"\n",
       "                 onclick=\"copyToClipboard('criterion',\n",
       "                          this.parentElement.nextElementSibling)\"\n",
       "            ></i></td>\n",
       "            <td class=\"param\">criterion&nbsp;</td>\n",
       "            <td class=\"value\">&#x27;gini&#x27;</td>\n",
       "        </tr>\n",
       "    \n",
       "\n",
       "        <tr class=\"default\">\n",
       "            <td><i class=\"copy-paste-icon\"\n",
       "                 onclick=\"copyToClipboard('splitter',\n",
       "                          this.parentElement.nextElementSibling)\"\n",
       "            ></i></td>\n",
       "            <td class=\"param\">splitter&nbsp;</td>\n",
       "            <td class=\"value\">&#x27;best&#x27;</td>\n",
       "        </tr>\n",
       "    \n",
       "\n",
       "        <tr class=\"user-set\">\n",
       "            <td><i class=\"copy-paste-icon\"\n",
       "                 onclick=\"copyToClipboard('max_depth',\n",
       "                          this.parentElement.nextElementSibling)\"\n",
       "            ></i></td>\n",
       "            <td class=\"param\">max_depth&nbsp;</td>\n",
       "            <td class=\"value\">14</td>\n",
       "        </tr>\n",
       "    \n",
       "\n",
       "        <tr class=\"default\">\n",
       "            <td><i class=\"copy-paste-icon\"\n",
       "                 onclick=\"copyToClipboard('min_samples_split',\n",
       "                          this.parentElement.nextElementSibling)\"\n",
       "            ></i></td>\n",
       "            <td class=\"param\">min_samples_split&nbsp;</td>\n",
       "            <td class=\"value\">2</td>\n",
       "        </tr>\n",
       "    \n",
       "\n",
       "        <tr class=\"default\">\n",
       "            <td><i class=\"copy-paste-icon\"\n",
       "                 onclick=\"copyToClipboard('min_samples_leaf',\n",
       "                          this.parentElement.nextElementSibling)\"\n",
       "            ></i></td>\n",
       "            <td class=\"param\">min_samples_leaf&nbsp;</td>\n",
       "            <td class=\"value\">1</td>\n",
       "        </tr>\n",
       "    \n",
       "\n",
       "        <tr class=\"default\">\n",
       "            <td><i class=\"copy-paste-icon\"\n",
       "                 onclick=\"copyToClipboard('min_weight_fraction_leaf',\n",
       "                          this.parentElement.nextElementSibling)\"\n",
       "            ></i></td>\n",
       "            <td class=\"param\">min_weight_fraction_leaf&nbsp;</td>\n",
       "            <td class=\"value\">0.0</td>\n",
       "        </tr>\n",
       "    \n",
       "\n",
       "        <tr class=\"default\">\n",
       "            <td><i class=\"copy-paste-icon\"\n",
       "                 onclick=\"copyToClipboard('max_features',\n",
       "                          this.parentElement.nextElementSibling)\"\n",
       "            ></i></td>\n",
       "            <td class=\"param\">max_features&nbsp;</td>\n",
       "            <td class=\"value\">None</td>\n",
       "        </tr>\n",
       "    \n",
       "\n",
       "        <tr class=\"user-set\">\n",
       "            <td><i class=\"copy-paste-icon\"\n",
       "                 onclick=\"copyToClipboard('random_state',\n",
       "                          this.parentElement.nextElementSibling)\"\n",
       "            ></i></td>\n",
       "            <td class=\"param\">random_state&nbsp;</td>\n",
       "            <td class=\"value\">42</td>\n",
       "        </tr>\n",
       "    \n",
       "\n",
       "        <tr class=\"default\">\n",
       "            <td><i class=\"copy-paste-icon\"\n",
       "                 onclick=\"copyToClipboard('max_leaf_nodes',\n",
       "                          this.parentElement.nextElementSibling)\"\n",
       "            ></i></td>\n",
       "            <td class=\"param\">max_leaf_nodes&nbsp;</td>\n",
       "            <td class=\"value\">None</td>\n",
       "        </tr>\n",
       "    \n",
       "\n",
       "        <tr class=\"default\">\n",
       "            <td><i class=\"copy-paste-icon\"\n",
       "                 onclick=\"copyToClipboard('min_impurity_decrease',\n",
       "                          this.parentElement.nextElementSibling)\"\n",
       "            ></i></td>\n",
       "            <td class=\"param\">min_impurity_decrease&nbsp;</td>\n",
       "            <td class=\"value\">0.0</td>\n",
       "        </tr>\n",
       "    \n",
       "\n",
       "        <tr class=\"default\">\n",
       "            <td><i class=\"copy-paste-icon\"\n",
       "                 onclick=\"copyToClipboard('class_weight',\n",
       "                          this.parentElement.nextElementSibling)\"\n",
       "            ></i></td>\n",
       "            <td class=\"param\">class_weight&nbsp;</td>\n",
       "            <td class=\"value\">None</td>\n",
       "        </tr>\n",
       "    \n",
       "\n",
       "        <tr class=\"default\">\n",
       "            <td><i class=\"copy-paste-icon\"\n",
       "                 onclick=\"copyToClipboard('ccp_alpha',\n",
       "                          this.parentElement.nextElementSibling)\"\n",
       "            ></i></td>\n",
       "            <td class=\"param\">ccp_alpha&nbsp;</td>\n",
       "            <td class=\"value\">0.0</td>\n",
       "        </tr>\n",
       "    \n",
       "\n",
       "        <tr class=\"default\">\n",
       "            <td><i class=\"copy-paste-icon\"\n",
       "                 onclick=\"copyToClipboard('monotonic_cst',\n",
       "                          this.parentElement.nextElementSibling)\"\n",
       "            ></i></td>\n",
       "            <td class=\"param\">monotonic_cst&nbsp;</td>\n",
       "            <td class=\"value\">None</td>\n",
       "        </tr>\n",
       "    \n",
       "                  </tbody>\n",
       "                </table>\n",
       "            </details>\n",
       "        </div>\n",
       "    </div></div></div></div></div><script>function copyToClipboard(text, element) {\n",
       "    // Get the parameter prefix from the closest toggleable content\n",
       "    const toggleableContent = element.closest('.sk-toggleable__content');\n",
       "    const paramPrefix = toggleableContent ? toggleableContent.dataset.paramPrefix : '';\n",
       "    const fullParamName = paramPrefix ? `${paramPrefix}${text}` : text;\n",
       "\n",
       "    const originalStyle = element.style;\n",
       "    const computedStyle = window.getComputedStyle(element);\n",
       "    const originalWidth = computedStyle.width;\n",
       "    const originalHTML = element.innerHTML.replace('Copied!', '');\n",
       "\n",
       "    navigator.clipboard.writeText(fullParamName)\n",
       "        .then(() => {\n",
       "            element.style.width = originalWidth;\n",
       "            element.style.color = 'green';\n",
       "            element.innerHTML = \"Copied!\";\n",
       "\n",
       "            setTimeout(() => {\n",
       "                element.innerHTML = originalHTML;\n",
       "                element.style = originalStyle;\n",
       "            }, 2000);\n",
       "        })\n",
       "        .catch(err => {\n",
       "            console.error('Failed to copy:', err);\n",
       "            element.style.color = 'red';\n",
       "            element.innerHTML = \"Failed!\";\n",
       "            setTimeout(() => {\n",
       "                element.innerHTML = originalHTML;\n",
       "                element.style = originalStyle;\n",
       "            }, 2000);\n",
       "        });\n",
       "    return false;\n",
       "}\n",
       "\n",
       "document.querySelectorAll('.fa-regular.fa-copy').forEach(function(element) {\n",
       "    const toggleableContent = element.closest('.sk-toggleable__content');\n",
       "    const paramPrefix = toggleableContent ? toggleableContent.dataset.paramPrefix : '';\n",
       "    const paramName = element.parentElement.nextElementSibling.textContent.trim();\n",
       "    const fullParamName = paramPrefix ? `${paramPrefix}${paramName}` : paramName;\n",
       "\n",
       "    element.setAttribute('title', fullParamName);\n",
       "});\n",
       "</script></body>"
      ],
      "text/plain": [
       "DecisionTreeClassifier(max_depth=14, random_state=42)"
      ]
     },
     "execution_count": 100,
     "metadata": {},
     "output_type": "execute_result"
    }
   ],
   "source": [
    "clf_best"
   ]
  },
  {
   "cell_type": "code",
   "execution_count": 101,
   "metadata": {
    "id": "ssVOwYARitYI"
   },
   "outputs": [],
   "source": [
    "# predict on a full dataset\n",
    "y_pred_clf_best = clf_best.predict(X_all)"
   ]
  },
  {
   "cell_type": "code",
   "execution_count": 102,
   "metadata": {
    "id": "kSd5yM76i9hJ"
   },
   "outputs": [],
   "source": [
    "# defining a new prediction vector is easy now, as the dimensions will match\n",
    "new_df['pred7_clf_second_best'] = y_pred_clf_best"
   ]
  },
  {
   "cell_type": "code",
   "execution_count": 103,
   "metadata": {
    "colab": {
     "base_uri": "https://localhost:8080/"
    },
    "id": "-aLXGlrejBnx",
    "outputId": "e1c5c28b-6f1a-40d5-d175-b42bc1a5d719"
   },
   "outputs": [
    {
     "name": "stdout",
     "output_type": "stream",
     "text": [
      "Prediction columns founded: ['pred0_manual_cci', 'pred1_manual_prev_g1', 'pred2_manual_prev_g1_and_snp', 'pred3_manual_dgs10_5', 'pred4_manual_dgs10_fedfunds', 'pred5_clf_10', 'pred6_clf_5', 'pred7_clf_second_best']\n",
      "Created columns is_correct: ['is_correct_pred0', 'is_correct_pred1', 'is_correct_pred2', 'is_correct_pred3', 'is_correct_pred4', 'is_correct_pred5', 'is_correct_pred6', 'is_correct_pred7']\n",
      "Precision on TEST set for each prediction:\n",
      "Prediction column:pred0_manual_cci , is_correct_column: is_correct_pred0\n",
      "is_correct_pred0\n",
      "1    443\n",
      "0    351\n",
      "Name: count, dtype: int64\n",
      "is_correct_pred0\n",
      "1    0.557935\n",
      "0    0.442065\n",
      "Name: count, dtype: float64\n",
      "---------\n",
      "Prediction column:pred1_manual_prev_g1 , is_correct_column: is_correct_pred1\n",
      "is_correct_pred1\n",
      "1    9748\n",
      "0    8243\n",
      "Name: count, dtype: int64\n",
      "is_correct_pred1\n",
      "1    0.541826\n",
      "0    0.458174\n",
      "Name: count, dtype: float64\n",
      "---------\n",
      "Prediction column:pred2_manual_prev_g1_and_snp , is_correct_column: is_correct_pred2\n",
      "is_correct_pred2\n",
      "1    6984\n",
      "0    6383\n",
      "Name: count, dtype: int64\n",
      "is_correct_pred2\n",
      "1    0.522481\n",
      "0    0.477519\n",
      "Name: count, dtype: float64\n",
      "---------\n",
      "Prediction column:pred3_manual_dgs10_5 , is_correct_column: is_correct_pred3\n",
      "is_correct_pred3\n",
      "1    578\n",
      "0    419\n",
      "Name: count, dtype: int64\n",
      "is_correct_pred3\n",
      "1    0.579739\n",
      "0    0.420261\n",
      "Name: count, dtype: float64\n",
      "---------\n",
      "Prediction column:pred4_manual_dgs10_fedfunds , is_correct_column: is_correct_pred4\n",
      "is_correct_pred4\n",
      "0    3020\n",
      "1    2640\n",
      "Name: count, dtype: int64\n",
      "is_correct_pred4\n",
      "0    0.533569\n",
      "1    0.466431\n",
      "Name: count, dtype: float64\n",
      "---------\n",
      "Prediction column:pred5_clf_10 , is_correct_column: is_correct_pred5\n",
      "is_correct_pred5\n",
      "1    10897\n",
      "0     7740\n",
      "Name: count, dtype: int64\n",
      "is_correct_pred5\n",
      "1    0.584697\n",
      "0    0.415303\n",
      "Name: count, dtype: float64\n",
      "---------\n",
      "Prediction column:pred6_clf_5 , is_correct_column: is_correct_pred6\n",
      "is_correct_pred6\n",
      "1    11585\n",
      "0     6867\n",
      "Name: count, dtype: int64\n",
      "is_correct_pred6\n",
      "1    0.627845\n",
      "0    0.372155\n",
      "Name: count, dtype: float64\n",
      "---------\n",
      "Prediction column:pred7_clf_second_best , is_correct_column: is_correct_pred7\n",
      "is_correct_pred7\n",
      "1    11021\n",
      "0     7858\n",
      "Name: count, dtype: int64\n",
      "is_correct_pred7\n",
      "1    0.58377\n",
      "0    0.41623\n",
      "Name: count, dtype: float64\n",
      "---------\n"
     ]
    }
   ],
   "source": [
    "# new prediction is added --> need to recalculate the correctness\n",
    "PREDICTIONS, IS_CORRECT = get_predictions_correctness(new_df, to_predict='is_positive_growth_30d_future')"
   ]
  },
  {
   "cell_type": "markdown",
   "metadata": {
    "id": "YMb57_560bzU"
   },
   "source": [
    "### 1.2.4) Two ways of visualisation"
   ]
  },
  {
   "cell_type": "code",
   "execution_count": 104,
   "metadata": {
    "colab": {
     "base_uri": "https://localhost:8080/"
    },
    "id": "qkZURyzr0gA6",
    "outputId": "10c8235a-9f56-4c65-bb91-a0b783724d20"
   },
   "outputs": [],
   "source": [
    "# train a simple tree\n",
    "clf_2,train_columns = fit_decision_tree(X=X_train_valid,\n",
    "                           y=y_train_valid,\n",
    "                           max_depth=2)"
   ]
  },
  {
   "cell_type": "code",
   "execution_count": 105,
   "metadata": {
    "colab": {
     "base_uri": "https://localhost:8080/",
     "height": 807
    },
    "id": "heIpgsBe0pCp",
    "outputId": "1626054c-a4c8-4069-aa36-65ee97a2a849"
   },
   "outputs": [
    {
     "data": {
      "image/png": "[encoded data removed]",
      "text/plain": [
       "<Figure size 1200x1000 with 1 Axes>"
      ]
     },
     "metadata": {},
     "output_type": "display_data"
    }
   ],
   "source": [
    "# Visualisation: decision tree for a few levels (max_depth variable)\n",
    "from sklearn.tree import plot_tree\n",
    "import matplotlib.pyplot as plt\n",
    "\n",
    "# Assuming clf_2 is your trained DecisionTreeClassifier\n",
    "plt.figure(figsize=(12,10))  # Set the size of the figure\n",
    "plot_tree(clf_2,\n",
    "          filled=True,\n",
    "          feature_names=train_columns,\n",
    "          class_names=['Negative', 'Positive'],\n",
    "          max_depth=2)\n",
    "plt.show()"
   ]
  },
  {
   "cell_type": "code",
   "execution_count": 106,
   "metadata": {
    "colab": {
     "base_uri": "https://localhost:8080/"
    },
    "id": "ad2EhCT60x-q",
    "outputId": "e21cc194-0650-4a09-e6c7-2bda0928715a"
   },
   "outputs": [
    {
     "name": "stdout",
     "output_type": "stream",
     "text": [
      "|--- DGS10 <= 4.83\n",
      "|   |--- DGS5 <= 0.75\n",
      "|   |   |--- class: 1\n",
      "|   |--- DGS5 >  0.75\n",
      "|   |   |--- class: 1\n",
      "|--- DGS10 >  4.83\n",
      "|   |--- FEDFUNDS <= 4.80\n",
      "|   |   |--- class: 0\n",
      "|   |--- FEDFUNDS >  4.80\n",
      "|   |   |--- class: 1\n",
      "\n"
     ]
    }
   ],
   "source": [
    "  tree_rules = export_text(clf_2, feature_names=list(X_train), max_depth=1)\n",
    "  print(tree_rules)"
   ]
  },
  {
   "cell_type": "markdown",
   "metadata": {
    "id": "_TwQPijVhnLs"
   },
   "source": [
    "## 1.3) [Code Snippet 3] Random Forest\n",
    "https://scikit-learn.org/stable/modules/ensemble.html#random-forests-and-other-randomized-tree-ensembles"
   ]
  },
  {
   "cell_type": "code",
   "execution_count": 107,
   "metadata": {
    "id": "qpJms3PEkDcM"
   },
   "outputs": [],
   "source": [
    "from sklearn.ensemble import RandomForestClassifier\n",
    "import time\n",
    "\n",
    "# (12 min runtime FOR v28 machine) UNCOMMENT BELOW TO RUN HYPERPARAMs optimisation again"
   ]
  },
  {
   "cell_type": "code",
   "execution_count": 108,
   "metadata": {
    "id": "Rio-RMfjhqK6"
   },
   "outputs": [],
   "source": [
    "# %%time\n",
    "# # hyper params tuning\n",
    "\n",
    "# precision_matrix = {}\n",
    "# best_precision = 0\n",
    "# best_depth = 0\n",
    "# best_estimators = 1\n",
    "\n",
    "# for depth in [5, 7, 9, 11, 13, 15, 17, 19]:\n",
    "#   for estimators in [10,50,100,200]:\n",
    "#     print(f'Working with HyperParams: depth = {depth}, estimators = {estimators}')\n",
    "\n",
    "#     # Start timing\n",
    "#     start_time = time.time()\n",
    "#     # fitting the tree on X_train, y_train\n",
    "#     rf = RandomForestClassifier(n_estimators = estimators,\n",
    "#                                 max_depth = depth,\n",
    "#                                 random_state = 42,\n",
    "#                                 n_jobs = -1)\n",
    "\n",
    "#     rf = rf.fit(X_train_valid, y_train_valid)\n",
    "\n",
    "#     # getting the predictions for TEST and accuracy score\n",
    "#     y_pred_valid = rf.predict(X_valid)\n",
    "#     precision_valid = precision_score(y_valid, y_pred_valid)\n",
    "#     y_pred_test = rf.predict(X_test)\n",
    "#     precision_test = precision_score(y_test, y_pred_test)\n",
    "#     print(f'  Precision on test is {precision_test}, (precision on valid is {precision_valid} - tend to overfit)')\n",
    "\n",
    "#     # saving to the dict\n",
    "#     precision_matrix[depth, estimators] = round(precision_test,4)\n",
    "\n",
    "#     # Measure elapsed time\n",
    "#     elapsed_time = time.time() - start_time\n",
    "#     print(f'Time for training: {elapsed_time:.2f} seconds, or {elapsed_time/60:.2f} minutes')\n",
    "\n",
    "#     # updating the best precision\n",
    "#     if precision_test >= best_precision:\n",
    "#       best_precision = round(precision_test,4)\n",
    "#       best_depth = depth\n",
    "#       best_estimators = estimators\n",
    "#       print(f'New best precision found for depth={depth}, estimators = {estimators}')\n",
    "\n",
    "#     print('------------------------------')\n",
    "\n",
    "# print(f'Matrix of precisions: {precision_matrix}')\n",
    "# print(f'The best precision is {best_precision} and the best depth is {best_depth} ')"
   ]
  },
  {
   "cell_type": "code",
   "execution_count": 109,
   "metadata": {
    "id": "GiwEcHJ6ouRj"
   },
   "outputs": [],
   "source": [
    "# uncomment when you run the hyperparam tuning again\n",
    "# print(precision_matrix)"
   ]
  },
  {
   "cell_type": "code",
   "execution_count": 110,
   "metadata": {
    "id": "BxfJJuZf-kQQ"
   },
   "outputs": [],
   "source": [
    "# pre-calculated best precision matrix (max_depth, n_estimators) for Random Forest\n",
    "best_precision_matrix_random_forest = best_precision_matrix_random_forest = {\n",
    "    (5, 10): 0.5498,\n",
    "    (5, 50): 0.5511,\n",
    "    (5, 100): 0.5511,\n",
    "    (5, 200): 0.5511,\n",
    "    (7, 10): 0.5540,\n",
    "    (7, 50): 0.5492,\n",
    "    (7, 100): 0.5495,\n",
    "    (7, 200): 0.5515,\n",
    "    (9, 10): 0.5411,\n",
    "    (9, 50): 0.5461,\n",
    "    (9, 100): 0.5507,\n",
    "    (9, 200): 0.5517,\n",
    "    (11, 10): 0.5623,\n",
    "    (11, 50): 0.5559,\n",
    "    (11, 100): 0.5565,\n",
    "    (11, 200): 0.5521,\n",
    "    (13, 10): 0.5510,\n",
    "    (13, 50): 0.5591,\n",
    "    (13, 100): 0.5614,\n",
    "    (13, 200): 0.5575,\n",
    "    (15, 10): 0.5596,\n",
    "    (15, 50): 0.5592,\n",
    "    (15, 100): 0.5585,\n",
    "    (15, 200): 0.5505,\n",
    "    (17, 10): 0.5538,\n",
    "    (17, 50): 0.5543,\n",
    "    (17, 100): 0.5510,\n",
    "    (17, 200): 0.5493,\n",
    "    (19, 10): 0.5611,\n",
    "    (19, 50): 0.5559,\n",
    "    (19, 100): 0.5599,\n",
    "    (19, 200): 0.5544,\n",
    "}"
   ]
  },
  {
   "cell_type": "code",
   "execution_count": 111,
   "metadata": {
    "id": "dlRR6RUXF9Uk"
   },
   "outputs": [],
   "source": [
    "# # Define the precision_matrix from the long calculation above\n",
    "# best_precision_matrix = {\n",
    "#      (5, 10): 0.5498, (5, 20): 0.5506,\n",
    "#      (5, 50): 0.5511, (5, 100): 0.5511,\n",
    "#      (6, 10): 0.5555, (6, 20): 0.551,\n",
    "#      (6, 50): 0.5498, (6, 100): 0.5509,\n",
    "#      (7, 10): 0.554, (7, 20): 0.5478,\n",
    "#      (7, 50): 0.5492, (7, 100): 0.5495,\n",
    "#      (8, 10): 0.5475, (8, 20): 0.5425,\n",
    "#      (8, 50): 0.5516, (8, 100): 0.5507}\n"
   ]
  },
  {
   "cell_type": "code",
   "execution_count": 112,
   "metadata": {
    "colab": {
     "base_uri": "https://localhost:8080/",
     "height": 542
    },
    "id": "C_WYAm2BGS4n",
    "outputId": "e48675e1-1ff2-4bd2-c1b4-0e1b390b2d68"
   },
   "outputs": [
    {
     "data": {
      "application/vnd.plotly.v1+json": {
       "config": {
        "plotlyServerURL": "https://plot.ly"
       },
       "data": [
        {
         "hovertemplate": "Number of Estimators=10<br>Max Depth=%{x}<br>Precision Score=%{y}<extra></extra>",
         "legendgroup": "10",
         "line": {
          "color": "#636efa",
          "dash": "solid"
         },
         "marker": {
          "symbol": "circle"
         },
         "mode": "lines",
         "name": "10",
         "orientation": "v",
         "showlegend": true,
         "type": "scatter",
         "x": {
          "bdata": "BQcJCw0PERM=",
          "dtype": "i1"
         },
         "xaxis": "x",
         "y": {
          "bdata": "1edqK/aX4T/ufD81XrrhP/+ye/KwUOE/PE7RkVz+4T9vEoPAyqHhP2PuWkI+6OE/KcsQx7q44T+jI7n8h/ThPw==",
          "dtype": "f8"
         },
         "yaxis": "y"
        },
        {
         "hovertemplate": "Number of Estimators=50<br>Max Depth=%{x}<br>Precision Score=%{y}<extra></extra>",
         "legendgroup": "50",
         "line": {
          "color": "#EF553B",
          "dash": "solid"
         },
         "marker": {
          "symbol": "circle"
         },
         "mode": "lines",
         "name": "50",
         "orientation": "v",
         "showlegend": true,
         "type": "scatter",
         "x": {
          "bdata": "BQcJCw0PERM=",
          "dtype": "i1"
         },
         "xaxis": "x",
         "y": {
          "bdata": "UWuad5yi4T+J0t7gC5PhPygPC7WmeeE/tRX7y+7J4T/5MeauJeThP9uK/WX35OE/lIeFWtO84T+1FfvL7snhPw==",
          "dtype": "f8"
         },
         "yaxis": "y"
        },
        {
         "hovertemplate": "Number of Estimators=100<br>Max Depth=%{x}<br>Precision Score=%{y}<extra></extra>",
         "legendgroup": "100",
         "line": {
          "color": "#00cc96",
          "dash": "solid"
         },
         "marker": {
          "symbol": "circle"
         },
         "mode": "lines",
         "name": "100",
         "orientation": "v",
         "showlegend": true,
         "type": "scatter",
         "x": {
          "bdata": "BQcJCw0PERM=",
          "dtype": "i1"
         },
         "xaxis": "x",
         "y": {
          "bdata": "UWuad5yi4T8v3SQGgZXhP8gHPZtVn+E/AiuHFtnO4T9JLv8h/fbhP6wcWmQ73+E/bxKDwMqh4T8J+aBns+rhPw==",
          "dtype": "f8"
         },
         "yaxis": "y"
        },
        {
         "hovertemplate": "Number of Estimators=200<br>Max Depth=%{x}<br>Precision Score=%{y}<extra></extra>",
         "legendgroup": "200",
         "line": {
          "color": "#ab63fa",
          "dash": "solid"
         },
         "marker": {
          "symbol": "circle"
         },
         "mode": "lines",
         "name": "200",
         "orientation": "v",
         "showlegend": true,
         "type": "scatter",
         "x": {
          "bdata": "BQcJCw0PERM=",
          "dtype": "i1"
         },
         "xaxis": "x",
         "y": {
          "bdata": "UWuad5yi4T/ZzvdT46XhP52AJsKGp+E/JuSDns2q4T/Xo3A9CtfhPwRWDi2yneE/ayv2l92T4T924JwRpb3hPw==",
          "dtype": "f8"
         },
         "yaxis": "y"
        }
       ],
       "layout": {
        "legend": {
         "title": {
          "text": "Number of Estimators"
         },
         "tracegroupgap": 0
        },
        "template": {
         "data": {
          "bar": [
           {
            "error_x": {
             "color": "#2a3f5f"
            },
            "error_y": {
             "color": "#2a3f5f"
            },
            "marker": {
             "line": {
              "color": "#E5ECF6",
              "width": 0.5
             },
             "pattern": {
              "fillmode": "overlay",
              "size": 10,
              "solidity": 0.2
             }
            },
            "type": "bar"
           }
          ],
          "barpolar": [
           {
            "marker": {
             "line": {
              "color": "#E5ECF6",
              "width": 0.5
             },
             "pattern": {
              "fillmode": "overlay",
              "size": 10,
              "solidity": 0.2
             }
            },
            "type": "barpolar"
           }
          ],
          "carpet": [
           {
            "aaxis": {
             "endlinecolor": "#2a3f5f",
             "gridcolor": "white",
             "linecolor": "white",
             "minorgridcolor": "white",
             "startlinecolor": "#2a3f5f"
            },
            "baxis": {
             "endlinecolor": "#2a3f5f",
             "gridcolor": "white",
             "linecolor": "white",
             "minorgridcolor": "white",
             "startlinecolor": "#2a3f5f"
            },
            "type": "carpet"
           }
          ],
          "choropleth": [
           {
            "colorbar": {
             "outlinewidth": 0,
             "ticks": ""
            },
            "type": "choropleth"
           }
          ],
          "contour": [
           {
            "colorbar": {
             "outlinewidth": 0,
             "ticks": ""
            },
            "colorscale": [
             [
              0,
              "#0d0887"
             ],
             [
              0.1111111111111111,
              "#46039f"
             ],
             [
              0.2222222222222222,
              "#7201a8"
             ],
             [
              0.3333333333333333,
              "#9c179e"
             ],
             [
              0.4444444444444444,
              "#bd3786"
             ],
             [
              0.5555555555555556,
              "#d8576b"
             ],
             [
              0.6666666666666666,
              "#ed7953"
             ],
             [
              0.7777777777777778,
              "#fb9f3a"
             ],
             [
              0.8888888888888888,
              "#fdca26"
             ],
             [
              1,
              "#f0f921"
             ]
            ],
            "type": "contour"
           }
          ],
          "contourcarpet": [
           {
            "colorbar": {
             "outlinewidth": 0,
             "ticks": ""
            },
            "type": "contourcarpet"
           }
          ],
          "heatmap": [
           {
            "colorbar": {
             "outlinewidth": 0,
             "ticks": ""
            },
            "colorscale": [
             [
              0,
              "#0d0887"
             ],
             [
              0.1111111111111111,
              "#46039f"
             ],
             [
              0.2222222222222222,
              "#7201a8"
             ],
             [
              0.3333333333333333,
              "#9c179e"
             ],
             [
              0.4444444444444444,
              "#bd3786"
             ],
             [
              0.5555555555555556,
              "#d8576b"
             ],
             [
              0.6666666666666666,
              "#ed7953"
             ],
             [
              0.7777777777777778,
              "#fb9f3a"
             ],
             [
              0.8888888888888888,
              "#fdca26"
             ],
             [
              1,
              "#f0f921"
             ]
            ],
            "type": "heatmap"
           }
          ],
          "histogram": [
           {
            "marker": {
             "pattern": {
              "fillmode": "overlay",
              "size": 10,
              "solidity": 0.2
             }
            },
            "type": "histogram"
           }
          ],
          "histogram2d": [
           {
            "colorbar": {
             "outlinewidth": 0,
             "ticks": ""
            },
            "colorscale": [
             [
              0,
              "#0d0887"
             ],
             [
              0.1111111111111111,
              "#46039f"
             ],
             [
              0.2222222222222222,
              "#7201a8"
             ],
             [
              0.3333333333333333,
              "#9c179e"
             ],
             [
              0.4444444444444444,
              "#bd3786"
             ],
             [
              0.5555555555555556,
              "#d8576b"
             ],
             [
              0.6666666666666666,
              "#ed7953"
             ],
             [
              0.7777777777777778,
              "#fb9f3a"
             ],
             [
              0.8888888888888888,
              "#fdca26"
             ],
             [
              1,
              "#f0f921"
             ]
            ],
            "type": "histogram2d"
           }
          ],
          "histogram2dcontour": [
           {
            "colorbar": {
             "outlinewidth": 0,
             "ticks": ""
            },
            "colorscale": [
             [
              0,
              "#0d0887"
             ],
             [
              0.1111111111111111,
              "#46039f"
             ],
             [
              0.2222222222222222,
              "#7201a8"
             ],
             [
              0.3333333333333333,
              "#9c179e"
             ],
             [
              0.4444444444444444,
              "#bd3786"
             ],
             [
              0.5555555555555556,
              "#d8576b"
             ],
             [
              0.6666666666666666,
              "#ed7953"
             ],
             [
              0.7777777777777778,
              "#fb9f3a"
             ],
             [
              0.8888888888888888,
              "#fdca26"
             ],
             [
              1,
              "#f0f921"
             ]
            ],
            "type": "histogram2dcontour"
           }
          ],
          "mesh3d": [
           {
            "colorbar": {
             "outlinewidth": 0,
             "ticks": ""
            },
            "type": "mesh3d"
           }
          ],
          "parcoords": [
           {
            "line": {
             "colorbar": {
              "outlinewidth": 0,
              "ticks": ""
             }
            },
            "type": "parcoords"
           }
          ],
          "pie": [
           {
            "automargin": true,
            "type": "pie"
           }
          ],
          "scatter": [
           {
            "fillpattern": {
             "fillmode": "overlay",
             "size": 10,
             "solidity": 0.2
            },
            "type": "scatter"
           }
          ],
          "scatter3d": [
           {
            "line": {
             "colorbar": {
              "outlinewidth": 0,
              "ticks": ""
             }
            },
            "marker": {
             "colorbar": {
              "outlinewidth": 0,
              "ticks": ""
             }
            },
            "type": "scatter3d"
           }
          ],
          "scattercarpet": [
           {
            "marker": {
             "colorbar": {
              "outlinewidth": 0,
              "ticks": ""
             }
            },
            "type": "scattercarpet"
           }
          ],
          "scattergeo": [
           {
            "marker": {
             "colorbar": {
              "outlinewidth": 0,
              "ticks": ""
             }
            },
            "type": "scattergeo"
           }
          ],
          "scattergl": [
           {
            "marker": {
             "colorbar": {
              "outlinewidth": 0,
              "ticks": ""
             }
            },
            "type": "scattergl"
           }
          ],
          "scattermap": [
           {
            "marker": {
             "colorbar": {
              "outlinewidth": 0,
              "ticks": ""
             }
            },
            "type": "scattermap"
           }
          ],
          "scattermapbox": [
           {
            "marker": {
             "colorbar": {
              "outlinewidth": 0,
              "ticks": ""
             }
            },
            "type": "scattermapbox"
           }
          ],
          "scatterpolar": [
           {
            "marker": {
             "colorbar": {
              "outlinewidth": 0,
              "ticks": ""
             }
            },
            "type": "scatterpolar"
           }
          ],
          "scatterpolargl": [
           {
            "marker": {
             "colorbar": {
              "outlinewidth": 0,
              "ticks": ""
             }
            },
            "type": "scatterpolargl"
           }
          ],
          "scatterternary": [
           {
            "marker": {
             "colorbar": {
              "outlinewidth": 0,
              "ticks": ""
             }
            },
            "type": "scatterternary"
           }
          ],
          "surface": [
           {
            "colorbar": {
             "outlinewidth": 0,
             "ticks": ""
            },
            "colorscale": [
             [
              0,
              "#0d0887"
             ],
             [
              0.1111111111111111,
              "#46039f"
             ],
             [
              0.2222222222222222,
              "#7201a8"
             ],
             [
              0.3333333333333333,
              "#9c179e"
             ],
             [
              0.4444444444444444,
              "#bd3786"
             ],
             [
              0.5555555555555556,
              "#d8576b"
             ],
             [
              0.6666666666666666,
              "#ed7953"
             ],
             [
              0.7777777777777778,
              "#fb9f3a"
             ],
             [
              0.8888888888888888,
              "#fdca26"
             ],
             [
              1,
              "#f0f921"
             ]
            ],
            "type": "surface"
           }
          ],
          "table": [
           {
            "cells": {
             "fill": {
              "color": "#EBF0F8"
             },
             "line": {
              "color": "white"
             }
            },
            "header": {
             "fill": {
              "color": "#C8D4E3"
             },
             "line": {
              "color": "white"
             }
            },
            "type": "table"
           }
          ]
         },
         "layout": {
          "annotationdefaults": {
           "arrowcolor": "#2a3f5f",
           "arrowhead": 0,
           "arrowwidth": 1
          },
          "autotypenumbers": "strict",
          "coloraxis": {
           "colorbar": {
            "outlinewidth": 0,
            "ticks": ""
           }
          },
          "colorscale": {
           "diverging": [
            [
             0,
             "#8e0152"
            ],
            [
             0.1,
             "#c51b7d"
            ],
            [
             0.2,
             "#de77ae"
            ],
            [
             0.3,
             "#f1b6da"
            ],
            [
             0.4,
             "#fde0ef"
            ],
            [
             0.5,
             "#f7f7f7"
            ],
            [
             0.6,
             "#e6f5d0"
            ],
            [
             0.7,
             "#b8e186"
            ],
            [
             0.8,
             "#7fbc41"
            ],
            [
             0.9,
             "#4d9221"
            ],
            [
             1,
             "#276419"
            ]
           ],
           "sequential": [
            [
             0,
             "#0d0887"
            ],
            [
             0.1111111111111111,
             "#46039f"
            ],
            [
             0.2222222222222222,
             "#7201a8"
            ],
            [
             0.3333333333333333,
             "#9c179e"
            ],
            [
             0.4444444444444444,
             "#bd3786"
            ],
            [
             0.5555555555555556,
             "#d8576b"
            ],
            [
             0.6666666666666666,
             "#ed7953"
            ],
            [
             0.7777777777777778,
             "#fb9f3a"
            ],
            [
             0.8888888888888888,
             "#fdca26"
            ],
            [
             1,
             "#f0f921"
            ]
           ],
           "sequentialminus": [
            [
             0,
             "#0d0887"
            ],
            [
             0.1111111111111111,
             "#46039f"
            ],
            [
             0.2222222222222222,
             "#7201a8"
            ],
            [
             0.3333333333333333,
             "#9c179e"
            ],
            [
             0.4444444444444444,
             "#bd3786"
            ],
            [
             0.5555555555555556,
             "#d8576b"
            ],
            [
             0.6666666666666666,
             "#ed7953"
            ],
            [
             0.7777777777777778,
             "#fb9f3a"
            ],
            [
             0.8888888888888888,
             "#fdca26"
            ],
            [
             1,
             "#f0f921"
            ]
           ]
          },
          "colorway": [
           "#636efa",
           "#EF553B",
           "#00cc96",
           "#ab63fa",
           "#FFA15A",
           "#19d3f3",
           "#FF6692",
           "#B6E880",
           "#FF97FF",
           "#FECB52"
          ],
          "font": {
           "color": "#2a3f5f"
          },
          "geo": {
           "bgcolor": "white",
           "lakecolor": "white",
           "landcolor": "#E5ECF6",
           "showlakes": true,
           "showland": true,
           "subunitcolor": "white"
          },
          "hoverlabel": {
           "align": "left"
          },
          "hovermode": "closest",
          "mapbox": {
           "style": "light"
          },
          "paper_bgcolor": "white",
          "plot_bgcolor": "#E5ECF6",
          "polar": {
           "angularaxis": {
            "gridcolor": "white",
            "linecolor": "white",
            "ticks": ""
           },
           "bgcolor": "#E5ECF6",
           "radialaxis": {
            "gridcolor": "white",
            "linecolor": "white",
            "ticks": ""
           }
          },
          "scene": {
           "xaxis": {
            "backgroundcolor": "#E5ECF6",
            "gridcolor": "white",
            "gridwidth": 2,
            "linecolor": "white",
            "showbackground": true,
            "ticks": "",
            "zerolinecolor": "white"
           },
           "yaxis": {
            "backgroundcolor": "#E5ECF6",
            "gridcolor": "white",
            "gridwidth": 2,
            "linecolor": "white",
            "showbackground": true,
            "ticks": "",
            "zerolinecolor": "white"
           },
           "zaxis": {
            "backgroundcolor": "#E5ECF6",
            "gridcolor": "white",
            "gridwidth": 2,
            "linecolor": "white",
            "showbackground": true,
            "ticks": "",
            "zerolinecolor": "white"
           }
          },
          "shapedefaults": {
           "line": {
            "color": "#2a3f5f"
           }
          },
          "ternary": {
           "aaxis": {
            "gridcolor": "white",
            "linecolor": "white",
            "ticks": ""
           },
           "baxis": {
            "gridcolor": "white",
            "linecolor": "white",
            "ticks": ""
           },
           "bgcolor": "#E5ECF6",
           "caxis": {
            "gridcolor": "white",
            "linecolor": "white",
            "ticks": ""
           }
          },
          "title": {
           "x": 0.05
          },
          "xaxis": {
           "automargin": true,
           "gridcolor": "white",
           "linecolor": "white",
           "ticks": "",
           "title": {
            "standoff": 15
           },
           "zerolinecolor": "white",
           "zerolinewidth": 2
          },
          "yaxis": {
           "automargin": true,
           "gridcolor": "white",
           "linecolor": "white",
           "ticks": "",
           "title": {
            "standoff": 15
           },
           "zerolinecolor": "white",
           "zerolinewidth": 2
          }
         }
        },
        "title": {
         "text": "Random Forest Models: Precision Score vs. Max Depth for Different Number of Estimators"
        },
        "xaxis": {
         "anchor": "y",
         "domain": [
          0,
          1
         ],
         "range": [
          5,
          20
         ],
         "title": {
          "text": "Max Depth"
         }
        },
        "yaxis": {
         "anchor": "x",
         "domain": [
          0,
          1
         ],
         "title": {
          "text": "Precision Score"
         }
        }
       }
      }
     },
     "metadata": {},
     "output_type": "display_data"
    }
   ],
   "source": [
    "# Convert data to DataFrame\n",
    "df = pd.DataFrame.from_dict(best_precision_matrix_random_forest, orient='index', columns=['precision_score']).reset_index()\n",
    "\n",
    "# Rename the columns for clarity\n",
    "df.columns = ['max_depth_and_metric', 'precision_score']\n",
    "\n",
    "# Separate the tuple into two columns\n",
    "df[['max_depth', 'n_estimators']] = pd.DataFrame(df['max_depth_and_metric'].tolist(), index=df.index)\n",
    "\n",
    "# Drop the combined column\n",
    "df = df.drop(columns=['max_depth_and_metric'])\n",
    "\n",
    "# Create line plot using Plotly Express\n",
    "fig = px.line(df, x='max_depth', y='precision_score', color='n_estimators',\n",
    "              labels={'max_depth': 'Max Depth', 'precision_score': 'Precision Score', 'n_estimators': 'Number of Estimators'},\n",
    "              title='Random Forest Models: Precision Score vs. Max Depth for Different Number of Estimators')\n",
    "\n",
    "# Adjust x-axis range\n",
    "fig.update_xaxes(range=[5, 20])\n",
    "\n",
    "# Show the figure\n",
    "fig.show()"
   ]
  },
  {
   "cell_type": "code",
   "execution_count": 113,
   "metadata": {
    "id": "AI2oXHMnKq_h"
   },
   "outputs": [],
   "source": [
    "# MANUALLY SELECTED BEST - should have enough complexity and smoothness (n_estimators)\n",
    "rf_best_n_estimators = 50\n",
    "# MANUALLY SELECTED BEST - should have enough complexity\n",
    "rf_best_max_depth = 19"
   ]
  },
  {
   "cell_type": "code",
   "execution_count": 114,
   "metadata": {
    "colab": {
     "base_uri": "https://localhost:8080/"
    },
    "id": "BSrk5k1nQ1Pj",
    "outputId": "b6435b71-462f-4abd-c8a9-6f7e4d0aefa4"
   },
   "outputs": [
    {
     "name": "stdout",
     "output_type": "stream",
     "text": [
      "CPU times: user 50.5 s, sys: 384 ms, total: 50.9 s\n",
      "Wall time: 6.26 s\n"
     ]
    }
   ],
   "source": [
    "%%time\n",
    "\n",
    "#\n",
    "# several minutes to compute (2 min)\n",
    "\n",
    "rf_best = RandomForestClassifier(n_estimators = rf_best_n_estimators,\n",
    "                                 max_depth = rf_best_max_depth,\n",
    "                                 random_state = 42,\n",
    "                                 n_jobs = -1)\n",
    "\n",
    "rf_best = rf_best.fit(X_train_valid, y_train_valid)"
   ]
  },
  {
   "cell_type": "markdown",
   "metadata": {
    "id": "ao51HpXGQrXo"
   },
   "source": [
    "## 1.4) [Code Snippet 1] Logistic Regression\n",
    "https://scikit-learn.org/stable/modules/generated/sklearn.linear_model.LogisticRegression.html\n",
    "\n",
    "There can be many cases when Logistic Regression does not converge: https://forecastegy.com/posts/how-to-solve-logistic-regression-not-converging-in-scikit-learn/"
   ]
  },
  {
   "cell_type": "code",
   "execution_count": 115,
   "metadata": {
    "id": "t3b2DDEA9VfC"
   },
   "outputs": [],
   "source": [
    "from sklearn.linear_model import LogisticRegression"
   ]
  },
  {
   "cell_type": "code",
   "execution_count": 116,
   "metadata": {
    "id": "gOlUoJVdMaXu"
   },
   "outputs": [],
   "source": [
    "# Large feature magnitudes can cause convergence issues. If you haven’t already, scale your data:\n",
    "\n",
    "from sklearn.preprocessing import StandardScaler\n",
    "\n",
    "scaler = StandardScaler()\n",
    "X_train_valid = scaler.fit_transform(X_train_valid)\n",
    "X_valid = scaler.transform(X_valid)\n",
    "X_test = scaler.transform(X_test)"
   ]
  },
  {
   "cell_type": "code",
   "execution_count": 117,
   "metadata": {
    "id": "sqthrZRzYkev"
   },
   "outputs": [],
   "source": [
    "# UNCOMMENT TO RUN IT AGAIN\n",
    "\n",
    "# precision_matrix = {}\n",
    "# best_precision = 0\n",
    "# best_C = 0\n",
    "# best_iter = 0\n",
    "\n",
    "# for c in [1, 0.1, 0.01]:\n",
    "#   for iter in [50, 100, 200]:\n",
    "#     print(f'Working with HyperParams: C = {c} (positive float, smaller = stronger regularization), max_iter={iter}')\n",
    "#     # fitting the tree on X_train, y_train\n",
    "#     # hyperParam C should be between 0 and 1\n",
    "#     lr = LogisticRegression(C=c,\n",
    "#                             random_state=42,\n",
    "#                             max_iter=iter,\n",
    "#                             solver='sag',  # 'sag' - another option\n",
    "#                             n_jobs=-1)\n",
    "\n",
    "#     lr = lr.fit(X_train_valid, y_train_valid)\n",
    "\n",
    "#     # getting the predictions for TEST and accuracy score\n",
    "#     y_pred_valid = lr.predict(X_valid)\n",
    "#     precision_valid = precision_score(y_valid, y_pred_valid)\n",
    "#     y_pred_test = lr.predict(X_test)\n",
    "#     precision_test = precision_score(y_test, y_pred_test)\n",
    "#     print(f'  Precision on test is {precision_test}, (precision on valid is {precision_valid} - tend to overfit)')\n",
    "#     # saving to the dict\n",
    "#     precision_matrix[(c,iter)] = round(precision_test,4)\n",
    "#     # updating the best precision\n",
    "#     if precision_test >= best_precision:\n",
    "#       best_precision = round(precision_test,4)\n",
    "#       best_C = c\n",
    "#       best_iter = iter\n",
    "#       print(f'New best precision found for C={c}')\n",
    "#       print('------------------------------')\n",
    "\n",
    "# print(f'Matrix of precisions: {precision_matrix}')\n",
    "# print(f'The best precision is {best_precision} and the best C is {best_C}, best max_iter = {best_iter}  ')"
   ]
  },
  {
   "cell_type": "code",
   "execution_count": 118,
   "metadata": {
    "id": "IyTJVkMMJVYw"
   },
   "outputs": [],
   "source": [
    "# UNCOMMENT TO SEE THE RESULTS OF THE RUN\n",
    "# print(precision_matrix)"
   ]
  },
  {
   "cell_type": "code",
   "execution_count": 119,
   "metadata": {
    "id": "0ON2FNrVCcri"
   },
   "outputs": [],
   "source": [
    "# Params on C, iter\n",
    "best_precision_matrix_logistic_regression = {(1, 50): 0.5459, (1, 100): 0.5367, (1, 200): 0.5277, (0.1, 50): 0.5466, (0.1, 100): 0.5373, (0.1, 200): 0.5285, (0.01, 50): 0.5476, (0.01, 100): 0.5428, (0.01, 200): 0.54}\n"
   ]
  },
  {
   "cell_type": "code",
   "execution_count": 120,
   "metadata": {
    "colab": {
     "base_uri": "https://localhost:8080/"
    },
    "id": "S1WzV-F8fkza",
    "outputId": "3f079300-80e3-4a4d-d278-c8aa82657804"
   },
   "outputs": [
    {
     "data": {
      "text/plain": [
       "((1, 50), 0.5459)"
      ]
     },
     "execution_count": 120,
     "metadata": {},
     "output_type": "execute_result"
    }
   ],
   "source": [
    "list(best_precision_matrix_logistic_regression.items())[0]"
   ]
  },
  {
   "cell_type": "code",
   "execution_count": 121,
   "metadata": {
    "colab": {
     "base_uri": "https://localhost:8080/",
     "height": 542
    },
    "id": "t0xDFt7of1MX",
    "outputId": "0759f9f1-f322-430c-969c-026ddf8861d0"
   },
   "outputs": [
    {
     "data": {
      "application/vnd.plotly.v1+json": {
       "config": {
        "plotlyServerURL": "https://plot.ly"
       },
       "data": [
        {
         "hovertemplate": "Combination=%{x}<br>Precision=%{text}<extra></extra>",
         "legendgroup": "",
         "marker": {
          "color": "#636efa",
          "pattern": {
           "shape": ""
          }
         },
         "name": "",
         "orientation": "v",
         "showlegend": false,
         "text": {
          "bdata": "7FG4HoVLS0D1KFyPwtVKQML1KFyPYkpAFK5H4XpUS0A9CtejcN1KQMzMzMzMbEpA4XoUrkdhS0CjcD0K1yNLQAAAAAAAAEtA",
          "dtype": "f8"
         },
         "textfont": {
          "color": "white"
         },
         "textposition": "inside",
         "texttemplate": "%{text:.2f}%",
         "type": "bar",
         "x": [
          "C=1, max_iter=50",
          "C=1, max_iter=100",
          "C=1, max_iter=200",
          "C=0.1, max_iter=50",
          "C=0.1, max_iter=100",
          "C=0.1, max_iter=200",
          "C=0.01, max_iter=50",
          "C=0.01, max_iter=100",
          "C=0.01, max_iter=200"
         ],
         "xaxis": "x",
         "y": {
          "bdata": "7FG4HoVLS0D1KFyPwtVKQML1KFyPYkpAFK5H4XpUS0A9CtejcN1KQMzMzMzMbEpA4XoUrkdhS0CjcD0K1yNLQAAAAAAAAEtA",
          "dtype": "f8"
         },
         "yaxis": "y"
        }
       ],
       "layout": {
        "barmode": "relative",
        "legend": {
         "tracegroupgap": 0
        },
        "margin": {
         "t": 60
        },
        "template": {
         "data": {
          "bar": [
           {
            "error_x": {
             "color": "#2a3f5f"
            },
            "error_y": {
             "color": "#2a3f5f"
            },
            "marker": {
             "line": {
              "color": "#E5ECF6",
              "width": 0.5
             },
             "pattern": {
              "fillmode": "overlay",
              "size": 10,
              "solidity": 0.2
             }
            },
            "type": "bar"
           }
          ],
          "barpolar": [
           {
            "marker": {
             "line": {
              "color": "#E5ECF6",
              "width": 0.5
             },
             "pattern": {
              "fillmode": "overlay",
              "size": 10,
              "solidity": 0.2
             }
            },
            "type": "barpolar"
           }
          ],
          "carpet": [
           {
            "aaxis": {
             "endlinecolor": "#2a3f5f",
             "gridcolor": "white",
             "linecolor": "white",
             "minorgridcolor": "white",
             "startlinecolor": "#2a3f5f"
            },
            "baxis": {
             "endlinecolor": "#2a3f5f",
             "gridcolor": "white",
             "linecolor": "white",
             "minorgridcolor": "white",
             "startlinecolor": "#2a3f5f"
            },
            "type": "carpet"
           }
          ],
          "choropleth": [
           {
            "colorbar": {
             "outlinewidth": 0,
             "ticks": ""
            },
            "type": "choropleth"
           }
          ],
          "contour": [
           {
            "colorbar": {
             "outlinewidth": 0,
             "ticks": ""
            },
            "colorscale": [
             [
              0,
              "#0d0887"
             ],
             [
              0.1111111111111111,
              "#46039f"
             ],
             [
              0.2222222222222222,
              "#7201a8"
             ],
             [
              0.3333333333333333,
              "#9c179e"
             ],
             [
              0.4444444444444444,
              "#bd3786"
             ],
             [
              0.5555555555555556,
              "#d8576b"
             ],
             [
              0.6666666666666666,
              "#ed7953"
             ],
             [
              0.7777777777777778,
              "#fb9f3a"
             ],
             [
              0.8888888888888888,
              "#fdca26"
             ],
             [
              1,
              "#f0f921"
             ]
            ],
            "type": "contour"
           }
          ],
          "contourcarpet": [
           {
            "colorbar": {
             "outlinewidth": 0,
             "ticks": ""
            },
            "type": "contourcarpet"
           }
          ],
          "heatmap": [
           {
            "colorbar": {
             "outlinewidth": 0,
             "ticks": ""
            },
            "colorscale": [
             [
              0,
              "#0d0887"
             ],
             [
              0.1111111111111111,
              "#46039f"
             ],
             [
              0.2222222222222222,
              "#7201a8"
             ],
             [
              0.3333333333333333,
              "#9c179e"
             ],
             [
              0.4444444444444444,
              "#bd3786"
             ],
             [
              0.5555555555555556,
              "#d8576b"
             ],
             [
              0.6666666666666666,
              "#ed7953"
             ],
             [
              0.7777777777777778,
              "#fb9f3a"
             ],
             [
              0.8888888888888888,
              "#fdca26"
             ],
             [
              1,
              "#f0f921"
             ]
            ],
            "type": "heatmap"
           }
          ],
          "histogram": [
           {
            "marker": {
             "pattern": {
              "fillmode": "overlay",
              "size": 10,
              "solidity": 0.2
             }
            },
            "type": "histogram"
           }
          ],
          "histogram2d": [
           {
            "colorbar": {
             "outlinewidth": 0,
             "ticks": ""
            },
            "colorscale": [
             [
              0,
              "#0d0887"
             ],
             [
              0.1111111111111111,
              "#46039f"
             ],
             [
              0.2222222222222222,
              "#7201a8"
             ],
             [
              0.3333333333333333,
              "#9c179e"
             ],
             [
              0.4444444444444444,
              "#bd3786"
             ],
             [
              0.5555555555555556,
              "#d8576b"
             ],
             [
              0.6666666666666666,
              "#ed7953"
             ],
             [
              0.7777777777777778,
              "#fb9f3a"
             ],
             [
              0.8888888888888888,
              "#fdca26"
             ],
             [
              1,
              "#f0f921"
             ]
            ],
            "type": "histogram2d"
           }
          ],
          "histogram2dcontour": [
           {
            "colorbar": {
             "outlinewidth": 0,
             "ticks": ""
            },
            "colorscale": [
             [
              0,
              "#0d0887"
             ],
             [
              0.1111111111111111,
              "#46039f"
             ],
             [
              0.2222222222222222,
              "#7201a8"
             ],
             [
              0.3333333333333333,
              "#9c179e"
             ],
             [
              0.4444444444444444,
              "#bd3786"
             ],
             [
              0.5555555555555556,
              "#d8576b"
             ],
             [
              0.6666666666666666,
              "#ed7953"
             ],
             [
              0.7777777777777778,
              "#fb9f3a"
             ],
             [
              0.8888888888888888,
              "#fdca26"
             ],
             [
              1,
              "#f0f921"
             ]
            ],
            "type": "histogram2dcontour"
           }
          ],
          "mesh3d": [
           {
            "colorbar": {
             "outlinewidth": 0,
             "ticks": ""
            },
            "type": "mesh3d"
           }
          ],
          "parcoords": [
           {
            "line": {
             "colorbar": {
              "outlinewidth": 0,
              "ticks": ""
             }
            },
            "type": "parcoords"
           }
          ],
          "pie": [
           {
            "automargin": true,
            "type": "pie"
           }
          ],
          "scatter": [
           {
            "fillpattern": {
             "fillmode": "overlay",
             "size": 10,
             "solidity": 0.2
            },
            "type": "scatter"
           }
          ],
          "scatter3d": [
           {
            "line": {
             "colorbar": {
              "outlinewidth": 0,
              "ticks": ""
             }
            },
            "marker": {
             "colorbar": {
              "outlinewidth": 0,
              "ticks": ""
             }
            },
            "type": "scatter3d"
           }
          ],
          "scattercarpet": [
           {
            "marker": {
             "colorbar": {
              "outlinewidth": 0,
              "ticks": ""
             }
            },
            "type": "scattercarpet"
           }
          ],
          "scattergeo": [
           {
            "marker": {
             "colorbar": {
              "outlinewidth": 0,
              "ticks": ""
             }
            },
            "type": "scattergeo"
           }
          ],
          "scattergl": [
           {
            "marker": {
             "colorbar": {
              "outlinewidth": 0,
              "ticks": ""
             }
            },
            "type": "scattergl"
           }
          ],
          "scattermap": [
           {
            "marker": {
             "colorbar": {
              "outlinewidth": 0,
              "ticks": ""
             }
            },
            "type": "scattermap"
           }
          ],
          "scattermapbox": [
           {
            "marker": {
             "colorbar": {
              "outlinewidth": 0,
              "ticks": ""
             }
            },
            "type": "scattermapbox"
           }
          ],
          "scatterpolar": [
           {
            "marker": {
             "colorbar": {
              "outlinewidth": 0,
              "ticks": ""
             }
            },
            "type": "scatterpolar"
           }
          ],
          "scatterpolargl": [
           {
            "marker": {
             "colorbar": {
              "outlinewidth": 0,
              "ticks": ""
             }
            },
            "type": "scatterpolargl"
           }
          ],
          "scatterternary": [
           {
            "marker": {
             "colorbar": {
              "outlinewidth": 0,
              "ticks": ""
             }
            },
            "type": "scatterternary"
           }
          ],
          "surface": [
           {
            "colorbar": {
             "outlinewidth": 0,
             "ticks": ""
            },
            "colorscale": [
             [
              0,
              "#0d0887"
             ],
             [
              0.1111111111111111,
              "#46039f"
             ],
             [
              0.2222222222222222,
              "#7201a8"
             ],
             [
              0.3333333333333333,
              "#9c179e"
             ],
             [
              0.4444444444444444,
              "#bd3786"
             ],
             [
              0.5555555555555556,
              "#d8576b"
             ],
             [
              0.6666666666666666,
              "#ed7953"
             ],
             [
              0.7777777777777778,
              "#fb9f3a"
             ],
             [
              0.8888888888888888,
              "#fdca26"
             ],
             [
              1,
              "#f0f921"
             ]
            ],
            "type": "surface"
           }
          ],
          "table": [
           {
            "cells": {
             "fill": {
              "color": "#EBF0F8"
             },
             "line": {
              "color": "white"
             }
            },
            "header": {
             "fill": {
              "color": "#C8D4E3"
             },
             "line": {
              "color": "white"
             }
            },
            "type": "table"
           }
          ]
         },
         "layout": {
          "annotationdefaults": {
           "arrowcolor": "#2a3f5f",
           "arrowhead": 0,
           "arrowwidth": 1
          },
          "autotypenumbers": "strict",
          "coloraxis": {
           "colorbar": {
            "outlinewidth": 0,
            "ticks": ""
           }
          },
          "colorscale": {
           "diverging": [
            [
             0,
             "#8e0152"
            ],
            [
             0.1,
             "#c51b7d"
            ],
            [
             0.2,
             "#de77ae"
            ],
            [
             0.3,
             "#f1b6da"
            ],
            [
             0.4,
             "#fde0ef"
            ],
            [
             0.5,
             "#f7f7f7"
            ],
            [
             0.6,
             "#e6f5d0"
            ],
            [
             0.7,
             "#b8e186"
            ],
            [
             0.8,
             "#7fbc41"
            ],
            [
             0.9,
             "#4d9221"
            ],
            [
             1,
             "#276419"
            ]
           ],
           "sequential": [
            [
             0,
             "#0d0887"
            ],
            [
             0.1111111111111111,
             "#46039f"
            ],
            [
             0.2222222222222222,
             "#7201a8"
            ],
            [
             0.3333333333333333,
             "#9c179e"
            ],
            [
             0.4444444444444444,
             "#bd3786"
            ],
            [
             0.5555555555555556,
             "#d8576b"
            ],
            [
             0.6666666666666666,
             "#ed7953"
            ],
            [
             0.7777777777777778,
             "#fb9f3a"
            ],
            [
             0.8888888888888888,
             "#fdca26"
            ],
            [
             1,
             "#f0f921"
            ]
           ],
           "sequentialminus": [
            [
             0,
             "#0d0887"
            ],
            [
             0.1111111111111111,
             "#46039f"
            ],
            [
             0.2222222222222222,
             "#7201a8"
            ],
            [
             0.3333333333333333,
             "#9c179e"
            ],
            [
             0.4444444444444444,
             "#bd3786"
            ],
            [
             0.5555555555555556,
             "#d8576b"
            ],
            [
             0.6666666666666666,
             "#ed7953"
            ],
            [
             0.7777777777777778,
             "#fb9f3a"
            ],
            [
             0.8888888888888888,
             "#fdca26"
            ],
            [
             1,
             "#f0f921"
            ]
           ]
          },
          "colorway": [
           "#636efa",
           "#EF553B",
           "#00cc96",
           "#ab63fa",
           "#FFA15A",
           "#19d3f3",
           "#FF6692",
           "#B6E880",
           "#FF97FF",
           "#FECB52"
          ],
          "font": {
           "color": "#2a3f5f"
          },
          "geo": {
           "bgcolor": "white",
           "lakecolor": "white",
           "landcolor": "#E5ECF6",
           "showlakes": true,
           "showland": true,
           "subunitcolor": "white"
          },
          "hoverlabel": {
           "align": "left"
          },
          "hovermode": "closest",
          "mapbox": {
           "style": "light"
          },
          "paper_bgcolor": "white",
          "plot_bgcolor": "#E5ECF6",
          "polar": {
           "angularaxis": {
            "gridcolor": "white",
            "linecolor": "white",
            "ticks": ""
           },
           "bgcolor": "#E5ECF6",
           "radialaxis": {
            "gridcolor": "white",
            "linecolor": "white",
            "ticks": ""
           }
          },
          "scene": {
           "xaxis": {
            "backgroundcolor": "#E5ECF6",
            "gridcolor": "white",
            "gridwidth": 2,
            "linecolor": "white",
            "showbackground": true,
            "ticks": "",
            "zerolinecolor": "white"
           },
           "yaxis": {
            "backgroundcolor": "#E5ECF6",
            "gridcolor": "white",
            "gridwidth": 2,
            "linecolor": "white",
            "showbackground": true,
            "ticks": "",
            "zerolinecolor": "white"
           },
           "zaxis": {
            "backgroundcolor": "#E5ECF6",
            "gridcolor": "white",
            "gridwidth": 2,
            "linecolor": "white",
            "showbackground": true,
            "ticks": "",
            "zerolinecolor": "white"
           }
          },
          "shapedefaults": {
           "line": {
            "color": "#2a3f5f"
           }
          },
          "ternary": {
           "aaxis": {
            "gridcolor": "white",
            "linecolor": "white",
            "ticks": ""
           },
           "baxis": {
            "gridcolor": "white",
            "linecolor": "white",
            "ticks": ""
           },
           "bgcolor": "#E5ECF6",
           "caxis": {
            "gridcolor": "white",
            "linecolor": "white",
            "ticks": ""
           }
          },
          "title": {
           "x": 0.05
          },
          "xaxis": {
           "automargin": true,
           "gridcolor": "white",
           "linecolor": "white",
           "ticks": "",
           "title": {
            "standoff": 15
           },
           "zerolinecolor": "white",
           "zerolinewidth": 2
          },
          "yaxis": {
           "automargin": true,
           "gridcolor": "white",
           "linecolor": "white",
           "ticks": "",
           "title": {
            "standoff": 15
           },
           "zerolinecolor": "white",
           "zerolinewidth": 2
          }
         }
        },
        "title": {
         "text": "Precision Scores for Various Logistic Regression Hyperparameter Combinations",
         "x": 0.5,
         "xanchor": "center",
         "y": 0.95,
         "yanchor": "top"
        },
        "xaxis": {
         "anchor": "y",
         "domain": [
          0,
          1
         ],
         "tickangle": -45,
         "title": {
          "text": "Hyperparams combinations of <C, Max Iterations>"
         }
        },
        "yaxis": {
         "anchor": "x",
         "domain": [
          0,
          1
         ],
         "title": {
          "text": "Precision Score"
         }
        }
       }
      }
     },
     "metadata": {},
     "output_type": "display_data"
    }
   ],
   "source": [
    "# Prepare the data\n",
    "rows = []\n",
    "for key, value in list(best_precision_matrix_logistic_regression.items()):\n",
    "    C, max_iter = key\n",
    "    combination_label = f'C={C}, max_iter={max_iter}'\n",
    "    rows.append({'Combination': combination_label, 'Precision': value})\n",
    "\n",
    "df = pd.DataFrame(rows)\n",
    "df.loc[:,'Precision'] = df.Precision*100.0 # need for % visualisation\n",
    "\n",
    "# Create the bar chart\n",
    "fig = px.bar(df,\n",
    "             x='Combination',\n",
    "             y='Precision',\n",
    "             text='Precision'\n",
    "             )\n",
    "\n",
    "# Customize the layout for better readability\n",
    "fig.update_layout(\n",
    "    xaxis_title='Hyperparams combinations of <C, Max Iterations>',\n",
    "    yaxis_title='Precision Score',\n",
    "    xaxis_tickangle=-45,\n",
    "    title={\n",
    "        'text': 'Precision Scores for Various Logistic Regression Hyperparameter Combinations',\n",
    "        'y':0.95,\n",
    "        'x':0.5,\n",
    "        'xanchor': 'center',\n",
    "        'yanchor': 'top'\n",
    "    }\n",
    ")\n",
    "\n",
    "\n",
    "# Update the text position\n",
    "fig.update_traces(texttemplate='%{text:.2f}%',\n",
    "                  textposition='inside',\n",
    "                  textfont_color='white')\n",
    "\n",
    "# Show the figure\n",
    "fig.show()"
   ]
  },
  {
   "cell_type": "markdown",
   "metadata": {
    "id": "BEuhG89dRiB5"
   },
   "source": [
    "## 1.5) [Code Snippet 4 - ADVANCED] Neural Network (NN) and HyperParams tuning\n",
    "* [Tutorial from Tensorflow.org](https://www.tensorflow.org/tutorials/keras/classification)\n",
    "* [TowardsDataScience Hyperparameter Optimization with Keras](https://towardsdatascience.com/hyperparameter-optimization-with-keras-b82e6364ca53)\n",
    "* [Machine Learning Mastery tutorial with Keras Deep Learning](https://machinelearningmastery.com/binary-classification-tutorial-with-the-keras-deep-learning-library/)"
   ]
  },
  {
   "cell_type": "code",
   "execution_count": 122,
   "metadata": {
    "colab": {
     "base_uri": "https://localhost:8080/"
    },
    "id": "Z0C8xoruL3ju",
    "outputId": "41f15b6b-64ad-4db0-a837-f0a573a201ca"
   },
   "outputs": [
    {
     "name": "stdout",
     "output_type": "stream",
     "text": [
      "1024\n"
     ]
    }
   ],
   "source": [
    "# https://towardsdatascience.com/hyperparameter-optimization-with-keras-b82e6364ca53\n",
    "\n",
    "\n",
    "# Extended params set\n",
    "\n",
    "# p = {'lr': [0.01, 0.03,0.1, 0.3,1,3,10],\n",
    "#      'first_neuron': [0,16,32,64,128,256],\n",
    "#      'second_neuron':[0,16,32,64,128,256],\n",
    "#      'first_dropout':[0,0.2,0.3],\n",
    "#      'second_dropout':[0,0.2,0.3],\n",
    "#      'activation_first':['relu','sigmoid','linear'],\n",
    "#      'activation_second':['relu','sigmoid','linear'],\n",
    "#     #  'activation_first':('relu','elu','tanh','sigmoid','linear','softplus','selu', 'softsign','exponential'),\n",
    "#     #  'activation_second':('relu','elu','tanh','sigmoid','linear','softplus','selu', 'softsign','exponential'),\n",
    "#     #  'batch_size':(2,30,10),\n",
    "#     #  'loss': ('mse','mae'),\n",
    "#     #  'epochs':[150],\n",
    "#     #  'shape': ['brick','long_funnel'],\n",
    "#      'optimizer':['adam', 'nadam', 'rmaprop','sgd'],\n",
    "#     #  'losses': [logcosh, binary_crossentropy],\n",
    "#     #  'last_activation':[sigmoid]\n",
    "#      }\n",
    "\n",
    "\n",
    "# Reduced params set and available options\n",
    "p = {'lr': [0.1],\n",
    "     'first_neuron': [12,24,32,48,96, 128, 196, 256],\n",
    "     'second_neuron':[12,24,32,48,96, 128, 196, 256],\n",
    "     'first_dropout':[0.1],\n",
    "     'second_dropout':[0.1],\n",
    "     'activation_first':['relu','sigmoid','softplus','tanh'],\n",
    "     'activation_second':['relu'],\n",
    "    #  'activation_first':('relu','elu','tanh','sigmoid','linear','softplus','selu', 'softsign','exponential'),\n",
    "    #  'activation_second':('relu','elu','tanh','sigmoid','linear','softplus','selu', 'softsign','exponential'),\n",
    "    #  'batch_size':(2,30,10),\n",
    "    #  'loss': ('mse','mae'),\n",
    "    #  'epochs':[150],\n",
    "    #  'shape': ['brick','long_funnel'],\n",
    "     'optimizer':['adam','nadam','sgd','rmaprop'],\n",
    "    #  'losses': [logcosh, binary_crossentropy],\n",
    "    #  'last_activation':[sigmoid]\n",
    "     }\n",
    "\n",
    "\n",
    "# Number of models to run and write to SHEETS:\n",
    "count_models=0\n",
    "\n",
    "nn_params = {}\n",
    "\n",
    "for lr in p['lr']:\n",
    "  for first_neuron in p['first_neuron']:\n",
    "    for second_neuron in p['second_neuron']:\n",
    "      for first_dropout in p['first_dropout']:\n",
    "        for second_dropout in p['second_dropout']:\n",
    "          for activation_first in p['activation_first']:\n",
    "            for activation_second in p['activation_second']:\n",
    "              for optimizer in p['optimizer']:\n",
    "                # print(lr,first_neuron,second_neuron,first_dropout,second_dropout,activation_first,activation_second,optimizer,sep='/')\n",
    "                count_models=count_models+1\n",
    "                nn_params['learning_rate'] = lr\n",
    "                nn_params['first_layer_neurons'] = first_neuron\n",
    "                nn_params['first_layer_dropout'] = first_dropout\n",
    "                nn_params['second_layer_neurons'] = second_neuron\n",
    "                nn_params['second_layer_dropout'] = second_dropout\n",
    "                nn_params['activation_first_layer'] = activation_first\n",
    "                nn_params['activation_second_layer'] = activation_second\n",
    "                nn_params['optimizer'] = optimizer\n",
    "                # features count as an input shape\n",
    "                nn_params['input_shape'] = len(X_train.keys())\n",
    "\n",
    "# Current set of models to try\n",
    "print(count_models)"
   ]
  },
  {
   "cell_type": "code",
   "execution_count": 123,
   "metadata": {
    "colab": {
     "base_uri": "https://localhost:8080/"
    },
    "id": "jFC13OWNPONp",
    "outputId": "dcabadfa-c497-452b-9d8e-a31bc666a7fa"
   },
   "outputs": [
    {
     "data": {
      "text/plain": [
       "{'learning_rate': 0.1,\n",
       " 'first_layer_neurons': 256,\n",
       " 'first_layer_dropout': 0.1,\n",
       " 'second_layer_neurons': 256,\n",
       " 'second_layer_dropout': 0.1,\n",
       " 'activation_first_layer': 'tanh',\n",
       " 'activation_second_layer': 'relu',\n",
       " 'optimizer': 'rmaprop',\n",
       " 'input_shape': 301}"
      ]
     },
     "execution_count": 123,
     "metadata": {},
     "output_type": "execute_result"
    }
   ],
   "source": [
    "nn_params"
   ]
  },
  {
   "cell_type": "code",
   "execution_count": 124,
   "metadata": {
    "id": "NWqOnx_-vISh"
   },
   "outputs": [],
   "source": [
    "# you need to install TF if using a v28 machine\n",
    "# !pip install tensorflow"
   ]
  },
  {
   "cell_type": "raw",
   "metadata": {
    "id": "DSKo_nVbP4XO"
   },
   "source": [
    "import tensorflow as tf\n",
    "import keras\n",
    "from keras import layers\n",
    "# from keras.models import Sequential\n",
    "# from keras.layers import Dense, Input, Dropout, Activation"
   ]
  },
  {
   "cell_type": "raw",
   "metadata": {
    "id": "ofs2WNeT6NSj"
   },
   "source": [
    "# building one Neural Network when Parameters are known:\n",
    "import datetime\n",
    "\n",
    "# len(rez_train.keys())\n",
    "def build_model(nn_params):\n",
    "  # lr, first_neuron, second_neuron, first_dropout, second_dropout, activation_first, activation_second, optimizer\n",
    "  model = keras.Sequential([\n",
    "  layers.Dense(nn_params['first_layer_neurons'],\n",
    "               activation=nn_params['activation_first_layer'],\n",
    "               input_shape=[nn_params['input_shape']]),\n",
    "  layers.Dropout(nn_params['first_layer_dropout']),\n",
    "  layers.Dense(nn_params['second_layer_neurons'],\n",
    "               activation=nn_params['activation_second_layer']),\n",
    "  layers.Dropout(nn_params['second_layer_dropout']),\n",
    "  layers.Dense(1, activation='sigmoid') # sigmoid is important for a Neural Network\n",
    "  ])\n",
    "\n",
    "  if optimizer == 'adam':\n",
    "    opt = keras.optimizers.Adam(lr)\n",
    "  elif optimizer == 'nadam':\n",
    "    opt = keras.optimizers.Nadam(lr)\n",
    "  elif optimizer == 'rmsprop':\n",
    "    opt = keras.optimizers.RMSprop(lr)\n",
    "  elif optimizer == 'sgd':\n",
    "    opt = keras.optimizers.SGD(lr)\n",
    "  else:\n",
    "    opt = keras.optimizers.Adagrad(lr)\n",
    "  model.compile(loss='binary_crossentropy', # mae/rmse for the Regression,\n",
    "                optimizer=opt,\n",
    "                metrics=['accuracy',keras.metrics.Precision()]) # or use [keras.metrics.Precision()] for a binary model : https://keras.io/api/metrics/classification_metrics/#precision-class\n",
    "  return model"
   ]
  },
  {
   "cell_type": "raw",
   "metadata": {
    "colab": {
     "base_uri": "https://localhost:8080/"
    },
    "id": "Upj8RN0jlGcn",
    "outputId": "b0c48887-9993-49e2-be44-e8c5d8a9a40c"
   },
   "source": [
    "nn_params"
   ]
  },
  {
   "cell_type": "raw",
   "metadata": {
    "colab": {
     "base_uri": "https://localhost:8080/",
     "height": 367
    },
    "id": "jKqF0JnUPlBl",
    "outputId": "5298919c-1924-4c5a-ffe7-f78057de1787"
   },
   "source": [
    "model = build_model(nn_params)\n",
    "model.summary()\n",
    "# model.get_config()"
   ]
  },
  {
   "cell_type": "raw",
   "metadata": {
    "colab": {
     "base_uri": "https://localhost:8080/"
    },
    "id": "JM-j525vI5Wz",
    "outputId": "4967841b-434f-4938-e349-4c87b9deb996"
   },
   "source": [
    "# trainable params in the model with max params (largest hidden layers size)\n",
    "model.count_params()"
   ]
  },
  {
   "cell_type": "raw",
   "metadata": {
    "id": "Qtvb4AJk3_b_"
   },
   "source": [
    "# Display training progress by printing a single dot for each completed epoch\n",
    "class PrintDot(keras.callbacks.Callback):\n",
    "  def on_epoch_end(self, epoch, logs):\n",
    "    if epoch % 100 == 0: print()\n",
    "    print('.', end='')"
   ]
  },
  {
   "cell_type": "raw",
   "metadata": {
    "id": "FxxJEzvq5B-r"
   },
   "source": [
    "# read tutorial about Binary Classification with Neural Network\n",
    "# https://machinelearningmastery.com/binary-classification-tutorial-with-the-keras-deep-learning-library/\n",
    "# https://www.tensorflow.org/api_docs/python/tf/keras/Model#fit\n",
    "\n",
    "\n",
    "# HYPER_PARAMS_SPACE = PARAMS space\n",
    "# WHEN MAX_MODELS>0: return after MAX_MODELS checked\n",
    "# MAX_EPOCHS: how many epochs (periods when model weights are updated) do we need?\n",
    "def train_neural_network_with_hyperparams(HYPER_PARAMS_SPACE, MAX_MODELS=0, MAX_EPOCHS=250, EARLY_STOPPING_PATIENCE=20):\n",
    "\n",
    "  # The patience parameter is the amount of epochs to check for improvement\n",
    "  early_stop = keras.callbacks.EarlyStopping(monitor='val_accuracy',  # we want accuracy to improve every single iteration (or at least in several iterations (EARLY STOPPING PARAM))\n",
    "                                             patience = EARLY_STOPPING_PATIENCE)\n",
    "  nn_params = {} # current hyperParams settings\n",
    "  cur = 0 # models trained\n",
    "\n",
    "  # best stats\n",
    "  best_accuracy = 0\n",
    "  best_model = None\n",
    "  best_history = None\n",
    "\n",
    "  for lr in HYPER_PARAMS_SPACE['lr']:\n",
    "    for first_dropout in HYPER_PARAMS_SPACE['first_dropout']:\n",
    "      for second_dropout in HYPER_PARAMS_SPACE['second_dropout']:\n",
    "        for activation_first in HYPER_PARAMS_SPACE['activation_first']:\n",
    "          for activation_second in HYPER_PARAMS_SPACE['activation_second']:\n",
    "            for optimizer in HYPER_PARAMS_SPACE['optimizer']:\n",
    "              for first_neuron in HYPER_PARAMS_SPACE['first_neuron']:\n",
    "                for second_neuron in HYPER_PARAMS_SPACE['second_neuron']:\n",
    "                  cur = cur+1\n",
    "\n",
    "                  nn_params['learning_rate'] = lr\n",
    "                  nn_params['first_layer_neurons'] = first_neuron\n",
    "                  nn_params['first_layer_dropout'] = first_dropout\n",
    "                  nn_params['second_layer_neurons'] = second_neuron\n",
    "                  nn_params['second_layer_dropout'] = second_dropout\n",
    "                  nn_params['activation_first_layer'] = activation_first\n",
    "                  nn_params['activation_second_layer'] = activation_second\n",
    "                  nn_params['optimizer'] = optimizer\n",
    "\n",
    "                  # features count as an input shape\n",
    "                  nn_params['input_shape'] = len(X_train.keys())\n",
    "\n",
    "                  print(f'Using HyperParams:{nn_params}')\n",
    "\n",
    "                  model = build_model(nn_params)\n",
    "                  # model.summary()\n",
    "\n",
    "                  frame = pd.DataFrame(data=[cur,lr,first_neuron,second_neuron,first_dropout,second_dropout, activation_first, activation_second, optimizer])\n",
    "\n",
    "                  print(f\"Training model {cur} with trainable params {model.count_params()} :\")\n",
    "                  t_start = datetime.datetime.now()\n",
    "                  history = model.fit(\n",
    "                                        X_train_valid,\n",
    "                                        y_train_valid,\n",
    "                                        epochs=MAX_EPOCHS,\n",
    "                                        validation_data = (X_test, y_test),\n",
    "                                        verbose=1, #change to 0 if you don't want to see the progress\n",
    "                                        callbacks=[early_stop,PrintDot()])\n",
    "\n",
    "                  t_diff = datetime.datetime.now() - t_start\n",
    "                  frame = pd.DataFrame(data=[t_diff.seconds,\n",
    "                                          len(history.epoch),\n",
    "                                          history.history['val_accuracy'][0], # start of learning\n",
    "                                          history.history['val_accuracy'][len(history.epoch)-1], # end of learning\n",
    "                                          #  history.history['val_precision_2'][0], # start of learning\n",
    "                                          #  history.history['val_precision_2'][len(history.epoch)-1], # end of learning\n",
    "                                          ])\n",
    "\n",
    "                  if history.history['val_accuracy'][len(history.epoch)-1]> best_accuracy:\n",
    "                    best_accuracy = history.history['val_accuracy'][len(history.epoch)-1]\n",
    "                    best_model = model\n",
    "                    best_history = history\n",
    "\n",
    "                  # early stopping of hyper params loop\n",
    "                  if MAX_MODELS>0 and cur>=MAX_MODELS:\n",
    "                    return best_model, best_history.history\n",
    "\n",
    "                  print('==============================================================')\n",
    "\n",
    "  return best_model, best_history.history #full hyper params search on all models"
   ]
  },
  {
   "cell_type": "code",
   "execution_count": 134,
   "metadata": {
    "id": "mEY5dGDDd6cY"
   },
   "outputs": [],
   "source": [
    "# UNCOMMENT TO RUN IT\n",
    "# # returns best_model (trained) and best_history (history of train operations)\n",
    "# best_model, best_history = train_neural_network_with_hyperparams(HYPER_PARAMS_SPACE=p,\n",
    "#                                                                  MAX_MODELS=2, #not more than 2 models\n",
    "#                                                                  MAX_EPOCHS=250,\n",
    "#                                                                  EARLY_STOPPING_PATIENCE=10\n",
    "#                                                                  )"
   ]
  },
  {
   "cell_type": "code",
   "execution_count": 135,
   "metadata": {
    "id": "Lp0e4QDLhy9J"
   },
   "outputs": [],
   "source": [
    "# UNCOMMENT WHEN RUN AGAIN\n",
    "\n",
    "# best_history_nn = best_history\n",
    "# best_model_nn = best_model"
   ]
  },
  {
   "cell_type": "code",
   "execution_count": 136,
   "metadata": {
    "id": "9g43koeawAXz"
   },
   "outputs": [],
   "source": [
    "# best_model_nn.summary()"
   ]
  },
  {
   "cell_type": "code",
   "execution_count": 137,
   "metadata": {
    "id": "MAFBR8IbTlD6"
   },
   "outputs": [],
   "source": [
    "# check the best history of training\n",
    "# best_history"
   ]
  },
  {
   "cell_type": "code",
   "execution_count": 125,
   "metadata": {
    "id": "sXAQ011hh7RP"
   },
   "outputs": [],
   "source": [
    "# pre computed history\n",
    "best_history_nn ={'accuracy': [0.6206425428390503,\n",
    "  0.6563935875892639,\n",
    "  0.6715070605278015,\n",
    "  0.6781659126281738,\n",
    "  0.6846689581871033,\n",
    "  0.6899000406265259,\n",
    "  0.6924314498901367,\n",
    "  0.6940774321556091,\n",
    "  0.6963594555854797,\n",
    "  0.6981488466262817,\n",
    "  0.6982797980308533,\n",
    "  0.7005742192268372],\n",
    " 'loss': [0.6485477089881897,\n",
    "  0.6164013743400574,\n",
    "  0.6015466451644897,\n",
    "  0.5939826965332031,\n",
    "  0.5864177346229553,\n",
    "  0.5822728872299194,\n",
    "  0.5788451433181763,\n",
    "  0.5766140818595886,\n",
    "  0.5728825926780701,\n",
    "  0.5714946389198303,\n",
    "  0.5709761381149292,\n",
    "  0.5681091547012329],\n",
    " 'precision_1': [0.6281318068504333,\n",
    "  0.6705082058906555,\n",
    "  0.6927300691604614,\n",
    "  0.7030346393585205,\n",
    "  0.7096523642539978,\n",
    "  0.7157368659973145,\n",
    "  0.7195449471473694,\n",
    "  0.7237764596939087,\n",
    "  0.724949061870575,\n",
    "  0.7277039289474487,\n",
    "  0.7285037040710449,\n",
    "  0.7305046916007996],\n",
    " 'val_accuracy': [0.5095517039299011,\n",
    "  0.5176388025283813,\n",
    "  0.5059220790863037,\n",
    "  0.49360036849975586,\n",
    "  0.4926133453845978,\n",
    "  0.4922631084918976,\n",
    "  0.49605196714401245,\n",
    "  0.48605450987815857,\n",
    "  0.48605450987815857,\n",
    "  0.4821383059024811,\n",
    "  0.47784003615379333,\n",
    "  0.4782857894897461],\n",
    " 'val_loss': [0.7736297845840454,\n",
    "  0.9822676181793213,\n",
    "  1.0234887599945068,\n",
    "  1.1025390625,\n",
    "  1.1842303276062012,\n",
    "  1.1674247980117798,\n",
    "  1.1660196781158447,\n",
    "  1.2397290468215942,\n",
    "  1.2409558296203613,\n",
    "  1.2863727807998657,\n",
    "  1.3408353328704834,\n",
    "  1.328245759010315],\n",
    " 'val_precision_1': [0.5571497082710266,\n",
    "  0.5591427087783813,\n",
    "  0.5572323799133301,\n",
    "  0.5471343398094177,\n",
    "  0.5460649728775024,\n",
    "  0.546144962310791,\n",
    "  0.5497111082077026,\n",
    "  0.5439006090164185,\n",
    "  0.5426294207572937,\n",
    "  0.5389731526374817,\n",
    "  0.5362157225608826,\n",
    "  0.5376880168914795]}"
   ]
  },
  {
   "cell_type": "code",
   "execution_count": 126,
   "metadata": {
    "colab": {
     "base_uri": "https://localhost:8080/"
    },
    "id": "tapRzB6kxVH0",
    "outputId": "8bab4109-32e0-4b27-e9a0-9719240c9def"
   },
   "outputs": [
    {
     "data": {
      "text/plain": [
       "(160387, 301)"
      ]
     },
     "execution_count": 126,
     "metadata": {},
     "output_type": "execute_result"
    }
   ],
   "source": [
    "X_train_valid.shape"
   ]
  },
  {
   "cell_type": "code",
   "execution_count": 127,
   "metadata": {
    "colab": {
     "base_uri": "https://localhost:8080/",
     "height": 564
    },
    "id": "jqXQVagUYMZ6",
    "outputId": "3f795d73-042b-4096-de0c-268f84b37f68"
   },
   "outputs": [
    {
     "data": {
      "image/png": "[encoded data removed]",
      "text/plain": [
       "<Figure size 1000x600 with 1 Axes>"
      ]
     },
     "metadata": {},
     "output_type": "display_data"
    }
   ],
   "source": [
    "# Learning visualisation for the Deep Neural Network (DNN)\n",
    "# The model is not actually training, as the precision and accuracy score are not improving on TRAIN/TEST with more Epochs\n",
    "\n",
    "# Plotting accuracy\n",
    "plt.figure(figsize=(10, 6))\n",
    "plt.plot(best_history_nn['precision_1'], label='Training Precision')\n",
    "plt.plot(best_history_nn['val_precision_1'], label='Test Precision')\n",
    "plt.xlabel('Epoch')\n",
    "plt.ylabel('Precision')\n",
    "plt.title('Training vs. Test Precision')\n",
    "plt.legend()\n",
    "plt.grid(True)\n",
    "plt.show()"
   ]
  },
  {
   "cell_type": "markdown",
   "metadata": {
    "id": "dkjMJUSFSHV_"
   },
   "source": [
    "# 2) [Code Snippet 5] Different Decision rules to improve the Precision (varying Threshold)\n",
    "* best model1 **(clf_best)**: Decision Tree (max_depth=15)\n",
    "* best model2 **(rf_best)**: Random Forest (n_estimators=200, max_depth=17)"
   ]
  },
  {
   "cell_type": "markdown",
   "metadata": {
    "id": "iUgy2-5uXSbZ"
   },
   "source": [
    "## 2.1. Predicting probabilities (predict_proba), getting the distribution for probabilities, and new decision rules"
   ]
  },
  {
   "cell_type": "code",
   "execution_count": 128,
   "metadata": {
    "colab": {
     "base_uri": "https://localhost:8080/"
    },
    "id": "wfKWK7mdmEaf",
    "outputId": "5c84d8fc-47b2-4b02-f987-7683f09d5a12"
   },
   "outputs": [
    {
     "name": "stderr",
     "output_type": "stream",
     "text": [
      "/Users/iuliia/projects/market_zoomcamp/venv/lib/python3.11/site-packages/sklearn/utils/validation.py:2749: UserWarning:\n",
      "\n",
      "X does not have valid feature names, but DecisionTreeClassifier was fitted with feature names\n",
      "\n"
     ]
    }
   ],
   "source": [
    "# predicting probability instead of a label\n",
    "y_pred_test = clf_best.predict_proba(X_test)\n",
    "\n",
    "# y_pred_test = rf_best.predict_proba(X_test)\n",
    "\n",
    "y_pred_test_class1 = [k[1] for k in y_pred_test] # k[1] is the second element in the list of Class predictions"
   ]
  },
  {
   "cell_type": "code",
   "execution_count": 129,
   "metadata": {
    "colab": {
     "base_uri": "https://localhost:8080/"
    },
    "id": "56PFYsmI2hu9",
    "outputId": "adfb2d1c-818e-4023-cb10-d434a0090efe"
   },
   "outputs": [
    {
     "data": {
      "text/plain": [
       "array([[0., 1.],\n",
       "       [0., 1.],\n",
       "       [0., 1.],\n",
       "       ...,\n",
       "       [1., 0.],\n",
       "       [1., 0.],\n",
       "       [0., 1.]], shape=(31408, 2))"
      ]
     },
     "execution_count": 129,
     "metadata": {},
     "output_type": "execute_result"
    }
   ],
   "source": [
    "# example prediction\n",
    "y_pred_test"
   ]
  },
  {
   "cell_type": "code",
   "execution_count": 130,
   "metadata": {
    "colab": {
     "base_uri": "https://localhost:8080/",
     "height": 363
    },
    "id": "Za_pRuE62Wq9",
    "outputId": "8f89e38c-c9b8-46ec-ea1f-4587a42b7567"
   },
   "outputs": [
    {
     "data": {
      "text/html": [
       "<div>\n",
       "<style scoped>\n",
       "    .dataframe tbody tr th:only-of-type {\n",
       "        vertical-align: middle;\n",
       "    }\n",
       "\n",
       "    .dataframe tbody tr th {\n",
       "        vertical-align: top;\n",
       "    }\n",
       "\n",
       "    .dataframe thead th {\n",
       "        text-align: right;\n",
       "    }\n",
       "</style>\n",
       "<table border=\"1\" class=\"dataframe\">\n",
       "  <thead>\n",
       "    <tr style=\"text-align: right;\">\n",
       "      <th></th>\n",
       "      <th>Class1_probability</th>\n",
       "    </tr>\n",
       "  </thead>\n",
       "  <tbody>\n",
       "    <tr>\n",
       "      <th>18955</th>\n",
       "      <td>0.000000</td>\n",
       "    </tr>\n",
       "    <tr>\n",
       "      <th>24996</th>\n",
       "      <td>0.071429</td>\n",
       "    </tr>\n",
       "    <tr>\n",
       "      <th>29780</th>\n",
       "      <td>0.000000</td>\n",
       "    </tr>\n",
       "    <tr>\n",
       "      <th>19694</th>\n",
       "      <td>0.000000</td>\n",
       "    </tr>\n",
       "    <tr>\n",
       "      <th>12372</th>\n",
       "      <td>0.000000</td>\n",
       "    </tr>\n",
       "    <tr>\n",
       "      <th>25641</th>\n",
       "      <td>0.000000</td>\n",
       "    </tr>\n",
       "    <tr>\n",
       "      <th>2407</th>\n",
       "      <td>0.000000</td>\n",
       "    </tr>\n",
       "    <tr>\n",
       "      <th>9895</th>\n",
       "      <td>0.000000</td>\n",
       "    </tr>\n",
       "    <tr>\n",
       "      <th>17486</th>\n",
       "      <td>1.000000</td>\n",
       "    </tr>\n",
       "    <tr>\n",
       "      <th>1827</th>\n",
       "      <td>0.000000</td>\n",
       "    </tr>\n",
       "  </tbody>\n",
       "</table>\n",
       "</div>"
      ],
      "text/plain": [
       "       Class1_probability\n",
       "18955            0.000000\n",
       "24996            0.071429\n",
       "29780            0.000000\n",
       "19694            0.000000\n",
       "12372            0.000000\n",
       "25641            0.000000\n",
       "2407             0.000000\n",
       "9895             0.000000\n",
       "17486            1.000000\n",
       "1827             0.000000"
      ]
     },
     "execution_count": 130,
     "metadata": {},
     "output_type": "execute_result"
    }
   ],
   "source": [
    "y_pred_test_class1_df = pd.DataFrame(y_pred_test_class1, columns=['Class1_probability'])\n",
    "\n",
    "# sample of predictions\n",
    "y_pred_test_class1_df.sample(10)"
   ]
  },
  {
   "cell_type": "code",
   "execution_count": 131,
   "metadata": {
    "colab": {
     "base_uri": "https://localhost:8080/",
     "height": 81
    },
    "id": "M8ht0Wlp_KeY",
    "outputId": "4d38491c-a410-476d-adbc-dea5eba28273"
   },
   "outputs": [
    {
     "data": {
      "text/html": [
       "<div>\n",
       "<style scoped>\n",
       "    .dataframe tbody tr th:only-of-type {\n",
       "        vertical-align: middle;\n",
       "    }\n",
       "\n",
       "    .dataframe tbody tr th {\n",
       "        vertical-align: top;\n",
       "    }\n",
       "\n",
       "    .dataframe thead th {\n",
       "        text-align: right;\n",
       "    }\n",
       "</style>\n",
       "<table border=\"1\" class=\"dataframe\">\n",
       "  <thead>\n",
       "    <tr style=\"text-align: right;\">\n",
       "      <th></th>\n",
       "      <th>count</th>\n",
       "      <th>mean</th>\n",
       "      <th>std</th>\n",
       "      <th>min</th>\n",
       "      <th>25%</th>\n",
       "      <th>50%</th>\n",
       "      <th>75%</th>\n",
       "      <th>max</th>\n",
       "    </tr>\n",
       "  </thead>\n",
       "  <tbody>\n",
       "    <tr>\n",
       "      <th>Class1_probability</th>\n",
       "      <td>31408.0</td>\n",
       "      <td>0.309824</td>\n",
       "      <td>0.446348</td>\n",
       "      <td>0.0</td>\n",
       "      <td>0.0</td>\n",
       "      <td>0.0</td>\n",
       "      <td>0.90538</td>\n",
       "      <td>1.0</td>\n",
       "    </tr>\n",
       "  </tbody>\n",
       "</table>\n",
       "</div>"
      ],
      "text/plain": [
       "                      count      mean       std  min  25%  50%      75%  max\n",
       "Class1_probability  31408.0  0.309824  0.446348  0.0  0.0  0.0  0.90538  1.0"
      ]
     },
     "execution_count": 131,
     "metadata": {},
     "output_type": "execute_result"
    }
   ],
   "source": [
    "# Mean prediction is 0.3, median is 0.0, 75% quantile is 0.9\n",
    "y_pred_test_class1_df.describe().T"
   ]
  },
  {
   "cell_type": "code",
   "execution_count": 132,
   "metadata": {
    "colab": {
     "base_uri": "https://localhost:8080/"
    },
    "id": "jiO0QLZcD7F4",
    "outputId": "b04023ef-c1a7-4eb6-e609-81999c501fb3"
   },
   "outputs": [
    {
     "data": {
      "text/plain": [
       "np.float64(0.5510697911360163)"
      ]
     },
     "execution_count": 132,
     "metadata": {},
     "output_type": "execute_result"
    }
   ],
   "source": [
    "# Unconditional probability of a positive growth is 55.5%\n",
    "y_test.sum()/y_test.count()"
   ]
  },
  {
   "cell_type": "code",
   "execution_count": 133,
   "metadata": {
    "colab": {
     "base_uri": "https://localhost:8080/",
     "height": 452
    },
    "id": "NzxMSb_DmJjW",
    "outputId": "7325f444-4c69-4adb-a24f-664dd5d60e32"
   },
   "outputs": [
    {
     "data": {
      "image/png": "[encoded data removed]",
      "text/plain": [
       "<Figure size 640x480 with 1 Axes>"
      ]
     },
     "metadata": {},
     "output_type": "display_data"
    }
   ],
   "source": [
    "sns.histplot(y_pred_test_class1)\n",
    "\n",
    "# Add a title\n",
    "plt.title(f'The distribution of predictions for the current second best model (Decision Tree with max_depth={clf_best.get_depth()})')\n",
    "\n",
    "# Show the plot\n",
    "plt.show()"
   ]
  },
  {
   "cell_type": "code",
   "execution_count": 134,
   "metadata": {
    "id": "XK1tTcV9_IOn"
   },
   "outputs": [],
   "source": [
    "# tpr (True Positive Rate) vs. fpr (False Positive Rate) dataframe\n",
    "# tp = True Positive\n",
    "# tn = True Negative\n",
    "# fp = False Positive\n",
    "# fn = False Negative\n",
    "# Decision Rule :  \"y_pred>= Threshold\" for Class \"1\"\n",
    "\n",
    "# when only_even=True --> we'll have a step ==0.02 and leave only even records\n",
    "\n",
    "def tpr_fpr_dataframe(y_true, y_pred, only_even=False):\n",
    "    scores = []\n",
    "\n",
    "    if only_even==False:\n",
    "      thresholds = np.linspace(0, 1, 101) #[0, 0.01, 0.02, ...0.99,1.0]\n",
    "    else:\n",
    "      thresholds = np.linspace(0, 1, 51) #[0, 0.02, 0.04,  ...0.98,1.0]\n",
    "\n",
    "    for t in thresholds:\n",
    "\n",
    "        actual_positive = (y_true == 1)\n",
    "        actual_negative = (y_true == 0)\n",
    "\n",
    "        predict_positive = (y_pred >= t)\n",
    "        predict_negative = (y_pred < t)\n",
    "\n",
    "        tp = (predict_positive & actual_positive).sum()\n",
    "        tn = (predict_negative & actual_negative).sum()\n",
    "\n",
    "        fp = (predict_positive & actual_negative).sum()\n",
    "        fn = (predict_negative & actual_positive).sum()\n",
    "\n",
    "        if tp + fp > 0:\n",
    "          precision = tp / (tp + fp)\n",
    "\n",
    "        if tp + fn > 0:\n",
    "          recall = tp / (tp + fn)\n",
    "\n",
    "        if precision+recall > 0:\n",
    "          f1_score = 2*precision*recall / (precision+recall)\n",
    "\n",
    "        accuracy = (tp+tn) / (tp+tn+fp+fn)\n",
    "\n",
    "        scores.append((t, tp, fp, fn, tn, precision, recall, accuracy, f1_score))\n",
    "\n",
    "    columns = ['threshold', 'tp', 'fp', 'fn', 'tn','precision','recall', 'accuracy','f1_score']\n",
    "    df_scores = pd.DataFrame(scores, columns=columns)\n",
    "\n",
    "    df_scores['tpr'] = df_scores.tp / (df_scores.tp + df_scores.fn)\n",
    "    df_scores['fpr'] = df_scores.fp / (df_scores.fp + df_scores.tn)\n",
    "\n",
    "    return df_scores\n"
   ]
  },
  {
   "cell_type": "code",
   "execution_count": 135,
   "metadata": {
    "id": "N8MqpqUKGGf-"
   },
   "outputs": [],
   "source": [
    "df_scores = tpr_fpr_dataframe(y_test,\n",
    "                              y_pred_test_class1,\n",
    "                              only_even=True)"
   ]
  },
  {
   "cell_type": "code",
   "execution_count": 136,
   "metadata": {
    "colab": {
     "base_uri": "https://localhost:8080/",
     "height": 1000
    },
    "id": "xhk0Alkg2pri",
    "outputId": "739d46d7-46c7-45b6-ca34-03998b7cbd29"
   },
   "outputs": [
    {
     "data": {
      "text/html": [
       "<div>\n",
       "<style scoped>\n",
       "    .dataframe tbody tr th:only-of-type {\n",
       "        vertical-align: middle;\n",
       "    }\n",
       "\n",
       "    .dataframe tbody tr th {\n",
       "        vertical-align: top;\n",
       "    }\n",
       "\n",
       "    .dataframe thead th {\n",
       "        text-align: right;\n",
       "    }\n",
       "</style>\n",
       "<table border=\"1\" class=\"dataframe\">\n",
       "  <thead>\n",
       "    <tr style=\"text-align: right;\">\n",
       "      <th></th>\n",
       "      <th>threshold</th>\n",
       "      <th>tp</th>\n",
       "      <th>fp</th>\n",
       "      <th>fn</th>\n",
       "      <th>tn</th>\n",
       "      <th>precision</th>\n",
       "      <th>recall</th>\n",
       "      <th>accuracy</th>\n",
       "      <th>f1_score</th>\n",
       "      <th>tpr</th>\n",
       "      <th>fpr</th>\n",
       "    </tr>\n",
       "  </thead>\n",
       "  <tbody>\n",
       "    <tr>\n",
       "      <th>0</th>\n",
       "      <td>0.00</td>\n",
       "      <td>17308</td>\n",
       "      <td>14100</td>\n",
       "      <td>0</td>\n",
       "      <td>0</td>\n",
       "      <td>0.551070</td>\n",
       "      <td>1.000000</td>\n",
       "      <td>0.551070</td>\n",
       "      <td>0.710567</td>\n",
       "      <td>1.000000</td>\n",
       "      <td>1.000000</td>\n",
       "    </tr>\n",
       "    <tr>\n",
       "      <th>1</th>\n",
       "      <td>0.02</td>\n",
       "      <td>6279</td>\n",
       "      <td>5304</td>\n",
       "      <td>11029</td>\n",
       "      <td>8796</td>\n",
       "      <td>0.542088</td>\n",
       "      <td>0.362780</td>\n",
       "      <td>0.479973</td>\n",
       "      <td>0.434668</td>\n",
       "      <td>0.362780</td>\n",
       "      <td>0.376170</td>\n",
       "    </tr>\n",
       "    <tr>\n",
       "      <th>2</th>\n",
       "      <td>0.04</td>\n",
       "      <td>6279</td>\n",
       "      <td>5304</td>\n",
       "      <td>11029</td>\n",
       "      <td>8796</td>\n",
       "      <td>0.542088</td>\n",
       "      <td>0.362780</td>\n",
       "      <td>0.479973</td>\n",
       "      <td>0.434668</td>\n",
       "      <td>0.362780</td>\n",
       "      <td>0.376170</td>\n",
       "    </tr>\n",
       "    <tr>\n",
       "      <th>3</th>\n",
       "      <td>0.06</td>\n",
       "      <td>6279</td>\n",
       "      <td>5304</td>\n",
       "      <td>11029</td>\n",
       "      <td>8796</td>\n",
       "      <td>0.542088</td>\n",
       "      <td>0.362780</td>\n",
       "      <td>0.479973</td>\n",
       "      <td>0.434668</td>\n",
       "      <td>0.362780</td>\n",
       "      <td>0.376170</td>\n",
       "    </tr>\n",
       "    <tr>\n",
       "      <th>4</th>\n",
       "      <td>0.08</td>\n",
       "      <td>5686</td>\n",
       "      <td>4609</td>\n",
       "      <td>11622</td>\n",
       "      <td>9491</td>\n",
       "      <td>0.552307</td>\n",
       "      <td>0.328519</td>\n",
       "      <td>0.483221</td>\n",
       "      <td>0.411984</td>\n",
       "      <td>0.328519</td>\n",
       "      <td>0.326879</td>\n",
       "    </tr>\n",
       "    <tr>\n",
       "      <th>5</th>\n",
       "      <td>0.10</td>\n",
       "      <td>5629</td>\n",
       "      <td>4605</td>\n",
       "      <td>11679</td>\n",
       "      <td>9495</td>\n",
       "      <td>0.550029</td>\n",
       "      <td>0.325225</td>\n",
       "      <td>0.481533</td>\n",
       "      <td>0.408758</td>\n",
       "      <td>0.325225</td>\n",
       "      <td>0.326596</td>\n",
       "    </tr>\n",
       "    <tr>\n",
       "      <th>6</th>\n",
       "      <td>0.12</td>\n",
       "      <td>5629</td>\n",
       "      <td>4605</td>\n",
       "      <td>11679</td>\n",
       "      <td>9495</td>\n",
       "      <td>0.550029</td>\n",
       "      <td>0.325225</td>\n",
       "      <td>0.481533</td>\n",
       "      <td>0.408758</td>\n",
       "      <td>0.325225</td>\n",
       "      <td>0.326596</td>\n",
       "    </tr>\n",
       "    <tr>\n",
       "      <th>7</th>\n",
       "      <td>0.14</td>\n",
       "      <td>5629</td>\n",
       "      <td>4605</td>\n",
       "      <td>11679</td>\n",
       "      <td>9495</td>\n",
       "      <td>0.550029</td>\n",
       "      <td>0.325225</td>\n",
       "      <td>0.481533</td>\n",
       "      <td>0.408758</td>\n",
       "      <td>0.325225</td>\n",
       "      <td>0.326596</td>\n",
       "    </tr>\n",
       "    <tr>\n",
       "      <th>8</th>\n",
       "      <td>0.16</td>\n",
       "      <td>5629</td>\n",
       "      <td>4605</td>\n",
       "      <td>11679</td>\n",
       "      <td>9495</td>\n",
       "      <td>0.550029</td>\n",
       "      <td>0.325225</td>\n",
       "      <td>0.481533</td>\n",
       "      <td>0.408758</td>\n",
       "      <td>0.325225</td>\n",
       "      <td>0.326596</td>\n",
       "    </tr>\n",
       "    <tr>\n",
       "      <th>9</th>\n",
       "      <td>0.18</td>\n",
       "      <td>5629</td>\n",
       "      <td>4605</td>\n",
       "      <td>11679</td>\n",
       "      <td>9495</td>\n",
       "      <td>0.550029</td>\n",
       "      <td>0.325225</td>\n",
       "      <td>0.481533</td>\n",
       "      <td>0.408758</td>\n",
       "      <td>0.325225</td>\n",
       "      <td>0.326596</td>\n",
       "    </tr>\n",
       "    <tr>\n",
       "      <th>10</th>\n",
       "      <td>0.20</td>\n",
       "      <td>5629</td>\n",
       "      <td>4605</td>\n",
       "      <td>11679</td>\n",
       "      <td>9495</td>\n",
       "      <td>0.550029</td>\n",
       "      <td>0.325225</td>\n",
       "      <td>0.481533</td>\n",
       "      <td>0.408758</td>\n",
       "      <td>0.325225</td>\n",
       "      <td>0.326596</td>\n",
       "    </tr>\n",
       "    <tr>\n",
       "      <th>11</th>\n",
       "      <td>0.22</td>\n",
       "      <td>5629</td>\n",
       "      <td>4605</td>\n",
       "      <td>11679</td>\n",
       "      <td>9495</td>\n",
       "      <td>0.550029</td>\n",
       "      <td>0.325225</td>\n",
       "      <td>0.481533</td>\n",
       "      <td>0.408758</td>\n",
       "      <td>0.325225</td>\n",
       "      <td>0.326596</td>\n",
       "    </tr>\n",
       "    <tr>\n",
       "      <th>12</th>\n",
       "      <td>0.24</td>\n",
       "      <td>5629</td>\n",
       "      <td>4605</td>\n",
       "      <td>11679</td>\n",
       "      <td>9495</td>\n",
       "      <td>0.550029</td>\n",
       "      <td>0.325225</td>\n",
       "      <td>0.481533</td>\n",
       "      <td>0.408758</td>\n",
       "      <td>0.325225</td>\n",
       "      <td>0.326596</td>\n",
       "    </tr>\n",
       "    <tr>\n",
       "      <th>13</th>\n",
       "      <td>0.26</td>\n",
       "      <td>5629</td>\n",
       "      <td>4605</td>\n",
       "      <td>11679</td>\n",
       "      <td>9495</td>\n",
       "      <td>0.550029</td>\n",
       "      <td>0.325225</td>\n",
       "      <td>0.481533</td>\n",
       "      <td>0.408758</td>\n",
       "      <td>0.325225</td>\n",
       "      <td>0.326596</td>\n",
       "    </tr>\n",
       "    <tr>\n",
       "      <th>14</th>\n",
       "      <td>0.28</td>\n",
       "      <td>5629</td>\n",
       "      <td>4605</td>\n",
       "      <td>11679</td>\n",
       "      <td>9495</td>\n",
       "      <td>0.550029</td>\n",
       "      <td>0.325225</td>\n",
       "      <td>0.481533</td>\n",
       "      <td>0.408758</td>\n",
       "      <td>0.325225</td>\n",
       "      <td>0.326596</td>\n",
       "    </tr>\n",
       "    <tr>\n",
       "      <th>15</th>\n",
       "      <td>0.30</td>\n",
       "      <td>5629</td>\n",
       "      <td>4605</td>\n",
       "      <td>11679</td>\n",
       "      <td>9495</td>\n",
       "      <td>0.550029</td>\n",
       "      <td>0.325225</td>\n",
       "      <td>0.481533</td>\n",
       "      <td>0.408758</td>\n",
       "      <td>0.325225</td>\n",
       "      <td>0.326596</td>\n",
       "    </tr>\n",
       "    <tr>\n",
       "      <th>16</th>\n",
       "      <td>0.32</td>\n",
       "      <td>5620</td>\n",
       "      <td>4568</td>\n",
       "      <td>11688</td>\n",
       "      <td>9532</td>\n",
       "      <td>0.551629</td>\n",
       "      <td>0.324705</td>\n",
       "      <td>0.482425</td>\n",
       "      <td>0.408787</td>\n",
       "      <td>0.324705</td>\n",
       "      <td>0.323972</td>\n",
       "    </tr>\n",
       "    <tr>\n",
       "      <th>17</th>\n",
       "      <td>0.34</td>\n",
       "      <td>5620</td>\n",
       "      <td>4568</td>\n",
       "      <td>11688</td>\n",
       "      <td>9532</td>\n",
       "      <td>0.551629</td>\n",
       "      <td>0.324705</td>\n",
       "      <td>0.482425</td>\n",
       "      <td>0.408787</td>\n",
       "      <td>0.324705</td>\n",
       "      <td>0.323972</td>\n",
       "    </tr>\n",
       "    <tr>\n",
       "      <th>18</th>\n",
       "      <td>0.36</td>\n",
       "      <td>5620</td>\n",
       "      <td>4568</td>\n",
       "      <td>11688</td>\n",
       "      <td>9532</td>\n",
       "      <td>0.551629</td>\n",
       "      <td>0.324705</td>\n",
       "      <td>0.482425</td>\n",
       "      <td>0.408787</td>\n",
       "      <td>0.324705</td>\n",
       "      <td>0.323972</td>\n",
       "    </tr>\n",
       "    <tr>\n",
       "      <th>19</th>\n",
       "      <td>0.38</td>\n",
       "      <td>5620</td>\n",
       "      <td>4568</td>\n",
       "      <td>11688</td>\n",
       "      <td>9532</td>\n",
       "      <td>0.551629</td>\n",
       "      <td>0.324705</td>\n",
       "      <td>0.482425</td>\n",
       "      <td>0.408787</td>\n",
       "      <td>0.324705</td>\n",
       "      <td>0.323972</td>\n",
       "    </tr>\n",
       "    <tr>\n",
       "      <th>20</th>\n",
       "      <td>0.40</td>\n",
       "      <td>5620</td>\n",
       "      <td>4568</td>\n",
       "      <td>11688</td>\n",
       "      <td>9532</td>\n",
       "      <td>0.551629</td>\n",
       "      <td>0.324705</td>\n",
       "      <td>0.482425</td>\n",
       "      <td>0.408787</td>\n",
       "      <td>0.324705</td>\n",
       "      <td>0.323972</td>\n",
       "    </tr>\n",
       "    <tr>\n",
       "      <th>21</th>\n",
       "      <td>0.42</td>\n",
       "      <td>5620</td>\n",
       "      <td>4568</td>\n",
       "      <td>11688</td>\n",
       "      <td>9532</td>\n",
       "      <td>0.551629</td>\n",
       "      <td>0.324705</td>\n",
       "      <td>0.482425</td>\n",
       "      <td>0.408787</td>\n",
       "      <td>0.324705</td>\n",
       "      <td>0.323972</td>\n",
       "    </tr>\n",
       "    <tr>\n",
       "      <th>22</th>\n",
       "      <td>0.44</td>\n",
       "      <td>5527</td>\n",
       "      <td>4410</td>\n",
       "      <td>11781</td>\n",
       "      <td>9690</td>\n",
       "      <td>0.556204</td>\n",
       "      <td>0.319332</td>\n",
       "      <td>0.484494</td>\n",
       "      <td>0.405726</td>\n",
       "      <td>0.319332</td>\n",
       "      <td>0.312766</td>\n",
       "    </tr>\n",
       "    <tr>\n",
       "      <th>23</th>\n",
       "      <td>0.46</td>\n",
       "      <td>5527</td>\n",
       "      <td>4410</td>\n",
       "      <td>11781</td>\n",
       "      <td>9690</td>\n",
       "      <td>0.556204</td>\n",
       "      <td>0.319332</td>\n",
       "      <td>0.484494</td>\n",
       "      <td>0.405726</td>\n",
       "      <td>0.319332</td>\n",
       "      <td>0.312766</td>\n",
       "    </tr>\n",
       "    <tr>\n",
       "      <th>24</th>\n",
       "      <td>0.48</td>\n",
       "      <td>5527</td>\n",
       "      <td>4410</td>\n",
       "      <td>11781</td>\n",
       "      <td>9690</td>\n",
       "      <td>0.556204</td>\n",
       "      <td>0.319332</td>\n",
       "      <td>0.484494</td>\n",
       "      <td>0.405726</td>\n",
       "      <td>0.319332</td>\n",
       "      <td>0.312766</td>\n",
       "    </tr>\n",
       "    <tr>\n",
       "      <th>25</th>\n",
       "      <td>0.50</td>\n",
       "      <td>5527</td>\n",
       "      <td>4410</td>\n",
       "      <td>11781</td>\n",
       "      <td>9690</td>\n",
       "      <td>0.556204</td>\n",
       "      <td>0.319332</td>\n",
       "      <td>0.484494</td>\n",
       "      <td>0.405726</td>\n",
       "      <td>0.319332</td>\n",
       "      <td>0.312766</td>\n",
       "    </tr>\n",
       "    <tr>\n",
       "      <th>26</th>\n",
       "      <td>0.52</td>\n",
       "      <td>5291</td>\n",
       "      <td>4288</td>\n",
       "      <td>12017</td>\n",
       "      <td>9812</td>\n",
       "      <td>0.552354</td>\n",
       "      <td>0.305697</td>\n",
       "      <td>0.480865</td>\n",
       "      <td>0.393573</td>\n",
       "      <td>0.305697</td>\n",
       "      <td>0.304113</td>\n",
       "    </tr>\n",
       "    <tr>\n",
       "      <th>27</th>\n",
       "      <td>0.54</td>\n",
       "      <td>5291</td>\n",
       "      <td>4256</td>\n",
       "      <td>12017</td>\n",
       "      <td>9844</td>\n",
       "      <td>0.554206</td>\n",
       "      <td>0.305697</td>\n",
       "      <td>0.481884</td>\n",
       "      <td>0.394042</td>\n",
       "      <td>0.305697</td>\n",
       "      <td>0.301844</td>\n",
       "    </tr>\n",
       "    <tr>\n",
       "      <th>28</th>\n",
       "      <td>0.56</td>\n",
       "      <td>5291</td>\n",
       "      <td>4256</td>\n",
       "      <td>12017</td>\n",
       "      <td>9844</td>\n",
       "      <td>0.554206</td>\n",
       "      <td>0.305697</td>\n",
       "      <td>0.481884</td>\n",
       "      <td>0.394042</td>\n",
       "      <td>0.305697</td>\n",
       "      <td>0.301844</td>\n",
       "    </tr>\n",
       "    <tr>\n",
       "      <th>29</th>\n",
       "      <td>0.58</td>\n",
       "      <td>5291</td>\n",
       "      <td>4256</td>\n",
       "      <td>12017</td>\n",
       "      <td>9844</td>\n",
       "      <td>0.554206</td>\n",
       "      <td>0.305697</td>\n",
       "      <td>0.481884</td>\n",
       "      <td>0.394042</td>\n",
       "      <td>0.305697</td>\n",
       "      <td>0.301844</td>\n",
       "    </tr>\n",
       "    <tr>\n",
       "      <th>30</th>\n",
       "      <td>0.60</td>\n",
       "      <td>5291</td>\n",
       "      <td>4256</td>\n",
       "      <td>12017</td>\n",
       "      <td>9844</td>\n",
       "      <td>0.554206</td>\n",
       "      <td>0.305697</td>\n",
       "      <td>0.481884</td>\n",
       "      <td>0.394042</td>\n",
       "      <td>0.305697</td>\n",
       "      <td>0.301844</td>\n",
       "    </tr>\n",
       "    <tr>\n",
       "      <th>31</th>\n",
       "      <td>0.62</td>\n",
       "      <td>5291</td>\n",
       "      <td>4256</td>\n",
       "      <td>12017</td>\n",
       "      <td>9844</td>\n",
       "      <td>0.554206</td>\n",
       "      <td>0.305697</td>\n",
       "      <td>0.481884</td>\n",
       "      <td>0.394042</td>\n",
       "      <td>0.305697</td>\n",
       "      <td>0.301844</td>\n",
       "    </tr>\n",
       "    <tr>\n",
       "      <th>32</th>\n",
       "      <td>0.64</td>\n",
       "      <td>5291</td>\n",
       "      <td>4256</td>\n",
       "      <td>12017</td>\n",
       "      <td>9844</td>\n",
       "      <td>0.554206</td>\n",
       "      <td>0.305697</td>\n",
       "      <td>0.481884</td>\n",
       "      <td>0.394042</td>\n",
       "      <td>0.305697</td>\n",
       "      <td>0.301844</td>\n",
       "    </tr>\n",
       "    <tr>\n",
       "      <th>33</th>\n",
       "      <td>0.66</td>\n",
       "      <td>5291</td>\n",
       "      <td>4256</td>\n",
       "      <td>12017</td>\n",
       "      <td>9844</td>\n",
       "      <td>0.554206</td>\n",
       "      <td>0.305697</td>\n",
       "      <td>0.481884</td>\n",
       "      <td>0.394042</td>\n",
       "      <td>0.305697</td>\n",
       "      <td>0.301844</td>\n",
       "    </tr>\n",
       "    <tr>\n",
       "      <th>34</th>\n",
       "      <td>0.68</td>\n",
       "      <td>5291</td>\n",
       "      <td>4256</td>\n",
       "      <td>12017</td>\n",
       "      <td>9844</td>\n",
       "      <td>0.554206</td>\n",
       "      <td>0.305697</td>\n",
       "      <td>0.481884</td>\n",
       "      <td>0.394042</td>\n",
       "      <td>0.305697</td>\n",
       "      <td>0.301844</td>\n",
       "    </tr>\n",
       "    <tr>\n",
       "      <th>35</th>\n",
       "      <td>0.70</td>\n",
       "      <td>5291</td>\n",
       "      <td>4256</td>\n",
       "      <td>12017</td>\n",
       "      <td>9844</td>\n",
       "      <td>0.554206</td>\n",
       "      <td>0.305697</td>\n",
       "      <td>0.481884</td>\n",
       "      <td>0.394042</td>\n",
       "      <td>0.305697</td>\n",
       "      <td>0.301844</td>\n",
       "    </tr>\n",
       "    <tr>\n",
       "      <th>36</th>\n",
       "      <td>0.72</td>\n",
       "      <td>5291</td>\n",
       "      <td>4256</td>\n",
       "      <td>12017</td>\n",
       "      <td>9844</td>\n",
       "      <td>0.554206</td>\n",
       "      <td>0.305697</td>\n",
       "      <td>0.481884</td>\n",
       "      <td>0.394042</td>\n",
       "      <td>0.305697</td>\n",
       "      <td>0.301844</td>\n",
       "    </tr>\n",
       "    <tr>\n",
       "      <th>37</th>\n",
       "      <td>0.74</td>\n",
       "      <td>5291</td>\n",
       "      <td>4256</td>\n",
       "      <td>12017</td>\n",
       "      <td>9844</td>\n",
       "      <td>0.554206</td>\n",
       "      <td>0.305697</td>\n",
       "      <td>0.481884</td>\n",
       "      <td>0.394042</td>\n",
       "      <td>0.305697</td>\n",
       "      <td>0.301844</td>\n",
       "    </tr>\n",
       "    <tr>\n",
       "      <th>38</th>\n",
       "      <td>0.76</td>\n",
       "      <td>5291</td>\n",
       "      <td>4256</td>\n",
       "      <td>12017</td>\n",
       "      <td>9844</td>\n",
       "      <td>0.554206</td>\n",
       "      <td>0.305697</td>\n",
       "      <td>0.481884</td>\n",
       "      <td>0.394042</td>\n",
       "      <td>0.305697</td>\n",
       "      <td>0.301844</td>\n",
       "    </tr>\n",
       "    <tr>\n",
       "      <th>39</th>\n",
       "      <td>0.78</td>\n",
       "      <td>5291</td>\n",
       "      <td>4256</td>\n",
       "      <td>12017</td>\n",
       "      <td>9844</td>\n",
       "      <td>0.554206</td>\n",
       "      <td>0.305697</td>\n",
       "      <td>0.481884</td>\n",
       "      <td>0.394042</td>\n",
       "      <td>0.305697</td>\n",
       "      <td>0.301844</td>\n",
       "    </tr>\n",
       "    <tr>\n",
       "      <th>40</th>\n",
       "      <td>0.80</td>\n",
       "      <td>5291</td>\n",
       "      <td>4256</td>\n",
       "      <td>12017</td>\n",
       "      <td>9844</td>\n",
       "      <td>0.554206</td>\n",
       "      <td>0.305697</td>\n",
       "      <td>0.481884</td>\n",
       "      <td>0.394042</td>\n",
       "      <td>0.305697</td>\n",
       "      <td>0.301844</td>\n",
       "    </tr>\n",
       "    <tr>\n",
       "      <th>41</th>\n",
       "      <td>0.82</td>\n",
       "      <td>5291</td>\n",
       "      <td>4256</td>\n",
       "      <td>12017</td>\n",
       "      <td>9844</td>\n",
       "      <td>0.554206</td>\n",
       "      <td>0.305697</td>\n",
       "      <td>0.481884</td>\n",
       "      <td>0.394042</td>\n",
       "      <td>0.305697</td>\n",
       "      <td>0.301844</td>\n",
       "    </tr>\n",
       "    <tr>\n",
       "      <th>42</th>\n",
       "      <td>0.84</td>\n",
       "      <td>4942</td>\n",
       "      <td>3947</td>\n",
       "      <td>12366</td>\n",
       "      <td>10153</td>\n",
       "      <td>0.555968</td>\n",
       "      <td>0.285533</td>\n",
       "      <td>0.480610</td>\n",
       "      <td>0.377295</td>\n",
       "      <td>0.285533</td>\n",
       "      <td>0.279929</td>\n",
       "    </tr>\n",
       "    <tr>\n",
       "      <th>43</th>\n",
       "      <td>0.86</td>\n",
       "      <td>4942</td>\n",
       "      <td>3947</td>\n",
       "      <td>12366</td>\n",
       "      <td>10153</td>\n",
       "      <td>0.555968</td>\n",
       "      <td>0.285533</td>\n",
       "      <td>0.480610</td>\n",
       "      <td>0.377295</td>\n",
       "      <td>0.285533</td>\n",
       "      <td>0.279929</td>\n",
       "    </tr>\n",
       "    <tr>\n",
       "      <th>44</th>\n",
       "      <td>0.88</td>\n",
       "      <td>4942</td>\n",
       "      <td>3947</td>\n",
       "      <td>12366</td>\n",
       "      <td>10153</td>\n",
       "      <td>0.555968</td>\n",
       "      <td>0.285533</td>\n",
       "      <td>0.480610</td>\n",
       "      <td>0.377295</td>\n",
       "      <td>0.285533</td>\n",
       "      <td>0.279929</td>\n",
       "    </tr>\n",
       "    <tr>\n",
       "      <th>45</th>\n",
       "      <td>0.90</td>\n",
       "      <td>4942</td>\n",
       "      <td>3947</td>\n",
       "      <td>12366</td>\n",
       "      <td>10153</td>\n",
       "      <td>0.555968</td>\n",
       "      <td>0.285533</td>\n",
       "      <td>0.480610</td>\n",
       "      <td>0.377295</td>\n",
       "      <td>0.285533</td>\n",
       "      <td>0.279929</td>\n",
       "    </tr>\n",
       "    <tr>\n",
       "      <th>46</th>\n",
       "      <td>0.92</td>\n",
       "      <td>4394</td>\n",
       "      <td>3309</td>\n",
       "      <td>12914</td>\n",
       "      <td>10791</td>\n",
       "      <td>0.570427</td>\n",
       "      <td>0.253871</td>\n",
       "      <td>0.483476</td>\n",
       "      <td>0.351365</td>\n",
       "      <td>0.253871</td>\n",
       "      <td>0.234681</td>\n",
       "    </tr>\n",
       "    <tr>\n",
       "      <th>47</th>\n",
       "      <td>0.94</td>\n",
       "      <td>4394</td>\n",
       "      <td>3309</td>\n",
       "      <td>12914</td>\n",
       "      <td>10791</td>\n",
       "      <td>0.570427</td>\n",
       "      <td>0.253871</td>\n",
       "      <td>0.483476</td>\n",
       "      <td>0.351365</td>\n",
       "      <td>0.253871</td>\n",
       "      <td>0.234681</td>\n",
       "    </tr>\n",
       "    <tr>\n",
       "      <th>48</th>\n",
       "      <td>0.96</td>\n",
       "      <td>4394</td>\n",
       "      <td>3309</td>\n",
       "      <td>12914</td>\n",
       "      <td>10791</td>\n",
       "      <td>0.570427</td>\n",
       "      <td>0.253871</td>\n",
       "      <td>0.483476</td>\n",
       "      <td>0.351365</td>\n",
       "      <td>0.253871</td>\n",
       "      <td>0.234681</td>\n",
       "    </tr>\n",
       "    <tr>\n",
       "      <th>49</th>\n",
       "      <td>0.98</td>\n",
       "      <td>4327</td>\n",
       "      <td>3290</td>\n",
       "      <td>12981</td>\n",
       "      <td>10810</td>\n",
       "      <td>0.568071</td>\n",
       "      <td>0.250000</td>\n",
       "      <td>0.481947</td>\n",
       "      <td>0.347202</td>\n",
       "      <td>0.250000</td>\n",
       "      <td>0.233333</td>\n",
       "    </tr>\n",
       "    <tr>\n",
       "      <th>50</th>\n",
       "      <td>1.00</td>\n",
       "      <td>4327</td>\n",
       "      <td>3290</td>\n",
       "      <td>12981</td>\n",
       "      <td>10810</td>\n",
       "      <td>0.568071</td>\n",
       "      <td>0.250000</td>\n",
       "      <td>0.481947</td>\n",
       "      <td>0.347202</td>\n",
       "      <td>0.250000</td>\n",
       "      <td>0.233333</td>\n",
       "    </tr>\n",
       "  </tbody>\n",
       "</table>\n",
       "</div>"
      ],
      "text/plain": [
       "    threshold     tp     fp     fn     tn  precision    recall  accuracy  \\\n",
       "0        0.00  17308  14100      0      0   0.551070  1.000000  0.551070   \n",
       "1        0.02   6279   5304  11029   8796   0.542088  0.362780  0.479973   \n",
       "2        0.04   6279   5304  11029   8796   0.542088  0.362780  0.479973   \n",
       "3        0.06   6279   5304  11029   8796   0.542088  0.362780  0.479973   \n",
       "4        0.08   5686   4609  11622   9491   0.552307  0.328519  0.483221   \n",
       "5        0.10   5629   4605  11679   9495   0.550029  0.325225  0.481533   \n",
       "6        0.12   5629   4605  11679   9495   0.550029  0.325225  0.481533   \n",
       "7        0.14   5629   4605  11679   9495   0.550029  0.325225  0.481533   \n",
       "8        0.16   5629   4605  11679   9495   0.550029  0.325225  0.481533   \n",
       "9        0.18   5629   4605  11679   9495   0.550029  0.325225  0.481533   \n",
       "10       0.20   5629   4605  11679   9495   0.550029  0.325225  0.481533   \n",
       "11       0.22   5629   4605  11679   9495   0.550029  0.325225  0.481533   \n",
       "12       0.24   5629   4605  11679   9495   0.550029  0.325225  0.481533   \n",
       "13       0.26   5629   4605  11679   9495   0.550029  0.325225  0.481533   \n",
       "14       0.28   5629   4605  11679   9495   0.550029  0.325225  0.481533   \n",
       "15       0.30   5629   4605  11679   9495   0.550029  0.325225  0.481533   \n",
       "16       0.32   5620   4568  11688   9532   0.551629  0.324705  0.482425   \n",
       "17       0.34   5620   4568  11688   9532   0.551629  0.324705  0.482425   \n",
       "18       0.36   5620   4568  11688   9532   0.551629  0.324705  0.482425   \n",
       "19       0.38   5620   4568  11688   9532   0.551629  0.324705  0.482425   \n",
       "20       0.40   5620   4568  11688   9532   0.551629  0.324705  0.482425   \n",
       "21       0.42   5620   4568  11688   9532   0.551629  0.324705  0.482425   \n",
       "22       0.44   5527   4410  11781   9690   0.556204  0.319332  0.484494   \n",
       "23       0.46   5527   4410  11781   9690   0.556204  0.319332  0.484494   \n",
       "24       0.48   5527   4410  11781   9690   0.556204  0.319332  0.484494   \n",
       "25       0.50   5527   4410  11781   9690   0.556204  0.319332  0.484494   \n",
       "26       0.52   5291   4288  12017   9812   0.552354  0.305697  0.480865   \n",
       "27       0.54   5291   4256  12017   9844   0.554206  0.305697  0.481884   \n",
       "28       0.56   5291   4256  12017   9844   0.554206  0.305697  0.481884   \n",
       "29       0.58   5291   4256  12017   9844   0.554206  0.305697  0.481884   \n",
       "30       0.60   5291   4256  12017   9844   0.554206  0.305697  0.481884   \n",
       "31       0.62   5291   4256  12017   9844   0.554206  0.305697  0.481884   \n",
       "32       0.64   5291   4256  12017   9844   0.554206  0.305697  0.481884   \n",
       "33       0.66   5291   4256  12017   9844   0.554206  0.305697  0.481884   \n",
       "34       0.68   5291   4256  12017   9844   0.554206  0.305697  0.481884   \n",
       "35       0.70   5291   4256  12017   9844   0.554206  0.305697  0.481884   \n",
       "36       0.72   5291   4256  12017   9844   0.554206  0.305697  0.481884   \n",
       "37       0.74   5291   4256  12017   9844   0.554206  0.305697  0.481884   \n",
       "38       0.76   5291   4256  12017   9844   0.554206  0.305697  0.481884   \n",
       "39       0.78   5291   4256  12017   9844   0.554206  0.305697  0.481884   \n",
       "40       0.80   5291   4256  12017   9844   0.554206  0.305697  0.481884   \n",
       "41       0.82   5291   4256  12017   9844   0.554206  0.305697  0.481884   \n",
       "42       0.84   4942   3947  12366  10153   0.555968  0.285533  0.480610   \n",
       "43       0.86   4942   3947  12366  10153   0.555968  0.285533  0.480610   \n",
       "44       0.88   4942   3947  12366  10153   0.555968  0.285533  0.480610   \n",
       "45       0.90   4942   3947  12366  10153   0.555968  0.285533  0.480610   \n",
       "46       0.92   4394   3309  12914  10791   0.570427  0.253871  0.483476   \n",
       "47       0.94   4394   3309  12914  10791   0.570427  0.253871  0.483476   \n",
       "48       0.96   4394   3309  12914  10791   0.570427  0.253871  0.483476   \n",
       "49       0.98   4327   3290  12981  10810   0.568071  0.250000  0.481947   \n",
       "50       1.00   4327   3290  12981  10810   0.568071  0.250000  0.481947   \n",
       "\n",
       "    f1_score       tpr       fpr  \n",
       "0   0.710567  1.000000  1.000000  \n",
       "1   0.434668  0.362780  0.376170  \n",
       "2   0.434668  0.362780  0.376170  \n",
       "3   0.434668  0.362780  0.376170  \n",
       "4   0.411984  0.328519  0.326879  \n",
       "5   0.408758  0.325225  0.326596  \n",
       "6   0.408758  0.325225  0.326596  \n",
       "7   0.408758  0.325225  0.326596  \n",
       "8   0.408758  0.325225  0.326596  \n",
       "9   0.408758  0.325225  0.326596  \n",
       "10  0.408758  0.325225  0.326596  \n",
       "11  0.408758  0.325225  0.326596  \n",
       "12  0.408758  0.325225  0.326596  \n",
       "13  0.408758  0.325225  0.326596  \n",
       "14  0.408758  0.325225  0.326596  \n",
       "15  0.408758  0.325225  0.326596  \n",
       "16  0.408787  0.324705  0.323972  \n",
       "17  0.408787  0.324705  0.323972  \n",
       "18  0.408787  0.324705  0.323972  \n",
       "19  0.408787  0.324705  0.323972  \n",
       "20  0.408787  0.324705  0.323972  \n",
       "21  0.408787  0.324705  0.323972  \n",
       "22  0.405726  0.319332  0.312766  \n",
       "23  0.405726  0.319332  0.312766  \n",
       "24  0.405726  0.319332  0.312766  \n",
       "25  0.405726  0.319332  0.312766  \n",
       "26  0.393573  0.305697  0.304113  \n",
       "27  0.394042  0.305697  0.301844  \n",
       "28  0.394042  0.305697  0.301844  \n",
       "29  0.394042  0.305697  0.301844  \n",
       "30  0.394042  0.305697  0.301844  \n",
       "31  0.394042  0.305697  0.301844  \n",
       "32  0.394042  0.305697  0.301844  \n",
       "33  0.394042  0.305697  0.301844  \n",
       "34  0.394042  0.305697  0.301844  \n",
       "35  0.394042  0.305697  0.301844  \n",
       "36  0.394042  0.305697  0.301844  \n",
       "37  0.394042  0.305697  0.301844  \n",
       "38  0.394042  0.305697  0.301844  \n",
       "39  0.394042  0.305697  0.301844  \n",
       "40  0.394042  0.305697  0.301844  \n",
       "41  0.394042  0.305697  0.301844  \n",
       "42  0.377295  0.285533  0.279929  \n",
       "43  0.377295  0.285533  0.279929  \n",
       "44  0.377295  0.285533  0.279929  \n",
       "45  0.377295  0.285533  0.279929  \n",
       "46  0.351365  0.253871  0.234681  \n",
       "47  0.351365  0.253871  0.234681  \n",
       "48  0.351365  0.253871  0.234681  \n",
       "49  0.347202  0.250000  0.233333  \n",
       "50  0.347202  0.250000  0.233333  "
      ]
     },
     "execution_count": 136,
     "metadata": {},
     "output_type": "execute_result"
    }
   ],
   "source": [
    "# full df_scores\n",
    "df_scores"
   ]
  },
  {
   "cell_type": "code",
   "execution_count": 137,
   "metadata": {
    "colab": {
     "base_uri": "https://localhost:8080/",
     "height": 582
    },
    "id": "Vi_cQg-5GKfO",
    "outputId": "44aa2c96-57c4-4b28-ade6-b8107ff5f474"
   },
   "outputs": [
    {
     "data": {
      "text/html": [
       "<div>\n",
       "<style scoped>\n",
       "    .dataframe tbody tr th:only-of-type {\n",
       "        vertical-align: middle;\n",
       "    }\n",
       "\n",
       "    .dataframe tbody tr th {\n",
       "        vertical-align: top;\n",
       "    }\n",
       "\n",
       "    .dataframe thead th {\n",
       "        text-align: right;\n",
       "    }\n",
       "</style>\n",
       "<table border=\"1\" class=\"dataframe\">\n",
       "  <thead>\n",
       "    <tr style=\"text-align: right;\">\n",
       "      <th></th>\n",
       "      <th>threshold</th>\n",
       "      <th>tp</th>\n",
       "      <th>fp</th>\n",
       "      <th>fn</th>\n",
       "      <th>tn</th>\n",
       "      <th>precision</th>\n",
       "      <th>recall</th>\n",
       "      <th>accuracy</th>\n",
       "      <th>f1_score</th>\n",
       "      <th>tpr</th>\n",
       "      <th>fpr</th>\n",
       "    </tr>\n",
       "  </thead>\n",
       "  <tbody>\n",
       "    <tr>\n",
       "      <th>30</th>\n",
       "      <td>0.60</td>\n",
       "      <td>5291</td>\n",
       "      <td>4256</td>\n",
       "      <td>12017</td>\n",
       "      <td>9844</td>\n",
       "      <td>0.554206</td>\n",
       "      <td>0.305697</td>\n",
       "      <td>0.481884</td>\n",
       "      <td>0.394042</td>\n",
       "      <td>0.305697</td>\n",
       "      <td>0.301844</td>\n",
       "    </tr>\n",
       "    <tr>\n",
       "      <th>31</th>\n",
       "      <td>0.62</td>\n",
       "      <td>5291</td>\n",
       "      <td>4256</td>\n",
       "      <td>12017</td>\n",
       "      <td>9844</td>\n",
       "      <td>0.554206</td>\n",
       "      <td>0.305697</td>\n",
       "      <td>0.481884</td>\n",
       "      <td>0.394042</td>\n",
       "      <td>0.305697</td>\n",
       "      <td>0.301844</td>\n",
       "    </tr>\n",
       "    <tr>\n",
       "      <th>32</th>\n",
       "      <td>0.64</td>\n",
       "      <td>5291</td>\n",
       "      <td>4256</td>\n",
       "      <td>12017</td>\n",
       "      <td>9844</td>\n",
       "      <td>0.554206</td>\n",
       "      <td>0.305697</td>\n",
       "      <td>0.481884</td>\n",
       "      <td>0.394042</td>\n",
       "      <td>0.305697</td>\n",
       "      <td>0.301844</td>\n",
       "    </tr>\n",
       "    <tr>\n",
       "      <th>33</th>\n",
       "      <td>0.66</td>\n",
       "      <td>5291</td>\n",
       "      <td>4256</td>\n",
       "      <td>12017</td>\n",
       "      <td>9844</td>\n",
       "      <td>0.554206</td>\n",
       "      <td>0.305697</td>\n",
       "      <td>0.481884</td>\n",
       "      <td>0.394042</td>\n",
       "      <td>0.305697</td>\n",
       "      <td>0.301844</td>\n",
       "    </tr>\n",
       "    <tr>\n",
       "      <th>34</th>\n",
       "      <td>0.68</td>\n",
       "      <td>5291</td>\n",
       "      <td>4256</td>\n",
       "      <td>12017</td>\n",
       "      <td>9844</td>\n",
       "      <td>0.554206</td>\n",
       "      <td>0.305697</td>\n",
       "      <td>0.481884</td>\n",
       "      <td>0.394042</td>\n",
       "      <td>0.305697</td>\n",
       "      <td>0.301844</td>\n",
       "    </tr>\n",
       "    <tr>\n",
       "      <th>35</th>\n",
       "      <td>0.70</td>\n",
       "      <td>5291</td>\n",
       "      <td>4256</td>\n",
       "      <td>12017</td>\n",
       "      <td>9844</td>\n",
       "      <td>0.554206</td>\n",
       "      <td>0.305697</td>\n",
       "      <td>0.481884</td>\n",
       "      <td>0.394042</td>\n",
       "      <td>0.305697</td>\n",
       "      <td>0.301844</td>\n",
       "    </tr>\n",
       "    <tr>\n",
       "      <th>36</th>\n",
       "      <td>0.72</td>\n",
       "      <td>5291</td>\n",
       "      <td>4256</td>\n",
       "      <td>12017</td>\n",
       "      <td>9844</td>\n",
       "      <td>0.554206</td>\n",
       "      <td>0.305697</td>\n",
       "      <td>0.481884</td>\n",
       "      <td>0.394042</td>\n",
       "      <td>0.305697</td>\n",
       "      <td>0.301844</td>\n",
       "    </tr>\n",
       "    <tr>\n",
       "      <th>37</th>\n",
       "      <td>0.74</td>\n",
       "      <td>5291</td>\n",
       "      <td>4256</td>\n",
       "      <td>12017</td>\n",
       "      <td>9844</td>\n",
       "      <td>0.554206</td>\n",
       "      <td>0.305697</td>\n",
       "      <td>0.481884</td>\n",
       "      <td>0.394042</td>\n",
       "      <td>0.305697</td>\n",
       "      <td>0.301844</td>\n",
       "    </tr>\n",
       "    <tr>\n",
       "      <th>38</th>\n",
       "      <td>0.76</td>\n",
       "      <td>5291</td>\n",
       "      <td>4256</td>\n",
       "      <td>12017</td>\n",
       "      <td>9844</td>\n",
       "      <td>0.554206</td>\n",
       "      <td>0.305697</td>\n",
       "      <td>0.481884</td>\n",
       "      <td>0.394042</td>\n",
       "      <td>0.305697</td>\n",
       "      <td>0.301844</td>\n",
       "    </tr>\n",
       "    <tr>\n",
       "      <th>39</th>\n",
       "      <td>0.78</td>\n",
       "      <td>5291</td>\n",
       "      <td>4256</td>\n",
       "      <td>12017</td>\n",
       "      <td>9844</td>\n",
       "      <td>0.554206</td>\n",
       "      <td>0.305697</td>\n",
       "      <td>0.481884</td>\n",
       "      <td>0.394042</td>\n",
       "      <td>0.305697</td>\n",
       "      <td>0.301844</td>\n",
       "    </tr>\n",
       "    <tr>\n",
       "      <th>40</th>\n",
       "      <td>0.80</td>\n",
       "      <td>5291</td>\n",
       "      <td>4256</td>\n",
       "      <td>12017</td>\n",
       "      <td>9844</td>\n",
       "      <td>0.554206</td>\n",
       "      <td>0.305697</td>\n",
       "      <td>0.481884</td>\n",
       "      <td>0.394042</td>\n",
       "      <td>0.305697</td>\n",
       "      <td>0.301844</td>\n",
       "    </tr>\n",
       "    <tr>\n",
       "      <th>41</th>\n",
       "      <td>0.82</td>\n",
       "      <td>5291</td>\n",
       "      <td>4256</td>\n",
       "      <td>12017</td>\n",
       "      <td>9844</td>\n",
       "      <td>0.554206</td>\n",
       "      <td>0.305697</td>\n",
       "      <td>0.481884</td>\n",
       "      <td>0.394042</td>\n",
       "      <td>0.305697</td>\n",
       "      <td>0.301844</td>\n",
       "    </tr>\n",
       "    <tr>\n",
       "      <th>42</th>\n",
       "      <td>0.84</td>\n",
       "      <td>4942</td>\n",
       "      <td>3947</td>\n",
       "      <td>12366</td>\n",
       "      <td>10153</td>\n",
       "      <td>0.555968</td>\n",
       "      <td>0.285533</td>\n",
       "      <td>0.480610</td>\n",
       "      <td>0.377295</td>\n",
       "      <td>0.285533</td>\n",
       "      <td>0.279929</td>\n",
       "    </tr>\n",
       "    <tr>\n",
       "      <th>43</th>\n",
       "      <td>0.86</td>\n",
       "      <td>4942</td>\n",
       "      <td>3947</td>\n",
       "      <td>12366</td>\n",
       "      <td>10153</td>\n",
       "      <td>0.555968</td>\n",
       "      <td>0.285533</td>\n",
       "      <td>0.480610</td>\n",
       "      <td>0.377295</td>\n",
       "      <td>0.285533</td>\n",
       "      <td>0.279929</td>\n",
       "    </tr>\n",
       "    <tr>\n",
       "      <th>44</th>\n",
       "      <td>0.88</td>\n",
       "      <td>4942</td>\n",
       "      <td>3947</td>\n",
       "      <td>12366</td>\n",
       "      <td>10153</td>\n",
       "      <td>0.555968</td>\n",
       "      <td>0.285533</td>\n",
       "      <td>0.480610</td>\n",
       "      <td>0.377295</td>\n",
       "      <td>0.285533</td>\n",
       "      <td>0.279929</td>\n",
       "    </tr>\n",
       "    <tr>\n",
       "      <th>45</th>\n",
       "      <td>0.90</td>\n",
       "      <td>4942</td>\n",
       "      <td>3947</td>\n",
       "      <td>12366</td>\n",
       "      <td>10153</td>\n",
       "      <td>0.555968</td>\n",
       "      <td>0.285533</td>\n",
       "      <td>0.480610</td>\n",
       "      <td>0.377295</td>\n",
       "      <td>0.285533</td>\n",
       "      <td>0.279929</td>\n",
       "    </tr>\n",
       "    <tr>\n",
       "      <th>46</th>\n",
       "      <td>0.92</td>\n",
       "      <td>4394</td>\n",
       "      <td>3309</td>\n",
       "      <td>12914</td>\n",
       "      <td>10791</td>\n",
       "      <td>0.570427</td>\n",
       "      <td>0.253871</td>\n",
       "      <td>0.483476</td>\n",
       "      <td>0.351365</td>\n",
       "      <td>0.253871</td>\n",
       "      <td>0.234681</td>\n",
       "    </tr>\n",
       "  </tbody>\n",
       "</table>\n",
       "</div>"
      ],
      "text/plain": [
       "    threshold    tp    fp     fn     tn  precision    recall  accuracy  \\\n",
       "30       0.60  5291  4256  12017   9844   0.554206  0.305697  0.481884   \n",
       "31       0.62  5291  4256  12017   9844   0.554206  0.305697  0.481884   \n",
       "32       0.64  5291  4256  12017   9844   0.554206  0.305697  0.481884   \n",
       "33       0.66  5291  4256  12017   9844   0.554206  0.305697  0.481884   \n",
       "34       0.68  5291  4256  12017   9844   0.554206  0.305697  0.481884   \n",
       "35       0.70  5291  4256  12017   9844   0.554206  0.305697  0.481884   \n",
       "36       0.72  5291  4256  12017   9844   0.554206  0.305697  0.481884   \n",
       "37       0.74  5291  4256  12017   9844   0.554206  0.305697  0.481884   \n",
       "38       0.76  5291  4256  12017   9844   0.554206  0.305697  0.481884   \n",
       "39       0.78  5291  4256  12017   9844   0.554206  0.305697  0.481884   \n",
       "40       0.80  5291  4256  12017   9844   0.554206  0.305697  0.481884   \n",
       "41       0.82  5291  4256  12017   9844   0.554206  0.305697  0.481884   \n",
       "42       0.84  4942  3947  12366  10153   0.555968  0.285533  0.480610   \n",
       "43       0.86  4942  3947  12366  10153   0.555968  0.285533  0.480610   \n",
       "44       0.88  4942  3947  12366  10153   0.555968  0.285533  0.480610   \n",
       "45       0.90  4942  3947  12366  10153   0.555968  0.285533  0.480610   \n",
       "46       0.92  4394  3309  12914  10791   0.570427  0.253871  0.483476   \n",
       "\n",
       "    f1_score       tpr       fpr  \n",
       "30  0.394042  0.305697  0.301844  \n",
       "31  0.394042  0.305697  0.301844  \n",
       "32  0.394042  0.305697  0.301844  \n",
       "33  0.394042  0.305697  0.301844  \n",
       "34  0.394042  0.305697  0.301844  \n",
       "35  0.394042  0.305697  0.301844  \n",
       "36  0.394042  0.305697  0.301844  \n",
       "37  0.394042  0.305697  0.301844  \n",
       "38  0.394042  0.305697  0.301844  \n",
       "39  0.394042  0.305697  0.301844  \n",
       "40  0.394042  0.305697  0.301844  \n",
       "41  0.394042  0.305697  0.301844  \n",
       "42  0.377295  0.285533  0.279929  \n",
       "43  0.377295  0.285533  0.279929  \n",
       "44  0.377295  0.285533  0.279929  \n",
       "45  0.377295  0.285533  0.279929  \n",
       "46  0.351365  0.253871  0.234681  "
      ]
     },
     "execution_count": 137,
     "metadata": {},
     "output_type": "execute_result"
    }
   ],
   "source": [
    "df_scores[(df_scores.threshold>=0.6) & (df_scores.threshold<=0.92)]"
   ]
  },
  {
   "cell_type": "code",
   "execution_count": 138,
   "metadata": {
    "id": "lPEQWZcmXyPn"
   },
   "outputs": [],
   "source": [
    "# TODO: HA to build a similar dataframe for random_forest and find optimal thresholds"
   ]
  },
  {
   "cell_type": "code",
   "execution_count": 139,
   "metadata": {
    "colab": {
     "base_uri": "https://localhost:8080/",
     "height": 489
    },
    "id": "36ewbaltGnh_",
    "outputId": "0e65eb05-627e-45ba-a3c6-9efda17b8753"
   },
   "outputs": [
    {
     "data": {
      "text/plain": [
       "<Axes: title={'center': 'Precision vs. Recall for the Best Model (Decision Tree with max_depth=15)'}, xlabel='threshold'>"
      ]
     },
     "execution_count": 139,
     "metadata": {},
     "output_type": "execute_result"
    },
    {
     "data": {
      "image/png": "[encoded data removed]",
      "text/plain": [
       "<Figure size 640x480 with 1 Axes>"
      ]
     },
     "metadata": {},
     "output_type": "display_data"
    }
   ],
   "source": [
    "# Try to find high Precision score points\n",
    "\n",
    "df_scores.plot.line(x='threshold',\n",
    "                    y=['precision','recall', 'f1_score'],\n",
    "                    title = 'Precision vs. Recall for the Best Model (Decision Tree with max_depth=15)')"
   ]
  },
  {
   "cell_type": "markdown",
   "metadata": {
    "id": "iUFXAYtl4Xpg"
   },
   "source": [
    "## 2.2) [Code Snippet 6] Defining new columns with Predictions in new_df: pred7..pred10\n",
    "* pred7 and pred8 are 2 decision rules for the Decision Tree (best model with max_depth=15)\n",
    "* pred9 and pred10 are 2 decision rules for the Random Forest (second best model)"
   ]
  },
  {
   "cell_type": "code",
   "execution_count": 140,
   "metadata": {
    "colab": {
     "base_uri": "https://localhost:8080/"
    },
    "id": "yZe9eT9nVqVG",
    "outputId": "6e22c719-9c08-4e2c-ee14-4d61309e062f"
   },
   "outputs": [
    {
     "data": {
      "text/plain": [
       "['pred0_manual_cci',\n",
       " 'pred1_manual_prev_g1',\n",
       " 'pred2_manual_prev_g1_and_snp',\n",
       " 'pred3_manual_dgs10_5',\n",
       " 'pred4_manual_dgs10_fedfunds',\n",
       " 'pred5_clf_10',\n",
       " 'pred6_clf_5',\n",
       " 'pred7_clf_second_best']"
      ]
     },
     "execution_count": 140,
     "metadata": {},
     "output_type": "execute_result"
    }
   ],
   "source": [
    "# existing predictions\n",
    "PREDICTIONS"
   ]
  },
  {
   "cell_type": "code",
   "execution_count": 141,
   "metadata": {
    "id": "Jy4rC6xLP7U1"
   },
   "outputs": [],
   "source": [
    "# adding Decision Tree predictors (clf_best) to the dataset for 2 new rules: Threshold = 0.66 and 0.78\n",
    "\n",
    "\n",
    "y_pred_all = clf_best.predict_proba(X_all)\n",
    "y_pred_all_class1 = [k[1] for k in y_pred_all] #list of predictions for class \"1\"\n",
    "y_pred_all_class1_array = np.array(y_pred_all_class1) # (Numpy Array) np.array of predictions for class \"1\" , converted from a list\n",
    "\n",
    "# defining a new prediction vector is easy now, as the dimensions will match\n",
    "new_df['proba_pred8'] = y_pred_all_class1_array\n",
    "new_df['pred8_clf_second_best_rule_84'] = (y_pred_all_class1_array >= 0.84).astype(int)\n",
    "\n",
    "new_df['proba_pred9'] = y_pred_all_class1_array\n",
    "new_df['pred9_clf_second_best_rule_92'] = (y_pred_all_class1_array >= 0.92).astype(int)"
   ]
  },
  {
   "cell_type": "code",
   "execution_count": 142,
   "metadata": {
    "colab": {
     "base_uri": "https://localhost:8080/",
     "height": 98
    },
    "id": "8XdvjmhbWJ8T",
    "outputId": "1dc96fc4-cac5-40df-f6f5-188fa4f29cf0"
   },
   "outputs": [
    {
     "data": {
      "text/html": [
       "<style>#sk-container-id-2 {\n",
       "  /* Definition of color scheme common for light and dark mode */\n",
       "  --sklearn-color-text: #000;\n",
       "  --sklearn-color-text-muted: #666;\n",
       "  --sklearn-color-line: gray;\n",
       "  /* Definition of color scheme for unfitted estimators */\n",
       "  --sklearn-color-unfitted-level-0: #fff5e6;\n",
       "  --sklearn-color-unfitted-level-1: #f6e4d2;\n",
       "  --sklearn-color-unfitted-level-2: #ffe0b3;\n",
       "  --sklearn-color-unfitted-level-3: chocolate;\n",
       "  /* Definition of color scheme for fitted estimators */\n",
       "  --sklearn-color-fitted-level-0: #f0f8ff;\n",
       "  --sklearn-color-fitted-level-1: #d4ebff;\n",
       "  --sklearn-color-fitted-level-2: #b3dbfd;\n",
       "  --sklearn-color-fitted-level-3: cornflowerblue;\n",
       "\n",
       "  /* Specific color for light theme */\n",
       "  --sklearn-color-text-on-default-background: var(--sg-text-color, var(--theme-code-foreground, var(--jp-content-font-color1, black)));\n",
       "  --sklearn-color-background: var(--sg-background-color, var(--theme-background, var(--jp-layout-color0, white)));\n",
       "  --sklearn-color-border-box: var(--sg-text-color, var(--theme-code-foreground, var(--jp-content-font-color1, black)));\n",
       "  --sklearn-color-icon: #696969;\n",
       "\n",
       "  @media (prefers-color-scheme: dark) {\n",
       "    /* Redefinition of color scheme for dark theme */\n",
       "    --sklearn-color-text-on-default-background: var(--sg-text-color, var(--theme-code-foreground, var(--jp-content-font-color1, white)));\n",
       "    --sklearn-color-background: var(--sg-background-color, var(--theme-background, var(--jp-layout-color0, #111)));\n",
       "    --sklearn-color-border-box: var(--sg-text-color, var(--theme-code-foreground, var(--jp-content-font-color1, white)));\n",
       "    --sklearn-color-icon: #878787;\n",
       "  }\n",
       "}\n",
       "\n",
       "#sk-container-id-2 {\n",
       "  color: var(--sklearn-color-text);\n",
       "}\n",
       "\n",
       "#sk-container-id-2 pre {\n",
       "  padding: 0;\n",
       "}\n",
       "\n",
       "#sk-container-id-2 input.sk-hidden--visually {\n",
       "  border: 0;\n",
       "  clip: rect(1px 1px 1px 1px);\n",
       "  clip: rect(1px, 1px, 1px, 1px);\n",
       "  height: 1px;\n",
       "  margin: -1px;\n",
       "  overflow: hidden;\n",
       "  padding: 0;\n",
       "  position: absolute;\n",
       "  width: 1px;\n",
       "}\n",
       "\n",
       "#sk-container-id-2 div.sk-dashed-wrapped {\n",
       "  border: 1px dashed var(--sklearn-color-line);\n",
       "  margin: 0 0.4em 0.5em 0.4em;\n",
       "  box-sizing: border-box;\n",
       "  padding-bottom: 0.4em;\n",
       "  background-color: var(--sklearn-color-background);\n",
       "}\n",
       "\n",
       "#sk-container-id-2 div.sk-container {\n",
       "  /* jupyter's `normalize.less` sets `[hidden] { display: none; }`\n",
       "     but bootstrap.min.css set `[hidden] { display: none !important; }`\n",
       "     so we also need the `!important` here to be able to override the\n",
       "     default hidden behavior on the sphinx rendered scikit-learn.org.\n",
       "     See: https://github.com/scikit-learn/scikit-learn/issues/21755 */\n",
       "  display: inline-block !important;\n",
       "  position: relative;\n",
       "}\n",
       "\n",
       "#sk-container-id-2 div.sk-text-repr-fallback {\n",
       "  display: none;\n",
       "}\n",
       "\n",
       "div.sk-parallel-item,\n",
       "div.sk-serial,\n",
       "div.sk-item {\n",
       "  /* draw centered vertical line to link estimators */\n",
       "  background-image: linear-gradient(var(--sklearn-color-text-on-default-background), var(--sklearn-color-text-on-default-background));\n",
       "  background-size: 2px 100%;\n",
       "  background-repeat: no-repeat;\n",
       "  background-position: center center;\n",
       "}\n",
       "\n",
       "/* Parallel-specific style estimator block */\n",
       "\n",
       "#sk-container-id-2 div.sk-parallel-item::after {\n",
       "  content: \"\";\n",
       "  width: 100%;\n",
       "  border-bottom: 2px solid var(--sklearn-color-text-on-default-background);\n",
       "  flex-grow: 1;\n",
       "}\n",
       "\n",
       "#sk-container-id-2 div.sk-parallel {\n",
       "  display: flex;\n",
       "  align-items: stretch;\n",
       "  justify-content: center;\n",
       "  background-color: var(--sklearn-color-background);\n",
       "  position: relative;\n",
       "}\n",
       "\n",
       "#sk-container-id-2 div.sk-parallel-item {\n",
       "  display: flex;\n",
       "  flex-direction: column;\n",
       "}\n",
       "\n",
       "#sk-container-id-2 div.sk-parallel-item:first-child::after {\n",
       "  align-self: flex-end;\n",
       "  width: 50%;\n",
       "}\n",
       "\n",
       "#sk-container-id-2 div.sk-parallel-item:last-child::after {\n",
       "  align-self: flex-start;\n",
       "  width: 50%;\n",
       "}\n",
       "\n",
       "#sk-container-id-2 div.sk-parallel-item:only-child::after {\n",
       "  width: 0;\n",
       "}\n",
       "\n",
       "/* Serial-specific style estimator block */\n",
       "\n",
       "#sk-container-id-2 div.sk-serial {\n",
       "  display: flex;\n",
       "  flex-direction: column;\n",
       "  align-items: center;\n",
       "  background-color: var(--sklearn-color-background);\n",
       "  padding-right: 1em;\n",
       "  padding-left: 1em;\n",
       "}\n",
       "\n",
       "\n",
       "/* Toggleable style: style used for estimator/Pipeline/ColumnTransformer box that is\n",
       "clickable and can be expanded/collapsed.\n",
       "- Pipeline and ColumnTransformer use this feature and define the default style\n",
       "- Estimators will overwrite some part of the style using the `sk-estimator` class\n",
       "*/\n",
       "\n",
       "/* Pipeline and ColumnTransformer style (default) */\n",
       "\n",
       "#sk-container-id-2 div.sk-toggleable {\n",
       "  /* Default theme specific background. It is overwritten whether we have a\n",
       "  specific estimator or a Pipeline/ColumnTransformer */\n",
       "  background-color: var(--sklearn-color-background);\n",
       "}\n",
       "\n",
       "/* Toggleable label */\n",
       "#sk-container-id-2 label.sk-toggleable__label {\n",
       "  cursor: pointer;\n",
       "  display: flex;\n",
       "  width: 100%;\n",
       "  margin-bottom: 0;\n",
       "  padding: 0.5em;\n",
       "  box-sizing: border-box;\n",
       "  text-align: center;\n",
       "  align-items: start;\n",
       "  justify-content: space-between;\n",
       "  gap: 0.5em;\n",
       "}\n",
       "\n",
       "#sk-container-id-2 label.sk-toggleable__label .caption {\n",
       "  font-size: 0.6rem;\n",
       "  font-weight: lighter;\n",
       "  color: var(--sklearn-color-text-muted);\n",
       "}\n",
       "\n",
       "#sk-container-id-2 label.sk-toggleable__label-arrow:before {\n",
       "  /* Arrow on the left of the label */\n",
       "  content: \"▸\";\n",
       "  float: left;\n",
       "  margin-right: 0.25em;\n",
       "  color: var(--sklearn-color-icon);\n",
       "}\n",
       "\n",
       "#sk-container-id-2 label.sk-toggleable__label-arrow:hover:before {\n",
       "  color: var(--sklearn-color-text);\n",
       "}\n",
       "\n",
       "/* Toggleable content - dropdown */\n",
       "\n",
       "#sk-container-id-2 div.sk-toggleable__content {\n",
       "  display: none;\n",
       "  text-align: left;\n",
       "  /* unfitted */\n",
       "  background-color: var(--sklearn-color-unfitted-level-0);\n",
       "}\n",
       "\n",
       "#sk-container-id-2 div.sk-toggleable__content.fitted {\n",
       "  /* fitted */\n",
       "  background-color: var(--sklearn-color-fitted-level-0);\n",
       "}\n",
       "\n",
       "#sk-container-id-2 div.sk-toggleable__content pre {\n",
       "  margin: 0.2em;\n",
       "  border-radius: 0.25em;\n",
       "  color: var(--sklearn-color-text);\n",
       "  /* unfitted */\n",
       "  background-color: var(--sklearn-color-unfitted-level-0);\n",
       "}\n",
       "\n",
       "#sk-container-id-2 div.sk-toggleable__content.fitted pre {\n",
       "  /* unfitted */\n",
       "  background-color: var(--sklearn-color-fitted-level-0);\n",
       "}\n",
       "\n",
       "#sk-container-id-2 input.sk-toggleable__control:checked~div.sk-toggleable__content {\n",
       "  /* Expand drop-down */\n",
       "  display: block;\n",
       "  width: 100%;\n",
       "  overflow: visible;\n",
       "}\n",
       "\n",
       "#sk-container-id-2 input.sk-toggleable__control:checked~label.sk-toggleable__label-arrow:before {\n",
       "  content: \"▾\";\n",
       "}\n",
       "\n",
       "/* Pipeline/ColumnTransformer-specific style */\n",
       "\n",
       "#sk-container-id-2 div.sk-label input.sk-toggleable__control:checked~label.sk-toggleable__label {\n",
       "  color: var(--sklearn-color-text);\n",
       "  background-color: var(--sklearn-color-unfitted-level-2);\n",
       "}\n",
       "\n",
       "#sk-container-id-2 div.sk-label.fitted input.sk-toggleable__control:checked~label.sk-toggleable__label {\n",
       "  background-color: var(--sklearn-color-fitted-level-2);\n",
       "}\n",
       "\n",
       "/* Estimator-specific style */\n",
       "\n",
       "/* Colorize estimator box */\n",
       "#sk-container-id-2 div.sk-estimator input.sk-toggleable__control:checked~label.sk-toggleable__label {\n",
       "  /* unfitted */\n",
       "  background-color: var(--sklearn-color-unfitted-level-2);\n",
       "}\n",
       "\n",
       "#sk-container-id-2 div.sk-estimator.fitted input.sk-toggleable__control:checked~label.sk-toggleable__label {\n",
       "  /* fitted */\n",
       "  background-color: var(--sklearn-color-fitted-level-2);\n",
       "}\n",
       "\n",
       "#sk-container-id-2 div.sk-label label.sk-toggleable__label,\n",
       "#sk-container-id-2 div.sk-label label {\n",
       "  /* The background is the default theme color */\n",
       "  color: var(--sklearn-color-text-on-default-background);\n",
       "}\n",
       "\n",
       "/* On hover, darken the color of the background */\n",
       "#sk-container-id-2 div.sk-label:hover label.sk-toggleable__label {\n",
       "  color: var(--sklearn-color-text);\n",
       "  background-color: var(--sklearn-color-unfitted-level-2);\n",
       "}\n",
       "\n",
       "/* Label box, darken color on hover, fitted */\n",
       "#sk-container-id-2 div.sk-label.fitted:hover label.sk-toggleable__label.fitted {\n",
       "  color: var(--sklearn-color-text);\n",
       "  background-color: var(--sklearn-color-fitted-level-2);\n",
       "}\n",
       "\n",
       "/* Estimator label */\n",
       "\n",
       "#sk-container-id-2 div.sk-label label {\n",
       "  font-family: monospace;\n",
       "  font-weight: bold;\n",
       "  display: inline-block;\n",
       "  line-height: 1.2em;\n",
       "}\n",
       "\n",
       "#sk-container-id-2 div.sk-label-container {\n",
       "  text-align: center;\n",
       "}\n",
       "\n",
       "/* Estimator-specific */\n",
       "#sk-container-id-2 div.sk-estimator {\n",
       "  font-family: monospace;\n",
       "  border: 1px dotted var(--sklearn-color-border-box);\n",
       "  border-radius: 0.25em;\n",
       "  box-sizing: border-box;\n",
       "  margin-bottom: 0.5em;\n",
       "  /* unfitted */\n",
       "  background-color: var(--sklearn-color-unfitted-level-0);\n",
       "}\n",
       "\n",
       "#sk-container-id-2 div.sk-estimator.fitted {\n",
       "  /* fitted */\n",
       "  background-color: var(--sklearn-color-fitted-level-0);\n",
       "}\n",
       "\n",
       "/* on hover */\n",
       "#sk-container-id-2 div.sk-estimator:hover {\n",
       "  /* unfitted */\n",
       "  background-color: var(--sklearn-color-unfitted-level-2);\n",
       "}\n",
       "\n",
       "#sk-container-id-2 div.sk-estimator.fitted:hover {\n",
       "  /* fitted */\n",
       "  background-color: var(--sklearn-color-fitted-level-2);\n",
       "}\n",
       "\n",
       "/* Specification for estimator info (e.g. \"i\" and \"?\") */\n",
       "\n",
       "/* Common style for \"i\" and \"?\" */\n",
       "\n",
       ".sk-estimator-doc-link,\n",
       "a:link.sk-estimator-doc-link,\n",
       "a:visited.sk-estimator-doc-link {\n",
       "  float: right;\n",
       "  font-size: smaller;\n",
       "  line-height: 1em;\n",
       "  font-family: monospace;\n",
       "  background-color: var(--sklearn-color-background);\n",
       "  border-radius: 1em;\n",
       "  height: 1em;\n",
       "  width: 1em;\n",
       "  text-decoration: none !important;\n",
       "  margin-left: 0.5em;\n",
       "  text-align: center;\n",
       "  /* unfitted */\n",
       "  border: var(--sklearn-color-unfitted-level-1) 1pt solid;\n",
       "  color: var(--sklearn-color-unfitted-level-1);\n",
       "}\n",
       "\n",
       ".sk-estimator-doc-link.fitted,\n",
       "a:link.sk-estimator-doc-link.fitted,\n",
       "a:visited.sk-estimator-doc-link.fitted {\n",
       "  /* fitted */\n",
       "  border: var(--sklearn-color-fitted-level-1) 1pt solid;\n",
       "  color: var(--sklearn-color-fitted-level-1);\n",
       "}\n",
       "\n",
       "/* On hover */\n",
       "div.sk-estimator:hover .sk-estimator-doc-link:hover,\n",
       ".sk-estimator-doc-link:hover,\n",
       "div.sk-label-container:hover .sk-estimator-doc-link:hover,\n",
       ".sk-estimator-doc-link:hover {\n",
       "  /* unfitted */\n",
       "  background-color: var(--sklearn-color-unfitted-level-3);\n",
       "  color: var(--sklearn-color-background);\n",
       "  text-decoration: none;\n",
       "}\n",
       "\n",
       "div.sk-estimator.fitted:hover .sk-estimator-doc-link.fitted:hover,\n",
       ".sk-estimator-doc-link.fitted:hover,\n",
       "div.sk-label-container:hover .sk-estimator-doc-link.fitted:hover,\n",
       ".sk-estimator-doc-link.fitted:hover {\n",
       "  /* fitted */\n",
       "  background-color: var(--sklearn-color-fitted-level-3);\n",
       "  color: var(--sklearn-color-background);\n",
       "  text-decoration: none;\n",
       "}\n",
       "\n",
       "/* Span, style for the box shown on hovering the info icon */\n",
       ".sk-estimator-doc-link span {\n",
       "  display: none;\n",
       "  z-index: 9999;\n",
       "  position: relative;\n",
       "  font-weight: normal;\n",
       "  right: .2ex;\n",
       "  padding: .5ex;\n",
       "  margin: .5ex;\n",
       "  width: min-content;\n",
       "  min-width: 20ex;\n",
       "  max-width: 50ex;\n",
       "  color: var(--sklearn-color-text);\n",
       "  box-shadow: 2pt 2pt 4pt #999;\n",
       "  /* unfitted */\n",
       "  background: var(--sklearn-color-unfitted-level-0);\n",
       "  border: .5pt solid var(--sklearn-color-unfitted-level-3);\n",
       "}\n",
       "\n",
       ".sk-estimator-doc-link.fitted span {\n",
       "  /* fitted */\n",
       "  background: var(--sklearn-color-fitted-level-0);\n",
       "  border: var(--sklearn-color-fitted-level-3);\n",
       "}\n",
       "\n",
       ".sk-estimator-doc-link:hover span {\n",
       "  display: block;\n",
       "}\n",
       "\n",
       "/* \"?\"-specific style due to the `<a>` HTML tag */\n",
       "\n",
       "#sk-container-id-2 a.estimator_doc_link {\n",
       "  float: right;\n",
       "  font-size: 1rem;\n",
       "  line-height: 1em;\n",
       "  font-family: monospace;\n",
       "  background-color: var(--sklearn-color-background);\n",
       "  border-radius: 1rem;\n",
       "  height: 1rem;\n",
       "  width: 1rem;\n",
       "  text-decoration: none;\n",
       "  /* unfitted */\n",
       "  color: var(--sklearn-color-unfitted-level-1);\n",
       "  border: var(--sklearn-color-unfitted-level-1) 1pt solid;\n",
       "}\n",
       "\n",
       "#sk-container-id-2 a.estimator_doc_link.fitted {\n",
       "  /* fitted */\n",
       "  border: var(--sklearn-color-fitted-level-1) 1pt solid;\n",
       "  color: var(--sklearn-color-fitted-level-1);\n",
       "}\n",
       "\n",
       "/* On hover */\n",
       "#sk-container-id-2 a.estimator_doc_link:hover {\n",
       "  /* unfitted */\n",
       "  background-color: var(--sklearn-color-unfitted-level-3);\n",
       "  color: var(--sklearn-color-background);\n",
       "  text-decoration: none;\n",
       "}\n",
       "\n",
       "#sk-container-id-2 a.estimator_doc_link.fitted:hover {\n",
       "  /* fitted */\n",
       "  background-color: var(--sklearn-color-fitted-level-3);\n",
       "}\n",
       "\n",
       ".estimator-table summary {\n",
       "    padding: .5rem;\n",
       "    font-family: monospace;\n",
       "    cursor: pointer;\n",
       "}\n",
       "\n",
       ".estimator-table details[open] {\n",
       "    padding-left: 0.1rem;\n",
       "    padding-right: 0.1rem;\n",
       "    padding-bottom: 0.3rem;\n",
       "}\n",
       "\n",
       ".estimator-table .parameters-table {\n",
       "    margin-left: auto !important;\n",
       "    margin-right: auto !important;\n",
       "}\n",
       "\n",
       ".estimator-table .parameters-table tr:nth-child(odd) {\n",
       "    background-color: #fff;\n",
       "}\n",
       "\n",
       ".estimator-table .parameters-table tr:nth-child(even) {\n",
       "    background-color: #f6f6f6;\n",
       "}\n",
       "\n",
       ".estimator-table .parameters-table tr:hover {\n",
       "    background-color: #e0e0e0;\n",
       "}\n",
       "\n",
       ".estimator-table table td {\n",
       "    border: 1px solid rgba(106, 105, 104, 0.232);\n",
       "}\n",
       "\n",
       ".user-set td {\n",
       "    color:rgb(255, 94, 0);\n",
       "    text-align: left;\n",
       "}\n",
       "\n",
       ".user-set td.value pre {\n",
       "    color:rgb(255, 94, 0) !important;\n",
       "    background-color: transparent !important;\n",
       "}\n",
       "\n",
       ".default td {\n",
       "    color: black;\n",
       "    text-align: left;\n",
       "}\n",
       "\n",
       ".user-set td i,\n",
       ".default td i {\n",
       "    color: black;\n",
       "}\n",
       "\n",
       ".copy-paste-icon {\n",
       "    background-image: url(data:image/svg+xml;base64,PHN2ZyB4bWxucz0iaHR0cDovL3d3dy53My5vcmcvMjAwMC9zdmciIHZpZXdCb3g9IjAgMCA0NDggNTEyIj48IS0tIUZvbnQgQXdlc29tZSBGcmVlIDYuNy4yIGJ5IEBmb250YXdlc29tZSAtIGh0dHBzOi8vZm9udGF3ZXNvbWUuY29tIExpY2Vuc2UgLSBodHRwczovL2ZvbnRhd2Vzb21lLmNvbS9saWNlbnNlL2ZyZWUgQ29weXJpZ2h0IDIwMjUgRm9udGljb25zLCBJbmMuLS0+PHBhdGggZD0iTTIwOCAwTDMzMi4xIDBjMTIuNyAwIDI0LjkgNS4xIDMzLjkgMTQuMWw2Ny45IDY3LjljOSA5IDE0LjEgMjEuMiAxNC4xIDMzLjlMNDQ4IDMzNmMwIDI2LjUtMjEuNSA0OC00OCA0OGwtMTkyIDBjLTI2LjUgMC00OC0yMS41LTQ4LTQ4bDAtMjg4YzAtMjYuNSAyMS41LTQ4IDQ4LTQ4ek00OCAxMjhsODAgMCAwIDY0LTY0IDAgMCAyNTYgMTkyIDAgMC0zMiA2NCAwIDAgNDhjMCAyNi41LTIxLjUgNDgtNDggNDhMNDggNTEyYy0yNi41IDAtNDgtMjEuNS00OC00OEwwIDE3NmMwLTI2LjUgMjEuNS00OCA0OC00OHoiLz48L3N2Zz4=);\n",
       "    background-repeat: no-repeat;\n",
       "    background-size: 14px 14px;\n",
       "    background-position: 0;\n",
       "    display: inline-block;\n",
       "    width: 14px;\n",
       "    height: 14px;\n",
       "    cursor: pointer;\n",
       "}\n",
       "</style><body><div id=\"sk-container-id-2\" class=\"sk-top-container\"><div class=\"sk-text-repr-fallback\"><pre>RandomForestClassifier(max_depth=19, n_estimators=50, n_jobs=-1,\n",
       "                       random_state=42)</pre><b>In a Jupyter environment, please rerun this cell to show the HTML representation or trust the notebook. <br />On GitHub, the HTML representation is unable to render, please try loading this page with nbviewer.org.</b></div><div class=\"sk-container\" hidden><div class=\"sk-item\"><div class=\"sk-estimator fitted sk-toggleable\"><input class=\"sk-toggleable__control sk-hidden--visually\" id=\"sk-estimator-id-2\" type=\"checkbox\" checked><label for=\"sk-estimator-id-2\" class=\"sk-toggleable__label fitted sk-toggleable__label-arrow\"><div><div>RandomForestClassifier</div></div><div><a class=\"sk-estimator-doc-link fitted\" rel=\"noreferrer\" target=\"_blank\" href=\"https://scikit-learn.org/1.7/modules/generated/sklearn.ensemble.RandomForestClassifier.html\">?<span>Documentation for RandomForestClassifier</span></a><span class=\"sk-estimator-doc-link fitted\">i<span>Fitted</span></span></div></label><div class=\"sk-toggleable__content fitted\" data-param-prefix=\"\">\n",
       "        <div class=\"estimator-table\">\n",
       "            <details>\n",
       "                <summary>Parameters</summary>\n",
       "                <table class=\"parameters-table\">\n",
       "                  <tbody>\n",
       "                    \n",
       "        <tr class=\"user-set\">\n",
       "            <td><i class=\"copy-paste-icon\"\n",
       "                 onclick=\"copyToClipboard('n_estimators',\n",
       "                          this.parentElement.nextElementSibling)\"\n",
       "            ></i></td>\n",
       "            <td class=\"param\">n_estimators&nbsp;</td>\n",
       "            <td class=\"value\">50</td>\n",
       "        </tr>\n",
       "    \n",
       "\n",
       "        <tr class=\"default\">\n",
       "            <td><i class=\"copy-paste-icon\"\n",
       "                 onclick=\"copyToClipboard('criterion',\n",
       "                          this.parentElement.nextElementSibling)\"\n",
       "            ></i></td>\n",
       "            <td class=\"param\">criterion&nbsp;</td>\n",
       "            <td class=\"value\">&#x27;gini&#x27;</td>\n",
       "        </tr>\n",
       "    \n",
       "\n",
       "        <tr class=\"user-set\">\n",
       "            <td><i class=\"copy-paste-icon\"\n",
       "                 onclick=\"copyToClipboard('max_depth',\n",
       "                          this.parentElement.nextElementSibling)\"\n",
       "            ></i></td>\n",
       "            <td class=\"param\">max_depth&nbsp;</td>\n",
       "            <td class=\"value\">19</td>\n",
       "        </tr>\n",
       "    \n",
       "\n",
       "        <tr class=\"default\">\n",
       "            <td><i class=\"copy-paste-icon\"\n",
       "                 onclick=\"copyToClipboard('min_samples_split',\n",
       "                          this.parentElement.nextElementSibling)\"\n",
       "            ></i></td>\n",
       "            <td class=\"param\">min_samples_split&nbsp;</td>\n",
       "            <td class=\"value\">2</td>\n",
       "        </tr>\n",
       "    \n",
       "\n",
       "        <tr class=\"default\">\n",
       "            <td><i class=\"copy-paste-icon\"\n",
       "                 onclick=\"copyToClipboard('min_samples_leaf',\n",
       "                          this.parentElement.nextElementSibling)\"\n",
       "            ></i></td>\n",
       "            <td class=\"param\">min_samples_leaf&nbsp;</td>\n",
       "            <td class=\"value\">1</td>\n",
       "        </tr>\n",
       "    \n",
       "\n",
       "        <tr class=\"default\">\n",
       "            <td><i class=\"copy-paste-icon\"\n",
       "                 onclick=\"copyToClipboard('min_weight_fraction_leaf',\n",
       "                          this.parentElement.nextElementSibling)\"\n",
       "            ></i></td>\n",
       "            <td class=\"param\">min_weight_fraction_leaf&nbsp;</td>\n",
       "            <td class=\"value\">0.0</td>\n",
       "        </tr>\n",
       "    \n",
       "\n",
       "        <tr class=\"default\">\n",
       "            <td><i class=\"copy-paste-icon\"\n",
       "                 onclick=\"copyToClipboard('max_features',\n",
       "                          this.parentElement.nextElementSibling)\"\n",
       "            ></i></td>\n",
       "            <td class=\"param\">max_features&nbsp;</td>\n",
       "            <td class=\"value\">&#x27;sqrt&#x27;</td>\n",
       "        </tr>\n",
       "    \n",
       "\n",
       "        <tr class=\"default\">\n",
       "            <td><i class=\"copy-paste-icon\"\n",
       "                 onclick=\"copyToClipboard('max_leaf_nodes',\n",
       "                          this.parentElement.nextElementSibling)\"\n",
       "            ></i></td>\n",
       "            <td class=\"param\">max_leaf_nodes&nbsp;</td>\n",
       "            <td class=\"value\">None</td>\n",
       "        </tr>\n",
       "    \n",
       "\n",
       "        <tr class=\"default\">\n",
       "            <td><i class=\"copy-paste-icon\"\n",
       "                 onclick=\"copyToClipboard('min_impurity_decrease',\n",
       "                          this.parentElement.nextElementSibling)\"\n",
       "            ></i></td>\n",
       "            <td class=\"param\">min_impurity_decrease&nbsp;</td>\n",
       "            <td class=\"value\">0.0</td>\n",
       "        </tr>\n",
       "    \n",
       "\n",
       "        <tr class=\"default\">\n",
       "            <td><i class=\"copy-paste-icon\"\n",
       "                 onclick=\"copyToClipboard('bootstrap',\n",
       "                          this.parentElement.nextElementSibling)\"\n",
       "            ></i></td>\n",
       "            <td class=\"param\">bootstrap&nbsp;</td>\n",
       "            <td class=\"value\">True</td>\n",
       "        </tr>\n",
       "    \n",
       "\n",
       "        <tr class=\"default\">\n",
       "            <td><i class=\"copy-paste-icon\"\n",
       "                 onclick=\"copyToClipboard('oob_score',\n",
       "                          this.parentElement.nextElementSibling)\"\n",
       "            ></i></td>\n",
       "            <td class=\"param\">oob_score&nbsp;</td>\n",
       "            <td class=\"value\">False</td>\n",
       "        </tr>\n",
       "    \n",
       "\n",
       "        <tr class=\"user-set\">\n",
       "            <td><i class=\"copy-paste-icon\"\n",
       "                 onclick=\"copyToClipboard('n_jobs',\n",
       "                          this.parentElement.nextElementSibling)\"\n",
       "            ></i></td>\n",
       "            <td class=\"param\">n_jobs&nbsp;</td>\n",
       "            <td class=\"value\">-1</td>\n",
       "        </tr>\n",
       "    \n",
       "\n",
       "        <tr class=\"user-set\">\n",
       "            <td><i class=\"copy-paste-icon\"\n",
       "                 onclick=\"copyToClipboard('random_state',\n",
       "                          this.parentElement.nextElementSibling)\"\n",
       "            ></i></td>\n",
       "            <td class=\"param\">random_state&nbsp;</td>\n",
       "            <td class=\"value\">42</td>\n",
       "        </tr>\n",
       "    \n",
       "\n",
       "        <tr class=\"default\">\n",
       "            <td><i class=\"copy-paste-icon\"\n",
       "                 onclick=\"copyToClipboard('verbose',\n",
       "                          this.parentElement.nextElementSibling)\"\n",
       "            ></i></td>\n",
       "            <td class=\"param\">verbose&nbsp;</td>\n",
       "            <td class=\"value\">0</td>\n",
       "        </tr>\n",
       "    \n",
       "\n",
       "        <tr class=\"default\">\n",
       "            <td><i class=\"copy-paste-icon\"\n",
       "                 onclick=\"copyToClipboard('warm_start',\n",
       "                          this.parentElement.nextElementSibling)\"\n",
       "            ></i></td>\n",
       "            <td class=\"param\">warm_start&nbsp;</td>\n",
       "            <td class=\"value\">False</td>\n",
       "        </tr>\n",
       "    \n",
       "\n",
       "        <tr class=\"default\">\n",
       "            <td><i class=\"copy-paste-icon\"\n",
       "                 onclick=\"copyToClipboard('class_weight',\n",
       "                          this.parentElement.nextElementSibling)\"\n",
       "            ></i></td>\n",
       "            <td class=\"param\">class_weight&nbsp;</td>\n",
       "            <td class=\"value\">None</td>\n",
       "        </tr>\n",
       "    \n",
       "\n",
       "        <tr class=\"default\">\n",
       "            <td><i class=\"copy-paste-icon\"\n",
       "                 onclick=\"copyToClipboard('ccp_alpha',\n",
       "                          this.parentElement.nextElementSibling)\"\n",
       "            ></i></td>\n",
       "            <td class=\"param\">ccp_alpha&nbsp;</td>\n",
       "            <td class=\"value\">0.0</td>\n",
       "        </tr>\n",
       "    \n",
       "\n",
       "        <tr class=\"default\">\n",
       "            <td><i class=\"copy-paste-icon\"\n",
       "                 onclick=\"copyToClipboard('max_samples',\n",
       "                          this.parentElement.nextElementSibling)\"\n",
       "            ></i></td>\n",
       "            <td class=\"param\">max_samples&nbsp;</td>\n",
       "            <td class=\"value\">None</td>\n",
       "        </tr>\n",
       "    \n",
       "\n",
       "        <tr class=\"default\">\n",
       "            <td><i class=\"copy-paste-icon\"\n",
       "                 onclick=\"copyToClipboard('monotonic_cst',\n",
       "                          this.parentElement.nextElementSibling)\"\n",
       "            ></i></td>\n",
       "            <td class=\"param\">monotonic_cst&nbsp;</td>\n",
       "            <td class=\"value\">None</td>\n",
       "        </tr>\n",
       "    \n",
       "                  </tbody>\n",
       "                </table>\n",
       "            </details>\n",
       "        </div>\n",
       "    </div></div></div></div></div><script>function copyToClipboard(text, element) {\n",
       "    // Get the parameter prefix from the closest toggleable content\n",
       "    const toggleableContent = element.closest('.sk-toggleable__content');\n",
       "    const paramPrefix = toggleableContent ? toggleableContent.dataset.paramPrefix : '';\n",
       "    const fullParamName = paramPrefix ? `${paramPrefix}${text}` : text;\n",
       "\n",
       "    const originalStyle = element.style;\n",
       "    const computedStyle = window.getComputedStyle(element);\n",
       "    const originalWidth = computedStyle.width;\n",
       "    const originalHTML = element.innerHTML.replace('Copied!', '');\n",
       "\n",
       "    navigator.clipboard.writeText(fullParamName)\n",
       "        .then(() => {\n",
       "            element.style.width = originalWidth;\n",
       "            element.style.color = 'green';\n",
       "            element.innerHTML = \"Copied!\";\n",
       "\n",
       "            setTimeout(() => {\n",
       "                element.innerHTML = originalHTML;\n",
       "                element.style = originalStyle;\n",
       "            }, 2000);\n",
       "        })\n",
       "        .catch(err => {\n",
       "            console.error('Failed to copy:', err);\n",
       "            element.style.color = 'red';\n",
       "            element.innerHTML = \"Failed!\";\n",
       "            setTimeout(() => {\n",
       "                element.innerHTML = originalHTML;\n",
       "                element.style = originalStyle;\n",
       "            }, 2000);\n",
       "        });\n",
       "    return false;\n",
       "}\n",
       "\n",
       "document.querySelectorAll('.fa-regular.fa-copy').forEach(function(element) {\n",
       "    const toggleableContent = element.closest('.sk-toggleable__content');\n",
       "    const paramPrefix = toggleableContent ? toggleableContent.dataset.paramPrefix : '';\n",
       "    const paramName = element.parentElement.nextElementSibling.textContent.trim();\n",
       "    const fullParamName = paramPrefix ? `${paramPrefix}${paramName}` : paramName;\n",
       "\n",
       "    element.setAttribute('title', fullParamName);\n",
       "});\n",
       "</script></body>"
      ],
      "text/plain": [
       "RandomForestClassifier(max_depth=19, n_estimators=50, n_jobs=-1,\n",
       "                       random_state=42)"
      ]
     },
     "execution_count": 142,
     "metadata": {},
     "output_type": "execute_result"
    }
   ],
   "source": [
    "# adding Random Forest predictors (rf_best)\n",
    "rf_best"
   ]
  },
  {
   "cell_type": "code",
   "execution_count": 143,
   "metadata": {
    "id": "_DkZyQ1jWP-g"
   },
   "outputs": [],
   "source": [
    "# make predictions of probabilities using the Random Forest model (rf_best)\n",
    "\n",
    "y_pred_all = rf_best.predict_proba(X_all)\n",
    "y_pred_all_class1 = [k[1] for k in y_pred_all] #list of predictions for class \"1\"\n",
    "y_pred_all_class1_array = np.array(y_pred_all_class1) # (Numpy Array) np.array of predictions for class \"1\" , converted from a list\n"
   ]
  },
  {
   "cell_type": "code",
   "execution_count": 144,
   "metadata": {
    "colab": {
     "base_uri": "https://localhost:8080/",
     "height": 452
    },
    "id": "tVRsQ9yBYAmZ",
    "outputId": "6d919923-5f6e-4a79-b37d-f8daa6d069a1"
   },
   "outputs": [
    {
     "data": {
      "image/png": "[encoded data removed]",
      "text/plain": [
       "<Figure size 640x480 with 1 Axes>"
      ]
     },
     "metadata": {},
     "output_type": "display_data"
    }
   ],
   "source": [
    "# PREDICTIONS ON A FULL DATASET - more smooth dataset - good sign\n",
    "sns.histplot(y_pred_all_class1)\n",
    "\n",
    "# Add a title\n",
    "plt.title('The distribution of predictions for the current best model for Random Forest)')\n",
    "\n",
    "# Show the plot\n",
    "plt.show()"
   ]
  },
  {
   "cell_type": "code",
   "execution_count": 145,
   "metadata": {
    "id": "noBStDoXV0bm"
   },
   "outputs": [],
   "source": [
    "# adding Random Forest predictors (rf_best) to the dataset for 2 new rules: Threshold = 0.60 and 0.70\n",
    "# defining a new prediction vector is easy now, as the dimensions will match\n",
    "new_df['proba_pred10'] = y_pred_all_class1_array\n",
    "new_df['pred10_rf_best_rule_55'] = (y_pred_all_class1_array >= 0.55).astype(int)\n",
    "\n",
    "new_df['proba_pred11'] = y_pred_all_class1_array\n",
    "new_df['pred11_rf_best_rule_65'] = (y_pred_all_class1_array >= 0.65).astype(int)"
   ]
  },
  {
   "cell_type": "code",
   "execution_count": 146,
   "metadata": {
    "colab": {
     "base_uri": "https://localhost:8080/",
     "height": 449
    },
    "id": "1nfDFyqSWkni",
    "outputId": "e39a5685-c75f-44fe-8e49-3345bc12eb10"
   },
   "outputs": [
    {
     "data": {
      "text/plain": [
       "<Axes: >"
      ]
     },
     "execution_count": 146,
     "metadata": {},
     "output_type": "execute_result"
    },
    {
     "data": {
      "image/png": "[encoded data removed]",
      "text/plain": [
       "<Figure size 640x480 with 1 Axes>"
      ]
     },
     "metadata": {},
     "output_type": "display_data"
    }
   ],
   "source": [
    "# Many positive predictions\n",
    "new_df[(new_df.split=='test')&(new_df.pred10_rf_best_rule_55==1)].Date.hist()"
   ]
  },
  {
   "cell_type": "code",
   "execution_count": 147,
   "metadata": {
    "colab": {
     "base_uri": "https://localhost:8080/",
     "height": 449
    },
    "id": "DVkv2Yk34G6D",
    "outputId": "225d0ef6-e094-468f-ea47-c5c9a5db0c51"
   },
   "outputs": [
    {
     "data": {
      "text/plain": [
       "<Axes: >"
      ]
     },
     "execution_count": 147,
     "metadata": {},
     "output_type": "execute_result"
    },
    {
     "data": {
      "image/png": "[encoded data removed]",
      "text/plain": [
       "<Figure size 640x480 with 1 Axes>"
      ]
     },
     "metadata": {},
     "output_type": "display_data"
    }
   ],
   "source": [
    "# When did it predict to trade for the \"rare\" positive prediction pred10?\n",
    "new_df[(new_df.split=='test')&(new_df.pred11_rf_best_rule_65==1)].Date.hist()"
   ]
  },
  {
   "cell_type": "code",
   "execution_count": 148,
   "metadata": {
    "colab": {
     "base_uri": "https://localhost:8080/",
     "height": 430
    },
    "id": "OHRXnb2i4MM6",
    "outputId": "489d8111-5086-4e77-b4cd-f05568236d57"
   },
   "outputs": [
    {
     "data": {
      "text/html": [
       "<div>\n",
       "<style scoped>\n",
       "    .dataframe tbody tr th:only-of-type {\n",
       "        vertical-align: middle;\n",
       "    }\n",
       "\n",
       "    .dataframe tbody tr th {\n",
       "        vertical-align: top;\n",
       "    }\n",
       "\n",
       "    .dataframe thead th {\n",
       "        text-align: right;\n",
       "    }\n",
       "</style>\n",
       "<table border=\"1\" class=\"dataframe\">\n",
       "  <thead>\n",
       "    <tr style=\"text-align: right;\">\n",
       "      <th></th>\n",
       "      <th>Open</th>\n",
       "      <th>High</th>\n",
       "      <th>Low</th>\n",
       "      <th>Close_x</th>\n",
       "      <th>Volume</th>\n",
       "      <th>Dividends</th>\n",
       "      <th>Stock Splits</th>\n",
       "      <th>Ticker</th>\n",
       "      <th>Year</th>\n",
       "      <th>Month</th>\n",
       "      <th>...</th>\n",
       "      <th>is_correct_pred6</th>\n",
       "      <th>is_correct_pred7</th>\n",
       "      <th>proba_pred8</th>\n",
       "      <th>pred8_clf_second_best_rule_84</th>\n",
       "      <th>proba_pred9</th>\n",
       "      <th>pred9_clf_second_best_rule_92</th>\n",
       "      <th>proba_pred10</th>\n",
       "      <th>pred10_rf_best_rule_55</th>\n",
       "      <th>proba_pred11</th>\n",
       "      <th>pred11_rf_best_rule_65</th>\n",
       "    </tr>\n",
       "  </thead>\n",
       "  <tbody>\n",
       "    <tr>\n",
       "      <th>2520</th>\n",
       "      <td>179.703055</td>\n",
       "      <td>182.818362</td>\n",
       "      <td>175.283880</td>\n",
       "      <td>180.429626</td>\n",
       "      <td>50406300.0</td>\n",
       "      <td>0.0</td>\n",
       "      <td>0.0</td>\n",
       "      <td>META</td>\n",
       "      <td>2022</td>\n",
       "      <td>May</td>\n",
       "      <td>...</td>\n",
       "      <td>1</td>\n",
       "      <td>1</td>\n",
       "      <td>0.000000</td>\n",
       "      <td>0</td>\n",
       "      <td>0.000000</td>\n",
       "      <td>0</td>\n",
       "      <td>0.709605</td>\n",
       "      <td>1</td>\n",
       "      <td>0.709605</td>\n",
       "      <td>1</td>\n",
       "    </tr>\n",
       "    <tr>\n",
       "      <th>4914</th>\n",
       "      <td>3138.413689</td>\n",
       "      <td>3138.413689</td>\n",
       "      <td>3006.123436</td>\n",
       "      <td>3019.085449</td>\n",
       "      <td>3548046.0</td>\n",
       "      <td>22.0</td>\n",
       "      <td>0.0</td>\n",
       "      <td>TCS.NS</td>\n",
       "      <td>2022</td>\n",
       "      <td>May</td>\n",
       "      <td>...</td>\n",
       "      <td>0</td>\n",
       "      <td>1</td>\n",
       "      <td>0.889412</td>\n",
       "      <td>1</td>\n",
       "      <td>0.889412</td>\n",
       "      <td>0</td>\n",
       "      <td>0.696415</td>\n",
       "      <td>1</td>\n",
       "      <td>0.696415</td>\n",
       "      <td>1</td>\n",
       "    </tr>\n",
       "    <tr>\n",
       "      <th>5479</th>\n",
       "      <td>20.479497</td>\n",
       "      <td>20.762984</td>\n",
       "      <td>20.362192</td>\n",
       "      <td>20.411068</td>\n",
       "      <td>8925300.0</td>\n",
       "      <td>0.0</td>\n",
       "      <td>0.0</td>\n",
       "      <td>IBN</td>\n",
       "      <td>2022</td>\n",
       "      <td>January</td>\n",
       "      <td>...</td>\n",
       "      <td>1</td>\n",
       "      <td>0</td>\n",
       "      <td>0.969325</td>\n",
       "      <td>1</td>\n",
       "      <td>0.969325</td>\n",
       "      <td>1</td>\n",
       "      <td>0.705749</td>\n",
       "      <td>1</td>\n",
       "      <td>0.705749</td>\n",
       "      <td>1</td>\n",
       "    </tr>\n",
       "    <tr>\n",
       "      <th>6582</th>\n",
       "      <td>2104.060151</td>\n",
       "      <td>2144.228572</td>\n",
       "      <td>2066.091476</td>\n",
       "      <td>2076.707275</td>\n",
       "      <td>2997629.0</td>\n",
       "      <td>0.0</td>\n",
       "      <td>0.0</td>\n",
       "      <td>HINDUNILVR.NS</td>\n",
       "      <td>2022</td>\n",
       "      <td>February</td>\n",
       "      <td>...</td>\n",
       "      <td>1</td>\n",
       "      <td>1</td>\n",
       "      <td>0.000000</td>\n",
       "      <td>0</td>\n",
       "      <td>0.000000</td>\n",
       "      <td>0</td>\n",
       "      <td>0.748139</td>\n",
       "      <td>1</td>\n",
       "      <td>0.748139</td>\n",
       "      <td>1</td>\n",
       "    </tr>\n",
       "    <tr>\n",
       "      <th>6628</th>\n",
       "      <td>444.199376</td>\n",
       "      <td>449.367722</td>\n",
       "      <td>440.940051</td>\n",
       "      <td>442.523163</td>\n",
       "      <td>10884328.0</td>\n",
       "      <td>0.0</td>\n",
       "      <td>0.0</td>\n",
       "      <td>SBIN.NS</td>\n",
       "      <td>2022</td>\n",
       "      <td>May</td>\n",
       "      <td>...</td>\n",
       "      <td>1</td>\n",
       "      <td>1</td>\n",
       "      <td>0.146341</td>\n",
       "      <td>0</td>\n",
       "      <td>0.146341</td>\n",
       "      <td>0</td>\n",
       "      <td>0.680750</td>\n",
       "      <td>1</td>\n",
       "      <td>0.680750</td>\n",
       "      <td>1</td>\n",
       "    </tr>\n",
       "    <tr>\n",
       "      <th>4116</th>\n",
       "      <td>253.745398</td>\n",
       "      <td>259.314926</td>\n",
       "      <td>253.745398</td>\n",
       "      <td>257.587463</td>\n",
       "      <td>7062200.0</td>\n",
       "      <td>0.0</td>\n",
       "      <td>0.0</td>\n",
       "      <td>V</td>\n",
       "      <td>2024</td>\n",
       "      <td>July</td>\n",
       "      <td>...</td>\n",
       "      <td>1</td>\n",
       "      <td>1</td>\n",
       "      <td>0.976496</td>\n",
       "      <td>1</td>\n",
       "      <td>0.976496</td>\n",
       "      <td>1</td>\n",
       "      <td>0.673050</td>\n",
       "      <td>1</td>\n",
       "      <td>0.673050</td>\n",
       "      <td>1</td>\n",
       "    </tr>\n",
       "    <tr>\n",
       "      <th>3225</th>\n",
       "      <td>52.733775</td>\n",
       "      <td>54.926288</td>\n",
       "      <td>52.538635</td>\n",
       "      <td>54.721764</td>\n",
       "      <td>37301000.0</td>\n",
       "      <td>0.0</td>\n",
       "      <td>0.0</td>\n",
       "      <td>AVGO</td>\n",
       "      <td>2022</td>\n",
       "      <td>May</td>\n",
       "      <td>...</td>\n",
       "      <td>1</td>\n",
       "      <td>1</td>\n",
       "      <td>0.111111</td>\n",
       "      <td>0</td>\n",
       "      <td>0.111111</td>\n",
       "      <td>0</td>\n",
       "      <td>0.663029</td>\n",
       "      <td>1</td>\n",
       "      <td>0.663029</td>\n",
       "      <td>1</td>\n",
       "    </tr>\n",
       "    <tr>\n",
       "      <th>9321</th>\n",
       "      <td>249.604614</td>\n",
       "      <td>250.095884</td>\n",
       "      <td>246.431012</td>\n",
       "      <td>249.270554</td>\n",
       "      <td>17340200.0</td>\n",
       "      <td>0.0</td>\n",
       "      <td>0.0</td>\n",
       "      <td>MSFT</td>\n",
       "      <td>2023</td>\n",
       "      <td>March</td>\n",
       "      <td>...</td>\n",
       "      <td>1</td>\n",
       "      <td>1</td>\n",
       "      <td>1.000000</td>\n",
       "      <td>1</td>\n",
       "      <td>1.000000</td>\n",
       "      <td>1</td>\n",
       "      <td>0.663334</td>\n",
       "      <td>1</td>\n",
       "      <td>0.663334</td>\n",
       "      <td>1</td>\n",
       "    </tr>\n",
       "    <tr>\n",
       "      <th>5944</th>\n",
       "      <td>16.740235</td>\n",
       "      <td>17.141702</td>\n",
       "      <td>16.674880</td>\n",
       "      <td>17.085682</td>\n",
       "      <td>7393300.0</td>\n",
       "      <td>0.0</td>\n",
       "      <td>0.0</td>\n",
       "      <td>INFY</td>\n",
       "      <td>2022</td>\n",
       "      <td>October</td>\n",
       "      <td>...</td>\n",
       "      <td>1</td>\n",
       "      <td>1</td>\n",
       "      <td>0.976441</td>\n",
       "      <td>1</td>\n",
       "      <td>0.976441</td>\n",
       "      <td>1</td>\n",
       "      <td>0.697748</td>\n",
       "      <td>1</td>\n",
       "      <td>0.697748</td>\n",
       "      <td>1</td>\n",
       "    </tr>\n",
       "    <tr>\n",
       "      <th>10768</th>\n",
       "      <td>126.278507</td>\n",
       "      <td>128.135264</td>\n",
       "      <td>126.044068</td>\n",
       "      <td>128.060242</td>\n",
       "      <td>7925300.0</td>\n",
       "      <td>0.0</td>\n",
       "      <td>0.0</td>\n",
       "      <td>JPM</td>\n",
       "      <td>2022</td>\n",
       "      <td>November</td>\n",
       "      <td>...</td>\n",
       "      <td>1</td>\n",
       "      <td>1</td>\n",
       "      <td>0.926635</td>\n",
       "      <td>1</td>\n",
       "      <td>0.926635</td>\n",
       "      <td>1</td>\n",
       "      <td>0.653071</td>\n",
       "      <td>1</td>\n",
       "      <td>0.653071</td>\n",
       "      <td>1</td>\n",
       "    </tr>\n",
       "  </tbody>\n",
       "</table>\n",
       "<p>10 rows × 348 columns</p>\n",
       "</div>"
      ],
      "text/plain": [
       "              Open         High          Low      Close_x      Volume  \\\n",
       "2520    179.703055   182.818362   175.283880   180.429626  50406300.0   \n",
       "4914   3138.413689  3138.413689  3006.123436  3019.085449   3548046.0   \n",
       "5479     20.479497    20.762984    20.362192    20.411068   8925300.0   \n",
       "6582   2104.060151  2144.228572  2066.091476  2076.707275   2997629.0   \n",
       "6628    444.199376   449.367722   440.940051   442.523163  10884328.0   \n",
       "4116    253.745398   259.314926   253.745398   257.587463   7062200.0   \n",
       "3225     52.733775    54.926288    52.538635    54.721764  37301000.0   \n",
       "9321    249.604614   250.095884   246.431012   249.270554  17340200.0   \n",
       "5944     16.740235    17.141702    16.674880    17.085682   7393300.0   \n",
       "10768   126.278507   128.135264   126.044068   128.060242   7925300.0   \n",
       "\n",
       "       Dividends  Stock Splits         Ticker  Year     Month  ...  \\\n",
       "2520         0.0           0.0           META  2022       May  ...   \n",
       "4914        22.0           0.0         TCS.NS  2022       May  ...   \n",
       "5479         0.0           0.0            IBN  2022   January  ...   \n",
       "6582         0.0           0.0  HINDUNILVR.NS  2022  February  ...   \n",
       "6628         0.0           0.0        SBIN.NS  2022       May  ...   \n",
       "4116         0.0           0.0              V  2024      July  ...   \n",
       "3225         0.0           0.0           AVGO  2022       May  ...   \n",
       "9321         0.0           0.0           MSFT  2023     March  ...   \n",
       "5944         0.0           0.0           INFY  2022   October  ...   \n",
       "10768        0.0           0.0            JPM  2022  November  ...   \n",
       "\n",
       "      is_correct_pred6 is_correct_pred7  proba_pred8  \\\n",
       "2520                 1                1     0.000000   \n",
       "4914                 0                1     0.889412   \n",
       "5479                 1                0     0.969325   \n",
       "6582                 1                1     0.000000   \n",
       "6628                 1                1     0.146341   \n",
       "4116                 1                1     0.976496   \n",
       "3225                 1                1     0.111111   \n",
       "9321                 1                1     1.000000   \n",
       "5944                 1                1     0.976441   \n",
       "10768                1                1     0.926635   \n",
       "\n",
       "       pred8_clf_second_best_rule_84  proba_pred9  \\\n",
       "2520                               0     0.000000   \n",
       "4914                               1     0.889412   \n",
       "5479                               1     0.969325   \n",
       "6582                               0     0.000000   \n",
       "6628                               0     0.146341   \n",
       "4116                               1     0.976496   \n",
       "3225                               0     0.111111   \n",
       "9321                               1     1.000000   \n",
       "5944                               1     0.976441   \n",
       "10768                              1     0.926635   \n",
       "\n",
       "       pred9_clf_second_best_rule_92  proba_pred10  pred10_rf_best_rule_55  \\\n",
       "2520                               0      0.709605                       1   \n",
       "4914                               0      0.696415                       1   \n",
       "5479                               1      0.705749                       1   \n",
       "6582                               0      0.748139                       1   \n",
       "6628                               0      0.680750                       1   \n",
       "4116                               1      0.673050                       1   \n",
       "3225                               0      0.663029                       1   \n",
       "9321                               1      0.663334                       1   \n",
       "5944                               1      0.697748                       1   \n",
       "10768                              1      0.653071                       1   \n",
       "\n",
       "       proba_pred11  pred11_rf_best_rule_65  \n",
       "2520       0.709605                       1  \n",
       "4914       0.696415                       1  \n",
       "5479       0.705749                       1  \n",
       "6582       0.748139                       1  \n",
       "6628       0.680750                       1  \n",
       "4116       0.673050                       1  \n",
       "3225       0.663029                       1  \n",
       "9321       0.663334                       1  \n",
       "5944       0.697748                       1  \n",
       "10768      0.653071                       1  \n",
       "\n",
       "[10 rows x 348 columns]"
      ]
     },
     "execution_count": 148,
     "metadata": {},
     "output_type": "execute_result"
    }
   ],
   "source": [
    "# sample of rare predictions with high threshold\n",
    "new_df[(new_df.split=='test')&(new_df.pred11_rf_best_rule_65==1)].sort_values(by='Date').sample(10)"
   ]
  },
  {
   "cell_type": "code",
   "execution_count": 149,
   "metadata": {
    "colab": {
     "base_uri": "https://localhost:8080/"
    },
    "id": "fZ_R8JfqU786",
    "outputId": "65b7ca58-9990-4103-cc9a-70a3c170f290"
   },
   "outputs": [
    {
     "data": {
      "text/plain": [
       "['pred0_manual_cci',\n",
       " 'pred1_manual_prev_g1',\n",
       " 'pred2_manual_prev_g1_and_snp',\n",
       " 'pred3_manual_dgs10_5',\n",
       " 'pred4_manual_dgs10_fedfunds',\n",
       " 'pred5_clf_10',\n",
       " 'pred6_clf_5',\n",
       " 'pred7_clf_second_best',\n",
       " 'pred8_clf_second_best_rule_84',\n",
       " 'pred9_clf_second_best_rule_92',\n",
       " 'pred10_rf_best_rule_55',\n",
       " 'pred11_rf_best_rule_65']"
      ]
     },
     "execution_count": 149,
     "metadata": {},
     "output_type": "execute_result"
    }
   ],
   "source": [
    "# List of ALL current predictions\n",
    "PREDICTIONS = [k for k in new_df.keys() if k.startswith('pred')]\n",
    "PREDICTIONS"
   ]
  },
  {
   "cell_type": "code",
   "execution_count": 150,
   "metadata": {
    "id": "P1_0czekTw53"
   },
   "outputs": [],
   "source": [
    "# Pred 10: How many positive prediction per day (out of 33 stocks possible)\n",
    "pred10_daily_positive_count = pd.DataFrame(new_df[(new_df.split=='test')&(new_df.pred11_rf_best_rule_65==1)].groupby('Date')['pred11_rf_best_rule_65'].count())"
   ]
  },
  {
   "cell_type": "code",
   "execution_count": 151,
   "metadata": {
    "id": "yWQompYvSNxu"
   },
   "outputs": [],
   "source": [
    "# Pred 9: How many positive prediction per day (out of 33 stocks possible)\n",
    "pred9_daily_positive_count = pd.DataFrame(new_df[(new_df.split=='test')&(new_df.pred10_rf_best_rule_55==1)].groupby('Date')['pred10_rf_best_rule_55'].count())"
   ]
  },
  {
   "cell_type": "code",
   "execution_count": 152,
   "metadata": {
    "colab": {
     "base_uri": "https://localhost:8080/"
    },
    "id": "bIymhM4tWC1c",
    "outputId": "bfa5986a-729c-4c46-e822-5b1721af274a"
   },
   "outputs": [
    {
     "data": {
      "text/plain": [
       "991"
      ]
     },
     "execution_count": 152,
     "metadata": {},
     "output_type": "execute_result"
    }
   ],
   "source": [
    "# Unique trading days on Test (4 years)\n",
    "new_df[(new_df.split=='test')].Date.nunique()"
   ]
  },
  {
   "cell_type": "code",
   "execution_count": 153,
   "metadata": {
    "colab": {
     "base_uri": "https://localhost:8080/",
     "height": 455
    },
    "id": "MqegIhVXUpK5",
    "outputId": "7dbf6b05-8770-4a41-a16b-f889610494bc"
   },
   "outputs": [
    {
     "data": {
      "text/html": [
       "<div>\n",
       "<style scoped>\n",
       "    .dataframe tbody tr th:only-of-type {\n",
       "        vertical-align: middle;\n",
       "    }\n",
       "\n",
       "    .dataframe tbody tr th {\n",
       "        vertical-align: top;\n",
       "    }\n",
       "\n",
       "    .dataframe thead th {\n",
       "        text-align: right;\n",
       "    }\n",
       "</style>\n",
       "<table border=\"1\" class=\"dataframe\">\n",
       "  <thead>\n",
       "    <tr style=\"text-align: right;\">\n",
       "      <th></th>\n",
       "      <th>pred11_rf_best_rule_65</th>\n",
       "    </tr>\n",
       "    <tr>\n",
       "      <th>Date</th>\n",
       "      <th></th>\n",
       "    </tr>\n",
       "  </thead>\n",
       "  <tbody>\n",
       "    <tr>\n",
       "      <th>2021-08-20</th>\n",
       "      <td>5</td>\n",
       "    </tr>\n",
       "    <tr>\n",
       "      <th>2021-08-23</th>\n",
       "      <td>7</td>\n",
       "    </tr>\n",
       "    <tr>\n",
       "      <th>2021-08-24</th>\n",
       "      <td>9</td>\n",
       "    </tr>\n",
       "    <tr>\n",
       "      <th>2021-08-25</th>\n",
       "      <td>9</td>\n",
       "    </tr>\n",
       "    <tr>\n",
       "      <th>2021-08-26</th>\n",
       "      <td>7</td>\n",
       "    </tr>\n",
       "    <tr>\n",
       "      <th>...</th>\n",
       "      <td>...</td>\n",
       "    </tr>\n",
       "    <tr>\n",
       "      <th>2025-05-27</th>\n",
       "      <td>1</td>\n",
       "    </tr>\n",
       "    <tr>\n",
       "      <th>2025-06-04</th>\n",
       "      <td>1</td>\n",
       "    </tr>\n",
       "    <tr>\n",
       "      <th>2025-06-09</th>\n",
       "      <td>1</td>\n",
       "    </tr>\n",
       "    <tr>\n",
       "      <th>2025-06-10</th>\n",
       "      <td>1</td>\n",
       "    </tr>\n",
       "    <tr>\n",
       "      <th>2025-06-13</th>\n",
       "      <td>2</td>\n",
       "    </tr>\n",
       "  </tbody>\n",
       "</table>\n",
       "<p>771 rows × 1 columns</p>\n",
       "</div>"
      ],
      "text/plain": [
       "            pred11_rf_best_rule_65\n",
       "Date                              \n",
       "2021-08-20                       5\n",
       "2021-08-23                       7\n",
       "2021-08-24                       9\n",
       "2021-08-25                       9\n",
       "2021-08-26                       7\n",
       "...                            ...\n",
       "2025-05-27                       1\n",
       "2025-06-04                       1\n",
       "2025-06-09                       1\n",
       "2025-06-10                       1\n",
       "2025-06-13                       2\n",
       "\n",
       "[771 rows x 1 columns]"
      ]
     },
     "execution_count": 153,
     "metadata": {},
     "output_type": "execute_result"
    }
   ],
   "source": [
    "pred10_daily_positive_count"
   ]
  },
  {
   "cell_type": "code",
   "execution_count": 154,
   "metadata": {
    "colab": {
     "base_uri": "https://localhost:8080/",
     "height": 469
    },
    "id": "VgTrclDxSqF6",
    "outputId": "8a65e29d-3e23-48f4-c065-fc9dffc12df4"
   },
   "outputs": [
    {
     "data": {
      "text/plain": [
       "array([[<Axes: title={'center': 'pred11_rf_best_rule_65'}>]], dtype=object)"
      ]
     },
     "execution_count": 154,
     "metadata": {},
     "output_type": "execute_result"
    },
    {
     "data": {
      "image/png": "[encoded data removed]",
      "text/plain": [
       "<Figure size 640x480 with 1 Axes>"
      ]
     },
     "metadata": {},
     "output_type": "display_data"
    }
   ],
   "source": [
    "pred10_daily_positive_count.hist()"
   ]
  },
  {
   "cell_type": "code",
   "execution_count": 155,
   "metadata": {
    "colab": {
     "base_uri": "https://localhost:8080/",
     "height": 81
    },
    "id": "7pSlAB8RTB_a",
    "outputId": "e5ad0ae5-bb80-49ef-86ac-e444054d9927"
   },
   "outputs": [
    {
     "data": {
      "text/html": [
       "<div>\n",
       "<style scoped>\n",
       "    .dataframe tbody tr th:only-of-type {\n",
       "        vertical-align: middle;\n",
       "    }\n",
       "\n",
       "    .dataframe tbody tr th {\n",
       "        vertical-align: top;\n",
       "    }\n",
       "\n",
       "    .dataframe thead th {\n",
       "        text-align: right;\n",
       "    }\n",
       "</style>\n",
       "<table border=\"1\" class=\"dataframe\">\n",
       "  <thead>\n",
       "    <tr style=\"text-align: right;\">\n",
       "      <th></th>\n",
       "      <th>count</th>\n",
       "      <th>mean</th>\n",
       "      <th>std</th>\n",
       "      <th>min</th>\n",
       "      <th>25%</th>\n",
       "      <th>50%</th>\n",
       "      <th>75%</th>\n",
       "      <th>max</th>\n",
       "    </tr>\n",
       "  </thead>\n",
       "  <tbody>\n",
       "    <tr>\n",
       "      <th>pred11_rf_best_rule_65</th>\n",
       "      <td>771.0</td>\n",
       "      <td>5.123217</td>\n",
       "      <td>4.419158</td>\n",
       "      <td>1.0</td>\n",
       "      <td>2.0</td>\n",
       "      <td>4.0</td>\n",
       "      <td>7.0</td>\n",
       "      <td>27.0</td>\n",
       "    </tr>\n",
       "  </tbody>\n",
       "</table>\n",
       "</div>"
      ],
      "text/plain": [
       "                        count      mean       std  min  25%  50%  75%   max\n",
       "pred11_rf_best_rule_65  771.0  5.123217  4.419158  1.0  2.0  4.0  7.0  27.0"
      ]
     },
     "execution_count": 155,
     "metadata": {},
     "output_type": "execute_result"
    }
   ],
   "source": [
    "# 75% cases we have not more than 6 bets of $100\n",
    "pred10_daily_positive_count.describe().T"
   ]
  },
  {
   "cell_type": "code",
   "execution_count": 156,
   "metadata": {
    "colab": {
     "base_uri": "https://localhost:8080/",
     "height": 469
    },
    "id": "pr-2GrJFUi0-",
    "outputId": "b469f0fd-6f4c-43dc-b364-c506379389ff"
   },
   "outputs": [
    {
     "data": {
      "text/plain": [
       "array([[<Axes: title={'center': 'pred10_rf_best_rule_55'}>]], dtype=object)"
      ]
     },
     "execution_count": 156,
     "metadata": {},
     "output_type": "execute_result"
    },
    {
     "data": {
      "image/png": "[encoded data removed]",
      "text/plain": [
       "<Figure size 640x480 with 1 Axes>"
      ]
     },
     "metadata": {},
     "output_type": "display_data"
    }
   ],
   "source": [
    "pred9_daily_positive_count.hist()"
   ]
  },
  {
   "cell_type": "code",
   "execution_count": 157,
   "metadata": {
    "colab": {
     "base_uri": "https://localhost:8080/",
     "height": 81
    },
    "id": "u6u4MCHJU0gO",
    "outputId": "97f6c404-f34a-4e88-bc92-33ff814af625"
   },
   "outputs": [
    {
     "data": {
      "text/html": [
       "<div>\n",
       "<style scoped>\n",
       "    .dataframe tbody tr th:only-of-type {\n",
       "        vertical-align: middle;\n",
       "    }\n",
       "\n",
       "    .dataframe tbody tr th {\n",
       "        vertical-align: top;\n",
       "    }\n",
       "\n",
       "    .dataframe thead th {\n",
       "        text-align: right;\n",
       "    }\n",
       "</style>\n",
       "<table border=\"1\" class=\"dataframe\">\n",
       "  <thead>\n",
       "    <tr style=\"text-align: right;\">\n",
       "      <th></th>\n",
       "      <th>count</th>\n",
       "      <th>mean</th>\n",
       "      <th>std</th>\n",
       "      <th>min</th>\n",
       "      <th>25%</th>\n",
       "      <th>50%</th>\n",
       "      <th>75%</th>\n",
       "      <th>max</th>\n",
       "    </tr>\n",
       "  </thead>\n",
       "  <tbody>\n",
       "    <tr>\n",
       "      <th>pred10_rf_best_rule_55</th>\n",
       "      <td>988.0</td>\n",
       "      <td>16.67004</td>\n",
       "      <td>7.555162</td>\n",
       "      <td>1.0</td>\n",
       "      <td>11.0</td>\n",
       "      <td>17.0</td>\n",
       "      <td>23.0</td>\n",
       "      <td>33.0</td>\n",
       "    </tr>\n",
       "  </tbody>\n",
       "</table>\n",
       "</div>"
      ],
      "text/plain": [
       "                        count      mean       std  min   25%   50%   75%   max\n",
       "pred10_rf_best_rule_55  988.0  16.67004  7.555162  1.0  11.0  17.0  23.0  33.0"
      ]
     },
     "execution_count": 157,
     "metadata": {},
     "output_type": "execute_result"
    }
   ],
   "source": [
    "pred9_daily_positive_count.describe().T"
   ]
  },
  {
   "cell_type": "markdown",
   "metadata": {
    "id": "Zqz3ZqjK42H5"
   },
   "source": [
    "## 2.3) Agg. stats on ALL predictions"
   ]
  },
  {
   "cell_type": "code",
   "execution_count": 158,
   "metadata": {
    "colab": {
     "base_uri": "https://localhost:8080/"
    },
    "id": "dFWqxdAT5jL5",
    "outputId": "18c8e072-16f1-4483-89e1-e424faa45aa1"
   },
   "outputs": [
    {
     "name": "stdout",
     "output_type": "stream",
     "text": [
      "Prediction columns founded: ['pred0_manual_cci', 'pred1_manual_prev_g1', 'pred2_manual_prev_g1_and_snp', 'pred3_manual_dgs10_5', 'pred4_manual_dgs10_fedfunds', 'pred5_clf_10', 'pred6_clf_5', 'pred7_clf_second_best', 'pred8_clf_second_best_rule_84', 'pred9_clf_second_best_rule_92', 'pred10_rf_best_rule_55', 'pred11_rf_best_rule_65']\n",
      "Created columns is_correct: ['is_correct_pred0', 'is_correct_pred1', 'is_correct_pred2', 'is_correct_pred3', 'is_correct_pred4', 'is_correct_pred5', 'is_correct_pred6', 'is_correct_pred7', 'is_correct_pred8', 'is_correct_pred9', 'is_correct_pred10', 'is_correct_pred11']\n",
      "Precision on TEST set for each prediction:\n",
      "Prediction column:pred0_manual_cci , is_correct_column: is_correct_pred0\n",
      "is_correct_pred0\n",
      "1    443\n",
      "0    351\n",
      "Name: count, dtype: int64\n",
      "is_correct_pred0\n",
      "1    0.557935\n",
      "0    0.442065\n",
      "Name: count, dtype: float64\n",
      "---------\n",
      "Prediction column:pred1_manual_prev_g1 , is_correct_column: is_correct_pred1\n",
      "is_correct_pred1\n",
      "1    9748\n",
      "0    8243\n",
      "Name: count, dtype: int64\n",
      "is_correct_pred1\n",
      "1    0.541826\n",
      "0    0.458174\n",
      "Name: count, dtype: float64\n",
      "---------\n",
      "Prediction column:pred2_manual_prev_g1_and_snp , is_correct_column: is_correct_pred2\n",
      "is_correct_pred2\n",
      "1    6984\n",
      "0    6383\n",
      "Name: count, dtype: int64\n",
      "is_correct_pred2\n",
      "1    0.522481\n",
      "0    0.477519\n",
      "Name: count, dtype: float64\n",
      "---------\n",
      "Prediction column:pred3_manual_dgs10_5 , is_correct_column: is_correct_pred3\n",
      "is_correct_pred3\n",
      "1    578\n",
      "0    419\n",
      "Name: count, dtype: int64\n",
      "is_correct_pred3\n",
      "1    0.579739\n",
      "0    0.420261\n",
      "Name: count, dtype: float64\n",
      "---------\n",
      "Prediction column:pred4_manual_dgs10_fedfunds , is_correct_column: is_correct_pred4\n",
      "is_correct_pred4\n",
      "0    3020\n",
      "1    2640\n",
      "Name: count, dtype: int64\n",
      "is_correct_pred4\n",
      "0    0.533569\n",
      "1    0.466431\n",
      "Name: count, dtype: float64\n",
      "---------\n",
      "Prediction column:pred5_clf_10 , is_correct_column: is_correct_pred5\n",
      "is_correct_pred5\n",
      "1    10897\n",
      "0     7740\n",
      "Name: count, dtype: int64\n",
      "is_correct_pred5\n",
      "1    0.584697\n",
      "0    0.415303\n",
      "Name: count, dtype: float64\n",
      "---------\n",
      "Prediction column:pred6_clf_5 , is_correct_column: is_correct_pred6\n",
      "is_correct_pred6\n",
      "1    11585\n",
      "0     6867\n",
      "Name: count, dtype: int64\n",
      "is_correct_pred6\n",
      "1    0.627845\n",
      "0    0.372155\n",
      "Name: count, dtype: float64\n",
      "---------\n",
      "Prediction column:pred7_clf_second_best , is_correct_column: is_correct_pred7\n",
      "is_correct_pred7\n",
      "1    11021\n",
      "0     7858\n",
      "Name: count, dtype: int64\n",
      "is_correct_pred7\n",
      "1    0.58377\n",
      "0    0.41623\n",
      "Name: count, dtype: float64\n",
      "---------\n",
      "Prediction column:pred8_clf_second_best_rule_84 , is_correct_column: is_correct_pred8\n",
      "is_correct_pred8\n",
      "1    9634\n",
      "0    6560\n",
      "Name: count, dtype: int64\n",
      "is_correct_pred8\n",
      "1    0.594912\n",
      "0    0.405088\n",
      "Name: count, dtype: float64\n",
      "---------\n",
      "Prediction column:pred9_clf_second_best_rule_92 , is_correct_column: is_correct_pred9\n",
      "is_correct_pred9\n",
      "1    8598\n",
      "0    5714\n",
      "Name: count, dtype: int64\n",
      "is_correct_pred9\n",
      "1    0.600755\n",
      "0    0.399245\n",
      "Name: count, dtype: float64\n",
      "---------\n",
      "Prediction column:pred10_rf_best_rule_55 , is_correct_column: is_correct_pred10\n",
      "is_correct_pred10\n",
      "1    9293\n",
      "0    7177\n",
      "Name: count, dtype: int64\n",
      "is_correct_pred10\n",
      "1    0.564238\n",
      "0    0.435762\n",
      "Name: count, dtype: float64\n",
      "---------\n",
      "Prediction column:pred11_rf_best_rule_65 , is_correct_column: is_correct_pred11\n",
      "is_correct_pred11\n",
      "1    2398\n",
      "0    1552\n",
      "Name: count, dtype: int64\n",
      "is_correct_pred11\n",
      "1    0.607089\n",
      "0    0.392911\n",
      "Name: count, dtype: float64\n",
      "---------\n"
     ]
    }
   ],
   "source": [
    "# let's review the Predictions:\n",
    "PREDICTIONS, IS_CORRECT = get_predictions_correctness(new_df, to_predict='is_positive_growth_30d_future')\n"
   ]
  },
  {
   "cell_type": "code",
   "execution_count": 159,
   "metadata": {
    "colab": {
     "base_uri": "https://localhost:8080/",
     "height": 175
    },
    "id": "0zi3N4mLafXX",
    "outputId": "ae7618c3-3a93-421a-9262-7dc2361d96e3"
   },
   "outputs": [
    {
     "data": {
      "text/html": [
       "<div>\n",
       "<style scoped>\n",
       "    .dataframe tbody tr th:only-of-type {\n",
       "        vertical-align: middle;\n",
       "    }\n",
       "\n",
       "    .dataframe tbody tr th {\n",
       "        vertical-align: top;\n",
       "    }\n",
       "\n",
       "    .dataframe thead th {\n",
       "        text-align: right;\n",
       "    }\n",
       "</style>\n",
       "<table border=\"1\" class=\"dataframe\">\n",
       "  <thead>\n",
       "    <tr style=\"text-align: right;\">\n",
       "      <th></th>\n",
       "      <th>min</th>\n",
       "      <th>max</th>\n",
       "    </tr>\n",
       "    <tr>\n",
       "      <th>split</th>\n",
       "      <th></th>\n",
       "      <th></th>\n",
       "    </tr>\n",
       "  </thead>\n",
       "  <tbody>\n",
       "    <tr>\n",
       "      <th>test</th>\n",
       "      <td>2021-08-20</td>\n",
       "      <td>2025-06-13</td>\n",
       "    </tr>\n",
       "    <tr>\n",
       "      <th>train</th>\n",
       "      <td>2000-01-03</td>\n",
       "      <td>2017-10-25</td>\n",
       "    </tr>\n",
       "    <tr>\n",
       "      <th>validation</th>\n",
       "      <td>2017-10-26</td>\n",
       "      <td>2021-08-19</td>\n",
       "    </tr>\n",
       "  </tbody>\n",
       "</table>\n",
       "</div>"
      ],
      "text/plain": [
       "                  min        max\n",
       "split                           \n",
       "test       2021-08-20 2025-06-13\n",
       "train      2000-01-03 2017-10-25\n",
       "validation 2017-10-26 2021-08-19"
      ]
     },
     "execution_count": 159,
     "metadata": {},
     "output_type": "execute_result"
    }
   ],
   "source": [
    "# check approx. periods : Train is 2000-01...2017-01, Valid is 2017-01..2020-09, Test is 2020-09..2024-05\n",
    "new_df.groupby('split').Date.agg(['min','max'])"
   ]
  },
  {
   "cell_type": "code",
   "execution_count": 160,
   "metadata": {
    "colab": {
     "base_uri": "https://localhost:8080/"
    },
    "id": "RJGW2tqQy924",
    "outputId": "260614d2-44a1-415e-948a-625c81713daa"
   },
   "outputs": [
    {
     "name": "stdout",
     "output_type": "stream",
     "text": [
      "10\n",
      "10\n"
     ]
    }
   ],
   "source": [
    "# GET PREDICTION NUMBER: Easier solution not using regular expressions\n",
    "\n",
    "# Example string\n",
    "example_string = \"pred10_rf_best_rule_60\"\n",
    "\n",
    "# Split the string by '_'\n",
    "parts = example_string.split('_')\n",
    "\n",
    "# Extract the part with 'pred' and remove the 'pred' prefix\n",
    "pred_number = parts[0].replace('pred', '')\n",
    "\n",
    "# Print the result\n",
    "print(pred_number)\n",
    "\n",
    "# Print in one line\n",
    "print(int(example_string.split('_')[0].replace('pred', '')))\n"
   ]
  },
  {
   "cell_type": "code",
   "execution_count": 161,
   "metadata": {
    "colab": {
     "base_uri": "https://localhost:8080/"
    },
    "id": "QqO_ngCFx5pt",
    "outputId": "72081579-423c-4e69-d9ad-9013e349f2de"
   },
   "outputs": [
    {
     "data": {
      "text/plain": [
       "['pred0_manual_cci',\n",
       " 'pred1_manual_prev_g1',\n",
       " 'pred2_manual_prev_g1_and_snp',\n",
       " 'pred3_manual_dgs10_5',\n",
       " 'pred4_manual_dgs10_fedfunds',\n",
       " 'pred5_clf_10',\n",
       " 'pred6_clf_5',\n",
       " 'pred7_clf_second_best',\n",
       " 'pred8_clf_second_best_rule_84',\n",
       " 'pred9_clf_second_best_rule_92',\n",
       " 'pred10_rf_best_rule_55',\n",
       " 'pred11_rf_best_rule_65']"
      ]
     },
     "execution_count": 161,
     "metadata": {},
     "output_type": "execute_result"
    }
   ],
   "source": [
    "# all predictions\n",
    "PREDICTIONS"
   ]
  },
  {
   "cell_type": "code",
   "execution_count": 162,
   "metadata": {
    "colab": {
     "base_uri": "https://localhost:8080/"
    },
    "id": "t4dZ2KhLxslp",
    "outputId": "d07e1daa-cdb0-411f-c52f-847c8d15c6ab"
   },
   "outputs": [
    {
     "data": {
      "text/plain": [
       "['pred5_clf_10',\n",
       " 'pred6_clf_5',\n",
       " 'pred7_clf_second_best',\n",
       " 'pred8_clf_second_best_rule_84',\n",
       " 'pred9_clf_second_best_rule_92',\n",
       " 'pred10_rf_best_rule_55',\n",
       " 'pred11_rf_best_rule_65']"
      ]
     },
     "execution_count": 162,
     "metadata": {},
     "output_type": "execute_result"
    }
   ],
   "source": [
    "# all predictions on MODELS (not-manual predictions)\n",
    "PREDICTIONS_ON_MODELS = [p for p in PREDICTIONS if int(p.split('_')[0].replace('pred', ''))>=5]\n",
    "PREDICTIONS_ON_MODELS"
   ]
  },
  {
   "cell_type": "code",
   "execution_count": 163,
   "metadata": {
    "colab": {
     "base_uri": "https://localhost:8080/"
    },
    "id": "y6-TRv_azuZF",
    "outputId": "610470d3-35f2-4f22-c50d-5f76b957054c"
   },
   "outputs": [
    {
     "data": {
      "text/plain": [
       "['is_correct_pred5',\n",
       " 'is_correct_pred6',\n",
       " 'is_correct_pred7',\n",
       " 'is_correct_pred8',\n",
       " 'is_correct_pred9',\n",
       " 'is_correct_pred10',\n",
       " 'is_correct_pred11']"
      ]
     },
     "execution_count": 163,
     "metadata": {},
     "output_type": "execute_result"
    }
   ],
   "source": [
    "# all predictions on Models - correctness\n",
    "IS_CORRECT_ON_MODELS = [p for p in IS_CORRECT if int(p.replace('is_correct_pred', ''))>=5]\n",
    "IS_CORRECT_ON_MODELS"
   ]
  },
  {
   "cell_type": "code",
   "execution_count": 164,
   "metadata": {
    "colab": {
     "base_uri": "https://localhost:8080/",
     "height": 708
    },
    "id": "jp8zHRAPbKxW",
    "outputId": "5994a539-d2c9-4a57-8e29-38d7d579da77"
   },
   "outputs": [
    {
     "data": {
      "text/html": [
       "<div>\n",
       "<style scoped>\n",
       "    .dataframe tbody tr th:only-of-type {\n",
       "        vertical-align: middle;\n",
       "    }\n",
       "\n",
       "    .dataframe tbody tr th {\n",
       "        vertical-align: top;\n",
       "    }\n",
       "\n",
       "    .dataframe thead th {\n",
       "        text-align: right;\n",
       "    }\n",
       "</style>\n",
       "<table border=\"1\" class=\"dataframe\">\n",
       "  <thead>\n",
       "    <tr style=\"text-align: right;\">\n",
       "      <th></th>\n",
       "      <th>split</th>\n",
       "      <th>test</th>\n",
       "      <th>train</th>\n",
       "      <th>validation</th>\n",
       "    </tr>\n",
       "  </thead>\n",
       "  <tbody>\n",
       "    <tr>\n",
       "      <th rowspan=\"3\" valign=\"top\">pred5_clf_10</th>\n",
       "      <th>count</th>\n",
       "      <td>31408.000000</td>\n",
       "      <td>129730.000000</td>\n",
       "      <td>30657.000000</td>\n",
       "    </tr>\n",
       "    <tr>\n",
       "      <th>sum</th>\n",
       "      <td>18637.000000</td>\n",
       "      <td>99158.000000</td>\n",
       "      <td>23704.000000</td>\n",
       "    </tr>\n",
       "    <tr>\n",
       "      <th>mean</th>\n",
       "      <td>0.593384</td>\n",
       "      <td>0.764341</td>\n",
       "      <td>0.773200</td>\n",
       "    </tr>\n",
       "    <tr>\n",
       "      <th rowspan=\"3\" valign=\"top\">pred6_clf_5</th>\n",
       "      <th>count</th>\n",
       "      <td>31408.000000</td>\n",
       "      <td>129730.000000</td>\n",
       "      <td>30657.000000</td>\n",
       "    </tr>\n",
       "    <tr>\n",
       "      <th>sum</th>\n",
       "      <td>18452.000000</td>\n",
       "      <td>104161.000000</td>\n",
       "      <td>22899.000000</td>\n",
       "    </tr>\n",
       "    <tr>\n",
       "      <th>mean</th>\n",
       "      <td>0.587494</td>\n",
       "      <td>0.802906</td>\n",
       "      <td>0.746942</td>\n",
       "    </tr>\n",
       "    <tr>\n",
       "      <th rowspan=\"3\" valign=\"top\">pred7_clf_second_best</th>\n",
       "      <th>count</th>\n",
       "      <td>31408.000000</td>\n",
       "      <td>129730.000000</td>\n",
       "      <td>30657.000000</td>\n",
       "    </tr>\n",
       "    <tr>\n",
       "      <th>sum</th>\n",
       "      <td>18879.000000</td>\n",
       "      <td>90027.000000</td>\n",
       "      <td>22690.000000</td>\n",
       "    </tr>\n",
       "    <tr>\n",
       "      <th>mean</th>\n",
       "      <td>0.601089</td>\n",
       "      <td>0.693957</td>\n",
       "      <td>0.740125</td>\n",
       "    </tr>\n",
       "    <tr>\n",
       "      <th rowspan=\"3\" valign=\"top\">pred8_clf_second_best_rule_84</th>\n",
       "      <th>count</th>\n",
       "      <td>31408.000000</td>\n",
       "      <td>129730.000000</td>\n",
       "      <td>30657.000000</td>\n",
       "    </tr>\n",
       "    <tr>\n",
       "      <th>sum</th>\n",
       "      <td>16194.000000</td>\n",
       "      <td>33375.000000</td>\n",
       "      <td>11391.000000</td>\n",
       "    </tr>\n",
       "    <tr>\n",
       "      <th>mean</th>\n",
       "      <td>0.515601</td>\n",
       "      <td>0.257265</td>\n",
       "      <td>0.371563</td>\n",
       "    </tr>\n",
       "    <tr>\n",
       "      <th rowspan=\"3\" valign=\"top\">pred9_clf_second_best_rule_92</th>\n",
       "      <th>count</th>\n",
       "      <td>31408.000000</td>\n",
       "      <td>129730.000000</td>\n",
       "      <td>30657.000000</td>\n",
       "    </tr>\n",
       "    <tr>\n",
       "      <th>sum</th>\n",
       "      <td>14312.000000</td>\n",
       "      <td>20121.000000</td>\n",
       "      <td>6469.000000</td>\n",
       "    </tr>\n",
       "    <tr>\n",
       "      <th>mean</th>\n",
       "      <td>0.455680</td>\n",
       "      <td>0.155099</td>\n",
       "      <td>0.211012</td>\n",
       "    </tr>\n",
       "    <tr>\n",
       "      <th rowspan=\"3\" valign=\"top\">pred10_rf_best_rule_55</th>\n",
       "      <th>count</th>\n",
       "      <td>31408.000000</td>\n",
       "      <td>129730.000000</td>\n",
       "      <td>30657.000000</td>\n",
       "    </tr>\n",
       "    <tr>\n",
       "      <th>sum</th>\n",
       "      <td>16470.000000</td>\n",
       "      <td>78344.000000</td>\n",
       "      <td>19895.000000</td>\n",
       "    </tr>\n",
       "    <tr>\n",
       "      <th>mean</th>\n",
       "      <td>0.524389</td>\n",
       "      <td>0.603900</td>\n",
       "      <td>0.648955</td>\n",
       "    </tr>\n",
       "    <tr>\n",
       "      <th rowspan=\"3\" valign=\"top\">pred11_rf_best_rule_65</th>\n",
       "      <th>count</th>\n",
       "      <td>31408.000000</td>\n",
       "      <td>129730.000000</td>\n",
       "      <td>30657.000000</td>\n",
       "    </tr>\n",
       "    <tr>\n",
       "      <th>sum</th>\n",
       "      <td>3950.000000</td>\n",
       "      <td>72006.000000</td>\n",
       "      <td>19014.000000</td>\n",
       "    </tr>\n",
       "    <tr>\n",
       "      <th>mean</th>\n",
       "      <td>0.125764</td>\n",
       "      <td>0.555045</td>\n",
       "      <td>0.620217</td>\n",
       "    </tr>\n",
       "  </tbody>\n",
       "</table>\n",
       "</div>"
      ],
      "text/plain": [
       "split                                        test          train    validation\n",
       "pred5_clf_10                  count  31408.000000  129730.000000  30657.000000\n",
       "                              sum    18637.000000   99158.000000  23704.000000\n",
       "                              mean       0.593384       0.764341      0.773200\n",
       "pred6_clf_5                   count  31408.000000  129730.000000  30657.000000\n",
       "                              sum    18452.000000  104161.000000  22899.000000\n",
       "                              mean       0.587494       0.802906      0.746942\n",
       "pred7_clf_second_best         count  31408.000000  129730.000000  30657.000000\n",
       "                              sum    18879.000000   90027.000000  22690.000000\n",
       "                              mean       0.601089       0.693957      0.740125\n",
       "pred8_clf_second_best_rule_84 count  31408.000000  129730.000000  30657.000000\n",
       "                              sum    16194.000000   33375.000000  11391.000000\n",
       "                              mean       0.515601       0.257265      0.371563\n",
       "pred9_clf_second_best_rule_92 count  31408.000000  129730.000000  30657.000000\n",
       "                              sum    14312.000000   20121.000000   6469.000000\n",
       "                              mean       0.455680       0.155099      0.211012\n",
       "pred10_rf_best_rule_55        count  31408.000000  129730.000000  30657.000000\n",
       "                              sum    16470.000000   78344.000000  19895.000000\n",
       "                              mean       0.524389       0.603900      0.648955\n",
       "pred11_rf_best_rule_65        count  31408.000000  129730.000000  30657.000000\n",
       "                              sum     3950.000000   72006.000000  19014.000000\n",
       "                              mean       0.125764       0.555045      0.620217"
      ]
     },
     "execution_count": 164,
     "metadata": {},
     "output_type": "execute_result"
    }
   ],
   "source": [
    "# predictions on models\n",
    "# pred10_rf_best_rule_60: ONLY 2% of TEST cases predicted with high confidence of growth\n",
    "new_df.groupby('split')[PREDICTIONS_ON_MODELS].agg(['count','sum','mean']).T"
   ]
  },
  {
   "cell_type": "code",
   "execution_count": 165,
   "metadata": {
    "colab": {
     "base_uri": "https://localhost:8080/",
     "height": 1000
    },
    "id": "EYwD1PIB3n74",
    "outputId": "b8956b6c-8f93-45f3-cf67-2f5f4d18af0c"
   },
   "outputs": [
    {
     "data": {
      "text/html": [
       "<div>\n",
       "<style scoped>\n",
       "    .dataframe tbody tr th:only-of-type {\n",
       "        vertical-align: middle;\n",
       "    }\n",
       "\n",
       "    .dataframe tbody tr th {\n",
       "        vertical-align: top;\n",
       "    }\n",
       "\n",
       "    .dataframe thead th {\n",
       "        text-align: right;\n",
       "    }\n",
       "</style>\n",
       "<table border=\"1\" class=\"dataframe\">\n",
       "  <thead>\n",
       "    <tr style=\"text-align: right;\">\n",
       "      <th></th>\n",
       "      <th>split</th>\n",
       "      <th>test</th>\n",
       "      <th>train</th>\n",
       "      <th>validation</th>\n",
       "    </tr>\n",
       "  </thead>\n",
       "  <tbody>\n",
       "    <tr>\n",
       "      <th rowspan=\"3\" valign=\"top\">pred0_manual_cci</th>\n",
       "      <th>count</th>\n",
       "      <td>31408.000000</td>\n",
       "      <td>129730.000000</td>\n",
       "      <td>30657.000000</td>\n",
       "    </tr>\n",
       "    <tr>\n",
       "      <th>sum</th>\n",
       "      <td>794.000000</td>\n",
       "      <td>3428.000000</td>\n",
       "      <td>886.000000</td>\n",
       "    </tr>\n",
       "    <tr>\n",
       "      <th>mean</th>\n",
       "      <td>0.025280</td>\n",
       "      <td>0.026424</td>\n",
       "      <td>0.028900</td>\n",
       "    </tr>\n",
       "    <tr>\n",
       "      <th rowspan=\"3\" valign=\"top\">pred1_manual_prev_g1</th>\n",
       "      <th>count</th>\n",
       "      <td>31408.000000</td>\n",
       "      <td>129730.000000</td>\n",
       "      <td>30657.000000</td>\n",
       "    </tr>\n",
       "    <tr>\n",
       "      <th>sum</th>\n",
       "      <td>17991.000000</td>\n",
       "      <td>76372.000000</td>\n",
       "      <td>19721.000000</td>\n",
       "    </tr>\n",
       "    <tr>\n",
       "      <th>mean</th>\n",
       "      <td>0.572816</td>\n",
       "      <td>0.588700</td>\n",
       "      <td>0.643279</td>\n",
       "    </tr>\n",
       "    <tr>\n",
       "      <th rowspan=\"3\" valign=\"top\">pred2_manual_prev_g1_and_snp</th>\n",
       "      <th>count</th>\n",
       "      <td>31408.000000</td>\n",
       "      <td>129730.000000</td>\n",
       "      <td>30657.000000</td>\n",
       "    </tr>\n",
       "    <tr>\n",
       "      <th>sum</th>\n",
       "      <td>13367.000000</td>\n",
       "      <td>57404.000000</td>\n",
       "      <td>16695.000000</td>\n",
       "    </tr>\n",
       "    <tr>\n",
       "      <th>mean</th>\n",
       "      <td>0.425592</td>\n",
       "      <td>0.442488</td>\n",
       "      <td>0.544574</td>\n",
       "    </tr>\n",
       "    <tr>\n",
       "      <th rowspan=\"3\" valign=\"top\">pred3_manual_dgs10_5</th>\n",
       "      <th>count</th>\n",
       "      <td>31408.000000</td>\n",
       "      <td>129730.000000</td>\n",
       "      <td>30657.000000</td>\n",
       "    </tr>\n",
       "    <tr>\n",
       "      <th>sum</th>\n",
       "      <td>997.000000</td>\n",
       "      <td>13333.000000</td>\n",
       "      <td>11908.000000</td>\n",
       "    </tr>\n",
       "    <tr>\n",
       "      <th>mean</th>\n",
       "      <td>0.031744</td>\n",
       "      <td>0.102775</td>\n",
       "      <td>0.388427</td>\n",
       "    </tr>\n",
       "    <tr>\n",
       "      <th rowspan=\"3\" valign=\"top\">pred4_manual_dgs10_fedfunds</th>\n",
       "      <th>count</th>\n",
       "      <td>31408.000000</td>\n",
       "      <td>129730.000000</td>\n",
       "      <td>30657.000000</td>\n",
       "    </tr>\n",
       "    <tr>\n",
       "      <th>sum</th>\n",
       "      <td>5660.000000</td>\n",
       "      <td>30611.000000</td>\n",
       "      <td>0.000000</td>\n",
       "    </tr>\n",
       "    <tr>\n",
       "      <th>mean</th>\n",
       "      <td>0.180209</td>\n",
       "      <td>0.235959</td>\n",
       "      <td>0.000000</td>\n",
       "    </tr>\n",
       "    <tr>\n",
       "      <th rowspan=\"3\" valign=\"top\">pred5_clf_10</th>\n",
       "      <th>count</th>\n",
       "      <td>31408.000000</td>\n",
       "      <td>129730.000000</td>\n",
       "      <td>30657.000000</td>\n",
       "    </tr>\n",
       "    <tr>\n",
       "      <th>sum</th>\n",
       "      <td>18637.000000</td>\n",
       "      <td>99158.000000</td>\n",
       "      <td>23704.000000</td>\n",
       "    </tr>\n",
       "    <tr>\n",
       "      <th>mean</th>\n",
       "      <td>0.593384</td>\n",
       "      <td>0.764341</td>\n",
       "      <td>0.773200</td>\n",
       "    </tr>\n",
       "    <tr>\n",
       "      <th rowspan=\"3\" valign=\"top\">pred6_clf_5</th>\n",
       "      <th>count</th>\n",
       "      <td>31408.000000</td>\n",
       "      <td>129730.000000</td>\n",
       "      <td>30657.000000</td>\n",
       "    </tr>\n",
       "    <tr>\n",
       "      <th>sum</th>\n",
       "      <td>18452.000000</td>\n",
       "      <td>104161.000000</td>\n",
       "      <td>22899.000000</td>\n",
       "    </tr>\n",
       "    <tr>\n",
       "      <th>mean</th>\n",
       "      <td>0.587494</td>\n",
       "      <td>0.802906</td>\n",
       "      <td>0.746942</td>\n",
       "    </tr>\n",
       "    <tr>\n",
       "      <th rowspan=\"3\" valign=\"top\">pred7_clf_second_best</th>\n",
       "      <th>count</th>\n",
       "      <td>31408.000000</td>\n",
       "      <td>129730.000000</td>\n",
       "      <td>30657.000000</td>\n",
       "    </tr>\n",
       "    <tr>\n",
       "      <th>sum</th>\n",
       "      <td>18879.000000</td>\n",
       "      <td>90027.000000</td>\n",
       "      <td>22690.000000</td>\n",
       "    </tr>\n",
       "    <tr>\n",
       "      <th>mean</th>\n",
       "      <td>0.601089</td>\n",
       "      <td>0.693957</td>\n",
       "      <td>0.740125</td>\n",
       "    </tr>\n",
       "    <tr>\n",
       "      <th rowspan=\"3\" valign=\"top\">pred8_clf_second_best_rule_84</th>\n",
       "      <th>count</th>\n",
       "      <td>31408.000000</td>\n",
       "      <td>129730.000000</td>\n",
       "      <td>30657.000000</td>\n",
       "    </tr>\n",
       "    <tr>\n",
       "      <th>sum</th>\n",
       "      <td>16194.000000</td>\n",
       "      <td>33375.000000</td>\n",
       "      <td>11391.000000</td>\n",
       "    </tr>\n",
       "    <tr>\n",
       "      <th>mean</th>\n",
       "      <td>0.515601</td>\n",
       "      <td>0.257265</td>\n",
       "      <td>0.371563</td>\n",
       "    </tr>\n",
       "    <tr>\n",
       "      <th rowspan=\"3\" valign=\"top\">pred9_clf_second_best_rule_92</th>\n",
       "      <th>count</th>\n",
       "      <td>31408.000000</td>\n",
       "      <td>129730.000000</td>\n",
       "      <td>30657.000000</td>\n",
       "    </tr>\n",
       "    <tr>\n",
       "      <th>sum</th>\n",
       "      <td>14312.000000</td>\n",
       "      <td>20121.000000</td>\n",
       "      <td>6469.000000</td>\n",
       "    </tr>\n",
       "    <tr>\n",
       "      <th>mean</th>\n",
       "      <td>0.455680</td>\n",
       "      <td>0.155099</td>\n",
       "      <td>0.211012</td>\n",
       "    </tr>\n",
       "    <tr>\n",
       "      <th rowspan=\"3\" valign=\"top\">pred10_rf_best_rule_55</th>\n",
       "      <th>count</th>\n",
       "      <td>31408.000000</td>\n",
       "      <td>129730.000000</td>\n",
       "      <td>30657.000000</td>\n",
       "    </tr>\n",
       "    <tr>\n",
       "      <th>sum</th>\n",
       "      <td>16470.000000</td>\n",
       "      <td>78344.000000</td>\n",
       "      <td>19895.000000</td>\n",
       "    </tr>\n",
       "    <tr>\n",
       "      <th>mean</th>\n",
       "      <td>0.524389</td>\n",
       "      <td>0.603900</td>\n",
       "      <td>0.648955</td>\n",
       "    </tr>\n",
       "    <tr>\n",
       "      <th rowspan=\"3\" valign=\"top\">pred11_rf_best_rule_65</th>\n",
       "      <th>count</th>\n",
       "      <td>31408.000000</td>\n",
       "      <td>129730.000000</td>\n",
       "      <td>30657.000000</td>\n",
       "    </tr>\n",
       "    <tr>\n",
       "      <th>sum</th>\n",
       "      <td>3950.000000</td>\n",
       "      <td>72006.000000</td>\n",
       "      <td>19014.000000</td>\n",
       "    </tr>\n",
       "    <tr>\n",
       "      <th>mean</th>\n",
       "      <td>0.125764</td>\n",
       "      <td>0.555045</td>\n",
       "      <td>0.620217</td>\n",
       "    </tr>\n",
       "  </tbody>\n",
       "</table>\n",
       "</div>"
      ],
      "text/plain": [
       "split                                        test          train    validation\n",
       "pred0_manual_cci              count  31408.000000  129730.000000  30657.000000\n",
       "                              sum      794.000000    3428.000000    886.000000\n",
       "                              mean       0.025280       0.026424      0.028900\n",
       "pred1_manual_prev_g1          count  31408.000000  129730.000000  30657.000000\n",
       "                              sum    17991.000000   76372.000000  19721.000000\n",
       "                              mean       0.572816       0.588700      0.643279\n",
       "pred2_manual_prev_g1_and_snp  count  31408.000000  129730.000000  30657.000000\n",
       "                              sum    13367.000000   57404.000000  16695.000000\n",
       "                              mean       0.425592       0.442488      0.544574\n",
       "pred3_manual_dgs10_5          count  31408.000000  129730.000000  30657.000000\n",
       "                              sum      997.000000   13333.000000  11908.000000\n",
       "                              mean       0.031744       0.102775      0.388427\n",
       "pred4_manual_dgs10_fedfunds   count  31408.000000  129730.000000  30657.000000\n",
       "                              sum     5660.000000   30611.000000      0.000000\n",
       "                              mean       0.180209       0.235959      0.000000\n",
       "pred5_clf_10                  count  31408.000000  129730.000000  30657.000000\n",
       "                              sum    18637.000000   99158.000000  23704.000000\n",
       "                              mean       0.593384       0.764341      0.773200\n",
       "pred6_clf_5                   count  31408.000000  129730.000000  30657.000000\n",
       "                              sum    18452.000000  104161.000000  22899.000000\n",
       "                              mean       0.587494       0.802906      0.746942\n",
       "pred7_clf_second_best         count  31408.000000  129730.000000  30657.000000\n",
       "                              sum    18879.000000   90027.000000  22690.000000\n",
       "                              mean       0.601089       0.693957      0.740125\n",
       "pred8_clf_second_best_rule_84 count  31408.000000  129730.000000  30657.000000\n",
       "                              sum    16194.000000   33375.000000  11391.000000\n",
       "                              mean       0.515601       0.257265      0.371563\n",
       "pred9_clf_second_best_rule_92 count  31408.000000  129730.000000  30657.000000\n",
       "                              sum    14312.000000   20121.000000   6469.000000\n",
       "                              mean       0.455680       0.155099      0.211012\n",
       "pred10_rf_best_rule_55        count  31408.000000  129730.000000  30657.000000\n",
       "                              sum    16470.000000   78344.000000  19895.000000\n",
       "                              mean       0.524389       0.603900      0.648955\n",
       "pred11_rf_best_rule_65        count  31408.000000  129730.000000  30657.000000\n",
       "                              sum     3950.000000   72006.000000  19014.000000\n",
       "                              mean       0.125764       0.555045      0.620217"
      ]
     },
     "execution_count": 165,
     "metadata": {},
     "output_type": "execute_result"
    }
   ],
   "source": [
    "# 10 predictions stats (check TEST set)\n",
    "new_df.groupby('split')[PREDICTIONS].agg(['count','sum','mean']).T"
   ]
  },
  {
   "cell_type": "markdown",
   "metadata": {
    "id": "yz8_TghASXi7"
   },
   "source": [
    "# 3) Trading Simulations\n",
    "\n",
    "* create simulation 1 features: like \"sim1_pred0\" ... \"sim1_pred10\""
   ]
  },
  {
   "cell_type": "markdown",
   "metadata": {
    "id": "cpNQJ6F1SfJA"
   },
   "source": [
    "## 3.1) Investing $100 on every positive prediction\n",
    "* fees = 0.1% for each buy and sell operation ==> 0.2% for buy+sell operation"
   ]
  },
  {
   "cell_type": "markdown",
   "metadata": {
    "id": "YBoBEskwHEY3"
   },
   "source": [
    "### [Code Snippet 7] 3.1.1 Calculate fin. result from simulations for one predictor 'pred6_clf_best'"
   ]
  },
  {
   "cell_type": "code",
   "execution_count": 166,
   "metadata": {
    "id": "ajXSaHPgSsUM"
   },
   "outputs": [],
   "source": [
    "# current prediction\n",
    "pred = 'pred6_clf_5'"
   ]
  },
  {
   "cell_type": "code",
   "execution_count": 167,
   "metadata": {
    "colab": {
     "base_uri": "https://localhost:8080/"
    },
    "id": "AVdpjklR7CRG",
    "outputId": "b25c59fa-4881-4ebc-b1be-9043614bb3d6"
   },
   "outputs": [
    {
     "data": {
      "text/plain": [
       "np.int64(31408)"
      ]
     },
     "execution_count": 167,
     "metadata": {},
     "output_type": "execute_result"
    }
   ],
   "source": [
    "# Total Number of Investment Opportunities\n",
    "new_df[new_df.split=='test'].Close_x.count()"
   ]
  },
  {
   "cell_type": "code",
   "execution_count": 168,
   "metadata": {
    "colab": {
     "base_uri": "https://localhost:8080/"
    },
    "id": "UtEYl_UR6soT",
    "outputId": "f43fb980-e3d6-4d16-ed55-9a861e450729"
   },
   "outputs": [
    {
     "data": {
      "text/plain": [
       "991"
      ]
     },
     "execution_count": 168,
     "metadata": {},
     "output_type": "execute_result"
    }
   ],
   "source": [
    "# Total Number of Days (~4 years of trading)\n",
    "new_df[new_df.split=='test'].Date.nunique()"
   ]
  },
  {
   "cell_type": "code",
   "execution_count": 169,
   "metadata": {
    "colab": {
     "base_uri": "https://localhost:8080/"
    },
    "id": "1syFdZ3d8hwu",
    "outputId": "9839a486-6089-49e9-cdd1-4ffbf649a31c"
   },
   "outputs": [
    {
     "data": {
      "text/plain": [
       "['growth_future_30d', 'is_positive_growth_30d_future']"
      ]
     },
     "execution_count": 169,
     "metadata": {},
     "output_type": "execute_result"
    }
   ],
   "source": [
    "# check actual future growth with 'growth_future_5d', correctness of the prediction with 'is_positive_growth_5d_future'\n",
    "TO_PREDICT"
   ]
  },
  {
   "cell_type": "code",
   "execution_count": 170,
   "metadata": {
    "colab": {
     "base_uri": "https://localhost:8080/",
     "height": 363
    },
    "id": "TE0sYc5I8ZqE",
    "outputId": "5684cbc1-65f7-40c1-d152-4681c15f2c8e"
   },
   "outputs": [
    {
     "data": {
      "text/html": [
       "<div>\n",
       "<style scoped>\n",
       "    .dataframe tbody tr th:only-of-type {\n",
       "        vertical-align: middle;\n",
       "    }\n",
       "\n",
       "    .dataframe tbody tr th {\n",
       "        vertical-align: top;\n",
       "    }\n",
       "\n",
       "    .dataframe thead th {\n",
       "        text-align: right;\n",
       "    }\n",
       "</style>\n",
       "<table border=\"1\" class=\"dataframe\">\n",
       "  <thead>\n",
       "    <tr style=\"text-align: right;\">\n",
       "      <th></th>\n",
       "      <th>growth_future_30d</th>\n",
       "      <th>is_positive_growth_30d_future</th>\n",
       "      <th>pred6_clf_5</th>\n",
       "    </tr>\n",
       "  </thead>\n",
       "  <tbody>\n",
       "    <tr>\n",
       "      <th>3000</th>\n",
       "      <td>1.648793</td>\n",
       "      <td>1</td>\n",
       "      <td>1</td>\n",
       "    </tr>\n",
       "    <tr>\n",
       "      <th>9726</th>\n",
       "      <td>1.043885</td>\n",
       "      <td>1</td>\n",
       "      <td>1</td>\n",
       "    </tr>\n",
       "    <tr>\n",
       "      <th>9566</th>\n",
       "      <td>0.976190</td>\n",
       "      <td>0</td>\n",
       "      <td>0</td>\n",
       "    </tr>\n",
       "    <tr>\n",
       "      <th>8480</th>\n",
       "      <td>0.997150</td>\n",
       "      <td>0</td>\n",
       "      <td>1</td>\n",
       "    </tr>\n",
       "    <tr>\n",
       "      <th>1000</th>\n",
       "      <td>1.020422</td>\n",
       "      <td>1</td>\n",
       "      <td>0</td>\n",
       "    </tr>\n",
       "    <tr>\n",
       "      <th>6170</th>\n",
       "      <td>0.839751</td>\n",
       "      <td>0</td>\n",
       "      <td>1</td>\n",
       "    </tr>\n",
       "    <tr>\n",
       "      <th>3366</th>\n",
       "      <td>1.028165</td>\n",
       "      <td>1</td>\n",
       "      <td>0</td>\n",
       "    </tr>\n",
       "    <tr>\n",
       "      <th>4127</th>\n",
       "      <td>0.973583</td>\n",
       "      <td>0</td>\n",
       "      <td>1</td>\n",
       "    </tr>\n",
       "    <tr>\n",
       "      <th>4630</th>\n",
       "      <td>0.910370</td>\n",
       "      <td>0</td>\n",
       "      <td>1</td>\n",
       "    </tr>\n",
       "    <tr>\n",
       "      <th>3688</th>\n",
       "      <td>1.042990</td>\n",
       "      <td>1</td>\n",
       "      <td>1</td>\n",
       "    </tr>\n",
       "  </tbody>\n",
       "</table>\n",
       "</div>"
      ],
      "text/plain": [
       "      growth_future_30d  is_positive_growth_30d_future  pred6_clf_5\n",
       "3000           1.648793                              1            1\n",
       "9726           1.043885                              1            1\n",
       "9566           0.976190                              0            0\n",
       "8480           0.997150                              0            1\n",
       "1000           1.020422                              1            0\n",
       "6170           0.839751                              0            1\n",
       "3366           1.028165                              1            0\n",
       "4127           0.973583                              0            1\n",
       "4630           0.910370                              0            1\n",
       "3688           1.042990                              1            1"
      ]
     },
     "execution_count": 170,
     "metadata": {},
     "output_type": "execute_result"
    }
   ],
   "source": [
    "# SAMPLE: compare the predictions from pred6_clf_best to real is_positive_growth_30d_future\n",
    "new_df[['growth_future_30d','is_positive_growth_30d_future',pred]].sample(10)"
   ]
  },
  {
   "cell_type": "code",
   "execution_count": 171,
   "metadata": {
    "id": "yaYNg1cX6P7N"
   },
   "outputs": [],
   "source": [
    "# GROSS REVENUE: ONLY when current_prediction equals to 1: invest $100 into that stock (buy), and sell in 1week (sell)\n",
    "new_df['sim1_gross_rev_pred6'] = new_df[pred] * 100 * (new_df['growth_future_30d']-1)"
   ]
  },
  {
   "cell_type": "code",
   "execution_count": 172,
   "metadata": {
    "id": "uKlNszI489eJ"
   },
   "outputs": [],
   "source": [
    "# FEES: 0.1% for each operation , 0.2% for buy+sell ONLY when current_prediction equals to one\n",
    "new_df['sim1_fees_pred6'] = -new_df[pred] * 100 * 0.002"
   ]
  },
  {
   "cell_type": "code",
   "execution_count": 173,
   "metadata": {
    "id": "7SYGDOx59GZn"
   },
   "outputs": [],
   "source": [
    "# NET REVENUE: GROSS_REVENUE + FEES\n",
    "new_df['sim1_net_rev_pred6'] = new_df['sim1_gross_rev_pred6'] + new_df['sim1_fees_pred6']"
   ]
  },
  {
   "cell_type": "code",
   "execution_count": 174,
   "metadata": {
    "colab": {
     "base_uri": "https://localhost:8080/",
     "height": 363
    },
    "id": "OpPvApBg9Ng1",
    "outputId": "715fe2c1-8ea0-4ce8-ba86-54653f142867"
   },
   "outputs": [
    {
     "data": {
      "text/html": [
       "<div>\n",
       "<style scoped>\n",
       "    .dataframe tbody tr th:only-of-type {\n",
       "        vertical-align: middle;\n",
       "    }\n",
       "\n",
       "    .dataframe tbody tr th {\n",
       "        vertical-align: top;\n",
       "    }\n",
       "\n",
       "    .dataframe thead th {\n",
       "        text-align: right;\n",
       "    }\n",
       "</style>\n",
       "<table border=\"1\" class=\"dataframe\">\n",
       "  <thead>\n",
       "    <tr style=\"text-align: right;\">\n",
       "      <th></th>\n",
       "      <th>Date</th>\n",
       "      <th>Ticker</th>\n",
       "      <th>Close_x</th>\n",
       "      <th>growth_future_30d</th>\n",
       "      <th>is_positive_growth_30d_future</th>\n",
       "      <th>pred6_clf_5</th>\n",
       "      <th>sim1_gross_rev_pred6</th>\n",
       "      <th>sim1_fees_pred6</th>\n",
       "      <th>sim1_net_rev_pred6</th>\n",
       "    </tr>\n",
       "  </thead>\n",
       "  <tbody>\n",
       "    <tr>\n",
       "      <th>13208</th>\n",
       "      <td>2024-10-18</td>\n",
       "      <td>LLY</td>\n",
       "      <td>913.003906</td>\n",
       "      <td>0.872713</td>\n",
       "      <td>0</td>\n",
       "      <td>1</td>\n",
       "      <td>-12.728664</td>\n",
       "      <td>-0.2</td>\n",
       "      <td>-12.928664</td>\n",
       "    </tr>\n",
       "    <tr>\n",
       "      <th>5051</th>\n",
       "      <td>2022-10-25</td>\n",
       "      <td>LT.NS</td>\n",
       "      <td>1881.788574</td>\n",
       "      <td>1.112154</td>\n",
       "      <td>1</td>\n",
       "      <td>1</td>\n",
       "      <td>11.215422</td>\n",
       "      <td>-0.2</td>\n",
       "      <td>11.015422</td>\n",
       "    </tr>\n",
       "    <tr>\n",
       "      <th>2865</th>\n",
       "      <td>2023-10-09</td>\n",
       "      <td>META</td>\n",
       "      <td>316.866577</td>\n",
       "      <td>1.067879</td>\n",
       "      <td>1</td>\n",
       "      <td>1</td>\n",
       "      <td>6.787935</td>\n",
       "      <td>-0.2</td>\n",
       "      <td>6.587935</td>\n",
       "    </tr>\n",
       "    <tr>\n",
       "      <th>7354</th>\n",
       "      <td>2024-12-04</td>\n",
       "      <td>SAP</td>\n",
       "      <td>253.610001</td>\n",
       "      <td>1.061827</td>\n",
       "      <td>1</td>\n",
       "      <td>1</td>\n",
       "      <td>6.182725</td>\n",
       "      <td>-0.2</td>\n",
       "      <td>5.982725</td>\n",
       "    </tr>\n",
       "    <tr>\n",
       "      <th>6791</th>\n",
       "      <td>2023-05-09</td>\n",
       "      <td>SIE.DE</td>\n",
       "      <td>143.121231</td>\n",
       "      <td>1.072225</td>\n",
       "      <td>1</td>\n",
       "      <td>1</td>\n",
       "      <td>7.222520</td>\n",
       "      <td>-0.2</td>\n",
       "      <td>7.022520</td>\n",
       "    </tr>\n",
       "    <tr>\n",
       "      <th>6205</th>\n",
       "      <td>2024-02-20</td>\n",
       "      <td>OR.PA</td>\n",
       "      <td>429.105438</td>\n",
       "      <td>0.947813</td>\n",
       "      <td>0</td>\n",
       "      <td>1</td>\n",
       "      <td>-5.218660</td>\n",
       "      <td>-0.2</td>\n",
       "      <td>-5.418660</td>\n",
       "    </tr>\n",
       "    <tr>\n",
       "      <th>6668</th>\n",
       "      <td>2022-11-11</td>\n",
       "      <td>SIE.DE</td>\n",
       "      <td>113.167664</td>\n",
       "      <td>1.048450</td>\n",
       "      <td>1</td>\n",
       "      <td>1</td>\n",
       "      <td>4.845018</td>\n",
       "      <td>-0.2</td>\n",
       "      <td>4.645018</td>\n",
       "    </tr>\n",
       "    <tr>\n",
       "      <th>5291</th>\n",
       "      <td>2023-10-13</td>\n",
       "      <td>LT.NS</td>\n",
       "      <td>3037.176758</td>\n",
       "      <td>0.998107</td>\n",
       "      <td>0</td>\n",
       "      <td>1</td>\n",
       "      <td>-0.189345</td>\n",
       "      <td>-0.2</td>\n",
       "      <td>-0.389345</td>\n",
       "    </tr>\n",
       "    <tr>\n",
       "      <th>5571</th>\n",
       "      <td>2024-12-05</td>\n",
       "      <td>LT.NS</td>\n",
       "      <td>3796.145996</td>\n",
       "      <td>0.931385</td>\n",
       "      <td>0</td>\n",
       "      <td>1</td>\n",
       "      <td>-6.861458</td>\n",
       "      <td>-0.2</td>\n",
       "      <td>-7.061458</td>\n",
       "    </tr>\n",
       "    <tr>\n",
       "      <th>4915</th>\n",
       "      <td>2024-02-29</td>\n",
       "      <td>GOOG</td>\n",
       "      <td>138.954041</td>\n",
       "      <td>1.138861</td>\n",
       "      <td>1</td>\n",
       "      <td>1</td>\n",
       "      <td>13.886105</td>\n",
       "      <td>-0.2</td>\n",
       "      <td>13.686105</td>\n",
       "    </tr>\n",
       "  </tbody>\n",
       "</table>\n",
       "</div>"
      ],
      "text/plain": [
       "            Date  Ticker      Close_x  growth_future_30d  \\\n",
       "13208 2024-10-18     LLY   913.003906           0.872713   \n",
       "5051  2022-10-25   LT.NS  1881.788574           1.112154   \n",
       "2865  2023-10-09    META   316.866577           1.067879   \n",
       "7354  2024-12-04     SAP   253.610001           1.061827   \n",
       "6791  2023-05-09  SIE.DE   143.121231           1.072225   \n",
       "6205  2024-02-20   OR.PA   429.105438           0.947813   \n",
       "6668  2022-11-11  SIE.DE   113.167664           1.048450   \n",
       "5291  2023-10-13   LT.NS  3037.176758           0.998107   \n",
       "5571  2024-12-05   LT.NS  3796.145996           0.931385   \n",
       "4915  2024-02-29    GOOG   138.954041           1.138861   \n",
       "\n",
       "       is_positive_growth_30d_future  pred6_clf_5  sim1_gross_rev_pred6  \\\n",
       "13208                              0            1            -12.728664   \n",
       "5051                               1            1             11.215422   \n",
       "2865                               1            1              6.787935   \n",
       "7354                               1            1              6.182725   \n",
       "6791                               1            1              7.222520   \n",
       "6205                               0            1             -5.218660   \n",
       "6668                               1            1              4.845018   \n",
       "5291                               0            1             -0.189345   \n",
       "5571                               0            1             -6.861458   \n",
       "4915                               1            1             13.886105   \n",
       "\n",
       "       sim1_fees_pred6  sim1_net_rev_pred6  \n",
       "13208             -0.2          -12.928664  \n",
       "5051              -0.2           11.015422  \n",
       "2865              -0.2            6.587935  \n",
       "7354              -0.2            5.982725  \n",
       "6791              -0.2            7.022520  \n",
       "6205              -0.2           -5.418660  \n",
       "6668              -0.2            4.645018  \n",
       "5291              -0.2           -0.389345  \n",
       "5571              -0.2           -7.061458  \n",
       "4915              -0.2           13.686105  "
      ]
     },
     "execution_count": 174,
     "metadata": {},
     "output_type": "execute_result"
    }
   ],
   "source": [
    "# sample results\n",
    "COLUMNS_FIN_RESULT = ['Date','Ticker','Close_x']+TO_PREDICT+ [pred,  'sim1_gross_rev_pred6','sim1_fees_pred6','sim1_net_rev_pred6']\n",
    "new_df[(new_df.split=='test')&(new_df[pred]==1)][COLUMNS_FIN_RESULT].sample(10)"
   ]
  },
  {
   "cell_type": "code",
   "execution_count": 175,
   "metadata": {
    "colab": {
     "base_uri": "https://localhost:8080/"
    },
    "id": "cYx3iyZ_6a8T",
    "outputId": "c266e970-5692-400d-82ce-7e4424ac4ec5"
   },
   "outputs": [
    {
     "name": "stdout",
     "output_type": "stream",
     "text": [
      "33.0\n"
     ]
    }
   ],
   "source": [
    "# DAILY INVESTMENTS\n",
    "filter_test_and_positive_pred = (new_df.split=='test')&(new_df[pred]==1)\n",
    "df_investments_count_daily = pd.DataFrame(new_df[filter_test_and_positive_pred].groupby('Date')[pred].count())\n",
    "sim1_avg_investments_per_day = df_investments_count_daily[pred].quantile(0.75)  # 75% case - how many $100 investments per day do we have?\n",
    "print(sim1_avg_investments_per_day)"
   ]
  },
  {
   "cell_type": "code",
   "execution_count": 176,
   "metadata": {
    "colab": {
     "base_uri": "https://localhost:8080/",
     "height": 81
    },
    "id": "6mXQiHFo7Vb8",
    "outputId": "a0651bc0-9de1-4fd5-be42-5ed28c7fbed6"
   },
   "outputs": [
    {
     "data": {
      "text/html": [
       "<div>\n",
       "<style scoped>\n",
       "    .dataframe tbody tr th:only-of-type {\n",
       "        vertical-align: middle;\n",
       "    }\n",
       "\n",
       "    .dataframe tbody tr th {\n",
       "        vertical-align: top;\n",
       "    }\n",
       "\n",
       "    .dataframe thead th {\n",
       "        text-align: right;\n",
       "    }\n",
       "</style>\n",
       "<table border=\"1\" class=\"dataframe\">\n",
       "  <thead>\n",
       "    <tr style=\"text-align: right;\">\n",
       "      <th></th>\n",
       "      <th>count</th>\n",
       "      <th>mean</th>\n",
       "      <th>std</th>\n",
       "      <th>min</th>\n",
       "      <th>25%</th>\n",
       "      <th>50%</th>\n",
       "      <th>75%</th>\n",
       "      <th>max</th>\n",
       "    </tr>\n",
       "  </thead>\n",
       "  <tbody>\n",
       "    <tr>\n",
       "      <th>pred6_clf_5</th>\n",
       "      <td>585.0</td>\n",
       "      <td>31.54188</td>\n",
       "      <td>4.708493</td>\n",
       "      <td>8.0</td>\n",
       "      <td>33.0</td>\n",
       "      <td>33.0</td>\n",
       "      <td>33.0</td>\n",
       "      <td>33.0</td>\n",
       "    </tr>\n",
       "  </tbody>\n",
       "</table>\n",
       "</div>"
      ],
      "text/plain": [
       "             count      mean       std  min   25%   50%   75%   max\n",
       "pred6_clf_5  585.0  31.54188  4.708493  8.0  33.0  33.0  33.0  33.0"
      ]
     },
     "execution_count": 176,
     "metadata": {},
     "output_type": "execute_result"
    }
   ],
   "source": [
    "# how many times do we invest daily (a lot)\n",
    "df_investments_count_daily.describe().T"
   ]
  },
  {
   "cell_type": "code",
   "execution_count": 177,
   "metadata": {
    "colab": {
     "base_uri": "https://localhost:8080/",
     "height": 178
    },
    "id": "z6eRBjQY-g4w",
    "outputId": "2cd92b92-94a3-4894-d43e-9db6abb712d2"
   },
   "outputs": [
    {
     "data": {
      "text/plain": [
       "sim1_gross_rev_pred6    66649.328987\n",
       "sim1_fees_pred6         -3690.400000\n",
       "sim1_net_rev_pred6      62985.328987\n",
       "dtype: float64"
      ]
     },
     "execution_count": 177,
     "metadata": {},
     "output_type": "execute_result"
    }
   ],
   "source": [
    "new_df[(new_df.split=='test')&(new_df[pred]==1)][['sim1_gross_rev_pred6','sim1_fees_pred6','sim1_net_rev_pred6']].sum()"
   ]
  },
  {
   "cell_type": "markdown",
   "metadata": {
    "id": "STsufLiqHOnV"
   },
   "source": [
    "### 3.1.2 Calculate fin. results for all fields\n",
    "* Simplified and approximate calculation"
   ]
  },
  {
   "cell_type": "code",
   "execution_count": 178,
   "metadata": {
    "colab": {
     "base_uri": "https://localhost:8080/"
    },
    "id": "sruo7fcBGU1h",
    "outputId": "6ac3dec3-240d-4580-ea7b-910366c85de3"
   },
   "outputs": [
    {
     "name": "stdout",
     "output_type": "stream",
     "text": [
      "Calculating sumulation for prediction pred0_manual_cci:\n",
      "    Count times of investment 794 out of 31408 TEST records\n",
      "    Financial Result: \n",
      " sim1_gross_rev_pred0    1613.043262\n",
      "sim1_fees_pred0         -158.800000\n",
      "sim1_net_rev_pred0      1459.643262\n",
      "dtype: float64\n",
      "        Count Investments in 4 years (on TEST): 794\n",
      "        Gross Revenue: $1613\n",
      "        Fees (0.2% for buy+sell): $158\n",
      "        Net Revenue: $1459\n",
      "        Fees are 9 % from Gross Revenue\n",
      "        Capital Required : $6000 (Vbegin)\n",
      "        Final value (Vbegin + Net_revenue) : $7459 (Vfinal)\n",
      "        Average CAGR on TEST (4 years) : 1.056, or 5.6% \n",
      "        Average daily stats: \n",
      "            Average net revenue per investment: $1.84 \n",
      "            Average investments per day: 2 \n",
      "            Q75 investments per day: 2 \n",
      "=============================================+\n",
      "Calculating sumulation for prediction pred1_manual_prev_g1:\n",
      "    Count times of investment 17991 out of 31408 TEST records\n",
      "    Financial Result: \n",
      " sim1_gross_rev_pred1    29618.243475\n",
      "sim1_fees_pred1         -3598.200000\n",
      "sim1_net_rev_pred1      26167.843475\n",
      "dtype: float64\n",
      "        Count Investments in 4 years (on TEST): 17991\n",
      "        Gross Revenue: $29618\n",
      "        Fees (0.2% for buy+sell): $3598\n",
      "        Net Revenue: $26167\n",
      "        Fees are 12 % from Gross Revenue\n",
      "        Capital Required : $75000 (Vbegin)\n",
      "        Final value (Vbegin + Net_revenue) : $101167 (Vfinal)\n",
      "        Average CAGR on TEST (4 years) : 1.078, or 7.8% \n",
      "        Average daily stats: \n",
      "            Average net revenue per investment: $1.45 \n",
      "            Average investments per day: 18 \n",
      "            Q75 investments per day: 25 \n",
      "=============================================+\n",
      "Calculating sumulation for prediction pred2_manual_prev_g1_and_snp:\n",
      "    Count times of investment 13367 out of 31408 TEST records\n",
      "    Financial Result: \n",
      " sim1_gross_rev_pred2    17019.666162\n",
      "sim1_fees_pred2         -2673.400000\n",
      "sim1_net_rev_pred2      14475.066162\n",
      "dtype: float64\n",
      "        Count Investments in 4 years (on TEST): 13367\n",
      "        Gross Revenue: $17019\n",
      "        Fees (0.2% for buy+sell): $2673\n",
      "        Net Revenue: $14475\n",
      "        Fees are 15 % from Gross Revenue\n",
      "        Capital Required : $81000 (Vbegin)\n",
      "        Final value (Vbegin + Net_revenue) : $95475 (Vfinal)\n",
      "        Average CAGR on TEST (4 years) : 1.042, or 4.2% \n",
      "        Average daily stats: \n",
      "            Average net revenue per investment: $1.08 \n",
      "            Average investments per day: 23 \n",
      "            Q75 investments per day: 27 \n",
      "=============================================+\n",
      "Calculating sumulation for prediction pred3_manual_dgs10_5:\n",
      "    Count times of investment 997 out of 31408 TEST records\n",
      "    Financial Result: \n",
      " sim1_gross_rev_pred3    2845.843984\n",
      "sim1_fees_pred3         -199.400000\n",
      "sim1_net_rev_pred3      2646.443984\n",
      "dtype: float64\n",
      "        Count Investments in 4 years (on TEST): 997\n",
      "        Gross Revenue: $2845\n",
      "        Fees (0.2% for buy+sell): $199\n",
      "        Net Revenue: $2646\n",
      "        Fees are 7 % from Gross Revenue\n",
      "        Capital Required : $96000 (Vbegin)\n",
      "        Final value (Vbegin + Net_revenue) : $98646 (Vfinal)\n",
      "        Average CAGR on TEST (4 years) : 1.007, or 0.7% \n",
      "        Average daily stats: \n",
      "            Average net revenue per investment: $2.65 \n",
      "            Average investments per day: 31 \n",
      "            Q75 investments per day: 32 \n",
      "=============================================+\n",
      "Calculating sumulation for prediction pred4_manual_dgs10_fedfunds:\n",
      "    Count times of investment 5660 out of 31408 TEST records\n",
      "    Financial Result: \n",
      " sim1_gross_rev_pred4    8594.81419\n",
      "sim1_fees_pred4        -1132.00000\n",
      "sim1_net_rev_pred4      7660.81419\n",
      "dtype: float64\n",
      "        Count Investments in 4 years (on TEST): 5660\n",
      "        Gross Revenue: $8594\n",
      "        Fees (0.2% for buy+sell): $1132\n",
      "        Net Revenue: $7660\n",
      "        Fees are 13 % from Gross Revenue\n",
      "        Capital Required : $99000 (Vbegin)\n",
      "        Final value (Vbegin + Net_revenue) : $106660 (Vfinal)\n",
      "        Average CAGR on TEST (4 years) : 1.019, or 1.9% \n",
      "        Average daily stats: \n",
      "            Average net revenue per investment: $1.35 \n",
      "            Average investments per day: 32 \n",
      "            Q75 investments per day: 33 \n",
      "=============================================+\n",
      "Calculating sumulation for prediction pred5_clf_10:\n",
      "    Count times of investment 18637 out of 31408 TEST records\n",
      "    Financial Result: \n",
      " sim1_gross_rev_pred5    50115.204519\n",
      "sim1_fees_pred5         -3727.400000\n",
      "sim1_net_rev_pred5      46462.404519\n",
      "dtype: float64\n",
      "        Count Investments in 4 years (on TEST): 18637\n",
      "        Gross Revenue: $50115\n",
      "        Fees (0.2% for buy+sell): $3727\n",
      "        Net Revenue: $46462\n",
      "        Fees are 7 % from Gross Revenue\n",
      "        Capital Required : $90000 (Vbegin)\n",
      "        Final value (Vbegin + Net_revenue) : $136462 (Vfinal)\n",
      "        Average CAGR on TEST (4 years) : 1.11, or 11.0% \n",
      "        Average daily stats: \n",
      "            Average net revenue per investment: $2.49 \n",
      "            Average investments per day: 19 \n",
      "            Q75 investments per day: 30 \n",
      "=============================================+\n",
      "Calculating sumulation for prediction pred6_clf_5:\n",
      "    Count times of investment 18452 out of 31408 TEST records\n",
      "    Financial Result: \n",
      " sim1_gross_rev_pred6    66649.328987\n",
      "sim1_fees_pred6         -3690.400000\n",
      "sim1_net_rev_pred6      62985.328987\n",
      "dtype: float64\n",
      "        Count Investments in 4 years (on TEST): 18452\n",
      "        Gross Revenue: $66649\n",
      "        Fees (0.2% for buy+sell): $3690\n",
      "        Net Revenue: $62985\n",
      "        Fees are 5 % from Gross Revenue\n",
      "        Capital Required : $99000 (Vbegin)\n",
      "        Final value (Vbegin + Net_revenue) : $161985 (Vfinal)\n",
      "        Average CAGR on TEST (4 years) : 1.131, or 13.1% \n",
      "        Average daily stats: \n",
      "            Average net revenue per investment: $3.41 \n",
      "            Average investments per day: 32 \n",
      "            Q75 investments per day: 33 \n",
      "=============================================+\n",
      "Calculating sumulation for prediction pred7_clf_second_best:\n",
      "    Count times of investment 18879 out of 31408 TEST records\n",
      "    Financial Result: \n",
      " sim1_gross_rev_pred7    52059.311409\n",
      "sim1_fees_pred7         -3775.800000\n",
      "sim1_net_rev_pred7      48369.511409\n",
      "dtype: float64\n",
      "        Count Investments in 4 years (on TEST): 18879\n",
      "        Gross Revenue: $52059\n",
      "        Fees (0.2% for buy+sell): $3775\n",
      "        Net Revenue: $48369\n",
      "        Fees are 7 % from Gross Revenue\n",
      "        Capital Required : $78000 (Vbegin)\n",
      "        Final value (Vbegin + Net_revenue) : $126369 (Vfinal)\n",
      "        Average CAGR on TEST (4 years) : 1.128, or 12.8% \n",
      "        Average daily stats: \n",
      "            Average net revenue per investment: $2.56 \n",
      "            Average investments per day: 19 \n",
      "            Q75 investments per day: 26 \n",
      "=============================================+\n",
      "Calculating sumulation for prediction pred8_clf_second_best_rule_84:\n",
      "    Count times of investment 16194 out of 31408 TEST records\n",
      "    Financial Result: \n",
      " sim1_gross_rev_pred8    50824.171338\n",
      "sim1_fees_pred8         -3238.800000\n",
      "sim1_net_rev_pred8      47661.371338\n",
      "dtype: float64\n",
      "        Count Investments in 4 years (on TEST): 16194\n",
      "        Gross Revenue: $50824\n",
      "        Fees (0.2% for buy+sell): $3238\n",
      "        Net Revenue: $47661\n",
      "        Fees are 6 % from Gross Revenue\n",
      "        Capital Required : $66000 (Vbegin)\n",
      "        Final value (Vbegin + Net_revenue) : $113661 (Vfinal)\n",
      "        Average CAGR on TEST (4 years) : 1.146, or 14.6% \n",
      "        Average daily stats: \n",
      "            Average net revenue per investment: $2.94 \n",
      "            Average investments per day: 16 \n",
      "            Q75 investments per day: 22 \n",
      "=============================================+\n",
      "Calculating sumulation for prediction pred9_clf_second_best_rule_92:\n",
      "    Count times of investment 14312 out of 31408 TEST records\n",
      "    Financial Result: \n",
      " sim1_gross_rev_pred9    48035.212554\n",
      "sim1_fees_pred9         -2862.400000\n",
      "sim1_net_rev_pred9      45248.012554\n",
      "dtype: float64\n",
      "        Count Investments in 4 years (on TEST): 14312\n",
      "        Gross Revenue: $48035\n",
      "        Fees (0.2% for buy+sell): $2862\n",
      "        Net Revenue: $45248\n",
      "        Fees are 5 % from Gross Revenue\n",
      "        Capital Required : $60000 (Vbegin)\n",
      "        Final value (Vbegin + Net_revenue) : $105248 (Vfinal)\n",
      "        Average CAGR on TEST (4 years) : 1.151, or 15.1% \n",
      "        Average daily stats: \n",
      "            Average net revenue per investment: $3.16 \n",
      "            Average investments per day: 15 \n",
      "            Q75 investments per day: 20 \n",
      "=============================================+\n",
      "Calculating sumulation for prediction pred10_rf_best_rule_55:\n",
      "    Count times of investment 16470 out of 31408 TEST records\n",
      "    Financial Result: \n",
      " sim1_gross_rev_pred10    35436.443271\n",
      "sim1_fees_pred10         -3294.000000\n",
      "sim1_net_rev_pred10      32194.443271\n",
      "dtype: float64\n",
      "        Count Investments in 4 years (on TEST): 16470\n",
      "        Gross Revenue: $35436\n",
      "        Fees (0.2% for buy+sell): $3294\n",
      "        Net Revenue: $32194\n",
      "        Fees are 9 % from Gross Revenue\n",
      "        Capital Required : $69000 (Vbegin)\n",
      "        Final value (Vbegin + Net_revenue) : $101194 (Vfinal)\n",
      "        Average CAGR on TEST (4 years) : 1.1, or 10.0% \n",
      "        Average daily stats: \n",
      "            Average net revenue per investment: $1.95 \n",
      "            Average investments per day: 17 \n",
      "            Q75 investments per day: 23 \n",
      "=============================================+\n",
      "Calculating sumulation for prediction pred11_rf_best_rule_65:\n",
      "    Count times of investment 3950 out of 31408 TEST records\n",
      "    Financial Result: \n",
      " sim1_gross_rev_pred11    10966.549667\n",
      "sim1_fees_pred11          -790.000000\n",
      "sim1_net_rev_pred11      10178.549667\n",
      "dtype: float64\n",
      "        Count Investments in 4 years (on TEST): 3950\n",
      "        Gross Revenue: $10966\n",
      "        Fees (0.2% for buy+sell): $790\n",
      "        Net Revenue: $10178\n",
      "        Fees are 7 % from Gross Revenue\n",
      "        Capital Required : $21000 (Vbegin)\n",
      "        Final value (Vbegin + Net_revenue) : $31178 (Vfinal)\n",
      "        Average CAGR on TEST (4 years) : 1.104, or 10.4% \n",
      "        Average daily stats: \n",
      "            Average net revenue per investment: $2.58 \n",
      "            Average investments per day: 5 \n",
      "            Q75 investments per day: 7 \n",
      "=============================================+\n"
     ]
    }
   ],
   "source": [
    "# Calculate fin. result for ALL predictions (manual and produced by models)\n",
    "\n",
    "sim1_results = [] # results in Array\n",
    "\n",
    "# Iterate over all predictions\n",
    "for pred in PREDICTIONS:\n",
    "  print(f'Calculating sumulation for prediction {pred}:')\n",
    "  print(f\"    Count times of investment {len(new_df[(new_df.split=='test')&(new_df[pred]==1)])} out of {len(new_df[(new_df.split=='test')])} TEST records\")\n",
    "\n",
    "  # Prefix: e.g. pred1 or pred10\n",
    "  pred_prefix= pred.split('_')[0]\n",
    "\n",
    "  # Fin. result columns: define new records for EACH positive prediction\n",
    "  new_df['sim1_gross_rev_'+pred_prefix] = new_df[pred] * 100 * (new_df['growth_future_30d']-1)\n",
    "  new_df['sim1_fees_'+pred_prefix] = -new_df[pred] * 100 * 0.002\n",
    "  new_df['sim1_net_rev_'+pred_prefix] = new_df['sim1_gross_rev_'+pred_prefix] + new_df['sim1_fees_'+pred_prefix]\n",
    "\n",
    "  # calculate agg. results for each PREDICTION columns (pred) on TEST\n",
    "  filter_test_and_positive_pred = (new_df.split=='test')&(new_df[pred]==1) # filter records on TEST set, when current prediction is 1 (we invest $100 for 1 week ahead - 5 periods)\n",
    "  sim1_count_investments = len(new_df[filter_test_and_positive_pred])\n",
    "  sim1_gross_rev = new_df[filter_test_and_positive_pred]['sim1_gross_rev_'+pred_prefix].sum()\n",
    "  sim1_fees = new_df[filter_test_and_positive_pred]['sim1_fees_'+pred_prefix].sum()\n",
    "  sim1_net_rev = new_df[filter_test_and_positive_pred]['sim1_net_rev_'+pred_prefix].sum()\n",
    "\n",
    "  if sim1_gross_rev>0:\n",
    "    sim1_fees_percentage = -sim1_fees/sim1_gross_rev\n",
    "  else:\n",
    "    sim1_fees_percentage = None\n",
    "\n",
    "  if sim1_count_investments>0:\n",
    "    sim1_average_net_revenue = sim1_net_rev/sim1_count_investments\n",
    "  else:\n",
    "    sim1_average_net_revenue = None\n",
    "\n",
    "  # APPROXIMATE CAPITAL REQUIRED and CAGR Calculation\n",
    "  df_investments_count_daily = pd.DataFrame(new_df[filter_test_and_positive_pred].groupby('Date')[pred].count())\n",
    "  sim1_avg_investments_per_day = df_investments_count_daily[pred].mean()\n",
    "  sim1_q75_investments_per_day = df_investments_count_daily[pred].quantile(0.75)  # 75% case - how many $100 investments per day do we have?\n",
    "  # df_investments_count_daily[pred].mean()\n",
    "  sim1_capital = 100 * 30 * sim1_q75_investments_per_day # 30 (trading) days  in a row with positive predictions\n",
    "  # CAGR: average growth per year. E.g. if you have 1.5 return (50% growth in 4 years) --> (1.5)**(1/4) = 1.106 or 10.6% average\n",
    "  sim1_CAGR = ((sim1_capital+sim1_net_rev)/sim1_capital)**(1/4)\n",
    "\n",
    "  # append to DF\n",
    "  sim1_results.append((pred,sim1_count_investments,sim1_gross_rev,sim1_fees,sim1_net_rev,sim1_fees_percentage,sim1_average_net_revenue,sim1_avg_investments_per_day,sim1_capital,sim1_CAGR))\n",
    "\n",
    "\n",
    "  # output for all predictions with some positive predictions\n",
    "  if  sim1_count_investments>1:\n",
    "    print(f\"    Financial Result: \\n {new_df[filter_test_and_positive_pred][['sim1_gross_rev_'+pred_prefix,'sim1_fees_'+pred_prefix,'sim1_net_rev_'+pred_prefix]].sum()}\")\n",
    "    print(f\"        Count Investments in 4 years (on TEST): {sim1_count_investments}\")\n",
    "    print(f\"        Gross Revenue: ${int(sim1_gross_rev)}\")\n",
    "    print(f\"        Fees (0.2% for buy+sell): ${int(-sim1_fees)}\")\n",
    "    print(f\"        Net Revenue: ${int(sim1_net_rev)}\")\n",
    "    print(f\"        Fees are {int(-100.0*sim1_fees/sim1_gross_rev)} % from Gross Revenue\")\n",
    "    print(f\"        Capital Required : ${int(sim1_capital)} (Vbegin)\")\n",
    "    print(f\"        Final value (Vbegin + Net_revenue) : ${int(sim1_capital + sim1_net_rev)} (Vfinal)\")\n",
    "\n",
    "    print(f\"        Average CAGR on TEST (4 years) : {np.round(sim1_CAGR,3)}, or {np.round(100.0*(sim1_CAGR-1),1)}% \")\n",
    "\n",
    "    print(f\"        Average daily stats: \")\n",
    "    print(f\"            Average net revenue per investment: ${np.round(sim1_net_rev/sim1_count_investments,2)} \")\n",
    "    print(f\"            Average investments per day: {int(np.round(sim1_avg_investments_per_day))} \")\n",
    "    print(f\"            Q75 investments per day: {int(np.round(sim1_q75_investments_per_day))} \")\n",
    "    print('=============================================+')\n",
    "\n",
    "\n",
    "# results in a DataFrame from an Array\n",
    "columns_simulation = ['prediction', 'sim1_count_investments', 'sim1_gross_rev', 'sim1_fees', 'sim1_net_rev', 'sim1_fees_percentage','sim1_average_net_revenue','sim1_avg_investments_per_day','sim1_capital','sim1_CAGR']\n",
    "\n",
    "df_sim1_results = pd.DataFrame(sim1_results,columns=columns_simulation)"
   ]
  },
  {
   "cell_type": "code",
   "execution_count": 179,
   "metadata": {
    "id": "wIcfGQuJH9Tj"
   },
   "outputs": [],
   "source": [
    "df_sim1_results['sim1_growth_capital_4y'] = (df_sim1_results.sim1_net_rev+df_sim1_results.sim1_capital) / df_sim1_results.sim1_capital"
   ]
  },
  {
   "cell_type": "code",
   "execution_count": 180,
   "metadata": {
    "colab": {
     "base_uri": "https://localhost:8080/",
     "height": 446
    },
    "id": "rHlE-s2yILaq",
    "outputId": "98c2f102-910e-452f-a2be-30d71f3bf567"
   },
   "outputs": [
    {
     "data": {
      "text/html": [
       "<div>\n",
       "<style scoped>\n",
       "    .dataframe tbody tr th:only-of-type {\n",
       "        vertical-align: middle;\n",
       "    }\n",
       "\n",
       "    .dataframe tbody tr th {\n",
       "        vertical-align: top;\n",
       "    }\n",
       "\n",
       "    .dataframe thead th {\n",
       "        text-align: right;\n",
       "    }\n",
       "</style>\n",
       "<table border=\"1\" class=\"dataframe\">\n",
       "  <thead>\n",
       "    <tr style=\"text-align: right;\">\n",
       "      <th></th>\n",
       "      <th>prediction</th>\n",
       "      <th>sim1_count_investments</th>\n",
       "      <th>sim1_gross_rev</th>\n",
       "      <th>sim1_fees</th>\n",
       "      <th>sim1_net_rev</th>\n",
       "      <th>sim1_fees_percentage</th>\n",
       "      <th>sim1_average_net_revenue</th>\n",
       "      <th>sim1_avg_investments_per_day</th>\n",
       "      <th>sim1_capital</th>\n",
       "      <th>sim1_CAGR</th>\n",
       "      <th>sim1_growth_capital_4y</th>\n",
       "    </tr>\n",
       "  </thead>\n",
       "  <tbody>\n",
       "    <tr>\n",
       "      <th>0</th>\n",
       "      <td>pred0_manual_cci</td>\n",
       "      <td>794</td>\n",
       "      <td>1613.043262</td>\n",
       "      <td>-158.8</td>\n",
       "      <td>1459.643262</td>\n",
       "      <td>0.098447</td>\n",
       "      <td>1.838342</td>\n",
       "      <td>1.850816</td>\n",
       "      <td>6000.0</td>\n",
       "      <td>1.055946</td>\n",
       "      <td>1.243274</td>\n",
       "    </tr>\n",
       "    <tr>\n",
       "      <th>1</th>\n",
       "      <td>pred1_manual_prev_g1</td>\n",
       "      <td>17991</td>\n",
       "      <td>29618.243475</td>\n",
       "      <td>-3598.2</td>\n",
       "      <td>26167.843475</td>\n",
       "      <td>0.121486</td>\n",
       "      <td>1.454496</td>\n",
       "      <td>18.154390</td>\n",
       "      <td>75000.0</td>\n",
       "      <td>1.077694</td>\n",
       "      <td>1.348905</td>\n",
       "    </tr>\n",
       "    <tr>\n",
       "      <th>2</th>\n",
       "      <td>pred2_manual_prev_g1_and_snp</td>\n",
       "      <td>13367</td>\n",
       "      <td>17019.666162</td>\n",
       "      <td>-2673.4</td>\n",
       "      <td>14475.066162</td>\n",
       "      <td>0.157077</td>\n",
       "      <td>1.082896</td>\n",
       "      <td>22.967354</td>\n",
       "      <td>81000.0</td>\n",
       "      <td>1.041960</td>\n",
       "      <td>1.178705</td>\n",
       "    </tr>\n",
       "    <tr>\n",
       "      <th>3</th>\n",
       "      <td>pred3_manual_dgs10_5</td>\n",
       "      <td>997</td>\n",
       "      <td>2845.843984</td>\n",
       "      <td>-199.4</td>\n",
       "      <td>2646.443984</td>\n",
       "      <td>0.070067</td>\n",
       "      <td>2.654407</td>\n",
       "      <td>31.156250</td>\n",
       "      <td>96000.0</td>\n",
       "      <td>1.006822</td>\n",
       "      <td>1.027567</td>\n",
       "    </tr>\n",
       "    <tr>\n",
       "      <th>4</th>\n",
       "      <td>pred4_manual_dgs10_fedfunds</td>\n",
       "      <td>5660</td>\n",
       "      <td>8594.814190</td>\n",
       "      <td>-1132.0</td>\n",
       "      <td>7660.814190</td>\n",
       "      <td>0.131707</td>\n",
       "      <td>1.353501</td>\n",
       "      <td>31.620112</td>\n",
       "      <td>99000.0</td>\n",
       "      <td>1.018808</td>\n",
       "      <td>1.077382</td>\n",
       "    </tr>\n",
       "    <tr>\n",
       "      <th>5</th>\n",
       "      <td>pred5_clf_10</td>\n",
       "      <td>18637</td>\n",
       "      <td>50115.204519</td>\n",
       "      <td>-3727.4</td>\n",
       "      <td>46462.404519</td>\n",
       "      <td>0.074377</td>\n",
       "      <td>2.493020</td>\n",
       "      <td>18.959308</td>\n",
       "      <td>90000.0</td>\n",
       "      <td>1.109667</td>\n",
       "      <td>1.516249</td>\n",
       "    </tr>\n",
       "    <tr>\n",
       "      <th>6</th>\n",
       "      <td>pred6_clf_5</td>\n",
       "      <td>18452</td>\n",
       "      <td>66649.328987</td>\n",
       "      <td>-3690.4</td>\n",
       "      <td>62985.328987</td>\n",
       "      <td>0.055370</td>\n",
       "      <td>3.413469</td>\n",
       "      <td>31.541880</td>\n",
       "      <td>99000.0</td>\n",
       "      <td>1.130994</td>\n",
       "      <td>1.636215</td>\n",
       "    </tr>\n",
       "    <tr>\n",
       "      <th>7</th>\n",
       "      <td>pred7_clf_second_best</td>\n",
       "      <td>18879</td>\n",
       "      <td>52059.311409</td>\n",
       "      <td>-3775.8</td>\n",
       "      <td>48369.511409</td>\n",
       "      <td>0.072529</td>\n",
       "      <td>2.562080</td>\n",
       "      <td>19.050454</td>\n",
       "      <td>78000.0</td>\n",
       "      <td>1.128202</td>\n",
       "      <td>1.620122</td>\n",
       "    </tr>\n",
       "    <tr>\n",
       "      <th>8</th>\n",
       "      <td>pred8_clf_second_best_rule_84</td>\n",
       "      <td>16194</td>\n",
       "      <td>50824.171338</td>\n",
       "      <td>-3238.8</td>\n",
       "      <td>47661.371338</td>\n",
       "      <td>0.063726</td>\n",
       "      <td>2.943150</td>\n",
       "      <td>16.390688</td>\n",
       "      <td>66000.0</td>\n",
       "      <td>1.145558</td>\n",
       "      <td>1.722142</td>\n",
       "    </tr>\n",
       "    <tr>\n",
       "      <th>9</th>\n",
       "      <td>pred9_clf_second_best_rule_92</td>\n",
       "      <td>14312</td>\n",
       "      <td>48035.212554</td>\n",
       "      <td>-2862.4</td>\n",
       "      <td>45248.012554</td>\n",
       "      <td>0.059590</td>\n",
       "      <td>3.161544</td>\n",
       "      <td>14.604082</td>\n",
       "      <td>60000.0</td>\n",
       "      <td>1.150842</td>\n",
       "      <td>1.754134</td>\n",
       "    </tr>\n",
       "    <tr>\n",
       "      <th>10</th>\n",
       "      <td>pred10_rf_best_rule_55</td>\n",
       "      <td>16470</td>\n",
       "      <td>35436.443271</td>\n",
       "      <td>-3294.0</td>\n",
       "      <td>32194.443271</td>\n",
       "      <td>0.092955</td>\n",
       "      <td>1.954732</td>\n",
       "      <td>16.670040</td>\n",
       "      <td>69000.0</td>\n",
       "      <td>1.100467</td>\n",
       "      <td>1.466586</td>\n",
       "    </tr>\n",
       "    <tr>\n",
       "      <th>11</th>\n",
       "      <td>pred11_rf_best_rule_65</td>\n",
       "      <td>3950</td>\n",
       "      <td>10966.549667</td>\n",
       "      <td>-790.0</td>\n",
       "      <td>10178.549667</td>\n",
       "      <td>0.072037</td>\n",
       "      <td>2.576848</td>\n",
       "      <td>5.123217</td>\n",
       "      <td>21000.0</td>\n",
       "      <td>1.103848</td>\n",
       "      <td>1.484693</td>\n",
       "    </tr>\n",
       "  </tbody>\n",
       "</table>\n",
       "</div>"
      ],
      "text/plain": [
       "                       prediction  sim1_count_investments  sim1_gross_rev  \\\n",
       "0                pred0_manual_cci                     794     1613.043262   \n",
       "1            pred1_manual_prev_g1                   17991    29618.243475   \n",
       "2    pred2_manual_prev_g1_and_snp                   13367    17019.666162   \n",
       "3            pred3_manual_dgs10_5                     997     2845.843984   \n",
       "4     pred4_manual_dgs10_fedfunds                    5660     8594.814190   \n",
       "5                    pred5_clf_10                   18637    50115.204519   \n",
       "6                     pred6_clf_5                   18452    66649.328987   \n",
       "7           pred7_clf_second_best                   18879    52059.311409   \n",
       "8   pred8_clf_second_best_rule_84                   16194    50824.171338   \n",
       "9   pred9_clf_second_best_rule_92                   14312    48035.212554   \n",
       "10         pred10_rf_best_rule_55                   16470    35436.443271   \n",
       "11         pred11_rf_best_rule_65                    3950    10966.549667   \n",
       "\n",
       "    sim1_fees  sim1_net_rev  sim1_fees_percentage  sim1_average_net_revenue  \\\n",
       "0      -158.8   1459.643262              0.098447                  1.838342   \n",
       "1     -3598.2  26167.843475              0.121486                  1.454496   \n",
       "2     -2673.4  14475.066162              0.157077                  1.082896   \n",
       "3      -199.4   2646.443984              0.070067                  2.654407   \n",
       "4     -1132.0   7660.814190              0.131707                  1.353501   \n",
       "5     -3727.4  46462.404519              0.074377                  2.493020   \n",
       "6     -3690.4  62985.328987              0.055370                  3.413469   \n",
       "7     -3775.8  48369.511409              0.072529                  2.562080   \n",
       "8     -3238.8  47661.371338              0.063726                  2.943150   \n",
       "9     -2862.4  45248.012554              0.059590                  3.161544   \n",
       "10    -3294.0  32194.443271              0.092955                  1.954732   \n",
       "11     -790.0  10178.549667              0.072037                  2.576848   \n",
       "\n",
       "    sim1_avg_investments_per_day  sim1_capital  sim1_CAGR  \\\n",
       "0                       1.850816        6000.0   1.055946   \n",
       "1                      18.154390       75000.0   1.077694   \n",
       "2                      22.967354       81000.0   1.041960   \n",
       "3                      31.156250       96000.0   1.006822   \n",
       "4                      31.620112       99000.0   1.018808   \n",
       "5                      18.959308       90000.0   1.109667   \n",
       "6                      31.541880       99000.0   1.130994   \n",
       "7                      19.050454       78000.0   1.128202   \n",
       "8                      16.390688       66000.0   1.145558   \n",
       "9                      14.604082       60000.0   1.150842   \n",
       "10                     16.670040       69000.0   1.100467   \n",
       "11                      5.123217       21000.0   1.103848   \n",
       "\n",
       "    sim1_growth_capital_4y  \n",
       "0                 1.243274  \n",
       "1                 1.348905  \n",
       "2                 1.178705  \n",
       "3                 1.027567  \n",
       "4                 1.077382  \n",
       "5                 1.516249  \n",
       "6                 1.636215  \n",
       "7                 1.620122  \n",
       "8                 1.722142  \n",
       "9                 1.754134  \n",
       "10                1.466586  \n",
       "11                1.484693  "
      ]
     },
     "execution_count": 180,
     "metadata": {},
     "output_type": "execute_result"
    }
   ],
   "source": [
    "# final comparison\n",
    "df_sim1_results"
   ]
  },
  {
   "cell_type": "code",
   "execution_count": 181,
   "metadata": {
    "colab": {
     "base_uri": "https://localhost:8080/",
     "height": 617
    },
    "id": "3H9sVT5rIM4N",
    "outputId": "3c3f3897-aa47-4e9b-ce49-a53de69eb405"
   },
   "outputs": [
    {
     "data": {
      "application/vnd.plotly.v1+json": {
       "config": {
        "plotlyServerURL": "https://plot.ly"
       },
       "data": [
        {
         "hovertemplate": "sim1_avg_investments_per_day=%{x}<br>sim1_CAGR=%{y}<br>sim1_growth_capital_4y=%{marker.size}<br>prediction=%{text}<extra></extra>",
         "legendgroup": "",
         "marker": {
          "color": "#636efa",
          "size": {
           "bdata": "AO4bJnPk8z/CpPH3HJX1P9k7dEX52/I/Pa+5Oepw8D/28h/e9DzxP484YD+OQvg/V0ToPvAt+j/p9gv8BOz5P84MYMLkjfs/GBZiVe4Q/D8dL70FI3f3P6213UdNwfc/",
           "dtype": "f8"
          },
          "sizemode": "area",
          "sizeref": 0.004385333856410809,
          "symbol": "circle"
         },
         "mode": "markers+text",
         "name": "",
         "orientation": "v",
         "showlegend": false,
         "text": [
          "pred0_manual_cci",
          "pred1_manual_prev_g1",
          "pred2_manual_prev_g1_and_snp",
          "pred3_manual_dgs10_5",
          "pred4_manual_dgs10_fedfunds",
          "pred5_clf_10",
          "pred6_clf_5",
          "pred7_clf_second_best",
          "pred8_clf_second_best_rule_84",
          "pred9_clf_second_best_rule_92",
          "pred10_rf_best_rule_55",
          "pred11_rf_best_rule_65"
         ],
         "textposition": "top center",
         "type": "scatter",
         "x": {
          "bdata": "icLiFPGc/T/CLhUShicyQCgGM4Kk9zZAAAAAAAAoP0BTInikv54/QNDujTmV9TJArLiKq7iKP0CQrByP6gwzQEDOTyUEZDBA57cQMEo1LUC4ovXFh6swQCx+LH4sfhRA",
          "dtype": "f8"
         },
         "xaxis": "x",
         "y": {
          "bdata": "uWZLnSfl8D8CHEunOz7xP7MoPLreq/A/UKSVB/Eb8D9u4XbPCU3wP2LYYxEywfE/BVT0rIwY8j/6a520HQ3yP77j3w41VPI/xYLAMNlp8j/3OXbwgpvxP+RCWTJcqfE/",
          "dtype": "f8"
         },
         "yaxis": "y"
        }
       ],
       "layout": {
        "height": 600,
        "legend": {
         "itemsizing": "constant",
         "tracegroupgap": 0
        },
        "template": {
         "data": {
          "bar": [
           {
            "error_x": {
             "color": "#2a3f5f"
            },
            "error_y": {
             "color": "#2a3f5f"
            },
            "marker": {
             "line": {
              "color": "#E5ECF6",
              "width": 0.5
             },
             "pattern": {
              "fillmode": "overlay",
              "size": 10,
              "solidity": 0.2
             }
            },
            "type": "bar"
           }
          ],
          "barpolar": [
           {
            "marker": {
             "line": {
              "color": "#E5ECF6",
              "width": 0.5
             },
             "pattern": {
              "fillmode": "overlay",
              "size": 10,
              "solidity": 0.2
             }
            },
            "type": "barpolar"
           }
          ],
          "carpet": [
           {
            "aaxis": {
             "endlinecolor": "#2a3f5f",
             "gridcolor": "white",
             "linecolor": "white",
             "minorgridcolor": "white",
             "startlinecolor": "#2a3f5f"
            },
            "baxis": {
             "endlinecolor": "#2a3f5f",
             "gridcolor": "white",
             "linecolor": "white",
             "minorgridcolor": "white",
             "startlinecolor": "#2a3f5f"
            },
            "type": "carpet"
           }
          ],
          "choropleth": [
           {
            "colorbar": {
             "outlinewidth": 0,
             "ticks": ""
            },
            "type": "choropleth"
           }
          ],
          "contour": [
           {
            "colorbar": {
             "outlinewidth": 0,
             "ticks": ""
            },
            "colorscale": [
             [
              0,
              "#0d0887"
             ],
             [
              0.1111111111111111,
              "#46039f"
             ],
             [
              0.2222222222222222,
              "#7201a8"
             ],
             [
              0.3333333333333333,
              "#9c179e"
             ],
             [
              0.4444444444444444,
              "#bd3786"
             ],
             [
              0.5555555555555556,
              "#d8576b"
             ],
             [
              0.6666666666666666,
              "#ed7953"
             ],
             [
              0.7777777777777778,
              "#fb9f3a"
             ],
             [
              0.8888888888888888,
              "#fdca26"
             ],
             [
              1,
              "#f0f921"
             ]
            ],
            "type": "contour"
           }
          ],
          "contourcarpet": [
           {
            "colorbar": {
             "outlinewidth": 0,
             "ticks": ""
            },
            "type": "contourcarpet"
           }
          ],
          "heatmap": [
           {
            "colorbar": {
             "outlinewidth": 0,
             "ticks": ""
            },
            "colorscale": [
             [
              0,
              "#0d0887"
             ],
             [
              0.1111111111111111,
              "#46039f"
             ],
             [
              0.2222222222222222,
              "#7201a8"
             ],
             [
              0.3333333333333333,
              "#9c179e"
             ],
             [
              0.4444444444444444,
              "#bd3786"
             ],
             [
              0.5555555555555556,
              "#d8576b"
             ],
             [
              0.6666666666666666,
              "#ed7953"
             ],
             [
              0.7777777777777778,
              "#fb9f3a"
             ],
             [
              0.8888888888888888,
              "#fdca26"
             ],
             [
              1,
              "#f0f921"
             ]
            ],
            "type": "heatmap"
           }
          ],
          "histogram": [
           {
            "marker": {
             "pattern": {
              "fillmode": "overlay",
              "size": 10,
              "solidity": 0.2
             }
            },
            "type": "histogram"
           }
          ],
          "histogram2d": [
           {
            "colorbar": {
             "outlinewidth": 0,
             "ticks": ""
            },
            "colorscale": [
             [
              0,
              "#0d0887"
             ],
             [
              0.1111111111111111,
              "#46039f"
             ],
             [
              0.2222222222222222,
              "#7201a8"
             ],
             [
              0.3333333333333333,
              "#9c179e"
             ],
             [
              0.4444444444444444,
              "#bd3786"
             ],
             [
              0.5555555555555556,
              "#d8576b"
             ],
             [
              0.6666666666666666,
              "#ed7953"
             ],
             [
              0.7777777777777778,
              "#fb9f3a"
             ],
             [
              0.8888888888888888,
              "#fdca26"
             ],
             [
              1,
              "#f0f921"
             ]
            ],
            "type": "histogram2d"
           }
          ],
          "histogram2dcontour": [
           {
            "colorbar": {
             "outlinewidth": 0,
             "ticks": ""
            },
            "colorscale": [
             [
              0,
              "#0d0887"
             ],
             [
              0.1111111111111111,
              "#46039f"
             ],
             [
              0.2222222222222222,
              "#7201a8"
             ],
             [
              0.3333333333333333,
              "#9c179e"
             ],
             [
              0.4444444444444444,
              "#bd3786"
             ],
             [
              0.5555555555555556,
              "#d8576b"
             ],
             [
              0.6666666666666666,
              "#ed7953"
             ],
             [
              0.7777777777777778,
              "#fb9f3a"
             ],
             [
              0.8888888888888888,
              "#fdca26"
             ],
             [
              1,
              "#f0f921"
             ]
            ],
            "type": "histogram2dcontour"
           }
          ],
          "mesh3d": [
           {
            "colorbar": {
             "outlinewidth": 0,
             "ticks": ""
            },
            "type": "mesh3d"
           }
          ],
          "parcoords": [
           {
            "line": {
             "colorbar": {
              "outlinewidth": 0,
              "ticks": ""
             }
            },
            "type": "parcoords"
           }
          ],
          "pie": [
           {
            "automargin": true,
            "type": "pie"
           }
          ],
          "scatter": [
           {
            "fillpattern": {
             "fillmode": "overlay",
             "size": 10,
             "solidity": 0.2
            },
            "type": "scatter"
           }
          ],
          "scatter3d": [
           {
            "line": {
             "colorbar": {
              "outlinewidth": 0,
              "ticks": ""
             }
            },
            "marker": {
             "colorbar": {
              "outlinewidth": 0,
              "ticks": ""
             }
            },
            "type": "scatter3d"
           }
          ],
          "scattercarpet": [
           {
            "marker": {
             "colorbar": {
              "outlinewidth": 0,
              "ticks": ""
             }
            },
            "type": "scattercarpet"
           }
          ],
          "scattergeo": [
           {
            "marker": {
             "colorbar": {
              "outlinewidth": 0,
              "ticks": ""
             }
            },
            "type": "scattergeo"
           }
          ],
          "scattergl": [
           {
            "marker": {
             "colorbar": {
              "outlinewidth": 0,
              "ticks": ""
             }
            },
            "type": "scattergl"
           }
          ],
          "scattermap": [
           {
            "marker": {
             "colorbar": {
              "outlinewidth": 0,
              "ticks": ""
             }
            },
            "type": "scattermap"
           }
          ],
          "scattermapbox": [
           {
            "marker": {
             "colorbar": {
              "outlinewidth": 0,
              "ticks": ""
             }
            },
            "type": "scattermapbox"
           }
          ],
          "scatterpolar": [
           {
            "marker": {
             "colorbar": {
              "outlinewidth": 0,
              "ticks": ""
             }
            },
            "type": "scatterpolar"
           }
          ],
          "scatterpolargl": [
           {
            "marker": {
             "colorbar": {
              "outlinewidth": 0,
              "ticks": ""
             }
            },
            "type": "scatterpolargl"
           }
          ],
          "scatterternary": [
           {
            "marker": {
             "colorbar": {
              "outlinewidth": 0,
              "ticks": ""
             }
            },
            "type": "scatterternary"
           }
          ],
          "surface": [
           {
            "colorbar": {
             "outlinewidth": 0,
             "ticks": ""
            },
            "colorscale": [
             [
              0,
              "#0d0887"
             ],
             [
              0.1111111111111111,
              "#46039f"
             ],
             [
              0.2222222222222222,
              "#7201a8"
             ],
             [
              0.3333333333333333,
              "#9c179e"
             ],
             [
              0.4444444444444444,
              "#bd3786"
             ],
             [
              0.5555555555555556,
              "#d8576b"
             ],
             [
              0.6666666666666666,
              "#ed7953"
             ],
             [
              0.7777777777777778,
              "#fb9f3a"
             ],
             [
              0.8888888888888888,
              "#fdca26"
             ],
             [
              1,
              "#f0f921"
             ]
            ],
            "type": "surface"
           }
          ],
          "table": [
           {
            "cells": {
             "fill": {
              "color": "#EBF0F8"
             },
             "line": {
              "color": "white"
             }
            },
            "header": {
             "fill": {
              "color": "#C8D4E3"
             },
             "line": {
              "color": "white"
             }
            },
            "type": "table"
           }
          ]
         },
         "layout": {
          "annotationdefaults": {
           "arrowcolor": "#2a3f5f",
           "arrowhead": 0,
           "arrowwidth": 1
          },
          "autotypenumbers": "strict",
          "coloraxis": {
           "colorbar": {
            "outlinewidth": 0,
            "ticks": ""
           }
          },
          "colorscale": {
           "diverging": [
            [
             0,
             "#8e0152"
            ],
            [
             0.1,
             "#c51b7d"
            ],
            [
             0.2,
             "#de77ae"
            ],
            [
             0.3,
             "#f1b6da"
            ],
            [
             0.4,
             "#fde0ef"
            ],
            [
             0.5,
             "#f7f7f7"
            ],
            [
             0.6,
             "#e6f5d0"
            ],
            [
             0.7,
             "#b8e186"
            ],
            [
             0.8,
             "#7fbc41"
            ],
            [
             0.9,
             "#4d9221"
            ],
            [
             1,
             "#276419"
            ]
           ],
           "sequential": [
            [
             0,
             "#0d0887"
            ],
            [
             0.1111111111111111,
             "#46039f"
            ],
            [
             0.2222222222222222,
             "#7201a8"
            ],
            [
             0.3333333333333333,
             "#9c179e"
            ],
            [
             0.4444444444444444,
             "#bd3786"
            ],
            [
             0.5555555555555556,
             "#d8576b"
            ],
            [
             0.6666666666666666,
             "#ed7953"
            ],
            [
             0.7777777777777778,
             "#fb9f3a"
            ],
            [
             0.8888888888888888,
             "#fdca26"
            ],
            [
             1,
             "#f0f921"
            ]
           ],
           "sequentialminus": [
            [
             0,
             "#0d0887"
            ],
            [
             0.1111111111111111,
             "#46039f"
            ],
            [
             0.2222222222222222,
             "#7201a8"
            ],
            [
             0.3333333333333333,
             "#9c179e"
            ],
            [
             0.4444444444444444,
             "#bd3786"
            ],
            [
             0.5555555555555556,
             "#d8576b"
            ],
            [
             0.6666666666666666,
             "#ed7953"
            ],
            [
             0.7777777777777778,
             "#fb9f3a"
            ],
            [
             0.8888888888888888,
             "#fdca26"
            ],
            [
             1,
             "#f0f921"
            ]
           ]
          },
          "colorway": [
           "#636efa",
           "#EF553B",
           "#00cc96",
           "#ab63fa",
           "#FFA15A",
           "#19d3f3",
           "#FF6692",
           "#B6E880",
           "#FF97FF",
           "#FECB52"
          ],
          "font": {
           "color": "#2a3f5f"
          },
          "geo": {
           "bgcolor": "white",
           "lakecolor": "white",
           "landcolor": "#E5ECF6",
           "showlakes": true,
           "showland": true,
           "subunitcolor": "white"
          },
          "hoverlabel": {
           "align": "left"
          },
          "hovermode": "closest",
          "mapbox": {
           "style": "light"
          },
          "paper_bgcolor": "white",
          "plot_bgcolor": "#E5ECF6",
          "polar": {
           "angularaxis": {
            "gridcolor": "white",
            "linecolor": "white",
            "ticks": ""
           },
           "bgcolor": "#E5ECF6",
           "radialaxis": {
            "gridcolor": "white",
            "linecolor": "white",
            "ticks": ""
           }
          },
          "scene": {
           "xaxis": {
            "backgroundcolor": "#E5ECF6",
            "gridcolor": "white",
            "gridwidth": 2,
            "linecolor": "white",
            "showbackground": true,
            "ticks": "",
            "zerolinecolor": "white"
           },
           "yaxis": {
            "backgroundcolor": "#E5ECF6",
            "gridcolor": "white",
            "gridwidth": 2,
            "linecolor": "white",
            "showbackground": true,
            "ticks": "",
            "zerolinecolor": "white"
           },
           "zaxis": {
            "backgroundcolor": "#E5ECF6",
            "gridcolor": "white",
            "gridwidth": 2,
            "linecolor": "white",
            "showbackground": true,
            "ticks": "",
            "zerolinecolor": "white"
           }
          },
          "shapedefaults": {
           "line": {
            "color": "#2a3f5f"
           }
          },
          "ternary": {
           "aaxis": {
            "gridcolor": "white",
            "linecolor": "white",
            "ticks": ""
           },
           "baxis": {
            "gridcolor": "white",
            "linecolor": "white",
            "ticks": ""
           },
           "bgcolor": "#E5ECF6",
           "caxis": {
            "gridcolor": "white",
            "linecolor": "white",
            "ticks": ""
           }
          },
          "title": {
           "x": 0.05
          },
          "xaxis": {
           "automargin": true,
           "gridcolor": "white",
           "linecolor": "white",
           "ticks": "",
           "title": {
            "standoff": 15
           },
           "zerolinecolor": "white",
           "zerolinewidth": 2
          },
          "yaxis": {
           "automargin": true,
           "gridcolor": "white",
           "linecolor": "white",
           "ticks": "",
           "title": {
            "standoff": 15
           },
           "zerolinecolor": "white",
           "zerolinewidth": 2
          }
         }
        },
        "title": {
         "text": "Compound Annual Growth vs. Time spent (Average investments per day)"
        },
        "xaxis": {
         "anchor": "y",
         "domain": [
          0,
          1
         ],
         "title": {
          "text": "sim1_avg_investments_per_day"
         }
        },
        "yaxis": {
         "anchor": "x",
         "domain": [
          0,
          1
         ],
         "title": {
          "text": "sim1_CAGR"
         }
        }
       }
      },
      "image/png": "[encoded data removed]"
     },
     "metadata": {},
     "output_type": "display_data"
    }
   ],
   "source": [
    "# Create the scatter plot\n",
    "fig = px.scatter(\n",
    "    df_sim1_results.dropna(),\n",
    "    x='sim1_avg_investments_per_day',\n",
    "    y='sim1_CAGR',\n",
    "    size='sim1_growth_capital_4y',  # Use the 'size' parameter for sim1_CAGR\n",
    "    text='prediction',\n",
    "    title='Compound Annual Growth vs. Time spent (Average investments per day)',\n",
    "    labels={'sim1_capital': 'Initial Capital Requirement', 'growth_capital_4y': '4-Year Capital Growth'},\n",
    "    height=600  # <- Increase height here\n",
    "\n",
    ")\n",
    "\n",
    "# Update the layout to improve readability of the annotations\n",
    "fig.update_traces(textposition='top center')\n",
    "\n",
    "# Show the plot\n",
    "fig.show()"
   ]
  },
  {
   "cell_type": "code",
   "execution_count": 182,
   "metadata": {
    "colab": {
     "base_uri": "https://localhost:8080/",
     "height": 101
    },
    "id": "wfaRRb6sMhgE",
    "outputId": "686b6cc9-ef3b-4701-8771-b0edf81ca7f2"
   },
   "outputs": [
    {
     "data": {
      "text/html": [
       "<div>\n",
       "<style scoped>\n",
       "    .dataframe tbody tr th:only-of-type {\n",
       "        vertical-align: middle;\n",
       "    }\n",
       "\n",
       "    .dataframe tbody tr th {\n",
       "        vertical-align: top;\n",
       "    }\n",
       "\n",
       "    .dataframe thead th {\n",
       "        text-align: right;\n",
       "    }\n",
       "</style>\n",
       "<table border=\"1\" class=\"dataframe\">\n",
       "  <thead>\n",
       "    <tr style=\"text-align: right;\">\n",
       "      <th></th>\n",
       "      <th>prediction</th>\n",
       "      <th>sim1_count_investments</th>\n",
       "      <th>sim1_gross_rev</th>\n",
       "      <th>sim1_fees</th>\n",
       "      <th>sim1_net_rev</th>\n",
       "      <th>sim1_fees_percentage</th>\n",
       "      <th>sim1_average_net_revenue</th>\n",
       "      <th>sim1_avg_investments_per_day</th>\n",
       "      <th>sim1_capital</th>\n",
       "      <th>sim1_CAGR</th>\n",
       "      <th>sim1_growth_capital_4y</th>\n",
       "    </tr>\n",
       "  </thead>\n",
       "  <tbody>\n",
       "    <tr>\n",
       "      <th>9</th>\n",
       "      <td>pred9_clf_second_best_rule_92</td>\n",
       "      <td>14312</td>\n",
       "      <td>48035.212554</td>\n",
       "      <td>-2862.4</td>\n",
       "      <td>45248.012554</td>\n",
       "      <td>0.05959</td>\n",
       "      <td>3.161544</td>\n",
       "      <td>14.604082</td>\n",
       "      <td>60000.0</td>\n",
       "      <td>1.150842</td>\n",
       "      <td>1.754134</td>\n",
       "    </tr>\n",
       "  </tbody>\n",
       "</table>\n",
       "</div>"
      ],
      "text/plain": [
       "                      prediction  sim1_count_investments  sim1_gross_rev  \\\n",
       "9  pred9_clf_second_best_rule_92                   14312    48035.212554   \n",
       "\n",
       "   sim1_fees  sim1_net_rev  sim1_fees_percentage  sim1_average_net_revenue  \\\n",
       "9    -2862.4  45248.012554               0.05959                  3.161544   \n",
       "\n",
       "   sim1_avg_investments_per_day  sim1_capital  sim1_CAGR  \\\n",
       "9                     14.604082       60000.0   1.150842   \n",
       "\n",
       "   sim1_growth_capital_4y  \n",
       "9                1.754134  "
      ]
     },
     "execution_count": 182,
     "metadata": {},
     "output_type": "execute_result"
    }
   ],
   "source": [
    "# detailed info from the bubble chart above on the winners\n",
    "# top 1 result\n",
    "df_sim1_results[df_sim1_results.prediction.isin(['pred9_clf_second_best_rule_92'])]"
   ]
  },
  {
   "cell_type": "code",
   "execution_count": 183,
   "metadata": {
    "colab": {
     "base_uri": "https://localhost:8080/",
     "height": 132
    },
    "id": "XauElG-kJSf7",
    "outputId": "c8a5dc5d-1e45-47f7-e9b1-ec74fd108dcd"
   },
   "outputs": [
    {
     "data": {
      "text/html": [
       "<div>\n",
       "<style scoped>\n",
       "    .dataframe tbody tr th:only-of-type {\n",
       "        vertical-align: middle;\n",
       "    }\n",
       "\n",
       "    .dataframe tbody tr th {\n",
       "        vertical-align: top;\n",
       "    }\n",
       "\n",
       "    .dataframe thead th {\n",
       "        text-align: right;\n",
       "    }\n",
       "</style>\n",
       "<table border=\"1\" class=\"dataframe\">\n",
       "  <thead>\n",
       "    <tr style=\"text-align: right;\">\n",
       "      <th></th>\n",
       "      <th>prediction</th>\n",
       "      <th>sim1_count_investments</th>\n",
       "      <th>sim1_gross_rev</th>\n",
       "      <th>sim1_fees</th>\n",
       "      <th>sim1_net_rev</th>\n",
       "      <th>sim1_fees_percentage</th>\n",
       "      <th>sim1_average_net_revenue</th>\n",
       "      <th>sim1_avg_investments_per_day</th>\n",
       "      <th>sim1_capital</th>\n",
       "      <th>sim1_CAGR</th>\n",
       "      <th>sim1_growth_capital_4y</th>\n",
       "    </tr>\n",
       "  </thead>\n",
       "  <tbody>\n",
       "    <tr>\n",
       "      <th>7</th>\n",
       "      <td>pred7_clf_second_best</td>\n",
       "      <td>18879</td>\n",
       "      <td>52059.311409</td>\n",
       "      <td>-3775.8</td>\n",
       "      <td>48369.511409</td>\n",
       "      <td>0.072529</td>\n",
       "      <td>2.56208</td>\n",
       "      <td>19.050454</td>\n",
       "      <td>78000.0</td>\n",
       "      <td>1.128202</td>\n",
       "      <td>1.620122</td>\n",
       "    </tr>\n",
       "    <tr>\n",
       "      <th>8</th>\n",
       "      <td>pred8_clf_second_best_rule_84</td>\n",
       "      <td>16194</td>\n",
       "      <td>50824.171338</td>\n",
       "      <td>-3238.8</td>\n",
       "      <td>47661.371338</td>\n",
       "      <td>0.063726</td>\n",
       "      <td>2.94315</td>\n",
       "      <td>16.390688</td>\n",
       "      <td>66000.0</td>\n",
       "      <td>1.145558</td>\n",
       "      <td>1.722142</td>\n",
       "    </tr>\n",
       "  </tbody>\n",
       "</table>\n",
       "</div>"
      ],
      "text/plain": [
       "                      prediction  sim1_count_investments  sim1_gross_rev  \\\n",
       "7          pred7_clf_second_best                   18879    52059.311409   \n",
       "8  pred8_clf_second_best_rule_84                   16194    50824.171338   \n",
       "\n",
       "   sim1_fees  sim1_net_rev  sim1_fees_percentage  sim1_average_net_revenue  \\\n",
       "7    -3775.8  48369.511409              0.072529                   2.56208   \n",
       "8    -3238.8  47661.371338              0.063726                   2.94315   \n",
       "\n",
       "   sim1_avg_investments_per_day  sim1_capital  sim1_CAGR  \\\n",
       "7                     19.050454       78000.0   1.128202   \n",
       "8                     16.390688       66000.0   1.145558   \n",
       "\n",
       "   sim1_growth_capital_4y  \n",
       "7                1.620122  \n",
       "8                1.722142  "
      ]
     },
     "execution_count": 183,
     "metadata": {},
     "output_type": "execute_result"
    }
   ],
   "source": [
    "# top 2-3 results\n",
    "df_sim1_results[df_sim1_results.prediction.isin(['pred8_clf_second_best_rule_84','pred7_clf_second_best'])]"
   ]
  },
  {
   "cell_type": "code",
   "execution_count": null,
   "metadata": {},
   "outputs": [],
   "source": []
  }
 ],
 "metadata": {
  "colab": {
   "collapsed_sections": [
    "pdv980WCAvUm"
   ],
   "provenance": []
  },
  "kernelspec": {
   "display_name": "Python 3 (ipykernel)",
   "language": "python",
   "name": "python3"
  },
  "language_info": {
   "codemirror_mode": {
    "name": "ipython",
    "version": 3
   },
   "file_extension": ".py",
   "mimetype": "text/x-python",
   "name": "python",
   "nbconvert_exporter": "python",
   "pygments_lexer": "ipython3",
   "version": "3.11.8"
  }
 },
 "nbformat": 4,
 "nbformat_minor": 4
}
